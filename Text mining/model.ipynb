{
 "cells": [
  {
   "cell_type": "markdown",
   "metadata": {},
   "source": [
    "## To build three models:\n",
    "\n",
    "1. Sentiment analysis model where the stock tweets are to be used to determine the alpha value through text mining.\n",
    "2. A regression model is to be built using the given stock factors and predict the alpha value for each stock.\n",
    "3. To build a model using both sentiment analysis and stock factors to get the best results in predicting the stock alpha values.\n",
    "\n"
   ]
  },
  {
   "cell_type": "markdown",
   "metadata": {},
   "source": [
    "#### Dataset Description:"
   ]
  },
  {
   "cell_type": "markdown",
   "metadata": {},
   "source": [
    "* Date: The date when the stock was purchased.\t\n",
    "\n",
    "\n",
    "* SF1 - SF7: The factors that affect the alpha values in each stock.\t\n",
    "\n",
    "\n",
    "* Ticker: The names of the stock that is purchased by the trader.\t\n",
    "\n",
    "\n",
    "* Alpha: The values that define the return of investment and says about the risk factor. Values less than 0 means that the stock is at high risk and the values higher than 0 means that the return of investment is good."
   ]
  },
  {
   "cell_type": "markdown",
   "metadata": {},
   "source": [
    "## Exploratory Analysis\n",
    "\n",
    "### Import Libraries"
   ]
  },
  {
   "cell_type": "code",
   "execution_count": 1,
   "metadata": {
    "colab": {
     "base_uri": "https://localhost:8080/",
     "height": 34
    },
    "colab_type": "code",
    "id": "PGpgdweVMNCx",
    "outputId": "ae7a747a-d98c-4345-f383-64551ea13d53"
   },
   "outputs": [
    {
     "name": "stdout",
     "output_type": "stream",
     "text": [
      "Drive already mounted at /content/drive; to attempt to forcibly remount, call drive.mount(\"/content/drive\", force_remount=True).\n"
     ]
    }
   ],
   "source": [
    "from google.colab import drive\n",
    "drive.mount('/content/drive')"
   ]
  },
  {
   "cell_type": "code",
   "execution_count": 9,
   "metadata": {
    "colab": {
     "base_uri": "https://localhost:8080/",
     "height": 34
    },
    "colab_type": "code",
    "id": "gbAQ1eHBMBxV",
    "outputId": "d2749d9a-a2fd-4323-f293-b09cef222d62"
   },
   "outputs": [],
   "source": [
    "import os\n",
    "import numpy as np\n",
    "import nltk\n",
    "import string\n",
    "\n",
    "import re, unicodedata\n",
    "from tqdm import tqdm_notebook as tq\n",
    "from bs4 import BeautifulSoup\n",
    "\n",
    "from wordcloud import WordCloud\n",
    "from sklearn.feature_extraction.text import TfidfVectorizer\n",
    "from keras.preprocessing.text import Tokenizer\n",
    "from keras.preprocessing.sequence import pad_sequences\n",
    "\n",
    "from nltk.corpus import wordnet as wn\n",
    "from nltk.tokenize.toktok import ToktokTokenizer\n",
    "\n",
    "import spacy\n",
    "import en_core_web_sm\n",
    "\n",
    "from nltk import word_tokenize, sent_tokenize\n",
    "from nltk.corpus import stopwords\n",
    "2"
   ]
  },
  {
   "cell_type": "markdown",
   "metadata": {
    "colab_type": "text",
    "id": "2GynnbkWC6hF"
   },
   "source": [
    "### Reading the JSON data file"
   ]
  },
  {
   "cell_type": "code",
   "execution_count": 3,
   "metadata": {
    "colab": {},
    "colab_type": "code",
    "id": "AQUt96BRMBxs"
   },
   "outputs": [],
   "source": [
    "import json\n",
    "import pandas as pd\n",
    "with open('/content/drive/Mytrain_data.json', 'r') as f:\n",
    "    df = json.load(f)"
   ]
  },
  {
   "cell_type": "code",
   "execution_count": 4,
   "metadata": {
    "colab": {},
    "colab_type": "code",
    "id": "BZGXBWk7MBx-"
   },
   "outputs": [],
   "source": [
    "## ==> for Train_json\n",
    "from pandas.io.json import json_normalize\n",
    "\n",
    "train = pd.concat([pd.DataFrame(df),pd.DataFrame(list(df['records']))],axis=1).drop('records',1)"
   ]
  },
  {
   "cell_type": "code",
   "execution_count": 5,
   "metadata": {
    "colab": {
     "base_uri": "https://localhost:8080/",
     "height": 204
    },
    "colab_type": "code",
    "id": "h4WDXhn0MByE",
    "outputId": "bef6aa4f-a596-4ca5-bb7f-2739a4175477"
   },
   "outputs": [
    {
     "data": {
      "text/html": [
       "<div>\n",
       "<style scoped>\n",
       "    .dataframe tbody tr th:only-of-type {\n",
       "        vertical-align: middle;\n",
       "    }\n",
       "\n",
       "    .dataframe tbody tr th {\n",
       "        vertical-align: top;\n",
       "    }\n",
       "\n",
       "    .dataframe thead th {\n",
       "        text-align: right;\n",
       "    }\n",
       "</style>\n",
       "<table border=\"1\" class=\"dataframe\">\n",
       "  <thead>\n",
       "    <tr style=\"text-align: right;\">\n",
       "      <th></th>\n",
       "      <th>sentiment_score</th>\n",
       "      <th>stocktwit_tweet</th>\n",
       "      <th>ticker</th>\n",
       "      <th>timestamp</th>\n",
       "    </tr>\n",
       "  </thead>\n",
       "  <tbody>\n",
       "    <tr>\n",
       "      <th>0</th>\n",
       "      <td>3</td>\n",
       "      <td>$AMD going up but hesitating however chart is ...</td>\n",
       "      <td>$AMD</td>\n",
       "      <td>2018-09-19 18:38:28+00:00</td>\n",
       "    </tr>\n",
       "    <tr>\n",
       "      <th>1</th>\n",
       "      <td>3</td>\n",
       "      <td>@inforlong @MariaGascon Despite\\nChina trade w...</td>\n",
       "      <td>$CAT</td>\n",
       "      <td>2018-10-09 03:51:06+00:00</td>\n",
       "    </tr>\n",
       "    <tr>\n",
       "      <th>2</th>\n",
       "      <td>2</td>\n",
       "      <td>$AVGO WTF?</td>\n",
       "      <td>$AVGO</td>\n",
       "      <td>2018-07-12 13:35:32+00:00</td>\n",
       "    </tr>\n",
       "    <tr>\n",
       "      <th>3</th>\n",
       "      <td>2</td>\n",
       "      <td>$PH\\n New Insider Filing On: \\n MULLER KLAUS P...</td>\n",
       "      <td>$PH</td>\n",
       "      <td>2018-07-19 03:32:50+00:00</td>\n",
       "    </tr>\n",
       "    <tr>\n",
       "      <th>4</th>\n",
       "      <td>3</td>\n",
       "      <td>$FB if it bounces tommorrow do the right thing...</td>\n",
       "      <td>$FB</td>\n",
       "      <td>2018-08-23 19:07:54+00:00</td>\n",
       "    </tr>\n",
       "  </tbody>\n",
       "</table>\n",
       "</div>"
      ],
      "text/plain": [
       "   sentiment_score                                    stocktwit_tweet ticker  \\\n",
       "0                3  $AMD going up but hesitating however chart is ...   $AMD   \n",
       "1                3  @inforlong @MariaGascon Despite\\nChina trade w...   $CAT   \n",
       "2                2                                         $AVGO WTF?  $AVGO   \n",
       "3                2  $PH\\n New Insider Filing On: \\n MULLER KLAUS P...    $PH   \n",
       "4                3  $FB if it bounces tommorrow do the right thing...    $FB   \n",
       "\n",
       "                   timestamp  \n",
       "0  2018-09-19 18:38:28+00:00  \n",
       "1  2018-10-09 03:51:06+00:00  \n",
       "2  2018-07-12 13:35:32+00:00  \n",
       "3  2018-07-19 03:32:50+00:00  \n",
       "4  2018-08-23 19:07:54+00:00  "
      ]
     },
     "execution_count": 5,
     "metadata": {},
     "output_type": "execute_result"
    }
   ],
   "source": [
    "train.head()"
   ]
  },
  {
   "cell_type": "code",
   "execution_count": 6,
   "metadata": {
    "colab": {},
    "colab_type": "code",
    "id": "LEwwr3MBKfYA"
   },
   "outputs": [],
   "source": [
    "## ==> for Test_json\n",
    "with open('test_data.json', 'r') as f:\n",
    "    df_test = json.load(f)"
   ]
  },
  {
   "cell_type": "code",
   "execution_count": 7,
   "metadata": {
    "colab": {},
    "colab_type": "code",
    "id": "KIW0mjNgKgwU"
   },
   "outputs": [],
   "source": [
    "test_json = pd.concat([pd.DataFrame(df_test),pd.DataFrame(list(df_test['records']))],axis=1).drop('records',1)"
   ]
  },
  {
   "cell_type": "code",
   "execution_count": 8,
   "metadata": {
    "colab": {
     "base_uri": "https://localhost:8080/",
     "height": 204
    },
    "colab_type": "code",
    "id": "ii4_K1sDKhJy",
    "outputId": "69d9adf5-a699-4eaa-dfc1-0f85347617cb"
   },
   "outputs": [
    {
     "data": {
      "text/html": [
       "<div>\n",
       "<style scoped>\n",
       "    .dataframe tbody tr th:only-of-type {\n",
       "        vertical-align: middle;\n",
       "    }\n",
       "\n",
       "    .dataframe tbody tr th {\n",
       "        vertical-align: top;\n",
       "    }\n",
       "\n",
       "    .dataframe thead th {\n",
       "        text-align: right;\n",
       "    }\n",
       "</style>\n",
       "<table border=\"1\" class=\"dataframe\">\n",
       "  <thead>\n",
       "    <tr style=\"text-align: right;\">\n",
       "      <th></th>\n",
       "      <th>stocktwit_tweet</th>\n",
       "      <th>ticker</th>\n",
       "      <th>timestamp</th>\n",
       "    </tr>\n",
       "  </thead>\n",
       "  <tbody>\n",
       "    <tr>\n",
       "      <th>0</th>\n",
       "      <td>$CELG nothing to be exited about</td>\n",
       "      <td>$CELG</td>\n",
       "      <td>2018-10-25 14:26:16+00:00</td>\n",
       "    </tr>\n",
       "    <tr>\n",
       "      <th>1</th>\n",
       "      <td>$AMD yall exhaust your buyer on first green ca...</td>\n",
       "      <td>$AMD</td>\n",
       "      <td>2018-07-13 13:50:39+00:00</td>\n",
       "    </tr>\n",
       "    <tr>\n",
       "      <th>2</th>\n",
       "      <td>$AMD day traders day.</td>\n",
       "      <td>$AMD</td>\n",
       "      <td>2018-09-25 19:10:54+00:00</td>\n",
       "    </tr>\n",
       "    <tr>\n",
       "      <th>3</th>\n",
       "      <td>$CBS https://tenor.com/wLB8.gif</td>\n",
       "      <td>$CBS</td>\n",
       "      <td>2018-07-27 22:45:48+00:00</td>\n",
       "    </tr>\n",
       "    <tr>\n",
       "      <th>4</th>\n",
       "      <td>$MU weak price action so far today. Don’t be a...</td>\n",
       "      <td>$MU</td>\n",
       "      <td>2018-07-31 14:59:06+00:00</td>\n",
       "    </tr>\n",
       "  </tbody>\n",
       "</table>\n",
       "</div>"
      ],
      "text/plain": [
       "                                     stocktwit_tweet ticker  \\\n",
       "0                   $CELG nothing to be exited about  $CELG   \n",
       "1  $AMD yall exhaust your buyer on first green ca...   $AMD   \n",
       "2                              $AMD day traders day.   $AMD   \n",
       "3                    $CBS https://tenor.com/wLB8.gif   $CBS   \n",
       "4  $MU weak price action so far today. Don’t be a...    $MU   \n",
       "\n",
       "                   timestamp  \n",
       "0  2018-10-25 14:26:16+00:00  \n",
       "1  2018-07-13 13:50:39+00:00  \n",
       "2  2018-09-25 19:10:54+00:00  \n",
       "3  2018-07-27 22:45:48+00:00  \n",
       "4  2018-07-31 14:59:06+00:00  "
      ]
     },
     "execution_count": 8,
     "metadata": {},
     "output_type": "execute_result"
    }
   ],
   "source": [
    "test_json.head()"
   ]
  },
  {
   "cell_type": "markdown",
   "metadata": {
    "colab_type": "text",
    "id": "5x9FHuGOMByL"
   },
   "source": [
    "### Checking Shape of JSON file"
   ]
  },
  {
   "cell_type": "code",
   "execution_count": 10,
   "metadata": {
    "colab": {
     "base_uri": "https://localhost:8080/",
     "height": 34
    },
    "colab_type": "code",
    "id": "drJvo9VFMByN",
    "outputId": "90513600-fbe8-43df-a5ec-61ecb1716ecc"
   },
   "outputs": [
    {
     "data": {
      "text/plain": [
       "(1039131, 4)"
      ]
     },
     "execution_count": 10,
     "metadata": {
      "tags": []
     },
     "output_type": "execute_result"
    }
   ],
   "source": [
    "## ==> for train_json\n",
    "train.shape"
   ]
  },
  {
   "cell_type": "code",
   "execution_count": 11,
   "metadata": {
    "colab": {
     "base_uri": "https://localhost:8080/",
     "height": 34
    },
    "colab_type": "code",
    "id": "fMYKZnVHP03R",
    "outputId": "88d5e8d7-1370-4f6f-f50f-1136c7ec9b03"
   },
   "outputs": [
    {
     "data": {
      "text/plain": [
       "(265022, 3)"
      ]
     },
     "execution_count": 11,
     "metadata": {
      "tags": []
     },
     "output_type": "execute_result"
    }
   ],
   "source": [
    "## for Test_json\n",
    "test_json.shape"
   ]
  },
  {
   "cell_type": "code",
   "execution_count": 12,
   "metadata": {
    "colab": {
     "base_uri": "https://localhost:8080/",
     "height": 102
    },
    "colab_type": "code",
    "id": "bhWC9sw2MByV",
    "outputId": "2c06fc45-b97e-4970-a7ab-efc394eb8445"
   },
   "outputs": [
    {
     "data": {
      "text/plain": [
       "stocktwit_tweet    object\n",
       "sentiment_score     int64\n",
       "timestamp          object\n",
       "ticker             object\n",
       "dtype: object"
      ]
     },
     "execution_count": 12,
     "metadata": {
      "tags": []
     },
     "output_type": "execute_result"
    }
   ],
   "source": [
    "## ==> for train_json\n",
    "train.dtypes"
   ]
  },
  {
   "cell_type": "code",
   "execution_count": 13,
   "metadata": {
    "colab": {
     "base_uri": "https://localhost:8080/",
     "height": 85
    },
    "colab_type": "code",
    "id": "QJTQXr-ZQmaD",
    "outputId": "a637130a-2c88-48fd-a622-d96e95bf6856"
   },
   "outputs": [
    {
     "data": {
      "text/plain": [
       "stocktwit_tweet    object\n",
       "timestamp          object\n",
       "ticker             object\n",
       "dtype: object"
      ]
     },
     "execution_count": 13,
     "metadata": {
      "tags": []
     },
     "output_type": "execute_result"
    }
   ],
   "source": [
    "## ==> for Test_json\n",
    "test_json.dtypes"
   ]
  },
  {
   "cell_type": "markdown",
   "metadata": {
    "colab_type": "text",
    "id": "ho278dbgMByc"
   },
   "source": [
    " ### Changing the \" ticker \" Column in json file"
   ]
  },
  {
   "cell_type": "code",
   "execution_count": 0,
   "metadata": {
    "colab": {},
    "colab_type": "code",
    "id": "vIWTHJUtMBye"
   },
   "outputs": [],
   "source": [
    "## ==> for Train_json\n",
    "\n",
    "train['ticker']=train['ticker'].str.replace('$','')\n",
    "train['ticker']=train['ticker'].str.upper()"
   ]
  },
  {
   "cell_type": "code",
   "execution_count": 15,
   "metadata": {
    "colab": {
     "base_uri": "https://localhost:8080/",
     "height": 204
    },
    "colab_type": "code",
    "id": "j8ywBVIkMBym",
    "outputId": "43fb460f-ceb5-4569-e8a0-d11a44c657fa",
    "scrolled": true
   },
   "outputs": [
    {
     "data": {
      "text/html": [
       "<div>\n",
       "<style scoped>\n",
       "    .dataframe tbody tr th:only-of-type {\n",
       "        vertical-align: middle;\n",
       "    }\n",
       "\n",
       "    .dataframe tbody tr th {\n",
       "        vertical-align: top;\n",
       "    }\n",
       "\n",
       "    .dataframe thead th {\n",
       "        text-align: right;\n",
       "    }\n",
       "</style>\n",
       "<table border=\"1\" class=\"dataframe\">\n",
       "  <thead>\n",
       "    <tr style=\"text-align: right;\">\n",
       "      <th></th>\n",
       "      <th>stocktwit_tweet</th>\n",
       "      <th>sentiment_score</th>\n",
       "      <th>timestamp</th>\n",
       "      <th>ticker</th>\n",
       "    </tr>\n",
       "  </thead>\n",
       "  <tbody>\n",
       "    <tr>\n",
       "      <th>0</th>\n",
       "      <td>$AMD going up but hesitating however chart is ...</td>\n",
       "      <td>3</td>\n",
       "      <td>2018-09-19 18:38:28+00:00</td>\n",
       "      <td>AMD</td>\n",
       "    </tr>\n",
       "    <tr>\n",
       "      <th>1</th>\n",
       "      <td>@inforlong @MariaGascon Despite\\nChina trade w...</td>\n",
       "      <td>3</td>\n",
       "      <td>2018-10-09 03:51:06+00:00</td>\n",
       "      <td>CAT</td>\n",
       "    </tr>\n",
       "    <tr>\n",
       "      <th>2</th>\n",
       "      <td>$AVGO WTF?</td>\n",
       "      <td>2</td>\n",
       "      <td>2018-07-12 13:35:32+00:00</td>\n",
       "      <td>AVGO</td>\n",
       "    </tr>\n",
       "    <tr>\n",
       "      <th>3</th>\n",
       "      <td>$PH\\n New Insider Filing On: \\n MULLER KLAUS P...</td>\n",
       "      <td>2</td>\n",
       "      <td>2018-07-19 03:32:50+00:00</td>\n",
       "      <td>PH</td>\n",
       "    </tr>\n",
       "    <tr>\n",
       "      <th>4</th>\n",
       "      <td>$FB if it bounces tommorrow do the right thing...</td>\n",
       "      <td>3</td>\n",
       "      <td>2018-08-23 19:07:54+00:00</td>\n",
       "      <td>FB</td>\n",
       "    </tr>\n",
       "  </tbody>\n",
       "</table>\n",
       "</div>"
      ],
      "text/plain": [
       "                                     stocktwit_tweet  ...  ticker\n",
       "0  $AMD going up but hesitating however chart is ...  ...     AMD\n",
       "1  @inforlong @MariaGascon Despite\\nChina trade w...  ...     CAT\n",
       "2                                         $AVGO WTF?  ...    AVGO\n",
       "3  $PH\\n New Insider Filing On: \\n MULLER KLAUS P...  ...      PH\n",
       "4  $FB if it bounces tommorrow do the right thing...  ...      FB\n",
       "\n",
       "[5 rows x 4 columns]"
      ]
     },
     "execution_count": 15,
     "metadata": {
      "tags": []
     },
     "output_type": "execute_result"
    }
   ],
   "source": [
    "train.head()"
   ]
  },
  {
   "cell_type": "code",
   "execution_count": 0,
   "metadata": {
    "colab": {},
    "colab_type": "code",
    "id": "AzW_eg1uRHZD"
   },
   "outputs": [],
   "source": [
    "## ==> for Test_json\n",
    "\n",
    "test_json['ticker'] = test_json['ticker'].str.replace('$','')\n",
    "test_json['ticker'] = test_json['ticker'].str.upper()"
   ]
  },
  {
   "cell_type": "code",
   "execution_count": 17,
   "metadata": {
    "colab": {
     "base_uri": "https://localhost:8080/",
     "height": 204
    },
    "colab_type": "code",
    "id": "HiJHMi38RH2Z",
    "outputId": "a7a377c8-b5e3-42c6-b77d-e16a243e362e"
   },
   "outputs": [
    {
     "data": {
      "text/html": [
       "<div>\n",
       "<style scoped>\n",
       "    .dataframe tbody tr th:only-of-type {\n",
       "        vertical-align: middle;\n",
       "    }\n",
       "\n",
       "    .dataframe tbody tr th {\n",
       "        vertical-align: top;\n",
       "    }\n",
       "\n",
       "    .dataframe thead th {\n",
       "        text-align: right;\n",
       "    }\n",
       "</style>\n",
       "<table border=\"1\" class=\"dataframe\">\n",
       "  <thead>\n",
       "    <tr style=\"text-align: right;\">\n",
       "      <th></th>\n",
       "      <th>stocktwit_tweet</th>\n",
       "      <th>timestamp</th>\n",
       "      <th>ticker</th>\n",
       "    </tr>\n",
       "  </thead>\n",
       "  <tbody>\n",
       "    <tr>\n",
       "      <th>0</th>\n",
       "      <td>$CELG nothing to be exited about</td>\n",
       "      <td>2018-10-25 14:26:16+00:00</td>\n",
       "      <td>CELG</td>\n",
       "    </tr>\n",
       "    <tr>\n",
       "      <th>1</th>\n",
       "      <td>$AMD yall exhaust your buyer on first green ca...</td>\n",
       "      <td>2018-07-13 13:50:39+00:00</td>\n",
       "      <td>AMD</td>\n",
       "    </tr>\n",
       "    <tr>\n",
       "      <th>2</th>\n",
       "      <td>$AMD day traders day.</td>\n",
       "      <td>2018-09-25 19:10:54+00:00</td>\n",
       "      <td>AMD</td>\n",
       "    </tr>\n",
       "    <tr>\n",
       "      <th>3</th>\n",
       "      <td>$CBS https://tenor.com/wLB8.gif</td>\n",
       "      <td>2018-07-27 22:45:48+00:00</td>\n",
       "      <td>CBS</td>\n",
       "    </tr>\n",
       "    <tr>\n",
       "      <th>4</th>\n",
       "      <td>$MU weak price action so far today. Don’t be a...</td>\n",
       "      <td>2018-07-31 14:59:06+00:00</td>\n",
       "      <td>MU</td>\n",
       "    </tr>\n",
       "  </tbody>\n",
       "</table>\n",
       "</div>"
      ],
      "text/plain": [
       "                                     stocktwit_tweet  ... ticker\n",
       "0                   $CELG nothing to be exited about  ...   CELG\n",
       "1  $AMD yall exhaust your buyer on first green ca...  ...    AMD\n",
       "2                              $AMD day traders day.  ...    AMD\n",
       "3                    $CBS https://tenor.com/wLB8.gif  ...    CBS\n",
       "4  $MU weak price action so far today. Don’t be a...  ...     MU\n",
       "\n",
       "[5 rows x 3 columns]"
      ]
     },
     "execution_count": 17,
     "metadata": {
      "tags": []
     },
     "output_type": "execute_result"
    }
   ],
   "source": [
    "test_json.head()"
   ]
  },
  {
   "cell_type": "markdown",
   "metadata": {
    "colab_type": "text",
    "id": "B55bmv6JSVMk"
   },
   "source": [
    "### Checking the Tweets with respect to Score"
   ]
  },
  {
   "cell_type": "code",
   "execution_count": 18,
   "metadata": {
    "colab": {
     "base_uri": "https://localhost:8080/",
     "height": 204
    },
    "colab_type": "code",
    "id": "yOY7WPg0MByx",
    "outputId": "0a61053e-6fd2-4944-a041-ff319aca443d"
   },
   "outputs": [
    {
     "data": {
      "text/html": [
       "<div>\n",
       "<style scoped>\n",
       "    .dataframe tbody tr th:only-of-type {\n",
       "        vertical-align: middle;\n",
       "    }\n",
       "\n",
       "    .dataframe tbody tr th {\n",
       "        vertical-align: top;\n",
       "    }\n",
       "\n",
       "    .dataframe thead th {\n",
       "        text-align: right;\n",
       "    }\n",
       "</style>\n",
       "<table border=\"1\" class=\"dataframe\">\n",
       "  <thead>\n",
       "    <tr style=\"text-align: right;\">\n",
       "      <th></th>\n",
       "      <th>stocktwit_tweet</th>\n",
       "      <th>sentiment_score</th>\n",
       "      <th>timestamp</th>\n",
       "      <th>ticker</th>\n",
       "    </tr>\n",
       "  </thead>\n",
       "  <tbody>\n",
       "    <tr>\n",
       "      <th>5</th>\n",
       "      <td>$FB as usual......RED  \\nevery day.</td>\n",
       "      <td>0</td>\n",
       "      <td>2018-08-02 11:40:49+00:00</td>\n",
       "      <td>FB</td>\n",
       "    </tr>\n",
       "    <tr>\n",
       "      <th>17</th>\n",
       "      <td>$mu mms took out the SLs, yet it still won&amp;#39...</td>\n",
       "      <td>0</td>\n",
       "      <td>2018-09-05 14:23:16+00:00</td>\n",
       "      <td>MU</td>\n",
       "    </tr>\n",
       "    <tr>\n",
       "      <th>25</th>\n",
       "      <td>$MSFT short the high. easy flip</td>\n",
       "      <td>0</td>\n",
       "      <td>2018-07-12 18:13:49+00:00</td>\n",
       "      <td>MSFT</td>\n",
       "    </tr>\n",
       "    <tr>\n",
       "      <th>31</th>\n",
       "      <td>$NFLX Astonishing crash for NFLX by late next ...</td>\n",
       "      <td>0</td>\n",
       "      <td>2018-10-07 02:53:29+00:00</td>\n",
       "      <td>NFLX</td>\n",
       "    </tr>\n",
       "    <tr>\n",
       "      <th>37</th>\n",
       "      <td>$MU It is the best time to leave within 15 min...</td>\n",
       "      <td>0</td>\n",
       "      <td>2018-07-04 20:35:58+00:00</td>\n",
       "      <td>MU</td>\n",
       "    </tr>\n",
       "  </tbody>\n",
       "</table>\n",
       "</div>"
      ],
      "text/plain": [
       "                                      stocktwit_tweet  ...  ticker\n",
       "5                 $FB as usual......RED  \\nevery day.  ...      FB\n",
       "17  $mu mms took out the SLs, yet it still won&#39...  ...      MU\n",
       "25                    $MSFT short the high. easy flip  ...    MSFT\n",
       "31  $NFLX Astonishing crash for NFLX by late next ...  ...    NFLX\n",
       "37  $MU It is the best time to leave within 15 min...  ...      MU\n",
       "\n",
       "[5 rows x 4 columns]"
      ]
     },
     "execution_count": 18,
     "metadata": {
      "tags": []
     },
     "output_type": "execute_result"
    }
   ],
   "source": [
    "train[train['sentiment_score']==0].head()"
   ]
  },
  {
   "cell_type": "code",
   "execution_count": 19,
   "metadata": {
    "colab": {
     "base_uri": "https://localhost:8080/",
     "height": 204
    },
    "colab_type": "code",
    "id": "za-T0bZqMBy4",
    "outputId": "39e726d0-96fa-42aa-9310-0626c4662693"
   },
   "outputs": [
    {
     "data": {
      "text/html": [
       "<div>\n",
       "<style scoped>\n",
       "    .dataframe tbody tr th:only-of-type {\n",
       "        vertical-align: middle;\n",
       "    }\n",
       "\n",
       "    .dataframe tbody tr th {\n",
       "        vertical-align: top;\n",
       "    }\n",
       "\n",
       "    .dataframe thead th {\n",
       "        text-align: right;\n",
       "    }\n",
       "</style>\n",
       "<table border=\"1\" class=\"dataframe\">\n",
       "  <thead>\n",
       "    <tr style=\"text-align: right;\">\n",
       "      <th></th>\n",
       "      <th>stocktwit_tweet</th>\n",
       "      <th>sentiment_score</th>\n",
       "      <th>timestamp</th>\n",
       "      <th>ticker</th>\n",
       "    </tr>\n",
       "  </thead>\n",
       "  <tbody>\n",
       "    <tr>\n",
       "      <th>20</th>\n",
       "      <td>$MU you all know that when it drops in one day...</td>\n",
       "      <td>1</td>\n",
       "      <td>2018-09-06 19:32:52+00:00</td>\n",
       "      <td>MU</td>\n",
       "    </tr>\n",
       "    <tr>\n",
       "      <th>24</th>\n",
       "      <td>$NFLX Looks like this resistance will be broke...</td>\n",
       "      <td>1</td>\n",
       "      <td>2018-09-26 16:34:10+00:00</td>\n",
       "      <td>NFLX</td>\n",
       "    </tr>\n",
       "    <tr>\n",
       "      <th>29</th>\n",
       "      <td>$GE going red today</td>\n",
       "      <td>1</td>\n",
       "      <td>2018-07-20 11:14:35+00:00</td>\n",
       "      <td>GE</td>\n",
       "    </tr>\n",
       "    <tr>\n",
       "      <th>33</th>\n",
       "      <td>$FB For my stupid fb bull friends, hehehe,   \\...</td>\n",
       "      <td>1</td>\n",
       "      <td>2018-07-26 13:19:12+00:00</td>\n",
       "      <td>FB</td>\n",
       "    </tr>\n",
       "    <tr>\n",
       "      <th>39</th>\n",
       "      <td>$AMD analysts on Estimize expect 7.61% YoY gro...</td>\n",
       "      <td>1</td>\n",
       "      <td>2018-09-06 12:36:09+00:00</td>\n",
       "      <td>AMD</td>\n",
       "    </tr>\n",
       "  </tbody>\n",
       "</table>\n",
       "</div>"
      ],
      "text/plain": [
       "                                      stocktwit_tweet  ...  ticker\n",
       "20  $MU you all know that when it drops in one day...  ...      MU\n",
       "24  $NFLX Looks like this resistance will be broke...  ...    NFLX\n",
       "29                                $GE going red today  ...      GE\n",
       "33  $FB For my stupid fb bull friends, hehehe,   \\...  ...      FB\n",
       "39  $AMD analysts on Estimize expect 7.61% YoY gro...  ...     AMD\n",
       "\n",
       "[5 rows x 4 columns]"
      ]
     },
     "execution_count": 19,
     "metadata": {
      "tags": []
     },
     "output_type": "execute_result"
    }
   ],
   "source": [
    "train[train['sentiment_score']==1].head()"
   ]
  },
  {
   "cell_type": "code",
   "execution_count": 20,
   "metadata": {
    "colab": {
     "base_uri": "https://localhost:8080/",
     "height": 204
    },
    "colab_type": "code",
    "id": "DG2Pxh4sMBzD",
    "outputId": "c542edb7-f5fa-4f1f-a63e-865fcf75da13"
   },
   "outputs": [
    {
     "data": {
      "text/html": [
       "<div>\n",
       "<style scoped>\n",
       "    .dataframe tbody tr th:only-of-type {\n",
       "        vertical-align: middle;\n",
       "    }\n",
       "\n",
       "    .dataframe tbody tr th {\n",
       "        vertical-align: top;\n",
       "    }\n",
       "\n",
       "    .dataframe thead th {\n",
       "        text-align: right;\n",
       "    }\n",
       "</style>\n",
       "<table border=\"1\" class=\"dataframe\">\n",
       "  <thead>\n",
       "    <tr style=\"text-align: right;\">\n",
       "      <th></th>\n",
       "      <th>stocktwit_tweet</th>\n",
       "      <th>sentiment_score</th>\n",
       "      <th>timestamp</th>\n",
       "      <th>ticker</th>\n",
       "    </tr>\n",
       "  </thead>\n",
       "  <tbody>\n",
       "    <tr>\n",
       "      <th>2</th>\n",
       "      <td>$AVGO WTF?</td>\n",
       "      <td>2</td>\n",
       "      <td>2018-07-12 13:35:32+00:00</td>\n",
       "      <td>AVGO</td>\n",
       "    </tr>\n",
       "    <tr>\n",
       "      <th>3</th>\n",
       "      <td>$PH\\n New Insider Filing On: \\n MULLER KLAUS P...</td>\n",
       "      <td>2</td>\n",
       "      <td>2018-07-19 03:32:50+00:00</td>\n",
       "      <td>PH</td>\n",
       "    </tr>\n",
       "    <tr>\n",
       "      <th>6</th>\n",
       "      <td>$AET UnitedHealth Group Goes Ex-Dividend Today...</td>\n",
       "      <td>2</td>\n",
       "      <td>2018-09-07 15:01:06+00:00</td>\n",
       "      <td>AET</td>\n",
       "    </tr>\n",
       "    <tr>\n",
       "      <th>8</th>\n",
       "      <td>@InCyD3R @Ferrabi I bet you’re also the one sa...</td>\n",
       "      <td>2</td>\n",
       "      <td>2018-10-28 01:19:27+00:00</td>\n",
       "      <td>AMZN</td>\n",
       "    </tr>\n",
       "    <tr>\n",
       "      <th>9</th>\n",
       "      <td>$AMD Pastor the Stooge</td>\n",
       "      <td>2</td>\n",
       "      <td>2018-08-17 13:35:00+00:00</td>\n",
       "      <td>AMD</td>\n",
       "    </tr>\n",
       "  </tbody>\n",
       "</table>\n",
       "</div>"
      ],
      "text/plain": [
       "                                     stocktwit_tweet  ...  ticker\n",
       "2                                         $AVGO WTF?  ...    AVGO\n",
       "3  $PH\\n New Insider Filing On: \\n MULLER KLAUS P...  ...      PH\n",
       "6  $AET UnitedHealth Group Goes Ex-Dividend Today...  ...     AET\n",
       "8  @InCyD3R @Ferrabi I bet you’re also the one sa...  ...    AMZN\n",
       "9                             $AMD Pastor the Stooge  ...     AMD\n",
       "\n",
       "[5 rows x 4 columns]"
      ]
     },
     "execution_count": 20,
     "metadata": {
      "tags": []
     },
     "output_type": "execute_result"
    }
   ],
   "source": [
    "train[train['sentiment_score']==2].head()"
   ]
  },
  {
   "cell_type": "code",
   "execution_count": 21,
   "metadata": {
    "colab": {
     "base_uri": "https://localhost:8080/",
     "height": 204
    },
    "colab_type": "code",
    "id": "tCoa2A65MBzO",
    "outputId": "99441531-eaa8-47af-9298-6e864850f839"
   },
   "outputs": [
    {
     "data": {
      "text/html": [
       "<div>\n",
       "<style scoped>\n",
       "    .dataframe tbody tr th:only-of-type {\n",
       "        vertical-align: middle;\n",
       "    }\n",
       "\n",
       "    .dataframe tbody tr th {\n",
       "        vertical-align: top;\n",
       "    }\n",
       "\n",
       "    .dataframe thead th {\n",
       "        text-align: right;\n",
       "    }\n",
       "</style>\n",
       "<table border=\"1\" class=\"dataframe\">\n",
       "  <thead>\n",
       "    <tr style=\"text-align: right;\">\n",
       "      <th></th>\n",
       "      <th>stocktwit_tweet</th>\n",
       "      <th>sentiment_score</th>\n",
       "      <th>timestamp</th>\n",
       "      <th>ticker</th>\n",
       "    </tr>\n",
       "  </thead>\n",
       "  <tbody>\n",
       "    <tr>\n",
       "      <th>0</th>\n",
       "      <td>$AMD going up but hesitating however chart is ...</td>\n",
       "      <td>3</td>\n",
       "      <td>2018-09-19 18:38:28+00:00</td>\n",
       "      <td>AMD</td>\n",
       "    </tr>\n",
       "    <tr>\n",
       "      <th>1</th>\n",
       "      <td>@inforlong @MariaGascon Despite\\nChina trade w...</td>\n",
       "      <td>3</td>\n",
       "      <td>2018-10-09 03:51:06+00:00</td>\n",
       "      <td>CAT</td>\n",
       "    </tr>\n",
       "    <tr>\n",
       "      <th>4</th>\n",
       "      <td>$FB if it bounces tommorrow do the right thing...</td>\n",
       "      <td>3</td>\n",
       "      <td>2018-08-23 19:07:54+00:00</td>\n",
       "      <td>FB</td>\n",
       "    </tr>\n",
       "    <tr>\n",
       "      <th>19</th>\n",
       "      <td>$MU 5 min chart you can see Where the long ter...</td>\n",
       "      <td>3</td>\n",
       "      <td>2018-08-09 14:09:52+00:00</td>\n",
       "      <td>MU</td>\n",
       "    </tr>\n",
       "    <tr>\n",
       "      <th>36</th>\n",
       "      <td>$AMD Good luck to everyone that holds.</td>\n",
       "      <td>3</td>\n",
       "      <td>2018-10-24 19:52:13+00:00</td>\n",
       "      <td>AMD</td>\n",
       "    </tr>\n",
       "  </tbody>\n",
       "</table>\n",
       "</div>"
      ],
      "text/plain": [
       "                                      stocktwit_tweet  ...  ticker\n",
       "0   $AMD going up but hesitating however chart is ...  ...     AMD\n",
       "1   @inforlong @MariaGascon Despite\\nChina trade w...  ...     CAT\n",
       "4   $FB if it bounces tommorrow do the right thing...  ...      FB\n",
       "19  $MU 5 min chart you can see Where the long ter...  ...      MU\n",
       "36             $AMD Good luck to everyone that holds.  ...     AMD\n",
       "\n",
       "[5 rows x 4 columns]"
      ]
     },
     "execution_count": 21,
     "metadata": {
      "tags": []
     },
     "output_type": "execute_result"
    }
   ],
   "source": [
    "train[train['sentiment_score']==3].head()"
   ]
  },
  {
   "cell_type": "code",
   "execution_count": 22,
   "metadata": {
    "colab": {
     "base_uri": "https://localhost:8080/",
     "height": 204
    },
    "colab_type": "code",
    "id": "Sbo-Cdx7MBzf",
    "outputId": "994fe7ef-1672-425b-8c49-43ff316f49a3"
   },
   "outputs": [
    {
     "data": {
      "text/html": [
       "<div>\n",
       "<style scoped>\n",
       "    .dataframe tbody tr th:only-of-type {\n",
       "        vertical-align: middle;\n",
       "    }\n",
       "\n",
       "    .dataframe tbody tr th {\n",
       "        vertical-align: top;\n",
       "    }\n",
       "\n",
       "    .dataframe thead th {\n",
       "        text-align: right;\n",
       "    }\n",
       "</style>\n",
       "<table border=\"1\" class=\"dataframe\">\n",
       "  <thead>\n",
       "    <tr style=\"text-align: right;\">\n",
       "      <th></th>\n",
       "      <th>stocktwit_tweet</th>\n",
       "      <th>sentiment_score</th>\n",
       "      <th>timestamp</th>\n",
       "      <th>ticker</th>\n",
       "    </tr>\n",
       "  </thead>\n",
       "  <tbody>\n",
       "    <tr>\n",
       "      <th>7</th>\n",
       "      <td>$NOC let&amp;#39;s see when we can hit 310</td>\n",
       "      <td>4</td>\n",
       "      <td>2018-09-12 20:48:40+00:00</td>\n",
       "      <td>NOC</td>\n",
       "    </tr>\n",
       "    <tr>\n",
       "      <th>16</th>\n",
       "      <td>$AMD buying more</td>\n",
       "      <td>4</td>\n",
       "      <td>2018-09-18 15:45:22+00:00</td>\n",
       "      <td>AMD</td>\n",
       "    </tr>\n",
       "    <tr>\n",
       "      <th>22</th>\n",
       "      <td>$MU doesn’t miss MU Long Rally (Bullish)</td>\n",
       "      <td>4</td>\n",
       "      <td>2018-07-24 08:53:28+00:00</td>\n",
       "      <td>MU</td>\n",
       "    </tr>\n",
       "    <tr>\n",
       "      <th>26</th>\n",
       "      <td>$AMZN $3000 Target,</td>\n",
       "      <td>4</td>\n",
       "      <td>2018-09-04 14:12:54+00:00</td>\n",
       "      <td>AMZN</td>\n",
       "    </tr>\n",
       "    <tr>\n",
       "      <th>42</th>\n",
       "      <td>#Update(4)  $COST Jul-27 220 Calls Up +25%.  1...</td>\n",
       "      <td>4</td>\n",
       "      <td>2018-07-24 13:50:53+00:00</td>\n",
       "      <td>COST</td>\n",
       "    </tr>\n",
       "  </tbody>\n",
       "</table>\n",
       "</div>"
      ],
      "text/plain": [
       "                                      stocktwit_tweet  ...  ticker\n",
       "7              $NOC let&#39;s see when we can hit 310  ...     NOC\n",
       "16                                   $AMD buying more  ...     AMD\n",
       "22           $MU doesn’t miss MU Long Rally (Bullish)  ...      MU\n",
       "26                                $AMZN $3000 Target,  ...    AMZN\n",
       "42  #Update(4)  $COST Jul-27 220 Calls Up +25%.  1...  ...    COST\n",
       "\n",
       "[5 rows x 4 columns]"
      ]
     },
     "execution_count": 22,
     "metadata": {
      "tags": []
     },
     "output_type": "execute_result"
    }
   ],
   "source": [
    "train[train['sentiment_score']==4].head()"
   ]
  },
  {
   "cell_type": "markdown",
   "metadata": {
    "colab_type": "text",
    "id": "khz6i9nCMBzn"
   },
   "source": [
    "### Changing the timestamp column as month & day"
   ]
  },
  {
   "cell_type": "code",
   "execution_count": 23,
   "metadata": {
    "colab": {
     "base_uri": "https://localhost:8080/",
     "height": 204
    },
    "colab_type": "code",
    "id": "SPDQV8QMMBzq",
    "outputId": "f7ba7567-d52d-4535-fbb6-70de4eeab5b4"
   },
   "outputs": [
    {
     "data": {
      "text/html": [
       "<div>\n",
       "<style scoped>\n",
       "    .dataframe tbody tr th:only-of-type {\n",
       "        vertical-align: middle;\n",
       "    }\n",
       "\n",
       "    .dataframe tbody tr th {\n",
       "        vertical-align: top;\n",
       "    }\n",
       "\n",
       "    .dataframe thead th {\n",
       "        text-align: right;\n",
       "    }\n",
       "</style>\n",
       "<table border=\"1\" class=\"dataframe\">\n",
       "  <thead>\n",
       "    <tr style=\"text-align: right;\">\n",
       "      <th></th>\n",
       "      <th>stocktwit_tweet</th>\n",
       "      <th>sentiment_score</th>\n",
       "      <th>timestamp</th>\n",
       "      <th>ticker</th>\n",
       "      <th>month</th>\n",
       "      <th>day</th>\n",
       "    </tr>\n",
       "  </thead>\n",
       "  <tbody>\n",
       "    <tr>\n",
       "      <th>0</th>\n",
       "      <td>$AMD going up but hesitating however chart is ...</td>\n",
       "      <td>3</td>\n",
       "      <td>2018-09-19</td>\n",
       "      <td>AMD</td>\n",
       "      <td>09</td>\n",
       "      <td>19</td>\n",
       "    </tr>\n",
       "    <tr>\n",
       "      <th>1</th>\n",
       "      <td>@inforlong @MariaGascon Despite\\nChina trade w...</td>\n",
       "      <td>3</td>\n",
       "      <td>2018-10-09</td>\n",
       "      <td>CAT</td>\n",
       "      <td>10</td>\n",
       "      <td>09</td>\n",
       "    </tr>\n",
       "    <tr>\n",
       "      <th>2</th>\n",
       "      <td>$AVGO WTF?</td>\n",
       "      <td>2</td>\n",
       "      <td>2018-07-12</td>\n",
       "      <td>AVGO</td>\n",
       "      <td>07</td>\n",
       "      <td>12</td>\n",
       "    </tr>\n",
       "    <tr>\n",
       "      <th>3</th>\n",
       "      <td>$PH\\n New Insider Filing On: \\n MULLER KLAUS P...</td>\n",
       "      <td>2</td>\n",
       "      <td>2018-07-19</td>\n",
       "      <td>PH</td>\n",
       "      <td>07</td>\n",
       "      <td>19</td>\n",
       "    </tr>\n",
       "    <tr>\n",
       "      <th>4</th>\n",
       "      <td>$FB if it bounces tommorrow do the right thing...</td>\n",
       "      <td>3</td>\n",
       "      <td>2018-08-23</td>\n",
       "      <td>FB</td>\n",
       "      <td>08</td>\n",
       "      <td>23</td>\n",
       "    </tr>\n",
       "  </tbody>\n",
       "</table>\n",
       "</div>"
      ],
      "text/plain": [
       "                                     stocktwit_tweet  sentiment_score  ... month day\n",
       "0  $AMD going up but hesitating however chart is ...                3  ...    09  19\n",
       "1  @inforlong @MariaGascon Despite\\nChina trade w...                3  ...    10  09\n",
       "2                                         $AVGO WTF?                2  ...    07  12\n",
       "3  $PH\\n New Insider Filing On: \\n MULLER KLAUS P...                2  ...    07  19\n",
       "4  $FB if it bounces tommorrow do the right thing...                3  ...    08  23\n",
       "\n",
       "[5 rows x 6 columns]"
      ]
     },
     "execution_count": 23,
     "metadata": {
      "tags": []
     },
     "output_type": "execute_result"
    }
   ],
   "source": [
    "## ==> for Train_json\n",
    "\n",
    "train['timestamp'] = train['timestamp'].str.split(' ').str[0]\n",
    "train['month'] = train['timestamp'].str.split('-', expand = True)[1]\n",
    "train['day'] = train['timestamp'].str.split('-',expand = True)[2]\n",
    "\n",
    "train.head()"
   ]
  },
  {
   "cell_type": "code",
   "execution_count": 24,
   "metadata": {
    "colab": {
     "base_uri": "https://localhost:8080/",
     "height": 173
    },
    "colab_type": "code",
    "id": "-Y1WtywqT4ZV",
    "outputId": "c0aced2f-62f1-414d-8cd9-736095a9c7b6"
   },
   "outputs": [
    {
     "data": {
      "text/html": [
       "<div>\n",
       "<style scoped>\n",
       "    .dataframe tbody tr th:only-of-type {\n",
       "        vertical-align: middle;\n",
       "    }\n",
       "\n",
       "    .dataframe tbody tr th {\n",
       "        vertical-align: top;\n",
       "    }\n",
       "\n",
       "    .dataframe thead th {\n",
       "        text-align: right;\n",
       "    }\n",
       "</style>\n",
       "<table border=\"1\" class=\"dataframe\">\n",
       "  <thead>\n",
       "    <tr style=\"text-align: right;\">\n",
       "      <th></th>\n",
       "      <th>stocktwit_tweet</th>\n",
       "      <th>timestamp</th>\n",
       "      <th>ticker</th>\n",
       "      <th>month</th>\n",
       "      <th>day</th>\n",
       "    </tr>\n",
       "  </thead>\n",
       "  <tbody>\n",
       "    <tr>\n",
       "      <th>0</th>\n",
       "      <td>$CELG nothing to be exited about</td>\n",
       "      <td>2018-10-25</td>\n",
       "      <td>CELG</td>\n",
       "      <td>10</td>\n",
       "      <td>25</td>\n",
       "    </tr>\n",
       "    <tr>\n",
       "      <th>1</th>\n",
       "      <td>$AMD yall exhaust your buyer on first green ca...</td>\n",
       "      <td>2018-07-13</td>\n",
       "      <td>AMD</td>\n",
       "      <td>07</td>\n",
       "      <td>13</td>\n",
       "    </tr>\n",
       "    <tr>\n",
       "      <th>2</th>\n",
       "      <td>$AMD day traders day.</td>\n",
       "      <td>2018-09-25</td>\n",
       "      <td>AMD</td>\n",
       "      <td>09</td>\n",
       "      <td>25</td>\n",
       "    </tr>\n",
       "    <tr>\n",
       "      <th>3</th>\n",
       "      <td>$CBS https://tenor.com/wLB8.gif</td>\n",
       "      <td>2018-07-27</td>\n",
       "      <td>CBS</td>\n",
       "      <td>07</td>\n",
       "      <td>27</td>\n",
       "    </tr>\n",
       "  </tbody>\n",
       "</table>\n",
       "</div>"
      ],
      "text/plain": [
       "                                     stocktwit_tweet   timestamp  ... month day\n",
       "0                   $CELG nothing to be exited about  2018-10-25  ...    10  25\n",
       "1  $AMD yall exhaust your buyer on first green ca...  2018-07-13  ...    07  13\n",
       "2                              $AMD day traders day.  2018-09-25  ...    09  25\n",
       "3                    $CBS https://tenor.com/wLB8.gif  2018-07-27  ...    07  27\n",
       "\n",
       "[4 rows x 5 columns]"
      ]
     },
     "execution_count": 24,
     "metadata": {
      "tags": []
     },
     "output_type": "execute_result"
    }
   ],
   "source": [
    "## ==> for Test_json\n",
    "\n",
    "test_json['timestamp'] = test_json['timestamp'].str.split(' ').str[0]\n",
    "test_json['month'] = test_json['timestamp'].str.split('-', expand = True)[1]\n",
    "test_json['day'] = test_json['timestamp'].str.split('-',expand = True)[2]\n",
    "\n",
    "test_json.head(4)"
   ]
  },
  {
   "cell_type": "markdown",
   "metadata": {
    "colab_type": "text",
    "id": "F7P4_MslMB0M"
   },
   "source": [
    "### Changing the DataTypes in JSON file"
   ]
  },
  {
   "cell_type": "code",
   "execution_count": 0,
   "metadata": {
    "colab": {},
    "colab_type": "code",
    "id": "u7lkt-J8MB0N"
   },
   "outputs": [],
   "source": [
    "## ==> for Train_json\n",
    "for i in ['stocktwit_tweet','sentiment_score','ticker','month','day']:\n",
    "    train[i] = train[i].astype('category')"
   ]
  },
  {
   "cell_type": "code",
   "execution_count": 26,
   "metadata": {
    "colab": {
     "base_uri": "https://localhost:8080/",
     "height": 136
    },
    "colab_type": "code",
    "id": "8DbzXV8YMB0T",
    "outputId": "84c2e84b-41bc-4185-d842-c0c4a2f40a16"
   },
   "outputs": [
    {
     "data": {
      "text/plain": [
       "stocktwit_tweet    category\n",
       "sentiment_score    category\n",
       "timestamp            object\n",
       "ticker             category\n",
       "month              category\n",
       "day                category\n",
       "dtype: object"
      ]
     },
     "execution_count": 26,
     "metadata": {
      "tags": []
     },
     "output_type": "execute_result"
    }
   ],
   "source": [
    "train.dtypes"
   ]
  },
  {
   "cell_type": "code",
   "execution_count": 0,
   "metadata": {
    "colab": {},
    "colab_type": "code",
    "id": "l9InJ8JyU6gc"
   },
   "outputs": [],
   "source": [
    "## ==> for Test_json\n",
    "for i in ['stocktwit_tweet','ticker','month','day']:\n",
    "  test_json[i] = test_json[i].astype('category')"
   ]
  },
  {
   "cell_type": "code",
   "execution_count": 28,
   "metadata": {
    "colab": {
     "base_uri": "https://localhost:8080/",
     "height": 119
    },
    "colab_type": "code",
    "id": "L-sQOhCxU6x1",
    "outputId": "82131dcd-da73-49a3-e89c-6917ea32f1dc"
   },
   "outputs": [
    {
     "data": {
      "text/plain": [
       "stocktwit_tweet    category\n",
       "timestamp            object\n",
       "ticker             category\n",
       "month              category\n",
       "day                category\n",
       "dtype: object"
      ]
     },
     "execution_count": 28,
     "metadata": {
      "tags": []
     },
     "output_type": "execute_result"
    }
   ],
   "source": [
    "test_json.dtypes"
   ]
  },
  {
   "cell_type": "markdown",
   "metadata": {
    "colab_type": "text",
    "id": "wUMsxeUZMB0a"
   },
   "source": [
    "### Removing the Unnecessary columns in JSON file"
   ]
  },
  {
   "cell_type": "code",
   "execution_count": 29,
   "metadata": {
    "colab": {
     "base_uri": "https://localhost:8080/",
     "height": 204
    },
    "colab_type": "code",
    "id": "i2WosP2_MB0c",
    "outputId": "3e556693-0941-4df9-8890-bfa8284153dc"
   },
   "outputs": [
    {
     "data": {
      "text/html": [
       "<div>\n",
       "<style scoped>\n",
       "    .dataframe tbody tr th:only-of-type {\n",
       "        vertical-align: middle;\n",
       "    }\n",
       "\n",
       "    .dataframe tbody tr th {\n",
       "        vertical-align: top;\n",
       "    }\n",
       "\n",
       "    .dataframe thead th {\n",
       "        text-align: right;\n",
       "    }\n",
       "</style>\n",
       "<table border=\"1\" class=\"dataframe\">\n",
       "  <thead>\n",
       "    <tr style=\"text-align: right;\">\n",
       "      <th></th>\n",
       "      <th>stocktwit_tweet</th>\n",
       "      <th>sentiment_score</th>\n",
       "      <th>ticker</th>\n",
       "      <th>month</th>\n",
       "      <th>day</th>\n",
       "    </tr>\n",
       "  </thead>\n",
       "  <tbody>\n",
       "    <tr>\n",
       "      <th>0</th>\n",
       "      <td>$AMD going up but hesitating however chart is ...</td>\n",
       "      <td>3</td>\n",
       "      <td>AMD</td>\n",
       "      <td>09</td>\n",
       "      <td>19</td>\n",
       "    </tr>\n",
       "    <tr>\n",
       "      <th>1</th>\n",
       "      <td>@inforlong @MariaGascon Despite\\nChina trade w...</td>\n",
       "      <td>3</td>\n",
       "      <td>CAT</td>\n",
       "      <td>10</td>\n",
       "      <td>09</td>\n",
       "    </tr>\n",
       "    <tr>\n",
       "      <th>2</th>\n",
       "      <td>$AVGO WTF?</td>\n",
       "      <td>2</td>\n",
       "      <td>AVGO</td>\n",
       "      <td>07</td>\n",
       "      <td>12</td>\n",
       "    </tr>\n",
       "    <tr>\n",
       "      <th>3</th>\n",
       "      <td>$PH\\n New Insider Filing On: \\n MULLER KLAUS P...</td>\n",
       "      <td>2</td>\n",
       "      <td>PH</td>\n",
       "      <td>07</td>\n",
       "      <td>19</td>\n",
       "    </tr>\n",
       "    <tr>\n",
       "      <th>4</th>\n",
       "      <td>$FB if it bounces tommorrow do the right thing...</td>\n",
       "      <td>3</td>\n",
       "      <td>FB</td>\n",
       "      <td>08</td>\n",
       "      <td>23</td>\n",
       "    </tr>\n",
       "  </tbody>\n",
       "</table>\n",
       "</div>"
      ],
      "text/plain": [
       "                                     stocktwit_tweet sentiment_score  ... month day\n",
       "0  $AMD going up but hesitating however chart is ...               3  ...    09  19\n",
       "1  @inforlong @MariaGascon Despite\\nChina trade w...               3  ...    10  09\n",
       "2                                         $AVGO WTF?               2  ...    07  12\n",
       "3  $PH\\n New Insider Filing On: \\n MULLER KLAUS P...               2  ...    07  19\n",
       "4  $FB if it bounces tommorrow do the right thing...               3  ...    08  23\n",
       "\n",
       "[5 rows x 5 columns]"
      ]
     },
     "execution_count": 29,
     "metadata": {
      "tags": []
     },
     "output_type": "execute_result"
    }
   ],
   "source": [
    "## ==> for train_json\n",
    "train.drop('timestamp', axis=1,inplace=True)\n",
    "train.head()"
   ]
  },
  {
   "cell_type": "code",
   "execution_count": 30,
   "metadata": {
    "colab": {
     "base_uri": "https://localhost:8080/",
     "height": 119
    },
    "colab_type": "code",
    "id": "OlZZrTQyMB0i",
    "outputId": "b80e3928-77f5-4017-c3b0-c4e3ef03dbee"
   },
   "outputs": [
    {
     "data": {
      "text/plain": [
       "stocktwit_tweet    category\n",
       "sentiment_score    category\n",
       "ticker             category\n",
       "month              category\n",
       "day                category\n",
       "dtype: object"
      ]
     },
     "execution_count": 30,
     "metadata": {
      "tags": []
     },
     "output_type": "execute_result"
    }
   ],
   "source": [
    "train.dtypes"
   ]
  },
  {
   "cell_type": "code",
   "execution_count": 31,
   "metadata": {
    "colab": {
     "base_uri": "https://localhost:8080/",
     "height": 204
    },
    "colab_type": "code",
    "id": "YJ5qx-yNYGDu",
    "outputId": "c1ef9989-119b-422c-c89c-b888c037d387"
   },
   "outputs": [
    {
     "data": {
      "text/html": [
       "<div>\n",
       "<style scoped>\n",
       "    .dataframe tbody tr th:only-of-type {\n",
       "        vertical-align: middle;\n",
       "    }\n",
       "\n",
       "    .dataframe tbody tr th {\n",
       "        vertical-align: top;\n",
       "    }\n",
       "\n",
       "    .dataframe thead th {\n",
       "        text-align: right;\n",
       "    }\n",
       "</style>\n",
       "<table border=\"1\" class=\"dataframe\">\n",
       "  <thead>\n",
       "    <tr style=\"text-align: right;\">\n",
       "      <th></th>\n",
       "      <th>stocktwit_tweet</th>\n",
       "      <th>ticker</th>\n",
       "      <th>month</th>\n",
       "      <th>day</th>\n",
       "    </tr>\n",
       "  </thead>\n",
       "  <tbody>\n",
       "    <tr>\n",
       "      <th>0</th>\n",
       "      <td>$CELG nothing to be exited about</td>\n",
       "      <td>CELG</td>\n",
       "      <td>10</td>\n",
       "      <td>25</td>\n",
       "    </tr>\n",
       "    <tr>\n",
       "      <th>1</th>\n",
       "      <td>$AMD yall exhaust your buyer on first green ca...</td>\n",
       "      <td>AMD</td>\n",
       "      <td>07</td>\n",
       "      <td>13</td>\n",
       "    </tr>\n",
       "    <tr>\n",
       "      <th>2</th>\n",
       "      <td>$AMD day traders day.</td>\n",
       "      <td>AMD</td>\n",
       "      <td>09</td>\n",
       "      <td>25</td>\n",
       "    </tr>\n",
       "    <tr>\n",
       "      <th>3</th>\n",
       "      <td>$CBS https://tenor.com/wLB8.gif</td>\n",
       "      <td>CBS</td>\n",
       "      <td>07</td>\n",
       "      <td>27</td>\n",
       "    </tr>\n",
       "    <tr>\n",
       "      <th>4</th>\n",
       "      <td>$MU weak price action so far today. Don’t be a...</td>\n",
       "      <td>MU</td>\n",
       "      <td>07</td>\n",
       "      <td>31</td>\n",
       "    </tr>\n",
       "  </tbody>\n",
       "</table>\n",
       "</div>"
      ],
      "text/plain": [
       "                                     stocktwit_tweet ticker month day\n",
       "0                   $CELG nothing to be exited about   CELG    10  25\n",
       "1  $AMD yall exhaust your buyer on first green ca...    AMD    07  13\n",
       "2                              $AMD day traders day.    AMD    09  25\n",
       "3                    $CBS https://tenor.com/wLB8.gif    CBS    07  27\n",
       "4  $MU weak price action so far today. Don’t be a...     MU    07  31"
      ]
     },
     "execution_count": 31,
     "metadata": {
      "tags": []
     },
     "output_type": "execute_result"
    }
   ],
   "source": [
    "## ==> for test_json\n",
    "test_json.drop('timestamp', axis=1,inplace=True)\n",
    "test_json.head()"
   ]
  },
  {
   "cell_type": "code",
   "execution_count": 32,
   "metadata": {
    "colab": {
     "base_uri": "https://localhost:8080/",
     "height": 102
    },
    "colab_type": "code",
    "id": "vrHYQTUhYGdx",
    "outputId": "f09acd3b-8558-46bd-ae4e-fe02fc747af8"
   },
   "outputs": [
    {
     "data": {
      "text/plain": [
       "stocktwit_tweet    category\n",
       "ticker             category\n",
       "month              category\n",
       "day                category\n",
       "dtype: object"
      ]
     },
     "execution_count": 32,
     "metadata": {
      "tags": []
     },
     "output_type": "execute_result"
    }
   ],
   "source": [
    "test_json.dtypes"
   ]
  },
  {
   "cell_type": "markdown",
   "metadata": {
    "colab_type": "text",
    "id": "Au9MefhdYfK_"
   },
   "source": [
    "### Describing the Data in JSON file"
   ]
  },
  {
   "cell_type": "code",
   "execution_count": 33,
   "metadata": {
    "colab": {
     "base_uri": "https://localhost:8080/",
     "height": 173
    },
    "colab_type": "code",
    "id": "8BN8OYObMB0q",
    "outputId": "b054ef9c-5b05-4e23-f541-d813135669c8"
   },
   "outputs": [
    {
     "data": {
      "text/html": [
       "<div>\n",
       "<style scoped>\n",
       "    .dataframe tbody tr th:only-of-type {\n",
       "        vertical-align: middle;\n",
       "    }\n",
       "\n",
       "    .dataframe tbody tr th {\n",
       "        vertical-align: top;\n",
       "    }\n",
       "\n",
       "    .dataframe thead th {\n",
       "        text-align: right;\n",
       "    }\n",
       "</style>\n",
       "<table border=\"1\" class=\"dataframe\">\n",
       "  <thead>\n",
       "    <tr style=\"text-align: right;\">\n",
       "      <th></th>\n",
       "      <th>stocktwit_tweet</th>\n",
       "      <th>sentiment_score</th>\n",
       "      <th>ticker</th>\n",
       "      <th>month</th>\n",
       "      <th>day</th>\n",
       "    </tr>\n",
       "  </thead>\n",
       "  <tbody>\n",
       "    <tr>\n",
       "      <th>count</th>\n",
       "      <td>1039131</td>\n",
       "      <td>1039131</td>\n",
       "      <td>1039131</td>\n",
       "      <td>1039131</td>\n",
       "      <td>1039131</td>\n",
       "    </tr>\n",
       "    <tr>\n",
       "      <th>unique</th>\n",
       "      <td>959608</td>\n",
       "      <td>5</td>\n",
       "      <td>1530</td>\n",
       "      <td>4</td>\n",
       "      <td>31</td>\n",
       "    </tr>\n",
       "    <tr>\n",
       "      <th>top</th>\n",
       "      <td>$AMD</td>\n",
       "      <td>2</td>\n",
       "      <td>AMD</td>\n",
       "      <td>10</td>\n",
       "      <td>25</td>\n",
       "    </tr>\n",
       "    <tr>\n",
       "      <th>freq</th>\n",
       "      <td>2474</td>\n",
       "      <td>464402</td>\n",
       "      <td>165784</td>\n",
       "      <td>274333</td>\n",
       "      <td>52135</td>\n",
       "    </tr>\n",
       "  </tbody>\n",
       "</table>\n",
       "</div>"
      ],
      "text/plain": [
       "       stocktwit_tweet  sentiment_score   ticker    month      day\n",
       "count          1039131          1039131  1039131  1039131  1039131\n",
       "unique          959608                5     1530        4       31\n",
       "top               $AMD                2      AMD       10       25\n",
       "freq              2474           464402   165784   274333    52135"
      ]
     },
     "execution_count": 33,
     "metadata": {
      "tags": []
     },
     "output_type": "execute_result"
    }
   ],
   "source": [
    "## ==> for Train_json\n",
    "train.describe()"
   ]
  },
  {
   "cell_type": "code",
   "execution_count": 34,
   "metadata": {
    "colab": {
     "base_uri": "https://localhost:8080/",
     "height": 173
    },
    "colab_type": "code",
    "id": "hKaU9p5cYrWi",
    "outputId": "0ba46583-d05b-47c9-ebff-39d283e9ef67"
   },
   "outputs": [
    {
     "data": {
      "text/html": [
       "<div>\n",
       "<style scoped>\n",
       "    .dataframe tbody tr th:only-of-type {\n",
       "        vertical-align: middle;\n",
       "    }\n",
       "\n",
       "    .dataframe tbody tr th {\n",
       "        vertical-align: top;\n",
       "    }\n",
       "\n",
       "    .dataframe thead th {\n",
       "        text-align: right;\n",
       "    }\n",
       "</style>\n",
       "<table border=\"1\" class=\"dataframe\">\n",
       "  <thead>\n",
       "    <tr style=\"text-align: right;\">\n",
       "      <th></th>\n",
       "      <th>stocktwit_tweet</th>\n",
       "      <th>ticker</th>\n",
       "      <th>month</th>\n",
       "      <th>day</th>\n",
       "    </tr>\n",
       "  </thead>\n",
       "  <tbody>\n",
       "    <tr>\n",
       "      <th>count</th>\n",
       "      <td>265022</td>\n",
       "      <td>265022</td>\n",
       "      <td>265022</td>\n",
       "      <td>265022</td>\n",
       "    </tr>\n",
       "    <tr>\n",
       "      <th>unique</th>\n",
       "      <td>252890</td>\n",
       "      <td>968</td>\n",
       "      <td>4</td>\n",
       "      <td>31</td>\n",
       "    </tr>\n",
       "    <tr>\n",
       "      <th>top</th>\n",
       "      <td>$AMD</td>\n",
       "      <td>AMD</td>\n",
       "      <td>10</td>\n",
       "      <td>25</td>\n",
       "    </tr>\n",
       "    <tr>\n",
       "      <th>freq</th>\n",
       "      <td>622</td>\n",
       "      <td>42677</td>\n",
       "      <td>69935</td>\n",
       "      <td>13358</td>\n",
       "    </tr>\n",
       "  </tbody>\n",
       "</table>\n",
       "</div>"
      ],
      "text/plain": [
       "       stocktwit_tweet  ticker   month     day\n",
       "count           265022  265022  265022  265022\n",
       "unique          252890     968       4      31\n",
       "top               $AMD     AMD      10      25\n",
       "freq               622   42677   69935   13358"
      ]
     },
     "execution_count": 34,
     "metadata": {
      "tags": []
     },
     "output_type": "execute_result"
    }
   ],
   "source": [
    "## ==> for Test_json\n",
    "test_json.describe()"
   ]
  },
  {
   "cell_type": "markdown",
   "metadata": {
    "colab_type": "text",
    "id": "tpO5QkOrMB1H"
   },
   "source": [
    "## Cleaning the Tweets data"
   ]
  },
  {
   "cell_type": "code",
   "execution_count": 0,
   "metadata": {
    "colab": {},
    "colab_type": "code",
    "id": "-MxHtcdUMB1I"
   },
   "outputs": [],
   "source": [
    "CONTRACTION_MAP = {\n",
    "\"ain't\": \"is not\",\n",
    "\"aren't\": \"are not\",\n",
    "\"can't\": \"cannot\",\n",
    "\"can't've\": \"cannot have\",\n",
    "\"'cause\": \"because\",\n",
    "\"could've\": \"could have\",\n",
    "\"couldn't\": \"could not\",\n",
    "\"couldn't've\": \"could not have\",\n",
    "\"didn't\": \"did not\",\n",
    "\"doesn't\": \"does not\",\n",
    "\"don't\": \"do not\",\n",
    "\"hadn't\": \"had not\",\n",
    "\"hadn't've\": \"had not have\",\n",
    "\"hasn't\": \"has not\",\n",
    "\"haven't\": \"have not\",\n",
    "\"he'd\": \"he would\",\n",
    "\"he'd've\": \"he would have\",\n",
    "\"he'll\": \"he will\",\n",
    "\"he'll've\": \"he he will have\",\n",
    "\"he's\": \"he is\",\n",
    "\"how'd\": \"how did\",\n",
    "\"how'd'y\": \"how do you\",\n",
    "\"how'll\": \"how will\",\n",
    "\"how's\": \"how is\",\n",
    "\"I'd\": \"I would\",\n",
    "\"I'd've\": \"I would have\",\n",
    "\"I'll\": \"I will\",\n",
    "\"I'll've\": \"I will have\",\n",
    "\"I'm\": \"I am\",\n",
    "\"I've\": \"I have\",\n",
    "\"i'd\": \"i would\",\n",
    "\"i'd've\": \"i would have\",\n",
    "\"i'll\": \"i will\",\n",
    "\"i'll've\": \"i will have\",\n",
    "\"i'm\": \"i am\",\n",
    "\"i've\": \"i have\",\n",
    "\"isn't\": \"is not\",\n",
    "\"it'd\": \"it would\",\n",
    "\"it'd've\": \"it would have\",\n",
    "\"it'll\": \"it will\",\n",
    "\"it'll've\": \"it will have\",\n",
    "\"it's\": \"it is\",\n",
    "\"let's\": \"let us\",\n",
    "\"ma'am\": \"madam\",\n",
    "\"mayn't\": \"may not\",\n",
    "\"might've\": \"might have\",\n",
    "\"mightn't\": \"might not\",\n",
    "\"mightn't've\": \"might not have\",\n",
    "\"must've\": \"must have\",\n",
    "\"mustn't\": \"must not\",\n",
    "\"mustn't've\": \"must not have\",\n",
    "\"needn't\": \"need not\",\n",
    "\"needn't've\": \"need not have\",\n",
    "\"o'clock\": \"of the clock\",\n",
    "\"oughtn't\": \"ought not\",\n",
    "\"oughtn't've\": \"ought not have\",\n",
    "\"shan't\": \"shall not\",\n",
    "\"sha'n't\": \"shall not\",\n",
    "\"shan't've\": \"shall not have\",\n",
    "\"she'd\": \"she would\",\n",
    "\"she'd've\": \"she would have\",\n",
    "\"she'll\": \"she will\",\n",
    "\"she'll've\": \"she will have\",\n",
    "\"she's\": \"she is\",\n",
    "\"should've\": \"should have\",\n",
    "\"shouldn't\": \"should not\",\n",
    "\"shouldn't've\": \"should not have\",\n",
    "\"so've\": \"so have\",\n",
    "\"so's\": \"so as\",\n",
    "\"that'd\": \"that would\",\n",
    "\"that'd've\": \"that would have\",\n",
    "\"that's\": \"that is\",\n",
    "\"there'd\": \"there would\",\n",
    "\"there'd've\": \"there would have\",\n",
    "\"there's\": \"there is\",\n",
    "\"they'd\": \"they would\",\n",
    "\"they'd've\": \"they would have\",\n",
    "\"they'll\": \"they will\",\n",
    "\"they'll've\": \"they will have\",\n",
    "\"they're\": \"they are\",\n",
    "\"they've\": \"they have\",\n",
    "\"to've\": \"to have\",\n",
    "\"wasn't\": \"was not\",\n",
    "\"we'd\": \"we would\",\n",
    "\"we'd've\": \"we would have\",\n",
    "\"we'll\": \"we will\",\n",
    "\"we'll've\": \"we will have\",\n",
    "\"we're\": \"we are\",\n",
    "\"we've\": \"we have\",\n",
    "\"weren't\": \"were not\",\n",
    "\"what'll\": \"what will\",\n",
    "\"what'll've\": \"what will have\",\n",
    "\"what're\": \"what are\",\n",
    "\"what's\": \"what is\",\n",
    "\"what've\": \"what have\",\n",
    "\"when's\": \"when is\",\n",
    "\"when've\": \"when have\",\n",
    "\"where'd\": \"where did\",\n",
    "\"where's\": \"where is\",\n",
    "\"where've\": \"where have\",\n",
    "\"who'll\": \"who will\",\n",
    "\"who'll've\": \"who will have\",\n",
    "\"who's\": \"who is\",\n",
    "\"who've\": \"who have\",\n",
    "\"why's\": \"why is\",\n",
    "\"why've\": \"why have\",\n",
    "\"will've\": \"will have\",\n",
    "\"won't\": \"will not\",\n",
    "\"won't've\": \"will not have\",\n",
    "\"would've\": \"would have\",\n",
    "\"wouldn't\": \"would not\",\n",
    "\"wouldn't've\": \"would not have\",\n",
    "\"y'all\": \"you all\",\n",
    "\"y'all'd\": \"you all would\",\n",
    "\"y'all'd've\": \"you all would have\",\n",
    "\"y'all're\": \"you all are\",\n",
    "\"y'all've\": \"you all have\",\n",
    "\"you'd\": \"you would\",\n",
    "\"you'd've\": \"you would have\",\n",
    "\"you'll\": \"you will\",\n",
    "\"you'll've\": \"you will have\",\n",
    "\"you're\": \"you are\",\n",
    "\"you've\": \"you have\"\n",
    "}"
   ]
  },
  {
   "cell_type": "code",
   "execution_count": 40,
   "metadata": {
    "colab": {
     "base_uri": "https://localhost:8080/",
     "height": 68
    },
    "colab_type": "code",
    "id": "Ey3mqjA6ckEF",
    "outputId": "f714e58b-f0f8-4a5b-e9cc-5354a6e03857"
   },
   "outputs": [
    {
     "name": "stdout",
     "output_type": "stream",
     "text": [
      "[nltk_data] Downloading package stopwords to /root/nltk_data...\n",
      "[nltk_data]   Package stopwords is already up-to-date!\n"
     ]
    },
    {
     "data": {
      "text/plain": [
       "True"
      ]
     },
     "execution_count": 40,
     "metadata": {
      "tags": []
     },
     "output_type": "execute_result"
    }
   ],
   "source": [
    "import nltk\n",
    "nltk.download('stopwords')"
   ]
  },
  {
   "cell_type": "code",
   "execution_count": 0,
   "metadata": {
    "colab": {},
    "colab_type": "code",
    "id": "IbmpyuzKbszq"
   },
   "outputs": [],
   "source": [
    "nlp = spacy.load('en', parse = False, tag=False, entity=False)\n",
    "tokenizer = ToktokTokenizer()\n",
    "stopword_list = nltk.corpus.stopwords.words('english')\n",
    "stopword_list.remove('no')\n",
    "stopword_list.remove('not')"
   ]
  },
  {
   "cell_type": "markdown",
   "metadata": {
    "colab_type": "text",
    "id": "gf0IIRl0MB1b"
   },
   "source": [
    "### Converting the emoji's to words"
   ]
  },
  {
   "cell_type": "code",
   "execution_count": 42,
   "metadata": {
    "colab": {
     "base_uri": "https://localhost:8080/",
     "height": 34
    },
    "colab_type": "code",
    "id": "fhIiWECcOOEN",
    "outputId": "6d9fbf39-8b69-468e-95c3-688a85da7496"
   },
   "outputs": [
    {
     "name": "stdout",
     "output_type": "stream",
     "text": [
      "Requirement already satisfied: emoji in /usr/local/lib/python3.6/dist-packages (0.5.4)\n"
     ]
    }
   ],
   "source": [
    "!pip install emoji"
   ]
  },
  {
   "cell_type": "code",
   "execution_count": 43,
   "metadata": {
    "colab": {
     "base_uri": "https://localhost:8080/",
     "height": 204
    },
    "colab_type": "code",
    "id": "6pFBrfF0MB1c",
    "outputId": "84687d06-6074-4090-ce79-f4b429442e05"
   },
   "outputs": [
    {
     "data": {
      "text/html": [
       "<div>\n",
       "<style scoped>\n",
       "    .dataframe tbody tr th:only-of-type {\n",
       "        vertical-align: middle;\n",
       "    }\n",
       "\n",
       "    .dataframe tbody tr th {\n",
       "        vertical-align: top;\n",
       "    }\n",
       "\n",
       "    .dataframe thead th {\n",
       "        text-align: right;\n",
       "    }\n",
       "</style>\n",
       "<table border=\"1\" class=\"dataframe\">\n",
       "  <thead>\n",
       "    <tr style=\"text-align: right;\">\n",
       "      <th></th>\n",
       "      <th>stocktwit_tweet</th>\n",
       "      <th>sentiment_score</th>\n",
       "      <th>ticker</th>\n",
       "      <th>month</th>\n",
       "      <th>day</th>\n",
       "      <th>Cleaned_data</th>\n",
       "    </tr>\n",
       "  </thead>\n",
       "  <tbody>\n",
       "    <tr>\n",
       "      <th>0</th>\n",
       "      <td>$AMD going up but hesitating however chart is ...</td>\n",
       "      <td>3</td>\n",
       "      <td>AMD</td>\n",
       "      <td>09</td>\n",
       "      <td>19</td>\n",
       "      <td>$AMD going up but hesitating however chart is ...</td>\n",
       "    </tr>\n",
       "    <tr>\n",
       "      <th>1</th>\n",
       "      <td>@inforlong @MariaGascon Despite\\nChina trade w...</td>\n",
       "      <td>3</td>\n",
       "      <td>CAT</td>\n",
       "      <td>10</td>\n",
       "      <td>09</td>\n",
       "      <td>@inforlong @MariaGascon Despite\\nChina trade w...</td>\n",
       "    </tr>\n",
       "    <tr>\n",
       "      <th>2</th>\n",
       "      <td>$AVGO WTF?</td>\n",
       "      <td>2</td>\n",
       "      <td>AVGO</td>\n",
       "      <td>07</td>\n",
       "      <td>12</td>\n",
       "      <td>$AVGO WTF?</td>\n",
       "    </tr>\n",
       "    <tr>\n",
       "      <th>3</th>\n",
       "      <td>$PH\\n New Insider Filing On: \\n MULLER KLAUS P...</td>\n",
       "      <td>2</td>\n",
       "      <td>PH</td>\n",
       "      <td>07</td>\n",
       "      <td>19</td>\n",
       "      <td>$PH\\n New Insider Filing On \\n MULLER KLAUS PE...</td>\n",
       "    </tr>\n",
       "    <tr>\n",
       "      <th>4</th>\n",
       "      <td>$FB if it bounces tommorrow do the right thing...</td>\n",
       "      <td>3</td>\n",
       "      <td>FB</td>\n",
       "      <td>08</td>\n",
       "      <td>23</td>\n",
       "      <td>$FB if it bounces tommorrow do the right thing...</td>\n",
       "    </tr>\n",
       "  </tbody>\n",
       "</table>\n",
       "</div>"
      ],
      "text/plain": [
       "                                     stocktwit_tweet  ...                                       Cleaned_data\n",
       "0  $AMD going up but hesitating however chart is ...  ...  $AMD going up but hesitating however chart is ...\n",
       "1  @inforlong @MariaGascon Despite\\nChina trade w...  ...  @inforlong @MariaGascon Despite\\nChina trade w...\n",
       "2                                         $AVGO WTF?  ...                                         $AVGO WTF?\n",
       "3  $PH\\n New Insider Filing On: \\n MULLER KLAUS P...  ...  $PH\\n New Insider Filing On \\n MULLER KLAUS PE...\n",
       "4  $FB if it bounces tommorrow do the right thing...  ...  $FB if it bounces tommorrow do the right thing...\n",
       "\n",
       "[5 rows x 6 columns]"
      ]
     },
     "execution_count": 43,
     "metadata": {
      "tags": []
     },
     "output_type": "execute_result"
    }
   ],
   "source": [
    "import emoji\n",
    "## ==> for Train_json\n",
    "train['Cleaned_data'] = train['stocktwit_tweet'].apply(lambda x: emoji.demojize(x))\n",
    "\n",
    "train['Cleaned_data'] = train['Cleaned_data'].str.replace(\":\", \"\",regex=False)\n",
    "train['Cleaned_data'] = train['Cleaned_data'].str.replace(\"_\", \" \",regex=False)\n",
    "\n",
    "train.head()"
   ]
  },
  {
   "cell_type": "code",
   "execution_count": 44,
   "metadata": {
    "colab": {
     "base_uri": "https://localhost:8080/",
     "height": 204
    },
    "colab_type": "code",
    "id": "vIPwwWa2u0ji",
    "outputId": "7b7ce0b2-dd8f-4880-cbf6-b493cc656c06"
   },
   "outputs": [
    {
     "data": {
      "text/html": [
       "<div>\n",
       "<style scoped>\n",
       "    .dataframe tbody tr th:only-of-type {\n",
       "        vertical-align: middle;\n",
       "    }\n",
       "\n",
       "    .dataframe tbody tr th {\n",
       "        vertical-align: top;\n",
       "    }\n",
       "\n",
       "    .dataframe thead th {\n",
       "        text-align: right;\n",
       "    }\n",
       "</style>\n",
       "<table border=\"1\" class=\"dataframe\">\n",
       "  <thead>\n",
       "    <tr style=\"text-align: right;\">\n",
       "      <th></th>\n",
       "      <th>stocktwit_tweet</th>\n",
       "      <th>ticker</th>\n",
       "      <th>month</th>\n",
       "      <th>day</th>\n",
       "      <th>Cleaned_data</th>\n",
       "    </tr>\n",
       "  </thead>\n",
       "  <tbody>\n",
       "    <tr>\n",
       "      <th>0</th>\n",
       "      <td>$CELG nothing to be exited about</td>\n",
       "      <td>CELG</td>\n",
       "      <td>10</td>\n",
       "      <td>25</td>\n",
       "      <td>$CELG nothing to be exited about</td>\n",
       "    </tr>\n",
       "    <tr>\n",
       "      <th>1</th>\n",
       "      <td>$AMD yall exhaust your buyer on first green ca...</td>\n",
       "      <td>AMD</td>\n",
       "      <td>07</td>\n",
       "      <td>13</td>\n",
       "      <td>$AMD yall exhaust your buyer on first green ca...</td>\n",
       "    </tr>\n",
       "    <tr>\n",
       "      <th>2</th>\n",
       "      <td>$AMD day traders day.</td>\n",
       "      <td>AMD</td>\n",
       "      <td>09</td>\n",
       "      <td>25</td>\n",
       "      <td>$AMD day traders day.</td>\n",
       "    </tr>\n",
       "    <tr>\n",
       "      <th>3</th>\n",
       "      <td>$CBS https://tenor.com/wLB8.gif</td>\n",
       "      <td>CBS</td>\n",
       "      <td>07</td>\n",
       "      <td>27</td>\n",
       "      <td>$CBS https//tenor.com/wLB8.gif</td>\n",
       "    </tr>\n",
       "    <tr>\n",
       "      <th>4</th>\n",
       "      <td>$MU weak price action so far today. Don’t be a...</td>\n",
       "      <td>MU</td>\n",
       "      <td>07</td>\n",
       "      <td>31</td>\n",
       "      <td>$MU weak price action so far today. Don’t be a...</td>\n",
       "    </tr>\n",
       "  </tbody>\n",
       "</table>\n",
       "</div>"
      ],
      "text/plain": [
       "                                     stocktwit_tweet  ...                                       Cleaned_data\n",
       "0                   $CELG nothing to be exited about  ...                   $CELG nothing to be exited about\n",
       "1  $AMD yall exhaust your buyer on first green ca...  ...  $AMD yall exhaust your buyer on first green ca...\n",
       "2                              $AMD day traders day.  ...                              $AMD day traders day.\n",
       "3                    $CBS https://tenor.com/wLB8.gif  ...                     $CBS https//tenor.com/wLB8.gif\n",
       "4  $MU weak price action so far today. Don’t be a...  ...  $MU weak price action so far today. Don’t be a...\n",
       "\n",
       "[5 rows x 5 columns]"
      ]
     },
     "execution_count": 44,
     "metadata": {
      "tags": []
     },
     "output_type": "execute_result"
    }
   ],
   "source": [
    "## ==> for Test_json\n",
    "test_json['Cleaned_data'] = test_json['stocktwit_tweet'].apply(lambda x: emoji.demojize(x))\n",
    "\n",
    "test_json['Cleaned_data'] = test_json['Cleaned_data'].str.replace(\":\", \"\",regex=False)\n",
    "test_json['Cleaned_data'] = test_json['Cleaned_data'].str.replace(\"_\", \" \",regex=False)\n",
    "\n",
    "test_json.head()"
   ]
  },
  {
   "cell_type": "markdown",
   "metadata": {
    "colab_type": "text",
    "id": "tItUOpwlMB1y"
   },
   "source": [
    "### Removing \"http\" & \"WWW\" links"
   ]
  },
  {
   "cell_type": "code",
   "execution_count": 45,
   "metadata": {
    "colab": {
     "base_uri": "https://localhost:8080/",
     "height": 204
    },
    "colab_type": "code",
    "id": "fGIGjURlMB12",
    "outputId": "44de4046-b46c-4dba-d4e5-cbf6e1f99251"
   },
   "outputs": [
    {
     "data": {
      "text/html": [
       "<div>\n",
       "<style scoped>\n",
       "    .dataframe tbody tr th:only-of-type {\n",
       "        vertical-align: middle;\n",
       "    }\n",
       "\n",
       "    .dataframe tbody tr th {\n",
       "        vertical-align: top;\n",
       "    }\n",
       "\n",
       "    .dataframe thead th {\n",
       "        text-align: right;\n",
       "    }\n",
       "</style>\n",
       "<table border=\"1\" class=\"dataframe\">\n",
       "  <thead>\n",
       "    <tr style=\"text-align: right;\">\n",
       "      <th></th>\n",
       "      <th>stocktwit_tweet</th>\n",
       "      <th>sentiment_score</th>\n",
       "      <th>ticker</th>\n",
       "      <th>month</th>\n",
       "      <th>day</th>\n",
       "      <th>Cleaned_data</th>\n",
       "    </tr>\n",
       "  </thead>\n",
       "  <tbody>\n",
       "    <tr>\n",
       "      <th>0</th>\n",
       "      <td>$AMD going up but hesitating however chart is ...</td>\n",
       "      <td>3</td>\n",
       "      <td>AMD</td>\n",
       "      <td>09</td>\n",
       "      <td>19</td>\n",
       "      <td>$AMD going up but hesitating however chart is ...</td>\n",
       "    </tr>\n",
       "    <tr>\n",
       "      <th>1</th>\n",
       "      <td>@inforlong @MariaGascon Despite\\nChina trade w...</td>\n",
       "      <td>3</td>\n",
       "      <td>CAT</td>\n",
       "      <td>10</td>\n",
       "      <td>09</td>\n",
       "      <td>@inforlong @MariaGascon Despite\\nChina trade w...</td>\n",
       "    </tr>\n",
       "    <tr>\n",
       "      <th>2</th>\n",
       "      <td>$AVGO WTF?</td>\n",
       "      <td>2</td>\n",
       "      <td>AVGO</td>\n",
       "      <td>07</td>\n",
       "      <td>12</td>\n",
       "      <td>$AVGO WTF?</td>\n",
       "    </tr>\n",
       "    <tr>\n",
       "      <th>3</th>\n",
       "      <td>$PH\\n New Insider Filing On: \\n MULLER KLAUS P...</td>\n",
       "      <td>2</td>\n",
       "      <td>PH</td>\n",
       "      <td>07</td>\n",
       "      <td>19</td>\n",
       "      <td>$PH\\n New Insider Filing On \\n MULLER KLAUS PE...</td>\n",
       "    </tr>\n",
       "    <tr>\n",
       "      <th>4</th>\n",
       "      <td>$FB if it bounces tommorrow do the right thing...</td>\n",
       "      <td>3</td>\n",
       "      <td>FB</td>\n",
       "      <td>08</td>\n",
       "      <td>23</td>\n",
       "      <td>$FB if it bounces tommorrow do the right thing...</td>\n",
       "    </tr>\n",
       "  </tbody>\n",
       "</table>\n",
       "</div>"
      ],
      "text/plain": [
       "                                     stocktwit_tweet  ...                                       Cleaned_data\n",
       "0  $AMD going up but hesitating however chart is ...  ...  $AMD going up but hesitating however chart is ...\n",
       "1  @inforlong @MariaGascon Despite\\nChina trade w...  ...  @inforlong @MariaGascon Despite\\nChina trade w...\n",
       "2                                         $AVGO WTF?  ...                                         $AVGO WTF?\n",
       "3  $PH\\n New Insider Filing On: \\n MULLER KLAUS P...  ...  $PH\\n New Insider Filing On \\n MULLER KLAUS PE...\n",
       "4  $FB if it bounces tommorrow do the right thing...  ...  $FB if it bounces tommorrow do the right thing...\n",
       "\n",
       "[5 rows x 6 columns]"
      ]
     },
     "execution_count": 45,
     "metadata": {
      "tags": []
     },
     "output_type": "execute_result"
    }
   ],
   "source": [
    "## ==>for Train_json\n",
    "train['Cleaned_data'] = train['Cleaned_data'].str.replace('http\\S*|www.\\S*','', case=False)\n",
    "train.head()"
   ]
  },
  {
   "cell_type": "code",
   "execution_count": 46,
   "metadata": {
    "colab": {
     "base_uri": "https://localhost:8080/",
     "height": 204
    },
    "colab_type": "code",
    "id": "FqI7FhInxYMk",
    "outputId": "26e42a38-e4dc-4244-855b-ba1827a72381"
   },
   "outputs": [
    {
     "data": {
      "text/html": [
       "<div>\n",
       "<style scoped>\n",
       "    .dataframe tbody tr th:only-of-type {\n",
       "        vertical-align: middle;\n",
       "    }\n",
       "\n",
       "    .dataframe tbody tr th {\n",
       "        vertical-align: top;\n",
       "    }\n",
       "\n",
       "    .dataframe thead th {\n",
       "        text-align: right;\n",
       "    }\n",
       "</style>\n",
       "<table border=\"1\" class=\"dataframe\">\n",
       "  <thead>\n",
       "    <tr style=\"text-align: right;\">\n",
       "      <th></th>\n",
       "      <th>stocktwit_tweet</th>\n",
       "      <th>ticker</th>\n",
       "      <th>month</th>\n",
       "      <th>day</th>\n",
       "      <th>Cleaned_data</th>\n",
       "    </tr>\n",
       "  </thead>\n",
       "  <tbody>\n",
       "    <tr>\n",
       "      <th>0</th>\n",
       "      <td>$CELG nothing to be exited about</td>\n",
       "      <td>CELG</td>\n",
       "      <td>10</td>\n",
       "      <td>25</td>\n",
       "      <td>$CELG nothing to be exited about</td>\n",
       "    </tr>\n",
       "    <tr>\n",
       "      <th>1</th>\n",
       "      <td>$AMD yall exhaust your buyer on first green ca...</td>\n",
       "      <td>AMD</td>\n",
       "      <td>07</td>\n",
       "      <td>13</td>\n",
       "      <td>$AMD yall exhaust your buyer on first green ca...</td>\n",
       "    </tr>\n",
       "    <tr>\n",
       "      <th>2</th>\n",
       "      <td>$AMD day traders day.</td>\n",
       "      <td>AMD</td>\n",
       "      <td>09</td>\n",
       "      <td>25</td>\n",
       "      <td>$AMD day traders day.</td>\n",
       "    </tr>\n",
       "    <tr>\n",
       "      <th>3</th>\n",
       "      <td>$CBS https://tenor.com/wLB8.gif</td>\n",
       "      <td>CBS</td>\n",
       "      <td>07</td>\n",
       "      <td>27</td>\n",
       "      <td>$CBS</td>\n",
       "    </tr>\n",
       "    <tr>\n",
       "      <th>4</th>\n",
       "      <td>$MU weak price action so far today. Don’t be a...</td>\n",
       "      <td>MU</td>\n",
       "      <td>07</td>\n",
       "      <td>31</td>\n",
       "      <td>$MU weak price action so far today. Don’t be a...</td>\n",
       "    </tr>\n",
       "  </tbody>\n",
       "</table>\n",
       "</div>"
      ],
      "text/plain": [
       "                                     stocktwit_tweet  ...                                       Cleaned_data\n",
       "0                   $CELG nothing to be exited about  ...                   $CELG nothing to be exited about\n",
       "1  $AMD yall exhaust your buyer on first green ca...  ...  $AMD yall exhaust your buyer on first green ca...\n",
       "2                              $AMD day traders day.  ...                              $AMD day traders day.\n",
       "3                    $CBS https://tenor.com/wLB8.gif  ...                                              $CBS \n",
       "4  $MU weak price action so far today. Don’t be a...  ...  $MU weak price action so far today. Don’t be a...\n",
       "\n",
       "[5 rows x 5 columns]"
      ]
     },
     "execution_count": 46,
     "metadata": {
      "tags": []
     },
     "output_type": "execute_result"
    }
   ],
   "source": [
    "## ==> for Test_json\n",
    "test_json['Cleaned_data'] = test_json['Cleaned_data'].str.replace('http\\S*|www.\\S*','', case=False)\n",
    "test_json.head()"
   ]
  },
  {
   "cell_type": "markdown",
   "metadata": {
    "colab_type": "text",
    "id": "J0vGIcYoMB1-"
   },
   "source": [
    "### Removing \"@\" from tweets"
   ]
  },
  {
   "cell_type": "code",
   "execution_count": 47,
   "metadata": {
    "colab": {
     "base_uri": "https://localhost:8080/",
     "height": 204
    },
    "colab_type": "code",
    "id": "H7jcxHiUMB2A",
    "outputId": "d5614d5a-2338-4e5f-9d0a-e6bab1b044f1"
   },
   "outputs": [
    {
     "data": {
      "text/html": [
       "<div>\n",
       "<style scoped>\n",
       "    .dataframe tbody tr th:only-of-type {\n",
       "        vertical-align: middle;\n",
       "    }\n",
       "\n",
       "    .dataframe tbody tr th {\n",
       "        vertical-align: top;\n",
       "    }\n",
       "\n",
       "    .dataframe thead th {\n",
       "        text-align: right;\n",
       "    }\n",
       "</style>\n",
       "<table border=\"1\" class=\"dataframe\">\n",
       "  <thead>\n",
       "    <tr style=\"text-align: right;\">\n",
       "      <th></th>\n",
       "      <th>stocktwit_tweet</th>\n",
       "      <th>sentiment_score</th>\n",
       "      <th>ticker</th>\n",
       "      <th>month</th>\n",
       "      <th>day</th>\n",
       "      <th>Cleaned_data</th>\n",
       "    </tr>\n",
       "  </thead>\n",
       "  <tbody>\n",
       "    <tr>\n",
       "      <th>0</th>\n",
       "      <td>$AMD going up but hesitating however chart is ...</td>\n",
       "      <td>3</td>\n",
       "      <td>AMD</td>\n",
       "      <td>09</td>\n",
       "      <td>19</td>\n",
       "      <td>$AMD going up but hesitating however chart is ...</td>\n",
       "    </tr>\n",
       "    <tr>\n",
       "      <th>1</th>\n",
       "      <td>@inforlong @MariaGascon Despite\\nChina trade w...</td>\n",
       "      <td>3</td>\n",
       "      <td>CAT</td>\n",
       "      <td>10</td>\n",
       "      <td>09</td>\n",
       "      <td>Despite\\nChina trade war $CAT held very well...</td>\n",
       "    </tr>\n",
       "    <tr>\n",
       "      <th>2</th>\n",
       "      <td>$AVGO WTF?</td>\n",
       "      <td>2</td>\n",
       "      <td>AVGO</td>\n",
       "      <td>07</td>\n",
       "      <td>12</td>\n",
       "      <td>$AVGO WTF?</td>\n",
       "    </tr>\n",
       "    <tr>\n",
       "      <th>3</th>\n",
       "      <td>$PH\\n New Insider Filing On: \\n MULLER KLAUS P...</td>\n",
       "      <td>2</td>\n",
       "      <td>PH</td>\n",
       "      <td>07</td>\n",
       "      <td>19</td>\n",
       "      <td>$PH\\n New Insider Filing On \\n MULLER KLAUS PE...</td>\n",
       "    </tr>\n",
       "    <tr>\n",
       "      <th>4</th>\n",
       "      <td>$FB if it bounces tommorrow do the right thing...</td>\n",
       "      <td>3</td>\n",
       "      <td>FB</td>\n",
       "      <td>08</td>\n",
       "      <td>23</td>\n",
       "      <td>$FB if it bounces tommorrow do the right thing...</td>\n",
       "    </tr>\n",
       "  </tbody>\n",
       "</table>\n",
       "</div>"
      ],
      "text/plain": [
       "                                     stocktwit_tweet  ...                                       Cleaned_data\n",
       "0  $AMD going up but hesitating however chart is ...  ...  $AMD going up but hesitating however chart is ...\n",
       "1  @inforlong @MariaGascon Despite\\nChina trade w...  ...    Despite\\nChina trade war $CAT held very well...\n",
       "2                                         $AVGO WTF?  ...                                         $AVGO WTF?\n",
       "3  $PH\\n New Insider Filing On: \\n MULLER KLAUS P...  ...  $PH\\n New Insider Filing On \\n MULLER KLAUS PE...\n",
       "4  $FB if it bounces tommorrow do the right thing...  ...  $FB if it bounces tommorrow do the right thing...\n",
       "\n",
       "[5 rows x 6 columns]"
      ]
     },
     "execution_count": 47,
     "metadata": {
      "tags": []
     },
     "output_type": "execute_result"
    }
   ],
   "source": [
    "## ==> for Train_json\n",
    "train['Cleaned_data'] = train['Cleaned_data'].str.replace(\"@[\\w]*\",\"\")\n",
    "\n",
    "train.head()"
   ]
  },
  {
   "cell_type": "code",
   "execution_count": 48,
   "metadata": {
    "colab": {
     "base_uri": "https://localhost:8080/",
     "height": 204
    },
    "colab_type": "code",
    "id": "f-bJ60a8x_Ph",
    "outputId": "e12a4332-d20a-4a31-c5e8-e832cb1fef52"
   },
   "outputs": [
    {
     "data": {
      "text/html": [
       "<div>\n",
       "<style scoped>\n",
       "    .dataframe tbody tr th:only-of-type {\n",
       "        vertical-align: middle;\n",
       "    }\n",
       "\n",
       "    .dataframe tbody tr th {\n",
       "        vertical-align: top;\n",
       "    }\n",
       "\n",
       "    .dataframe thead th {\n",
       "        text-align: right;\n",
       "    }\n",
       "</style>\n",
       "<table border=\"1\" class=\"dataframe\">\n",
       "  <thead>\n",
       "    <tr style=\"text-align: right;\">\n",
       "      <th></th>\n",
       "      <th>stocktwit_tweet</th>\n",
       "      <th>ticker</th>\n",
       "      <th>month</th>\n",
       "      <th>day</th>\n",
       "      <th>Cleaned_data</th>\n",
       "    </tr>\n",
       "  </thead>\n",
       "  <tbody>\n",
       "    <tr>\n",
       "      <th>0</th>\n",
       "      <td>$CELG nothing to be exited about</td>\n",
       "      <td>CELG</td>\n",
       "      <td>10</td>\n",
       "      <td>25</td>\n",
       "      <td>$CELG nothing to be exited about</td>\n",
       "    </tr>\n",
       "    <tr>\n",
       "      <th>1</th>\n",
       "      <td>$AMD yall exhaust your buyer on first green ca...</td>\n",
       "      <td>AMD</td>\n",
       "      <td>07</td>\n",
       "      <td>13</td>\n",
       "      <td>$AMD yall exhaust your buyer on first green ca...</td>\n",
       "    </tr>\n",
       "    <tr>\n",
       "      <th>2</th>\n",
       "      <td>$AMD day traders day.</td>\n",
       "      <td>AMD</td>\n",
       "      <td>09</td>\n",
       "      <td>25</td>\n",
       "      <td>$AMD day traders day.</td>\n",
       "    </tr>\n",
       "    <tr>\n",
       "      <th>3</th>\n",
       "      <td>$CBS https://tenor.com/wLB8.gif</td>\n",
       "      <td>CBS</td>\n",
       "      <td>07</td>\n",
       "      <td>27</td>\n",
       "      <td>$CBS</td>\n",
       "    </tr>\n",
       "    <tr>\n",
       "      <th>4</th>\n",
       "      <td>$MU weak price action so far today. Don’t be a...</td>\n",
       "      <td>MU</td>\n",
       "      <td>07</td>\n",
       "      <td>31</td>\n",
       "      <td>$MU weak price action so far today. Don’t be a...</td>\n",
       "    </tr>\n",
       "  </tbody>\n",
       "</table>\n",
       "</div>"
      ],
      "text/plain": [
       "                                     stocktwit_tweet  ...                                       Cleaned_data\n",
       "0                   $CELG nothing to be exited about  ...                   $CELG nothing to be exited about\n",
       "1  $AMD yall exhaust your buyer on first green ca...  ...  $AMD yall exhaust your buyer on first green ca...\n",
       "2                              $AMD day traders day.  ...                              $AMD day traders day.\n",
       "3                    $CBS https://tenor.com/wLB8.gif  ...                                              $CBS \n",
       "4  $MU weak price action so far today. Don’t be a...  ...  $MU weak price action so far today. Don’t be a...\n",
       "\n",
       "[5 rows x 5 columns]"
      ]
     },
     "execution_count": 48,
     "metadata": {
      "tags": []
     },
     "output_type": "execute_result"
    }
   ],
   "source": [
    "## for Test_json\n",
    "test_json['Cleaned_data'] = test_json['Cleaned_data'].str.replace(\"@[\\w]*\",\"\")\n",
    "\n",
    "test_json.head()"
   ]
  },
  {
   "cell_type": "markdown",
   "metadata": {
    "colab_type": "text",
    "id": "vEArH-69MB2I"
   },
   "source": [
    "### Removing Accented Chars from Tweet"
   ]
  },
  {
   "cell_type": "code",
   "execution_count": 0,
   "metadata": {
    "colab": {},
    "colab_type": "code",
    "id": "hcCvrXt0MB2J"
   },
   "outputs": [],
   "source": [
    "def remove_accented_chars(text):\n",
    "    text = unicodedata.normalize('NFKD', text).encode('ascii', 'ignore').decode('utf-8', 'ignore')\n",
    "    return text"
   ]
  },
  {
   "cell_type": "code",
   "execution_count": 50,
   "metadata": {
    "colab": {
     "base_uri": "https://localhost:8080/",
     "height": 204
    },
    "colab_type": "code",
    "id": "D-PKHn3wMB2W",
    "outputId": "f2ddb385-b65d-4d4f-fb43-9f6eba3d9c5e"
   },
   "outputs": [
    {
     "data": {
      "text/html": [
       "<div>\n",
       "<style scoped>\n",
       "    .dataframe tbody tr th:only-of-type {\n",
       "        vertical-align: middle;\n",
       "    }\n",
       "\n",
       "    .dataframe tbody tr th {\n",
       "        vertical-align: top;\n",
       "    }\n",
       "\n",
       "    .dataframe thead th {\n",
       "        text-align: right;\n",
       "    }\n",
       "</style>\n",
       "<table border=\"1\" class=\"dataframe\">\n",
       "  <thead>\n",
       "    <tr style=\"text-align: right;\">\n",
       "      <th></th>\n",
       "      <th>stocktwit_tweet</th>\n",
       "      <th>sentiment_score</th>\n",
       "      <th>ticker</th>\n",
       "      <th>month</th>\n",
       "      <th>day</th>\n",
       "      <th>Cleaned_data</th>\n",
       "    </tr>\n",
       "  </thead>\n",
       "  <tbody>\n",
       "    <tr>\n",
       "      <th>0</th>\n",
       "      <td>$AMD going up but hesitating however chart is ...</td>\n",
       "      <td>3</td>\n",
       "      <td>AMD</td>\n",
       "      <td>09</td>\n",
       "      <td>19</td>\n",
       "      <td>$AMD going up but hesitating however chart is ...</td>\n",
       "    </tr>\n",
       "    <tr>\n",
       "      <th>1</th>\n",
       "      <td>@inforlong @MariaGascon Despite\\nChina trade w...</td>\n",
       "      <td>3</td>\n",
       "      <td>CAT</td>\n",
       "      <td>10</td>\n",
       "      <td>09</td>\n",
       "      <td>Despite\\nChina trade war $CAT held very well...</td>\n",
       "    </tr>\n",
       "    <tr>\n",
       "      <th>2</th>\n",
       "      <td>$AVGO WTF?</td>\n",
       "      <td>2</td>\n",
       "      <td>AVGO</td>\n",
       "      <td>07</td>\n",
       "      <td>12</td>\n",
       "      <td>$AVGO WTF?</td>\n",
       "    </tr>\n",
       "    <tr>\n",
       "      <th>3</th>\n",
       "      <td>$PH\\n New Insider Filing On: \\n MULLER KLAUS P...</td>\n",
       "      <td>2</td>\n",
       "      <td>PH</td>\n",
       "      <td>07</td>\n",
       "      <td>19</td>\n",
       "      <td>$PH\\n New Insider Filing On \\n MULLER KLAUS PE...</td>\n",
       "    </tr>\n",
       "    <tr>\n",
       "      <th>4</th>\n",
       "      <td>$FB if it bounces tommorrow do the right thing...</td>\n",
       "      <td>3</td>\n",
       "      <td>FB</td>\n",
       "      <td>08</td>\n",
       "      <td>23</td>\n",
       "      <td>$FB if it bounces tommorrow do the right thing...</td>\n",
       "    </tr>\n",
       "  </tbody>\n",
       "</table>\n",
       "</div>"
      ],
      "text/plain": [
       "                                     stocktwit_tweet  ...                                       Cleaned_data\n",
       "0  $AMD going up but hesitating however chart is ...  ...  $AMD going up but hesitating however chart is ...\n",
       "1  @inforlong @MariaGascon Despite\\nChina trade w...  ...    Despite\\nChina trade war $CAT held very well...\n",
       "2                                         $AVGO WTF?  ...                                         $AVGO WTF?\n",
       "3  $PH\\n New Insider Filing On: \\n MULLER KLAUS P...  ...  $PH\\n New Insider Filing On \\n MULLER KLAUS PE...\n",
       "4  $FB if it bounces tommorrow do the right thing...  ...  $FB if it bounces tommorrow do the right thing...\n",
       "\n",
       "[5 rows x 6 columns]"
      ]
     },
     "execution_count": 50,
     "metadata": {
      "tags": []
     },
     "output_type": "execute_result"
    }
   ],
   "source": [
    "## ==> for Train_json\n",
    "train['Cleaned_data'] = train['Cleaned_data'].apply(remove_accented_chars)\n",
    "train.head()"
   ]
  },
  {
   "cell_type": "code",
   "execution_count": 51,
   "metadata": {
    "colab": {
     "base_uri": "https://localhost:8080/",
     "height": 204
    },
    "colab_type": "code",
    "id": "mcwsmy-tyW-j",
    "outputId": "44abd65a-3830-4c8b-8440-a66e9aea0d21"
   },
   "outputs": [
    {
     "data": {
      "text/html": [
       "<div>\n",
       "<style scoped>\n",
       "    .dataframe tbody tr th:only-of-type {\n",
       "        vertical-align: middle;\n",
       "    }\n",
       "\n",
       "    .dataframe tbody tr th {\n",
       "        vertical-align: top;\n",
       "    }\n",
       "\n",
       "    .dataframe thead th {\n",
       "        text-align: right;\n",
       "    }\n",
       "</style>\n",
       "<table border=\"1\" class=\"dataframe\">\n",
       "  <thead>\n",
       "    <tr style=\"text-align: right;\">\n",
       "      <th></th>\n",
       "      <th>stocktwit_tweet</th>\n",
       "      <th>ticker</th>\n",
       "      <th>month</th>\n",
       "      <th>day</th>\n",
       "      <th>Cleaned_data</th>\n",
       "    </tr>\n",
       "  </thead>\n",
       "  <tbody>\n",
       "    <tr>\n",
       "      <th>0</th>\n",
       "      <td>$CELG nothing to be exited about</td>\n",
       "      <td>CELG</td>\n",
       "      <td>10</td>\n",
       "      <td>25</td>\n",
       "      <td>$CELG nothing to be exited about</td>\n",
       "    </tr>\n",
       "    <tr>\n",
       "      <th>1</th>\n",
       "      <td>$AMD yall exhaust your buyer on first green ca...</td>\n",
       "      <td>AMD</td>\n",
       "      <td>07</td>\n",
       "      <td>13</td>\n",
       "      <td>$AMD yall exhaust your buyer on first green ca...</td>\n",
       "    </tr>\n",
       "    <tr>\n",
       "      <th>2</th>\n",
       "      <td>$AMD day traders day.</td>\n",
       "      <td>AMD</td>\n",
       "      <td>09</td>\n",
       "      <td>25</td>\n",
       "      <td>$AMD day traders day.</td>\n",
       "    </tr>\n",
       "    <tr>\n",
       "      <th>3</th>\n",
       "      <td>$CBS https://tenor.com/wLB8.gif</td>\n",
       "      <td>CBS</td>\n",
       "      <td>07</td>\n",
       "      <td>27</td>\n",
       "      <td>$CBS</td>\n",
       "    </tr>\n",
       "    <tr>\n",
       "      <th>4</th>\n",
       "      <td>$MU weak price action so far today. Don’t be a...</td>\n",
       "      <td>MU</td>\n",
       "      <td>07</td>\n",
       "      <td>31</td>\n",
       "      <td>$MU weak price action so far today. Dont be af...</td>\n",
       "    </tr>\n",
       "  </tbody>\n",
       "</table>\n",
       "</div>"
      ],
      "text/plain": [
       "                                     stocktwit_tweet  ...                                       Cleaned_data\n",
       "0                   $CELG nothing to be exited about  ...                   $CELG nothing to be exited about\n",
       "1  $AMD yall exhaust your buyer on first green ca...  ...  $AMD yall exhaust your buyer on first green ca...\n",
       "2                              $AMD day traders day.  ...                              $AMD day traders day.\n",
       "3                    $CBS https://tenor.com/wLB8.gif  ...                                              $CBS \n",
       "4  $MU weak price action so far today. Don’t be a...  ...  $MU weak price action so far today. Dont be af...\n",
       "\n",
       "[5 rows x 5 columns]"
      ]
     },
     "execution_count": 51,
     "metadata": {
      "tags": []
     },
     "output_type": "execute_result"
    }
   ],
   "source": [
    "## ==> for Test_json\n",
    "test_json['Cleaned_data'] = test_json['Cleaned_data'].apply(remove_accented_chars)\n",
    "test_json.head()"
   ]
  },
  {
   "cell_type": "markdown",
   "metadata": {
    "colab_type": "text",
    "id": "CnLFaZ02MB2c"
   },
   "source": [
    "### converting the text to lower case"
   ]
  },
  {
   "cell_type": "code",
   "execution_count": 52,
   "metadata": {
    "colab": {
     "base_uri": "https://localhost:8080/",
     "height": 204
    },
    "colab_type": "code",
    "id": "fUmpCfgQMB2d",
    "outputId": "56d9e827-1cc4-48e3-a43b-912aba1eb08a"
   },
   "outputs": [
    {
     "data": {
      "text/html": [
       "<div>\n",
       "<style scoped>\n",
       "    .dataframe tbody tr th:only-of-type {\n",
       "        vertical-align: middle;\n",
       "    }\n",
       "\n",
       "    .dataframe tbody tr th {\n",
       "        vertical-align: top;\n",
       "    }\n",
       "\n",
       "    .dataframe thead th {\n",
       "        text-align: right;\n",
       "    }\n",
       "</style>\n",
       "<table border=\"1\" class=\"dataframe\">\n",
       "  <thead>\n",
       "    <tr style=\"text-align: right;\">\n",
       "      <th></th>\n",
       "      <th>stocktwit_tweet</th>\n",
       "      <th>sentiment_score</th>\n",
       "      <th>ticker</th>\n",
       "      <th>month</th>\n",
       "      <th>day</th>\n",
       "      <th>Cleaned_data</th>\n",
       "    </tr>\n",
       "  </thead>\n",
       "  <tbody>\n",
       "    <tr>\n",
       "      <th>0</th>\n",
       "      <td>$AMD going up but hesitating however chart is ...</td>\n",
       "      <td>3</td>\n",
       "      <td>AMD</td>\n",
       "      <td>09</td>\n",
       "      <td>19</td>\n",
       "      <td>$amd going up but hesitating however chart is ...</td>\n",
       "    </tr>\n",
       "    <tr>\n",
       "      <th>1</th>\n",
       "      <td>@inforlong @MariaGascon Despite\\nChina trade w...</td>\n",
       "      <td>3</td>\n",
       "      <td>CAT</td>\n",
       "      <td>10</td>\n",
       "      <td>09</td>\n",
       "      <td>despite\\nchina trade war $cat held very well...</td>\n",
       "    </tr>\n",
       "    <tr>\n",
       "      <th>2</th>\n",
       "      <td>$AVGO WTF?</td>\n",
       "      <td>2</td>\n",
       "      <td>AVGO</td>\n",
       "      <td>07</td>\n",
       "      <td>12</td>\n",
       "      <td>$avgo wtf?</td>\n",
       "    </tr>\n",
       "    <tr>\n",
       "      <th>3</th>\n",
       "      <td>$PH\\n New Insider Filing On: \\n MULLER KLAUS P...</td>\n",
       "      <td>2</td>\n",
       "      <td>PH</td>\n",
       "      <td>07</td>\n",
       "      <td>19</td>\n",
       "      <td>$ph\\n new insider filing on \\n muller klaus pe...</td>\n",
       "    </tr>\n",
       "    <tr>\n",
       "      <th>4</th>\n",
       "      <td>$FB if it bounces tommorrow do the right thing...</td>\n",
       "      <td>3</td>\n",
       "      <td>FB</td>\n",
       "      <td>08</td>\n",
       "      <td>23</td>\n",
       "      <td>$fb if it bounces tommorrow do the right thing...</td>\n",
       "    </tr>\n",
       "  </tbody>\n",
       "</table>\n",
       "</div>"
      ],
      "text/plain": [
       "                                     stocktwit_tweet  ...                                       Cleaned_data\n",
       "0  $AMD going up but hesitating however chart is ...  ...  $amd going up but hesitating however chart is ...\n",
       "1  @inforlong @MariaGascon Despite\\nChina trade w...  ...    despite\\nchina trade war $cat held very well...\n",
       "2                                         $AVGO WTF?  ...                                         $avgo wtf?\n",
       "3  $PH\\n New Insider Filing On: \\n MULLER KLAUS P...  ...  $ph\\n new insider filing on \\n muller klaus pe...\n",
       "4  $FB if it bounces tommorrow do the right thing...  ...  $fb if it bounces tommorrow do the right thing...\n",
       "\n",
       "[5 rows x 6 columns]"
      ]
     },
     "execution_count": 52,
     "metadata": {
      "tags": []
     },
     "output_type": "execute_result"
    }
   ],
   "source": [
    "## ==>for Train_json\n",
    "train['Cleaned_data']=train['Cleaned_data'].str.lower()\n",
    "train.head()"
   ]
  },
  {
   "cell_type": "code",
   "execution_count": 53,
   "metadata": {
    "colab": {
     "base_uri": "https://localhost:8080/",
     "height": 204
    },
    "colab_type": "code",
    "id": "JapUkNURGSHD",
    "outputId": "1dbd59ce-0dcb-494e-dcd5-4f360019357f"
   },
   "outputs": [
    {
     "data": {
      "text/html": [
       "<div>\n",
       "<style scoped>\n",
       "    .dataframe tbody tr th:only-of-type {\n",
       "        vertical-align: middle;\n",
       "    }\n",
       "\n",
       "    .dataframe tbody tr th {\n",
       "        vertical-align: top;\n",
       "    }\n",
       "\n",
       "    .dataframe thead th {\n",
       "        text-align: right;\n",
       "    }\n",
       "</style>\n",
       "<table border=\"1\" class=\"dataframe\">\n",
       "  <thead>\n",
       "    <tr style=\"text-align: right;\">\n",
       "      <th></th>\n",
       "      <th>stocktwit_tweet</th>\n",
       "      <th>ticker</th>\n",
       "      <th>month</th>\n",
       "      <th>day</th>\n",
       "      <th>Cleaned_data</th>\n",
       "    </tr>\n",
       "  </thead>\n",
       "  <tbody>\n",
       "    <tr>\n",
       "      <th>0</th>\n",
       "      <td>$CELG nothing to be exited about</td>\n",
       "      <td>CELG</td>\n",
       "      <td>10</td>\n",
       "      <td>25</td>\n",
       "      <td>$celg nothing to be exited about</td>\n",
       "    </tr>\n",
       "    <tr>\n",
       "      <th>1</th>\n",
       "      <td>$AMD yall exhaust your buyer on first green ca...</td>\n",
       "      <td>AMD</td>\n",
       "      <td>07</td>\n",
       "      <td>13</td>\n",
       "      <td>$amd yall exhaust your buyer on first green ca...</td>\n",
       "    </tr>\n",
       "    <tr>\n",
       "      <th>2</th>\n",
       "      <td>$AMD day traders day.</td>\n",
       "      <td>AMD</td>\n",
       "      <td>09</td>\n",
       "      <td>25</td>\n",
       "      <td>$amd day traders day.</td>\n",
       "    </tr>\n",
       "    <tr>\n",
       "      <th>3</th>\n",
       "      <td>$CBS https://tenor.com/wLB8.gif</td>\n",
       "      <td>CBS</td>\n",
       "      <td>07</td>\n",
       "      <td>27</td>\n",
       "      <td>$cbs</td>\n",
       "    </tr>\n",
       "    <tr>\n",
       "      <th>4</th>\n",
       "      <td>$MU weak price action so far today. Don’t be a...</td>\n",
       "      <td>MU</td>\n",
       "      <td>07</td>\n",
       "      <td>31</td>\n",
       "      <td>$mu weak price action so far today. dont be af...</td>\n",
       "    </tr>\n",
       "  </tbody>\n",
       "</table>\n",
       "</div>"
      ],
      "text/plain": [
       "                                     stocktwit_tweet  ...                                       Cleaned_data\n",
       "0                   $CELG nothing to be exited about  ...                   $celg nothing to be exited about\n",
       "1  $AMD yall exhaust your buyer on first green ca...  ...  $amd yall exhaust your buyer on first green ca...\n",
       "2                              $AMD day traders day.  ...                              $amd day traders day.\n",
       "3                    $CBS https://tenor.com/wLB8.gif  ...                                              $cbs \n",
       "4  $MU weak price action so far today. Don’t be a...  ...  $mu weak price action so far today. dont be af...\n",
       "\n",
       "[5 rows x 5 columns]"
      ]
     },
     "execution_count": 53,
     "metadata": {
      "tags": []
     },
     "output_type": "execute_result"
    }
   ],
   "source": [
    "## ==> for Test_json\n",
    "test_json['Cleaned_data']=test_json['Cleaned_data'].str.lower()\n",
    "test_json.head()"
   ]
  },
  {
   "cell_type": "markdown",
   "metadata": {
    "colab_type": "text",
    "id": "ZkngZWtCMB2j"
   },
   "source": [
    "### Removing the empty space in tweets"
   ]
  },
  {
   "cell_type": "code",
   "execution_count": 0,
   "metadata": {
    "colab": {},
    "colab_type": "code",
    "id": "Vp2TaKyMMB2l"
   },
   "outputs": [],
   "source": [
    "## ==> for Train_json\n",
    "emptytweets1 = train[['stocktwit_tweet','ticker']].apply(lambda row: (len(row['stocktwit_tweet'])-len(row['ticker']) ==0), axis=1)\n",
    "\n",
    "emptytweets = train[emptytweets1]"
   ]
  },
  {
   "cell_type": "code",
   "execution_count": 55,
   "metadata": {
    "colab": {
     "base_uri": "https://localhost:8080/",
     "height": 49
    },
    "colab_type": "code",
    "id": "4cTllFUJMB2r",
    "outputId": "6b314120-cdbe-4e8c-abc0-d13288c9af82"
   },
   "outputs": [
    {
     "data": {
      "text/html": [
       "<div>\n",
       "<style scoped>\n",
       "    .dataframe tbody tr th:only-of-type {\n",
       "        vertical-align: middle;\n",
       "    }\n",
       "\n",
       "    .dataframe tbody tr th {\n",
       "        vertical-align: top;\n",
       "    }\n",
       "\n",
       "    .dataframe thead th {\n",
       "        text-align: right;\n",
       "    }\n",
       "</style>\n",
       "<table border=\"1\" class=\"dataframe\">\n",
       "  <thead>\n",
       "    <tr style=\"text-align: right;\">\n",
       "      <th></th>\n",
       "      <th>stocktwit_tweet</th>\n",
       "      <th>sentiment_score</th>\n",
       "      <th>ticker</th>\n",
       "      <th>month</th>\n",
       "      <th>day</th>\n",
       "      <th>Cleaned_data</th>\n",
       "    </tr>\n",
       "  </thead>\n",
       "  <tbody>\n",
       "  </tbody>\n",
       "</table>\n",
       "</div>"
      ],
      "text/plain": [
       "Empty DataFrame\n",
       "Columns: [stocktwit_tweet, sentiment_score, ticker, month, day, Cleaned_data]\n",
       "Index: []"
      ]
     },
     "execution_count": 55,
     "metadata": {
      "tags": []
     },
     "output_type": "execute_result"
    }
   ],
   "source": [
    "emptytweets.head()"
   ]
  },
  {
   "cell_type": "code",
   "execution_count": 0,
   "metadata": {
    "colab": {},
    "colab_type": "code",
    "id": "1EJGggQCMB2x"
   },
   "outputs": [],
   "source": [
    "train = train[-emptytweets1]"
   ]
  },
  {
   "cell_type": "code",
   "execution_count": 57,
   "metadata": {
    "colab": {
     "base_uri": "https://localhost:8080/",
     "height": 272
    },
    "colab_type": "code",
    "id": "jmp3ZARnMB21",
    "outputId": "647cbb72-6cf2-4ab5-8e16-16042c7112f3"
   },
   "outputs": [
    {
     "data": {
      "text/plain": [
       "1       despite\\nchina trade war $cat held very well...\n",
       "2                                            $avgo wtf?\n",
       "3     $ph\\n new insider filing on \\n muller klaus pe...\n",
       "4     $fb if it bounces tommorrow do the right thing...\n",
       "5                   $fb as usual......red  \\nevery day.\n",
       "6     $aet unitedhealth group goes ex-dividend today...\n",
       "7                $noc let&#39;s see when we can hit 310\n",
       "8       i bet youre also the one saying $amzn should...\n",
       "9                                $amd pastor the stooge\n",
       "10    $nflx called it friday hahahaha suckers sold f...\n",
       "11    $gww exp7/20/2018|maxpain292.5|highputoi250.0(...\n",
       "12    $nflx day in, day out this puppy is making peo...\n",
       "13                                                $aapl\n",
       "14                                                $antm\n",
       "Name: Cleaned_data, dtype: object"
      ]
     },
     "execution_count": 57,
     "metadata": {
      "tags": []
     },
     "output_type": "execute_result"
    }
   ],
   "source": [
    "train['Cleaned_data'][1:15]"
   ]
  },
  {
   "cell_type": "code",
   "execution_count": 0,
   "metadata": {
    "colab": {},
    "colab_type": "code",
    "id": "ZYzGwuTGGvAY"
   },
   "outputs": [],
   "source": [
    "## ==> for Test_json\n",
    "emptytweets2 = test_json[['stocktwit_tweet','ticker']].apply(lambda row: (len(row['stocktwit_tweet'])-len(row['ticker']) ==0), axis=1)\n",
    "\n",
    "test_emptytweets = test_json[emptytweets2]"
   ]
  },
  {
   "cell_type": "code",
   "execution_count": 59,
   "metadata": {
    "colab": {
     "base_uri": "https://localhost:8080/",
     "height": 49
    },
    "colab_type": "code",
    "id": "Hi4Orc4EGvYW",
    "outputId": "0fadb33b-3d44-4525-a245-ad9f0110bae1"
   },
   "outputs": [
    {
     "data": {
      "text/html": [
       "<div>\n",
       "<style scoped>\n",
       "    .dataframe tbody tr th:only-of-type {\n",
       "        vertical-align: middle;\n",
       "    }\n",
       "\n",
       "    .dataframe tbody tr th {\n",
       "        vertical-align: top;\n",
       "    }\n",
       "\n",
       "    .dataframe thead th {\n",
       "        text-align: right;\n",
       "    }\n",
       "</style>\n",
       "<table border=\"1\" class=\"dataframe\">\n",
       "  <thead>\n",
       "    <tr style=\"text-align: right;\">\n",
       "      <th></th>\n",
       "      <th>stocktwit_tweet</th>\n",
       "      <th>ticker</th>\n",
       "      <th>month</th>\n",
       "      <th>day</th>\n",
       "      <th>Cleaned_data</th>\n",
       "    </tr>\n",
       "  </thead>\n",
       "  <tbody>\n",
       "  </tbody>\n",
       "</table>\n",
       "</div>"
      ],
      "text/plain": [
       "Empty DataFrame\n",
       "Columns: [stocktwit_tweet, ticker, month, day, Cleaned_data]\n",
       "Index: []"
      ]
     },
     "execution_count": 59,
     "metadata": {
      "tags": []
     },
     "output_type": "execute_result"
    }
   ],
   "source": [
    "test_emptytweets.head()"
   ]
  },
  {
   "cell_type": "code",
   "execution_count": 0,
   "metadata": {
    "colab": {},
    "colab_type": "code",
    "id": "AcBiGL7qGwA6"
   },
   "outputs": [],
   "source": [
    "test_json = test_json[-emptytweets2]"
   ]
  },
  {
   "cell_type": "code",
   "execution_count": 61,
   "metadata": {
    "colab": {
     "base_uri": "https://localhost:8080/",
     "height": 272
    },
    "colab_type": "code",
    "id": "d75IBOL8Gwio",
    "outputId": "f0e615ff-2035-4249-ee73-448d1101e220"
   },
   "outputs": [
    {
     "data": {
      "text/plain": [
       "1     $amd yall exhaust your buyer on first green ca...\n",
       "2                                 $amd day traders day.\n",
       "3                                                 $cbs \n",
       "4     $mu weak price action so far today. dont be af...\n",
       "5     $amzn continues to grow, specifically in key a...\n",
       "6     $clf if you are not loading up right now, you ...\n",
       "7     $mu crap shoot. legit no one knows if its goin...\n",
       "8     $amd how does this chart look like a setup for...\n",
       "9           $amd amd is like my sex life. its so dry rn\n",
       "10    $amd finally amd got its anti-gravity technolo...\n",
       "11    $syf seems like a lot of todo to halt with 30 ...\n",
       "12    $fb you know mark has been dumping more shares...\n",
       "13    $nke remember this trumppalo boycott? aapl was...\n",
       "14    $alxn positioning changed significantly over t...\n",
       "Name: Cleaned_data, dtype: object"
      ]
     },
     "execution_count": 61,
     "metadata": {
      "tags": []
     },
     "output_type": "execute_result"
    }
   ],
   "source": [
    "test_json['Cleaned_data'][1:15]"
   ]
  },
  {
   "cell_type": "markdown",
   "metadata": {
    "colab_type": "text",
    "id": "0zHbFmlQMB28"
   },
   "source": [
    "### Removing \"dollarsign\" from Tweet"
   ]
  },
  {
   "cell_type": "code",
   "execution_count": 62,
   "metadata": {
    "colab": {
     "base_uri": "https://localhost:8080/",
     "height": 204
    },
    "colab_type": "code",
    "id": "NeUnsT5FMB2-",
    "outputId": "00d59325-0a46-483f-918a-3baf704764ba"
   },
   "outputs": [
    {
     "data": {
      "text/html": [
       "<div>\n",
       "<style scoped>\n",
       "    .dataframe tbody tr th:only-of-type {\n",
       "        vertical-align: middle;\n",
       "    }\n",
       "\n",
       "    .dataframe tbody tr th {\n",
       "        vertical-align: top;\n",
       "    }\n",
       "\n",
       "    .dataframe thead th {\n",
       "        text-align: right;\n",
       "    }\n",
       "</style>\n",
       "<table border=\"1\" class=\"dataframe\">\n",
       "  <thead>\n",
       "    <tr style=\"text-align: right;\">\n",
       "      <th></th>\n",
       "      <th>stocktwit_tweet</th>\n",
       "      <th>sentiment_score</th>\n",
       "      <th>ticker</th>\n",
       "      <th>month</th>\n",
       "      <th>day</th>\n",
       "      <th>Cleaned_data</th>\n",
       "    </tr>\n",
       "  </thead>\n",
       "  <tbody>\n",
       "    <tr>\n",
       "      <th>0</th>\n",
       "      <td>$AMD going up but hesitating however chart is ...</td>\n",
       "      <td>3</td>\n",
       "      <td>AMD</td>\n",
       "      <td>09</td>\n",
       "      <td>19</td>\n",
       "      <td>going up but hesitating however chart is very...</td>\n",
       "    </tr>\n",
       "    <tr>\n",
       "      <th>1</th>\n",
       "      <td>@inforlong @MariaGascon Despite\\nChina trade w...</td>\n",
       "      <td>3</td>\n",
       "      <td>CAT</td>\n",
       "      <td>10</td>\n",
       "      <td>09</td>\n",
       "      <td>despite\\nchina trade war  held very well thu...</td>\n",
       "    </tr>\n",
       "    <tr>\n",
       "      <th>2</th>\n",
       "      <td>$AVGO WTF?</td>\n",
       "      <td>2</td>\n",
       "      <td>AVGO</td>\n",
       "      <td>07</td>\n",
       "      <td>12</td>\n",
       "      <td>wtf?</td>\n",
       "    </tr>\n",
       "    <tr>\n",
       "      <th>3</th>\n",
       "      <td>$PH\\n New Insider Filing On: \\n MULLER KLAUS P...</td>\n",
       "      <td>2</td>\n",
       "      <td>PH</td>\n",
       "      <td>07</td>\n",
       "      <td>19</td>\n",
       "      <td>\\n new insider filing on \\n muller klaus peter...</td>\n",
       "    </tr>\n",
       "    <tr>\n",
       "      <th>4</th>\n",
       "      <td>$FB if it bounces tommorrow do the right thing...</td>\n",
       "      <td>3</td>\n",
       "      <td>FB</td>\n",
       "      <td>08</td>\n",
       "      <td>23</td>\n",
       "      <td>if it bounces tommorrow do the right thing an...</td>\n",
       "    </tr>\n",
       "  </tbody>\n",
       "</table>\n",
       "</div>"
      ],
      "text/plain": [
       "                                     stocktwit_tweet  ...                                       Cleaned_data\n",
       "0  $AMD going up but hesitating however chart is ...  ...   going up but hesitating however chart is very...\n",
       "1  @inforlong @MariaGascon Despite\\nChina trade w...  ...    despite\\nchina trade war  held very well thu...\n",
       "2                                         $AVGO WTF?  ...                                               wtf?\n",
       "3  $PH\\n New Insider Filing On: \\n MULLER KLAUS P...  ...  \\n new insider filing on \\n muller klaus peter...\n",
       "4  $FB if it bounces tommorrow do the right thing...  ...   if it bounces tommorrow do the right thing an...\n",
       "\n",
       "[5 rows x 6 columns]"
      ]
     },
     "execution_count": 62,
     "metadata": {
      "tags": []
     },
     "output_type": "execute_result"
    }
   ],
   "source": [
    "## ==> for Train_json\n",
    "train['Cleaned_data']=train['Cleaned_data'].str.replace(\"\\$[\\w]*\",\"\")\n",
    "train.head()"
   ]
  },
  {
   "cell_type": "code",
   "execution_count": 63,
   "metadata": {
    "colab": {
     "base_uri": "https://localhost:8080/",
     "height": 204
    },
    "colab_type": "code",
    "id": "pmhopimbI2HN",
    "outputId": "14d67994-465d-455d-a8b2-4a92fce0dd6a"
   },
   "outputs": [
    {
     "data": {
      "text/html": [
       "<div>\n",
       "<style scoped>\n",
       "    .dataframe tbody tr th:only-of-type {\n",
       "        vertical-align: middle;\n",
       "    }\n",
       "\n",
       "    .dataframe tbody tr th {\n",
       "        vertical-align: top;\n",
       "    }\n",
       "\n",
       "    .dataframe thead th {\n",
       "        text-align: right;\n",
       "    }\n",
       "</style>\n",
       "<table border=\"1\" class=\"dataframe\">\n",
       "  <thead>\n",
       "    <tr style=\"text-align: right;\">\n",
       "      <th></th>\n",
       "      <th>stocktwit_tweet</th>\n",
       "      <th>ticker</th>\n",
       "      <th>month</th>\n",
       "      <th>day</th>\n",
       "      <th>Cleaned_data</th>\n",
       "    </tr>\n",
       "  </thead>\n",
       "  <tbody>\n",
       "    <tr>\n",
       "      <th>0</th>\n",
       "      <td>$CELG nothing to be exited about</td>\n",
       "      <td>CELG</td>\n",
       "      <td>10</td>\n",
       "      <td>25</td>\n",
       "      <td>nothing to be exited about</td>\n",
       "    </tr>\n",
       "    <tr>\n",
       "      <th>1</th>\n",
       "      <td>$AMD yall exhaust your buyer on first green ca...</td>\n",
       "      <td>AMD</td>\n",
       "      <td>07</td>\n",
       "      <td>13</td>\n",
       "      <td>yall exhaust your buyer on first green candle...</td>\n",
       "    </tr>\n",
       "    <tr>\n",
       "      <th>2</th>\n",
       "      <td>$AMD day traders day.</td>\n",
       "      <td>AMD</td>\n",
       "      <td>09</td>\n",
       "      <td>25</td>\n",
       "      <td>day traders day.</td>\n",
       "    </tr>\n",
       "    <tr>\n",
       "      <th>3</th>\n",
       "      <td>$CBS https://tenor.com/wLB8.gif</td>\n",
       "      <td>CBS</td>\n",
       "      <td>07</td>\n",
       "      <td>27</td>\n",
       "      <td></td>\n",
       "    </tr>\n",
       "    <tr>\n",
       "      <th>4</th>\n",
       "      <td>$MU weak price action so far today. Don’t be a...</td>\n",
       "      <td>MU</td>\n",
       "      <td>07</td>\n",
       "      <td>31</td>\n",
       "      <td>weak price action so far today. dont be afrai...</td>\n",
       "    </tr>\n",
       "  </tbody>\n",
       "</table>\n",
       "</div>"
      ],
      "text/plain": [
       "                                     stocktwit_tweet  ...                                       Cleaned_data\n",
       "0                   $CELG nothing to be exited about  ...                         nothing to be exited about\n",
       "1  $AMD yall exhaust your buyer on first green ca...  ...   yall exhaust your buyer on first green candle...\n",
       "2                              $AMD day traders day.  ...                                   day traders day.\n",
       "3                    $CBS https://tenor.com/wLB8.gif  ...                                                   \n",
       "4  $MU weak price action so far today. Don’t be a...  ...   weak price action so far today. dont be afrai...\n",
       "\n",
       "[5 rows x 5 columns]"
      ]
     },
     "execution_count": 63,
     "metadata": {
      "tags": []
     },
     "output_type": "execute_result"
    }
   ],
   "source": [
    "## ==> for Test_json\n",
    "test_json['Cleaned_data']=test_json['Cleaned_data'].str.replace(\"\\$[\\w]*\",\"\")\n",
    "test_json.head()"
   ]
  },
  {
   "cell_type": "markdown",
   "metadata": {
    "colab_type": "text",
    "id": "AVoTQ8FDMB3C"
   },
   "source": [
    "### Removing Repeating Words in Tweet"
   ]
  },
  {
   "cell_type": "code",
   "execution_count": 64,
   "metadata": {
    "colab": {
     "base_uri": "https://localhost:8080/",
     "height": 204
    },
    "colab_type": "code",
    "id": "LZw-nUgkMB3E",
    "outputId": "751d2ffd-cd89-42ea-8f9f-ada08b4d1ecf"
   },
   "outputs": [
    {
     "data": {
      "text/html": [
       "<div>\n",
       "<style scoped>\n",
       "    .dataframe tbody tr th:only-of-type {\n",
       "        vertical-align: middle;\n",
       "    }\n",
       "\n",
       "    .dataframe tbody tr th {\n",
       "        vertical-align: top;\n",
       "    }\n",
       "\n",
       "    .dataframe thead th {\n",
       "        text-align: right;\n",
       "    }\n",
       "</style>\n",
       "<table border=\"1\" class=\"dataframe\">\n",
       "  <thead>\n",
       "    <tr style=\"text-align: right;\">\n",
       "      <th></th>\n",
       "      <th>stocktwit_tweet</th>\n",
       "      <th>sentiment_score</th>\n",
       "      <th>ticker</th>\n",
       "      <th>month</th>\n",
       "      <th>day</th>\n",
       "      <th>Cleaned_data</th>\n",
       "    </tr>\n",
       "  </thead>\n",
       "  <tbody>\n",
       "    <tr>\n",
       "      <th>0</th>\n",
       "      <td>$AMD going up but hesitating however chart is ...</td>\n",
       "      <td>3</td>\n",
       "      <td>AMD</td>\n",
       "      <td>09</td>\n",
       "      <td>19</td>\n",
       "      <td>going up but hesitating however chart is very...</td>\n",
       "    </tr>\n",
       "    <tr>\n",
       "      <th>1</th>\n",
       "      <td>@inforlong @MariaGascon Despite\\nChina trade w...</td>\n",
       "      <td>3</td>\n",
       "      <td>CAT</td>\n",
       "      <td>10</td>\n",
       "      <td>09</td>\n",
       "      <td>despite\\nchina trade war  held very well thu...</td>\n",
       "    </tr>\n",
       "    <tr>\n",
       "      <th>2</th>\n",
       "      <td>$AVGO WTF?</td>\n",
       "      <td>2</td>\n",
       "      <td>AVGO</td>\n",
       "      <td>07</td>\n",
       "      <td>12</td>\n",
       "      <td>wtf?</td>\n",
       "    </tr>\n",
       "    <tr>\n",
       "      <th>3</th>\n",
       "      <td>$PH\\n New Insider Filing On: \\n MULLER KLAUS P...</td>\n",
       "      <td>2</td>\n",
       "      <td>PH</td>\n",
       "      <td>07</td>\n",
       "      <td>19</td>\n",
       "      <td>\\n new insider filing on \\n muller klaus peter...</td>\n",
       "    </tr>\n",
       "    <tr>\n",
       "      <th>4</th>\n",
       "      <td>$FB if it bounces tommorrow do the right thing...</td>\n",
       "      <td>3</td>\n",
       "      <td>FB</td>\n",
       "      <td>08</td>\n",
       "      <td>23</td>\n",
       "      <td>if it bounces tommorrow do the right thing an...</td>\n",
       "    </tr>\n",
       "  </tbody>\n",
       "</table>\n",
       "</div>"
      ],
      "text/plain": [
       "                                     stocktwit_tweet  ...                                       Cleaned_data\n",
       "0  $AMD going up but hesitating however chart is ...  ...   going up but hesitating however chart is very...\n",
       "1  @inforlong @MariaGascon Despite\\nChina trade w...  ...    despite\\nchina trade war  held very well thu...\n",
       "2                                         $AVGO WTF?  ...                                               wtf?\n",
       "3  $PH\\n New Insider Filing On: \\n MULLER KLAUS P...  ...  \\n new insider filing on \\n muller klaus peter...\n",
       "4  $FB if it bounces tommorrow do the right thing...  ...   if it bounces tommorrow do the right thing an...\n",
       "\n",
       "[5 rows x 6 columns]"
      ]
     },
     "execution_count": 64,
     "metadata": {
      "tags": []
     },
     "output_type": "execute_result"
    }
   ],
   "source": [
    "## ==> for Train_json\n",
    "train['Cleaned_data'] = train['Cleaned_data'].apply(lambda x : re.sub(r'(.)\\1{1,}', r'\\1\\1', x) )\n",
    "train.head()"
   ]
  },
  {
   "cell_type": "code",
   "execution_count": 65,
   "metadata": {
    "colab": {
     "base_uri": "https://localhost:8080/",
     "height": 204
    },
    "colab_type": "code",
    "id": "rQDUTF7sJwSN",
    "outputId": "69557930-351f-447c-faee-b6818963728d"
   },
   "outputs": [
    {
     "data": {
      "text/html": [
       "<div>\n",
       "<style scoped>\n",
       "    .dataframe tbody tr th:only-of-type {\n",
       "        vertical-align: middle;\n",
       "    }\n",
       "\n",
       "    .dataframe tbody tr th {\n",
       "        vertical-align: top;\n",
       "    }\n",
       "\n",
       "    .dataframe thead th {\n",
       "        text-align: right;\n",
       "    }\n",
       "</style>\n",
       "<table border=\"1\" class=\"dataframe\">\n",
       "  <thead>\n",
       "    <tr style=\"text-align: right;\">\n",
       "      <th></th>\n",
       "      <th>stocktwit_tweet</th>\n",
       "      <th>ticker</th>\n",
       "      <th>month</th>\n",
       "      <th>day</th>\n",
       "      <th>Cleaned_data</th>\n",
       "    </tr>\n",
       "  </thead>\n",
       "  <tbody>\n",
       "    <tr>\n",
       "      <th>0</th>\n",
       "      <td>$CELG nothing to be exited about</td>\n",
       "      <td>CELG</td>\n",
       "      <td>10</td>\n",
       "      <td>25</td>\n",
       "      <td>nothing to be exited about</td>\n",
       "    </tr>\n",
       "    <tr>\n",
       "      <th>1</th>\n",
       "      <td>$AMD yall exhaust your buyer on first green ca...</td>\n",
       "      <td>AMD</td>\n",
       "      <td>07</td>\n",
       "      <td>13</td>\n",
       "      <td>yall exhaust your buyer on first green candle...</td>\n",
       "    </tr>\n",
       "    <tr>\n",
       "      <th>2</th>\n",
       "      <td>$AMD day traders day.</td>\n",
       "      <td>AMD</td>\n",
       "      <td>09</td>\n",
       "      <td>25</td>\n",
       "      <td>day traders day.</td>\n",
       "    </tr>\n",
       "    <tr>\n",
       "      <th>3</th>\n",
       "      <td>$CBS https://tenor.com/wLB8.gif</td>\n",
       "      <td>CBS</td>\n",
       "      <td>07</td>\n",
       "      <td>27</td>\n",
       "      <td></td>\n",
       "    </tr>\n",
       "    <tr>\n",
       "      <th>4</th>\n",
       "      <td>$MU weak price action so far today. Don’t be a...</td>\n",
       "      <td>MU</td>\n",
       "      <td>07</td>\n",
       "      <td>31</td>\n",
       "      <td>weak price action so far today. dont be afrai...</td>\n",
       "    </tr>\n",
       "  </tbody>\n",
       "</table>\n",
       "</div>"
      ],
      "text/plain": [
       "                                     stocktwit_tweet  ...                                       Cleaned_data\n",
       "0                   $CELG nothing to be exited about  ...                         nothing to be exited about\n",
       "1  $AMD yall exhaust your buyer on first green ca...  ...   yall exhaust your buyer on first green candle...\n",
       "2                              $AMD day traders day.  ...                                   day traders day.\n",
       "3                    $CBS https://tenor.com/wLB8.gif  ...                                                   \n",
       "4  $MU weak price action so far today. Don’t be a...  ...   weak price action so far today. dont be afrai...\n",
       "\n",
       "[5 rows x 5 columns]"
      ]
     },
     "execution_count": 65,
     "metadata": {
      "tags": []
     },
     "output_type": "execute_result"
    }
   ],
   "source": [
    "## ==> for Test_json\n",
    "test_json['Cleaned_data'] = test_json['Cleaned_data'].apply(lambda x : re.sub(r'(.)\\1{1,}', r'\\1\\1', x) )\n",
    "test_json.head()"
   ]
  },
  {
   "cell_type": "markdown",
   "metadata": {
    "colab_type": "text",
    "id": "mZqMb-KhMB3J"
   },
   "source": [
    "### Removing Special Characters,Punctuations, Numbers and Unnecessary Hashtags in tweets"
   ]
  },
  {
   "cell_type": "code",
   "execution_count": 66,
   "metadata": {
    "colab": {
     "base_uri": "https://localhost:8080/",
     "height": 204
    },
    "colab_type": "code",
    "id": "xd5BgFNrMB3K",
    "outputId": "9cfdceb2-f5ed-4ce2-c6fd-1b118b5c4e3a"
   },
   "outputs": [
    {
     "data": {
      "text/html": [
       "<div>\n",
       "<style scoped>\n",
       "    .dataframe tbody tr th:only-of-type {\n",
       "        vertical-align: middle;\n",
       "    }\n",
       "\n",
       "    .dataframe tbody tr th {\n",
       "        vertical-align: top;\n",
       "    }\n",
       "\n",
       "    .dataframe thead th {\n",
       "        text-align: right;\n",
       "    }\n",
       "</style>\n",
       "<table border=\"1\" class=\"dataframe\">\n",
       "  <thead>\n",
       "    <tr style=\"text-align: right;\">\n",
       "      <th></th>\n",
       "      <th>stocktwit_tweet</th>\n",
       "      <th>sentiment_score</th>\n",
       "      <th>ticker</th>\n",
       "      <th>month</th>\n",
       "      <th>day</th>\n",
       "      <th>Cleaned_data</th>\n",
       "    </tr>\n",
       "  </thead>\n",
       "  <tbody>\n",
       "    <tr>\n",
       "      <th>0</th>\n",
       "      <td>$AMD going up but hesitating however chart is ...</td>\n",
       "      <td>3</td>\n",
       "      <td>AMD</td>\n",
       "      <td>09</td>\n",
       "      <td>19</td>\n",
       "      <td>going up but hesitating however chart is very...</td>\n",
       "    </tr>\n",
       "    <tr>\n",
       "      <th>1</th>\n",
       "      <td>@inforlong @MariaGascon Despite\\nChina trade w...</td>\n",
       "      <td>3</td>\n",
       "      <td>CAT</td>\n",
       "      <td>10</td>\n",
       "      <td>09</td>\n",
       "      <td>despite china trade war  held very well thum...</td>\n",
       "    </tr>\n",
       "    <tr>\n",
       "      <th>2</th>\n",
       "      <td>$AVGO WTF?</td>\n",
       "      <td>2</td>\n",
       "      <td>AVGO</td>\n",
       "      <td>07</td>\n",
       "      <td>12</td>\n",
       "      <td>wtf</td>\n",
       "    </tr>\n",
       "    <tr>\n",
       "      <th>3</th>\n",
       "      <td>$PH\\n New Insider Filing On: \\n MULLER KLAUS P...</td>\n",
       "      <td>2</td>\n",
       "      <td>PH</td>\n",
       "      <td>07</td>\n",
       "      <td>19</td>\n",
       "      <td>new insider filing on   muller klaus peter t...</td>\n",
       "    </tr>\n",
       "    <tr>\n",
       "      <th>4</th>\n",
       "      <td>$FB if it bounces tommorrow do the right thing...</td>\n",
       "      <td>3</td>\n",
       "      <td>FB</td>\n",
       "      <td>08</td>\n",
       "      <td>23</td>\n",
       "      <td>if it bounces tommorrow do the right thing an...</td>\n",
       "    </tr>\n",
       "  </tbody>\n",
       "</table>\n",
       "</div>"
      ],
      "text/plain": [
       "                                     stocktwit_tweet  ...                                       Cleaned_data\n",
       "0  $AMD going up but hesitating however chart is ...  ...   going up but hesitating however chart is very...\n",
       "1  @inforlong @MariaGascon Despite\\nChina trade w...  ...    despite china trade war  held very well thum...\n",
       "2                                         $AVGO WTF?  ...                                               wtf \n",
       "3  $PH\\n New Insider Filing On: \\n MULLER KLAUS P...  ...    new insider filing on   muller klaus peter t...\n",
       "4  $FB if it bounces tommorrow do the right thing...  ...   if it bounces tommorrow do the right thing an...\n",
       "\n",
       "[5 rows x 6 columns]"
      ]
     },
     "execution_count": 66,
     "metadata": {
      "tags": []
     },
     "output_type": "execute_result"
    }
   ],
   "source": [
    "## ==> for train_json\n",
    "train['Cleaned_data'] = train['Cleaned_data'].str.replace(\"[^a-zA-Z]\", \" \")\n",
    "train['Cleaned_data'] = train['Cleaned_data'].str.replace(\"[#+]?\\B\", \"\")\n",
    "train.head()"
   ]
  },
  {
   "cell_type": "code",
   "execution_count": 67,
   "metadata": {
    "colab": {
     "base_uri": "https://localhost:8080/",
     "height": 204
    },
    "colab_type": "code",
    "id": "TWf0kdw3KMCM",
    "outputId": "4bbb24cb-64d8-43f8-9433-cea9f704e315"
   },
   "outputs": [
    {
     "data": {
      "text/html": [
       "<div>\n",
       "<style scoped>\n",
       "    .dataframe tbody tr th:only-of-type {\n",
       "        vertical-align: middle;\n",
       "    }\n",
       "\n",
       "    .dataframe tbody tr th {\n",
       "        vertical-align: top;\n",
       "    }\n",
       "\n",
       "    .dataframe thead th {\n",
       "        text-align: right;\n",
       "    }\n",
       "</style>\n",
       "<table border=\"1\" class=\"dataframe\">\n",
       "  <thead>\n",
       "    <tr style=\"text-align: right;\">\n",
       "      <th></th>\n",
       "      <th>stocktwit_tweet</th>\n",
       "      <th>ticker</th>\n",
       "      <th>month</th>\n",
       "      <th>day</th>\n",
       "      <th>Cleaned_data</th>\n",
       "    </tr>\n",
       "  </thead>\n",
       "  <tbody>\n",
       "    <tr>\n",
       "      <th>0</th>\n",
       "      <td>$CELG nothing to be exited about</td>\n",
       "      <td>CELG</td>\n",
       "      <td>10</td>\n",
       "      <td>25</td>\n",
       "      <td>nothing to be exited about</td>\n",
       "    </tr>\n",
       "    <tr>\n",
       "      <th>1</th>\n",
       "      <td>$AMD yall exhaust your buyer on first green ca...</td>\n",
       "      <td>AMD</td>\n",
       "      <td>07</td>\n",
       "      <td>13</td>\n",
       "      <td>yall exhaust your buyer on first green candle...</td>\n",
       "    </tr>\n",
       "    <tr>\n",
       "      <th>2</th>\n",
       "      <td>$AMD day traders day.</td>\n",
       "      <td>AMD</td>\n",
       "      <td>09</td>\n",
       "      <td>25</td>\n",
       "      <td>day traders day</td>\n",
       "    </tr>\n",
       "    <tr>\n",
       "      <th>3</th>\n",
       "      <td>$CBS https://tenor.com/wLB8.gif</td>\n",
       "      <td>CBS</td>\n",
       "      <td>07</td>\n",
       "      <td>27</td>\n",
       "      <td></td>\n",
       "    </tr>\n",
       "    <tr>\n",
       "      <th>4</th>\n",
       "      <td>$MU weak price action so far today. Don’t be a...</td>\n",
       "      <td>MU</td>\n",
       "      <td>07</td>\n",
       "      <td>31</td>\n",
       "      <td>weak price action so far today  dont be afrai...</td>\n",
       "    </tr>\n",
       "  </tbody>\n",
       "</table>\n",
       "</div>"
      ],
      "text/plain": [
       "                                     stocktwit_tweet  ...                                       Cleaned_data\n",
       "0                   $CELG nothing to be exited about  ...                         nothing to be exited about\n",
       "1  $AMD yall exhaust your buyer on first green ca...  ...   yall exhaust your buyer on first green candle...\n",
       "2                              $AMD day traders day.  ...                                   day traders day \n",
       "3                    $CBS https://tenor.com/wLB8.gif  ...                                                   \n",
       "4  $MU weak price action so far today. Don’t be a...  ...   weak price action so far today  dont be afrai...\n",
       "\n",
       "[5 rows x 5 columns]"
      ]
     },
     "execution_count": 67,
     "metadata": {
      "tags": []
     },
     "output_type": "execute_result"
    }
   ],
   "source": [
    "## ==> for Test_json\n",
    "test_json['Cleaned_data'] = test_json['Cleaned_data'].str.replace(\"[^a-zA-Z]\", \" \")\n",
    "test_json['Cleaned_data'] = test_json['Cleaned_data'].str.replace(\"[#+]?\\B\", \"\")\n",
    "test_json.head()"
   ]
  },
  {
   "cell_type": "markdown",
   "metadata": {
    "colab_type": "text",
    "id": "Yq7CS3xsMB3P"
   },
   "source": [
    "### Expanding Contractions"
   ]
  },
  {
   "cell_type": "code",
   "execution_count": 0,
   "metadata": {
    "colab": {},
    "colab_type": "code",
    "id": "ASlTHvH6MB3Q"
   },
   "outputs": [],
   "source": [
    "def expand_contractions(text, contraction_mapping=CONTRACTION_MAP):\n",
    "    \n",
    "    contractions_pattern = re.compile('({})'.format('|'.join(contraction_mapping.keys())), \n",
    "                                      flags=re.IGNORECASE|re.DOTALL)\n",
    "    def expand_match(contraction):\n",
    "        match = contraction.group(0)\n",
    "        first_char = match[0]\n",
    "        expanded_contraction = contraction_mapping.get(match)\\\n",
    "                                if contraction_mapping.get(match)\\\n",
    "                                else contraction_mapping.get(match.lower())                       \n",
    "        expanded_contraction = first_char+expanded_contraction[1:]\n",
    "        return expanded_contraction\n",
    "        \n",
    "    expanded_text = contractions_pattern.sub(expand_match, text)\n",
    "    expanded_text = re.sub(\"'\", \"\", expanded_text)\n",
    "    return expanded_text"
   ]
  },
  {
   "cell_type": "code",
   "execution_count": 69,
   "metadata": {
    "colab": {
     "base_uri": "https://localhost:8080/",
     "height": 204
    },
    "colab_type": "code",
    "id": "bMIZRTaLMB3U",
    "outputId": "adb69c47-e986-4f49-a62c-8fc39e4b3137"
   },
   "outputs": [
    {
     "data": {
      "text/html": [
       "<div>\n",
       "<style scoped>\n",
       "    .dataframe tbody tr th:only-of-type {\n",
       "        vertical-align: middle;\n",
       "    }\n",
       "\n",
       "    .dataframe tbody tr th {\n",
       "        vertical-align: top;\n",
       "    }\n",
       "\n",
       "    .dataframe thead th {\n",
       "        text-align: right;\n",
       "    }\n",
       "</style>\n",
       "<table border=\"1\" class=\"dataframe\">\n",
       "  <thead>\n",
       "    <tr style=\"text-align: right;\">\n",
       "      <th></th>\n",
       "      <th>stocktwit_tweet</th>\n",
       "      <th>sentiment_score</th>\n",
       "      <th>ticker</th>\n",
       "      <th>month</th>\n",
       "      <th>day</th>\n",
       "      <th>Cleaned_data</th>\n",
       "    </tr>\n",
       "  </thead>\n",
       "  <tbody>\n",
       "    <tr>\n",
       "      <th>0</th>\n",
       "      <td>$AMD going up but hesitating however chart is ...</td>\n",
       "      <td>3</td>\n",
       "      <td>AMD</td>\n",
       "      <td>09</td>\n",
       "      <td>19</td>\n",
       "      <td>going up but hesitating however chart is very...</td>\n",
       "    </tr>\n",
       "    <tr>\n",
       "      <th>1</th>\n",
       "      <td>@inforlong @MariaGascon Despite\\nChina trade w...</td>\n",
       "      <td>3</td>\n",
       "      <td>CAT</td>\n",
       "      <td>10</td>\n",
       "      <td>09</td>\n",
       "      <td>despite china trade war  held very well thum...</td>\n",
       "    </tr>\n",
       "    <tr>\n",
       "      <th>2</th>\n",
       "      <td>$AVGO WTF?</td>\n",
       "      <td>2</td>\n",
       "      <td>AVGO</td>\n",
       "      <td>07</td>\n",
       "      <td>12</td>\n",
       "      <td>wtf</td>\n",
       "    </tr>\n",
       "    <tr>\n",
       "      <th>3</th>\n",
       "      <td>$PH\\n New Insider Filing On: \\n MULLER KLAUS P...</td>\n",
       "      <td>2</td>\n",
       "      <td>PH</td>\n",
       "      <td>07</td>\n",
       "      <td>19</td>\n",
       "      <td>new insider filing on   muller klaus peter t...</td>\n",
       "    </tr>\n",
       "    <tr>\n",
       "      <th>4</th>\n",
       "      <td>$FB if it bounces tommorrow do the right thing...</td>\n",
       "      <td>3</td>\n",
       "      <td>FB</td>\n",
       "      <td>08</td>\n",
       "      <td>23</td>\n",
       "      <td>if it bounces tommorrow do the right thing an...</td>\n",
       "    </tr>\n",
       "  </tbody>\n",
       "</table>\n",
       "</div>"
      ],
      "text/plain": [
       "                                     stocktwit_tweet  ...                                       Cleaned_data\n",
       "0  $AMD going up but hesitating however chart is ...  ...   going up but hesitating however chart is very...\n",
       "1  @inforlong @MariaGascon Despite\\nChina trade w...  ...    despite china trade war  held very well thum...\n",
       "2                                         $AVGO WTF?  ...                                               wtf \n",
       "3  $PH\\n New Insider Filing On: \\n MULLER KLAUS P...  ...    new insider filing on   muller klaus peter t...\n",
       "4  $FB if it bounces tommorrow do the right thing...  ...   if it bounces tommorrow do the right thing an...\n",
       "\n",
       "[5 rows x 6 columns]"
      ]
     },
     "execution_count": 69,
     "metadata": {
      "tags": []
     },
     "output_type": "execute_result"
    }
   ],
   "source": [
    "## ==> Train_json\n",
    "train['Cleaned_data'] = train['Cleaned_data'].apply(expand_contractions)\n",
    "train.head()"
   ]
  },
  {
   "cell_type": "code",
   "execution_count": 70,
   "metadata": {
    "colab": {
     "base_uri": "https://localhost:8080/",
     "height": 204
    },
    "colab_type": "code",
    "id": "H9H8zO97Ls5d",
    "outputId": "b8fb496e-8e3d-4733-c35f-3c7d88a46010"
   },
   "outputs": [
    {
     "data": {
      "text/html": [
       "<div>\n",
       "<style scoped>\n",
       "    .dataframe tbody tr th:only-of-type {\n",
       "        vertical-align: middle;\n",
       "    }\n",
       "\n",
       "    .dataframe tbody tr th {\n",
       "        vertical-align: top;\n",
       "    }\n",
       "\n",
       "    .dataframe thead th {\n",
       "        text-align: right;\n",
       "    }\n",
       "</style>\n",
       "<table border=\"1\" class=\"dataframe\">\n",
       "  <thead>\n",
       "    <tr style=\"text-align: right;\">\n",
       "      <th></th>\n",
       "      <th>stocktwit_tweet</th>\n",
       "      <th>ticker</th>\n",
       "      <th>month</th>\n",
       "      <th>day</th>\n",
       "      <th>Cleaned_data</th>\n",
       "    </tr>\n",
       "  </thead>\n",
       "  <tbody>\n",
       "    <tr>\n",
       "      <th>0</th>\n",
       "      <td>$CELG nothing to be exited about</td>\n",
       "      <td>CELG</td>\n",
       "      <td>10</td>\n",
       "      <td>25</td>\n",
       "      <td>nothing to be exited about</td>\n",
       "    </tr>\n",
       "    <tr>\n",
       "      <th>1</th>\n",
       "      <td>$AMD yall exhaust your buyer on first green ca...</td>\n",
       "      <td>AMD</td>\n",
       "      <td>07</td>\n",
       "      <td>13</td>\n",
       "      <td>yall exhaust your buyer on first green candle...</td>\n",
       "    </tr>\n",
       "    <tr>\n",
       "      <th>2</th>\n",
       "      <td>$AMD day traders day.</td>\n",
       "      <td>AMD</td>\n",
       "      <td>09</td>\n",
       "      <td>25</td>\n",
       "      <td>day traders day</td>\n",
       "    </tr>\n",
       "    <tr>\n",
       "      <th>3</th>\n",
       "      <td>$CBS https://tenor.com/wLB8.gif</td>\n",
       "      <td>CBS</td>\n",
       "      <td>07</td>\n",
       "      <td>27</td>\n",
       "      <td></td>\n",
       "    </tr>\n",
       "    <tr>\n",
       "      <th>4</th>\n",
       "      <td>$MU weak price action so far today. Don’t be a...</td>\n",
       "      <td>MU</td>\n",
       "      <td>07</td>\n",
       "      <td>31</td>\n",
       "      <td>weak price action so far today  dont be afrai...</td>\n",
       "    </tr>\n",
       "  </tbody>\n",
       "</table>\n",
       "</div>"
      ],
      "text/plain": [
       "                                     stocktwit_tweet  ...                                       Cleaned_data\n",
       "0                   $CELG nothing to be exited about  ...                         nothing to be exited about\n",
       "1  $AMD yall exhaust your buyer on first green ca...  ...   yall exhaust your buyer on first green candle...\n",
       "2                              $AMD day traders day.  ...                                   day traders day \n",
       "3                    $CBS https://tenor.com/wLB8.gif  ...                                                   \n",
       "4  $MU weak price action so far today. Don’t be a...  ...   weak price action so far today  dont be afrai...\n",
       "\n",
       "[5 rows x 5 columns]"
      ]
     },
     "execution_count": 70,
     "metadata": {
      "tags": []
     },
     "output_type": "execute_result"
    }
   ],
   "source": [
    "## ==> for Test_json\n",
    "test_json['Cleaned_data'] = test_json['Cleaned_data'].apply(expand_contractions)\n",
    "test_json.head()"
   ]
  },
  {
   "cell_type": "markdown",
   "metadata": {
    "colab_type": "text",
    "id": "pL6CeywBMB3b"
   },
   "source": [
    "### Removing the Stopwords in tweets"
   ]
  },
  {
   "cell_type": "code",
   "execution_count": 0,
   "metadata": {
    "colab": {},
    "colab_type": "code",
    "id": "CeDYZpH6MB3j"
   },
   "outputs": [],
   "source": [
    "def remove_stopwords(text, is_lower_case=False):\n",
    "    tokens = tokenizer.tokenize(text)\n",
    "    tokens = [token.strip() for token in tokens]\n",
    "    filtered_tokens = [token for token in tokens if token not in stopword_list]\n",
    "    filtered_text = ' '.join(filtered_tokens)    \n",
    "    return filtered_text"
   ]
  },
  {
   "cell_type": "code",
   "execution_count": 72,
   "metadata": {
    "colab": {
     "base_uri": "https://localhost:8080/",
     "height": 204
    },
    "colab_type": "code",
    "id": "bQHAE50GMB3r",
    "outputId": "af8786e1-ad26-45ef-8d59-13fb293e2088"
   },
   "outputs": [
    {
     "data": {
      "text/html": [
       "<div>\n",
       "<style scoped>\n",
       "    .dataframe tbody tr th:only-of-type {\n",
       "        vertical-align: middle;\n",
       "    }\n",
       "\n",
       "    .dataframe tbody tr th {\n",
       "        vertical-align: top;\n",
       "    }\n",
       "\n",
       "    .dataframe thead th {\n",
       "        text-align: right;\n",
       "    }\n",
       "</style>\n",
       "<table border=\"1\" class=\"dataframe\">\n",
       "  <thead>\n",
       "    <tr style=\"text-align: right;\">\n",
       "      <th></th>\n",
       "      <th>stocktwit_tweet</th>\n",
       "      <th>sentiment_score</th>\n",
       "      <th>ticker</th>\n",
       "      <th>month</th>\n",
       "      <th>day</th>\n",
       "      <th>Cleaned_data</th>\n",
       "    </tr>\n",
       "  </thead>\n",
       "  <tbody>\n",
       "    <tr>\n",
       "      <th>0</th>\n",
       "      <td>$AMD going up but hesitating however chart is ...</td>\n",
       "      <td>3</td>\n",
       "      <td>AMD</td>\n",
       "      <td>09</td>\n",
       "      <td>19</td>\n",
       "      <td>going hesitating however chart stable going up...</td>\n",
       "    </tr>\n",
       "    <tr>\n",
       "      <th>1</th>\n",
       "      <td>@inforlong @MariaGascon Despite\\nChina trade w...</td>\n",
       "      <td>3</td>\n",
       "      <td>CAT</td>\n",
       "      <td>10</td>\n",
       "      <td>09</td>\n",
       "      <td>despite china trade war held well thumbs</td>\n",
       "    </tr>\n",
       "    <tr>\n",
       "      <th>2</th>\n",
       "      <td>$AVGO WTF?</td>\n",
       "      <td>2</td>\n",
       "      <td>AVGO</td>\n",
       "      <td>07</td>\n",
       "      <td>12</td>\n",
       "      <td>wtf</td>\n",
       "    </tr>\n",
       "    <tr>\n",
       "      <th>3</th>\n",
       "      <td>$PH\\n New Insider Filing On: \\n MULLER KLAUS P...</td>\n",
       "      <td>2</td>\n",
       "      <td>PH</td>\n",
       "      <td>07</td>\n",
       "      <td>19</td>\n",
       "      <td>new insider filing muller klaus peter transact...</td>\n",
       "    </tr>\n",
       "    <tr>\n",
       "      <th>4</th>\n",
       "      <td>$FB if it bounces tommorrow do the right thing...</td>\n",
       "      <td>3</td>\n",
       "      <td>FB</td>\n",
       "      <td>08</td>\n",
       "      <td>23</td>\n",
       "      <td>bounces tommorrow right thing gtfo</td>\n",
       "    </tr>\n",
       "  </tbody>\n",
       "</table>\n",
       "</div>"
      ],
      "text/plain": [
       "                                     stocktwit_tweet  ...                                       Cleaned_data\n",
       "0  $AMD going up but hesitating however chart is ...  ...  going hesitating however chart stable going up...\n",
       "1  @inforlong @MariaGascon Despite\\nChina trade w...  ...           despite china trade war held well thumbs\n",
       "2                                         $AVGO WTF?  ...                                                wtf\n",
       "3  $PH\\n New Insider Filing On: \\n MULLER KLAUS P...  ...  new insider filing muller klaus peter transact...\n",
       "4  $FB if it bounces tommorrow do the right thing...  ...                 bounces tommorrow right thing gtfo\n",
       "\n",
       "[5 rows x 6 columns]"
      ]
     },
     "execution_count": 72,
     "metadata": {
      "tags": []
     },
     "output_type": "execute_result"
    }
   ],
   "source": [
    "## ==> for train_json\n",
    "train['Cleaned_data'] = train['Cleaned_data'].apply(remove_stopwords)\n",
    "train.head()"
   ]
  },
  {
   "cell_type": "code",
   "execution_count": 73,
   "metadata": {
    "colab": {
     "base_uri": "https://localhost:8080/",
     "height": 204
    },
    "colab_type": "code",
    "id": "7d_y9dfQMhcn",
    "outputId": "393036f3-a8ed-4af1-ad39-8e1065f168d7"
   },
   "outputs": [
    {
     "data": {
      "text/html": [
       "<div>\n",
       "<style scoped>\n",
       "    .dataframe tbody tr th:only-of-type {\n",
       "        vertical-align: middle;\n",
       "    }\n",
       "\n",
       "    .dataframe tbody tr th {\n",
       "        vertical-align: top;\n",
       "    }\n",
       "\n",
       "    .dataframe thead th {\n",
       "        text-align: right;\n",
       "    }\n",
       "</style>\n",
       "<table border=\"1\" class=\"dataframe\">\n",
       "  <thead>\n",
       "    <tr style=\"text-align: right;\">\n",
       "      <th></th>\n",
       "      <th>stocktwit_tweet</th>\n",
       "      <th>ticker</th>\n",
       "      <th>month</th>\n",
       "      <th>day</th>\n",
       "      <th>Cleaned_data</th>\n",
       "    </tr>\n",
       "  </thead>\n",
       "  <tbody>\n",
       "    <tr>\n",
       "      <th>0</th>\n",
       "      <td>$CELG nothing to be exited about</td>\n",
       "      <td>CELG</td>\n",
       "      <td>10</td>\n",
       "      <td>25</td>\n",
       "      <td>nothing exited</td>\n",
       "    </tr>\n",
       "    <tr>\n",
       "      <th>1</th>\n",
       "      <td>$AMD yall exhaust your buyer on first green ca...</td>\n",
       "      <td>AMD</td>\n",
       "      <td>07</td>\n",
       "      <td>13</td>\n",
       "      <td>yall exhaust buyer first green candle byee</td>\n",
       "    </tr>\n",
       "    <tr>\n",
       "      <th>2</th>\n",
       "      <td>$AMD day traders day.</td>\n",
       "      <td>AMD</td>\n",
       "      <td>09</td>\n",
       "      <td>25</td>\n",
       "      <td>day traders day</td>\n",
       "    </tr>\n",
       "    <tr>\n",
       "      <th>3</th>\n",
       "      <td>$CBS https://tenor.com/wLB8.gif</td>\n",
       "      <td>CBS</td>\n",
       "      <td>07</td>\n",
       "      <td>27</td>\n",
       "      <td></td>\n",
       "    </tr>\n",
       "    <tr>\n",
       "      <th>4</th>\n",
       "      <td>$MU weak price action so far today. Don’t be a...</td>\n",
       "      <td>MU</td>\n",
       "      <td>07</td>\n",
       "      <td>31</td>\n",
       "      <td>weak price action far today dont afraid go sho...</td>\n",
       "    </tr>\n",
       "  </tbody>\n",
       "</table>\n",
       "</div>"
      ],
      "text/plain": [
       "                                     stocktwit_tweet  ...                                       Cleaned_data\n",
       "0                   $CELG nothing to be exited about  ...                                     nothing exited\n",
       "1  $AMD yall exhaust your buyer on first green ca...  ...         yall exhaust buyer first green candle byee\n",
       "2                              $AMD day traders day.  ...                                    day traders day\n",
       "3                    $CBS https://tenor.com/wLB8.gif  ...                                                   \n",
       "4  $MU weak price action so far today. Don’t be a...  ...  weak price action far today dont afraid go sho...\n",
       "\n",
       "[5 rows x 5 columns]"
      ]
     },
     "execution_count": 73,
     "metadata": {
      "tags": []
     },
     "output_type": "execute_result"
    }
   ],
   "source": [
    "## ==> for Test_json\n",
    "test_json['Cleaned_data'] = test_json['Cleaned_data'].apply(remove_stopwords)\n",
    "test_json.head()"
   ]
  },
  {
   "cell_type": "code",
   "execution_count": 74,
   "metadata": {
    "colab": {
     "base_uri": "https://localhost:8080/",
     "height": 68
    },
    "colab_type": "code",
    "id": "wGcjNMVHosqQ",
    "outputId": "21f20fcd-f2e3-403c-b50c-099bdab63885"
   },
   "outputs": [
    {
     "name": "stdout",
     "output_type": "stream",
     "text": [
      "[nltk_data] Downloading package punkt to /root/nltk_data...\n",
      "[nltk_data]   Package punkt is already up-to-date!\n"
     ]
    },
    {
     "data": {
      "text/plain": [
       "True"
      ]
     },
     "execution_count": 74,
     "metadata": {
      "tags": []
     },
     "output_type": "execute_result"
    }
   ],
   "source": [
    "import nltk\n",
    "\n",
    "nltk.download('punkt')"
   ]
  },
  {
   "cell_type": "code",
   "execution_count": 75,
   "metadata": {
    "colab": {
     "base_uri": "https://localhost:8080/",
     "height": 68
    },
    "colab_type": "code",
    "id": "iyyDYXPYmQNr",
    "outputId": "7c5a0df6-cf39-411d-bc6b-1ce497e3aed1"
   },
   "outputs": [
    {
     "name": "stdout",
     "output_type": "stream",
     "text": [
      "[nltk_data] Downloading package wordnet to /root/nltk_data...\n",
      "[nltk_data]   Package wordnet is already up-to-date!\n"
     ]
    },
    {
     "data": {
      "text/plain": [
       "True"
      ]
     },
     "execution_count": 75,
     "metadata": {
      "tags": []
     },
     "output_type": "execute_result"
    }
   ],
   "source": [
    "import nltk\n",
    "nltk.download('wordnet')"
   ]
  },
  {
   "cell_type": "markdown",
   "metadata": {
    "colab_type": "text",
    "id": "qlQgi0ItuZ6C"
   },
   "source": [
    "### Tokenizing the Cleaned_data"
   ]
  },
  {
   "cell_type": "code",
   "execution_count": 0,
   "metadata": {
    "colab": {},
    "colab_type": "code",
    "id": "LySUgL9fuTQy"
   },
   "outputs": [],
   "source": [
    "## ==> for Train_json\n",
    "token_text = []\n",
    "\n",
    "for i in train['Cleaned_data']:\n",
    "    token_text.append(word_tokenize(i))\n",
    "    \n",
    "train['Processed_data'] = token_text"
   ]
  },
  {
   "cell_type": "code",
   "execution_count": 77,
   "metadata": {
    "colab": {
     "base_uri": "https://localhost:8080/",
     "height": 255
    },
    "colab_type": "code",
    "id": "S4uiEekYxGaI",
    "outputId": "ae28eb4c-7666-4f28-8caa-8f933af89597"
   },
   "outputs": [
    {
     "data": {
      "text/html": [
       "<div>\n",
       "<style scoped>\n",
       "    .dataframe tbody tr th:only-of-type {\n",
       "        vertical-align: middle;\n",
       "    }\n",
       "\n",
       "    .dataframe tbody tr th {\n",
       "        vertical-align: top;\n",
       "    }\n",
       "\n",
       "    .dataframe thead th {\n",
       "        text-align: right;\n",
       "    }\n",
       "</style>\n",
       "<table border=\"1\" class=\"dataframe\">\n",
       "  <thead>\n",
       "    <tr style=\"text-align: right;\">\n",
       "      <th></th>\n",
       "      <th>stocktwit_tweet</th>\n",
       "      <th>sentiment_score</th>\n",
       "      <th>ticker</th>\n",
       "      <th>month</th>\n",
       "      <th>day</th>\n",
       "      <th>Cleaned_data</th>\n",
       "      <th>Processed_data</th>\n",
       "    </tr>\n",
       "  </thead>\n",
       "  <tbody>\n",
       "    <tr>\n",
       "      <th>0</th>\n",
       "      <td>$AMD going up but hesitating however chart is ...</td>\n",
       "      <td>3</td>\n",
       "      <td>AMD</td>\n",
       "      <td>09</td>\n",
       "      <td>19</td>\n",
       "      <td>going hesitating however chart stable going up...</td>\n",
       "      <td>[going, hesitating, however, chart, stable, go...</td>\n",
       "    </tr>\n",
       "    <tr>\n",
       "      <th>1</th>\n",
       "      <td>@inforlong @MariaGascon Despite\\nChina trade w...</td>\n",
       "      <td>3</td>\n",
       "      <td>CAT</td>\n",
       "      <td>10</td>\n",
       "      <td>09</td>\n",
       "      <td>despite china trade war held well thumbs</td>\n",
       "      <td>[despite, china, trade, war, held, well, thumbs]</td>\n",
       "    </tr>\n",
       "    <tr>\n",
       "      <th>2</th>\n",
       "      <td>$AVGO WTF?</td>\n",
       "      <td>2</td>\n",
       "      <td>AVGO</td>\n",
       "      <td>07</td>\n",
       "      <td>12</td>\n",
       "      <td>wtf</td>\n",
       "      <td>[wtf]</td>\n",
       "    </tr>\n",
       "    <tr>\n",
       "      <th>3</th>\n",
       "      <td>$PH\\n New Insider Filing On: \\n MULLER KLAUS P...</td>\n",
       "      <td>2</td>\n",
       "      <td>PH</td>\n",
       "      <td>07</td>\n",
       "      <td>19</td>\n",
       "      <td>new insider filing muller klaus peter transact...</td>\n",
       "      <td>[new, insider, filing, muller, klaus, peter, t...</td>\n",
       "    </tr>\n",
       "    <tr>\n",
       "      <th>4</th>\n",
       "      <td>$FB if it bounces tommorrow do the right thing...</td>\n",
       "      <td>3</td>\n",
       "      <td>FB</td>\n",
       "      <td>08</td>\n",
       "      <td>23</td>\n",
       "      <td>bounces tommorrow right thing gtfo</td>\n",
       "      <td>[bounces, tommorrow, right, thing, gtfo]</td>\n",
       "    </tr>\n",
       "  </tbody>\n",
       "</table>\n",
       "</div>"
      ],
      "text/plain": [
       "                                     stocktwit_tweet  ...                                     Processed_data\n",
       "0  $AMD going up but hesitating however chart is ...  ...  [going, hesitating, however, chart, stable, go...\n",
       "1  @inforlong @MariaGascon Despite\\nChina trade w...  ...   [despite, china, trade, war, held, well, thumbs]\n",
       "2                                         $AVGO WTF?  ...                                              [wtf]\n",
       "3  $PH\\n New Insider Filing On: \\n MULLER KLAUS P...  ...  [new, insider, filing, muller, klaus, peter, t...\n",
       "4  $FB if it bounces tommorrow do the right thing...  ...           [bounces, tommorrow, right, thing, gtfo]\n",
       "\n",
       "[5 rows x 7 columns]"
      ]
     },
     "execution_count": 77,
     "metadata": {
      "tags": []
     },
     "output_type": "execute_result"
    }
   ],
   "source": [
    "train.head()"
   ]
  },
  {
   "cell_type": "code",
   "execution_count": 0,
   "metadata": {
    "colab": {},
    "colab_type": "code",
    "id": "Zcf2RHR0yANX"
   },
   "outputs": [],
   "source": [
    "## ==> for Test_json\n",
    "token_text_test = []\n",
    "\n",
    "for i in test_json['Cleaned_data']:\n",
    "    token_text_test.append(word_tokenize(i))\n",
    "    \n",
    "test_json['Processed_data'] = token_text_test"
   ]
  },
  {
   "cell_type": "code",
   "execution_count": 79,
   "metadata": {
    "colab": {
     "base_uri": "https://localhost:8080/",
     "height": 204
    },
    "colab_type": "code",
    "id": "mj3NaoNdyAvA",
    "outputId": "d1f80cc0-a6a7-4c2f-caee-f8b3b0dd6c6d"
   },
   "outputs": [
    {
     "data": {
      "text/html": [
       "<div>\n",
       "<style scoped>\n",
       "    .dataframe tbody tr th:only-of-type {\n",
       "        vertical-align: middle;\n",
       "    }\n",
       "\n",
       "    .dataframe tbody tr th {\n",
       "        vertical-align: top;\n",
       "    }\n",
       "\n",
       "    .dataframe thead th {\n",
       "        text-align: right;\n",
       "    }\n",
       "</style>\n",
       "<table border=\"1\" class=\"dataframe\">\n",
       "  <thead>\n",
       "    <tr style=\"text-align: right;\">\n",
       "      <th></th>\n",
       "      <th>stocktwit_tweet</th>\n",
       "      <th>ticker</th>\n",
       "      <th>month</th>\n",
       "      <th>day</th>\n",
       "      <th>Cleaned_data</th>\n",
       "      <th>Processed_data</th>\n",
       "    </tr>\n",
       "  </thead>\n",
       "  <tbody>\n",
       "    <tr>\n",
       "      <th>0</th>\n",
       "      <td>$CELG nothing to be exited about</td>\n",
       "      <td>CELG</td>\n",
       "      <td>10</td>\n",
       "      <td>25</td>\n",
       "      <td>nothing exited</td>\n",
       "      <td>[nothing, exited]</td>\n",
       "    </tr>\n",
       "    <tr>\n",
       "      <th>1</th>\n",
       "      <td>$AMD yall exhaust your buyer on first green ca...</td>\n",
       "      <td>AMD</td>\n",
       "      <td>07</td>\n",
       "      <td>13</td>\n",
       "      <td>yall exhaust buyer first green candle byee</td>\n",
       "      <td>[yall, exhaust, buyer, first, green, candle, b...</td>\n",
       "    </tr>\n",
       "    <tr>\n",
       "      <th>2</th>\n",
       "      <td>$AMD day traders day.</td>\n",
       "      <td>AMD</td>\n",
       "      <td>09</td>\n",
       "      <td>25</td>\n",
       "      <td>day traders day</td>\n",
       "      <td>[day, traders, day]</td>\n",
       "    </tr>\n",
       "    <tr>\n",
       "      <th>3</th>\n",
       "      <td>$CBS https://tenor.com/wLB8.gif</td>\n",
       "      <td>CBS</td>\n",
       "      <td>07</td>\n",
       "      <td>27</td>\n",
       "      <td></td>\n",
       "      <td>[]</td>\n",
       "    </tr>\n",
       "    <tr>\n",
       "      <th>4</th>\n",
       "      <td>$MU weak price action so far today. Don’t be a...</td>\n",
       "      <td>MU</td>\n",
       "      <td>07</td>\n",
       "      <td>31</td>\n",
       "      <td>weak price action far today dont afraid go sho...</td>\n",
       "      <td>[weak, price, action, far, today, dont, afraid...</td>\n",
       "    </tr>\n",
       "  </tbody>\n",
       "</table>\n",
       "</div>"
      ],
      "text/plain": [
       "                                     stocktwit_tweet  ...                                     Processed_data\n",
       "0                   $CELG nothing to be exited about  ...                                  [nothing, exited]\n",
       "1  $AMD yall exhaust your buyer on first green ca...  ...  [yall, exhaust, buyer, first, green, candle, b...\n",
       "2                              $AMD day traders day.  ...                                [day, traders, day]\n",
       "3                    $CBS https://tenor.com/wLB8.gif  ...                                                 []\n",
       "4  $MU weak price action so far today. Don’t be a...  ...  [weak, price, action, far, today, dont, afraid...\n",
       "\n",
       "[5 rows x 6 columns]"
      ]
     },
     "execution_count": 79,
     "metadata": {
      "tags": []
     },
     "output_type": "execute_result"
    }
   ],
   "source": [
    "test_json.head()"
   ]
  },
  {
   "cell_type": "markdown",
   "metadata": {
    "colab_type": "text",
    "id": "ole4uWVeU0uC"
   },
   "source": [
    "### Lemmatizing the Text data"
   ]
  },
  {
   "cell_type": "code",
   "execution_count": 80,
   "metadata": {
    "colab": {
     "base_uri": "https://localhost:8080/",
     "height": 255
    },
    "colab_type": "code",
    "id": "lbkYQsN3LABP",
    "outputId": "ba469253-c653-44c3-d51a-7a803e2db0ee"
   },
   "outputs": [
    {
     "data": {
      "text/html": [
       "<div>\n",
       "<style scoped>\n",
       "    .dataframe tbody tr th:only-of-type {\n",
       "        vertical-align: middle;\n",
       "    }\n",
       "\n",
       "    .dataframe tbody tr th {\n",
       "        vertical-align: top;\n",
       "    }\n",
       "\n",
       "    .dataframe thead th {\n",
       "        text-align: right;\n",
       "    }\n",
       "</style>\n",
       "<table border=\"1\" class=\"dataframe\">\n",
       "  <thead>\n",
       "    <tr style=\"text-align: right;\">\n",
       "      <th></th>\n",
       "      <th>stocktwit_tweet</th>\n",
       "      <th>sentiment_score</th>\n",
       "      <th>ticker</th>\n",
       "      <th>month</th>\n",
       "      <th>day</th>\n",
       "      <th>Cleaned_data</th>\n",
       "      <th>Processed_data</th>\n",
       "    </tr>\n",
       "  </thead>\n",
       "  <tbody>\n",
       "    <tr>\n",
       "      <th>0</th>\n",
       "      <td>$AMD going up but hesitating however chart is ...</td>\n",
       "      <td>3</td>\n",
       "      <td>AMD</td>\n",
       "      <td>09</td>\n",
       "      <td>19</td>\n",
       "      <td>going hesitating however chart stable going up...</td>\n",
       "      <td>[go, hesitate, however, chart, stable, go, upw...</td>\n",
       "    </tr>\n",
       "    <tr>\n",
       "      <th>1</th>\n",
       "      <td>@inforlong @MariaGascon Despite\\nChina trade w...</td>\n",
       "      <td>3</td>\n",
       "      <td>CAT</td>\n",
       "      <td>10</td>\n",
       "      <td>09</td>\n",
       "      <td>despite china trade war held well thumbs</td>\n",
       "      <td>[despite, china, trade, war, hold, well, thumb]</td>\n",
       "    </tr>\n",
       "    <tr>\n",
       "      <th>2</th>\n",
       "      <td>$AVGO WTF?</td>\n",
       "      <td>2</td>\n",
       "      <td>AVGO</td>\n",
       "      <td>07</td>\n",
       "      <td>12</td>\n",
       "      <td>wtf</td>\n",
       "      <td>[wtf]</td>\n",
       "    </tr>\n",
       "    <tr>\n",
       "      <th>3</th>\n",
       "      <td>$PH\\n New Insider Filing On: \\n MULLER KLAUS P...</td>\n",
       "      <td>2</td>\n",
       "      <td>PH</td>\n",
       "      <td>07</td>\n",
       "      <td>19</td>\n",
       "      <td>new insider filing muller klaus peter transact...</td>\n",
       "      <td>[new, insider, file, muller, klaus, peter, tra...</td>\n",
       "    </tr>\n",
       "    <tr>\n",
       "      <th>4</th>\n",
       "      <td>$FB if it bounces tommorrow do the right thing...</td>\n",
       "      <td>3</td>\n",
       "      <td>FB</td>\n",
       "      <td>08</td>\n",
       "      <td>23</td>\n",
       "      <td>bounces tommorrow right thing gtfo</td>\n",
       "      <td>[bounce, tommorrow, right, thing, gtfo]</td>\n",
       "    </tr>\n",
       "  </tbody>\n",
       "</table>\n",
       "</div>"
      ],
      "text/plain": [
       "                                     stocktwit_tweet  ...                                     Processed_data\n",
       "0  $AMD going up but hesitating however chart is ...  ...  [go, hesitate, however, chart, stable, go, upw...\n",
       "1  @inforlong @MariaGascon Despite\\nChina trade w...  ...    [despite, china, trade, war, hold, well, thumb]\n",
       "2                                         $AVGO WTF?  ...                                              [wtf]\n",
       "3  $PH\\n New Insider Filing On: \\n MULLER KLAUS P...  ...  [new, insider, file, muller, klaus, peter, tra...\n",
       "4  $FB if it bounces tommorrow do the right thing...  ...            [bounce, tommorrow, right, thing, gtfo]\n",
       "\n",
       "[5 rows x 7 columns]"
      ]
     },
     "execution_count": 80,
     "metadata": {
      "tags": []
     },
     "output_type": "execute_result"
    }
   ],
   "source": [
    "## ==> for Train_json\n",
    "lemmatizer = WordNetLemmatizer()\n",
    "\n",
    "train['Processed_data'] = train['Processed_data'].apply(lambda x: [lemmatizer.lemmatize(y,pos = 'v') for y in x])\n",
    "\n",
    "train.head()"
   ]
  },
  {
   "cell_type": "code",
   "execution_count": 81,
   "metadata": {
    "colab": {
     "base_uri": "https://localhost:8080/",
     "height": 204
    },
    "colab_type": "code",
    "id": "SAQnOKt4Vd72",
    "outputId": "82202f94-67ea-4a02-c882-09b12aca453b"
   },
   "outputs": [
    {
     "data": {
      "text/html": [
       "<div>\n",
       "<style scoped>\n",
       "    .dataframe tbody tr th:only-of-type {\n",
       "        vertical-align: middle;\n",
       "    }\n",
       "\n",
       "    .dataframe tbody tr th {\n",
       "        vertical-align: top;\n",
       "    }\n",
       "\n",
       "    .dataframe thead th {\n",
       "        text-align: right;\n",
       "    }\n",
       "</style>\n",
       "<table border=\"1\" class=\"dataframe\">\n",
       "  <thead>\n",
       "    <tr style=\"text-align: right;\">\n",
       "      <th></th>\n",
       "      <th>stocktwit_tweet</th>\n",
       "      <th>ticker</th>\n",
       "      <th>month</th>\n",
       "      <th>day</th>\n",
       "      <th>Cleaned_data</th>\n",
       "      <th>Processed_data</th>\n",
       "    </tr>\n",
       "  </thead>\n",
       "  <tbody>\n",
       "    <tr>\n",
       "      <th>0</th>\n",
       "      <td>$CELG nothing to be exited about</td>\n",
       "      <td>CELG</td>\n",
       "      <td>10</td>\n",
       "      <td>25</td>\n",
       "      <td>nothing exited</td>\n",
       "      <td>[nothing, exit]</td>\n",
       "    </tr>\n",
       "    <tr>\n",
       "      <th>1</th>\n",
       "      <td>$AMD yall exhaust your buyer on first green ca...</td>\n",
       "      <td>AMD</td>\n",
       "      <td>07</td>\n",
       "      <td>13</td>\n",
       "      <td>yall exhaust buyer first green candle byee</td>\n",
       "      <td>[yall, exhaust, buyer, first, green, candle, b...</td>\n",
       "    </tr>\n",
       "    <tr>\n",
       "      <th>2</th>\n",
       "      <td>$AMD day traders day.</td>\n",
       "      <td>AMD</td>\n",
       "      <td>09</td>\n",
       "      <td>25</td>\n",
       "      <td>day traders day</td>\n",
       "      <td>[day, traders, day]</td>\n",
       "    </tr>\n",
       "    <tr>\n",
       "      <th>3</th>\n",
       "      <td>$CBS https://tenor.com/wLB8.gif</td>\n",
       "      <td>CBS</td>\n",
       "      <td>07</td>\n",
       "      <td>27</td>\n",
       "      <td></td>\n",
       "      <td>[]</td>\n",
       "    </tr>\n",
       "    <tr>\n",
       "      <th>4</th>\n",
       "      <td>$MU weak price action so far today. Don’t be a...</td>\n",
       "      <td>MU</td>\n",
       "      <td>07</td>\n",
       "      <td>31</td>\n",
       "      <td>weak price action far today dont afraid go sho...</td>\n",
       "      <td>[weak, price, action, far, today, dont, afraid...</td>\n",
       "    </tr>\n",
       "  </tbody>\n",
       "</table>\n",
       "</div>"
      ],
      "text/plain": [
       "                                     stocktwit_tweet  ...                                     Processed_data\n",
       "0                   $CELG nothing to be exited about  ...                                    [nothing, exit]\n",
       "1  $AMD yall exhaust your buyer on first green ca...  ...  [yall, exhaust, buyer, first, green, candle, b...\n",
       "2                              $AMD day traders day.  ...                                [day, traders, day]\n",
       "3                    $CBS https://tenor.com/wLB8.gif  ...                                                 []\n",
       "4  $MU weak price action so far today. Don’t be a...  ...  [weak, price, action, far, today, dont, afraid...\n",
       "\n",
       "[5 rows x 6 columns]"
      ]
     },
     "execution_count": 81,
     "metadata": {
      "tags": []
     },
     "output_type": "execute_result"
    }
   ],
   "source": [
    "## ==> for Test_json\n",
    "\n",
    "test_json['Processed_data'] = test_json['Processed_data'].apply(lambda x: [lemmatizer.lemmatize(y,pos = 'v') for y in x])\n",
    "\n",
    "test_json.head()"
   ]
  },
  {
   "cell_type": "markdown",
   "metadata": {
    "colab_type": "text",
    "id": "w_HBIOZEc84u"
   },
   "source": [
    "### Converting the Tokenized words into normal words"
   ]
  },
  {
   "cell_type": "code",
   "execution_count": 0,
   "metadata": {
    "colab": {},
    "colab_type": "code",
    "id": "On7E-0iGdTjk"
   },
   "outputs": [],
   "source": [
    "## ==> for Train_json\n",
    "train['Processed_data'] = train['Processed_data'].apply(lambda x: ' '.join(x))"
   ]
  },
  {
   "cell_type": "code",
   "execution_count": 83,
   "metadata": {
    "colab": {
     "base_uri": "https://localhost:8080/",
     "height": 221
    },
    "colab_type": "code",
    "id": "tJIPJIN05Qmm",
    "outputId": "53126396-95d1-40a8-f057-0cb9e0ed8b3e"
   },
   "outputs": [
    {
     "name": "stdout",
     "output_type": "stream",
     "text": [
      "<class 'pandas.core.frame.DataFrame'>\n",
      "Int64Index: 1039131 entries, 0 to 1039130\n",
      "Data columns (total 7 columns):\n",
      "stocktwit_tweet    1039131 non-null category\n",
      "sentiment_score    1039131 non-null category\n",
      "ticker             1039131 non-null category\n",
      "month              1039131 non-null category\n",
      "day                1039131 non-null category\n",
      "Cleaned_data       1039131 non-null object\n",
      "Processed_data     1039131 non-null object\n",
      "dtypes: category(5), object(2)\n",
      "memory usage: 80.1+ MB\n"
     ]
    }
   ],
   "source": [
    "train.info()"
   ]
  },
  {
   "cell_type": "code",
   "execution_count": 0,
   "metadata": {
    "colab": {},
    "colab_type": "code",
    "id": "e6xdYUWS6OFn"
   },
   "outputs": [],
   "source": [
    "## ==> for Test_json\n",
    "test_json['Processed_data'] = test_json['Processed_data'].apply(lambda x: ' '.join(x))"
   ]
  },
  {
   "cell_type": "code",
   "execution_count": 85,
   "metadata": {
    "colab": {
     "base_uri": "https://localhost:8080/",
     "height": 204
    },
    "colab_type": "code",
    "id": "W7P7SYeP6lpW",
    "outputId": "b0209c20-ac03-48d0-bc98-504b426b1198"
   },
   "outputs": [
    {
     "data": {
      "text/html": [
       "<div>\n",
       "<style scoped>\n",
       "    .dataframe tbody tr th:only-of-type {\n",
       "        vertical-align: middle;\n",
       "    }\n",
       "\n",
       "    .dataframe tbody tr th {\n",
       "        vertical-align: top;\n",
       "    }\n",
       "\n",
       "    .dataframe thead th {\n",
       "        text-align: right;\n",
       "    }\n",
       "</style>\n",
       "<table border=\"1\" class=\"dataframe\">\n",
       "  <thead>\n",
       "    <tr style=\"text-align: right;\">\n",
       "      <th></th>\n",
       "      <th>stocktwit_tweet</th>\n",
       "      <th>ticker</th>\n",
       "      <th>month</th>\n",
       "      <th>day</th>\n",
       "      <th>Cleaned_data</th>\n",
       "      <th>Processed_data</th>\n",
       "    </tr>\n",
       "  </thead>\n",
       "  <tbody>\n",
       "    <tr>\n",
       "      <th>0</th>\n",
       "      <td>$CELG nothing to be exited about</td>\n",
       "      <td>CELG</td>\n",
       "      <td>10</td>\n",
       "      <td>25</td>\n",
       "      <td>nothing exited</td>\n",
       "      <td>nothing exit</td>\n",
       "    </tr>\n",
       "    <tr>\n",
       "      <th>1</th>\n",
       "      <td>$AMD yall exhaust your buyer on first green ca...</td>\n",
       "      <td>AMD</td>\n",
       "      <td>07</td>\n",
       "      <td>13</td>\n",
       "      <td>yall exhaust buyer first green candle byee</td>\n",
       "      <td>yall exhaust buyer first green candle byee</td>\n",
       "    </tr>\n",
       "    <tr>\n",
       "      <th>2</th>\n",
       "      <td>$AMD day traders day.</td>\n",
       "      <td>AMD</td>\n",
       "      <td>09</td>\n",
       "      <td>25</td>\n",
       "      <td>day traders day</td>\n",
       "      <td>day traders day</td>\n",
       "    </tr>\n",
       "    <tr>\n",
       "      <th>3</th>\n",
       "      <td>$CBS https://tenor.com/wLB8.gif</td>\n",
       "      <td>CBS</td>\n",
       "      <td>07</td>\n",
       "      <td>27</td>\n",
       "      <td></td>\n",
       "      <td></td>\n",
       "    </tr>\n",
       "    <tr>\n",
       "      <th>4</th>\n",
       "      <td>$MU weak price action so far today. Don’t be a...</td>\n",
       "      <td>MU</td>\n",
       "      <td>07</td>\n",
       "      <td>31</td>\n",
       "      <td>weak price action far today dont afraid go sho...</td>\n",
       "      <td>weak price action far today dont afraid go sho...</td>\n",
       "    </tr>\n",
       "  </tbody>\n",
       "</table>\n",
       "</div>"
      ],
      "text/plain": [
       "                                     stocktwit_tweet  ...                                     Processed_data\n",
       "0                   $CELG nothing to be exited about  ...                                       nothing exit\n",
       "1  $AMD yall exhaust your buyer on first green ca...  ...         yall exhaust buyer first green candle byee\n",
       "2                              $AMD day traders day.  ...                                    day traders day\n",
       "3                    $CBS https://tenor.com/wLB8.gif  ...                                                   \n",
       "4  $MU weak price action so far today. Don’t be a...  ...  weak price action far today dont afraid go sho...\n",
       "\n",
       "[5 rows x 6 columns]"
      ]
     },
     "execution_count": 85,
     "metadata": {
      "tags": []
     },
     "output_type": "execute_result"
    }
   ],
   "source": [
    "test_json.head()"
   ]
  },
  {
   "cell_type": "code",
   "execution_count": 86,
   "metadata": {
    "colab": {
     "base_uri": "https://localhost:8080/",
     "height": 204
    },
    "colab_type": "code",
    "id": "BU5rq-je8nmj",
    "outputId": "c9ac138c-0687-4fbe-e42e-9c069c2ee150"
   },
   "outputs": [
    {
     "name": "stdout",
     "output_type": "stream",
     "text": [
      "<class 'pandas.core.frame.DataFrame'>\n",
      "Int64Index: 265022 entries, 0 to 265021\n",
      "Data columns (total 6 columns):\n",
      "stocktwit_tweet    265022 non-null category\n",
      "ticker             265022 non-null category\n",
      "month              265022 non-null category\n",
      "day                265022 non-null category\n",
      "Cleaned_data       265022 non-null object\n",
      "Processed_data     265022 non-null object\n",
      "dtypes: category(4), object(2)\n",
      "memory usage: 20.1+ MB\n"
     ]
    }
   ],
   "source": [
    "test_json.info()"
   ]
  },
  {
   "cell_type": "code",
   "execution_count": 0,
   "metadata": {
    "colab": {},
    "colab_type": "code",
    "id": "SWC9uBFw8vel"
   },
   "outputs": [],
   "source": [
    "test_json['Processed_data'] = test_json['Processed_data'].astype('category')"
   ]
  },
  {
   "cell_type": "markdown",
   "metadata": {
    "colab_type": "text",
    "id": "9u8mumZEbG8b"
   },
   "source": [
    "### WordCloud to Visualize the Word Frequency"
   ]
  },
  {
   "cell_type": "code",
   "execution_count": 88,
   "metadata": {
    "colab": {
     "base_uri": "https://localhost:8080/",
     "height": 414
    },
    "colab_type": "code",
    "id": "LL85UDFLbGO-",
    "outputId": "09f91553-7a6c-4715-b777-1c255af6fd1b"
   },
   "outputs": [
    {
     "data": {
      "image/png": "[encoded data removed]",
      "text/plain": [
       "<Figure size 720x504 with 1 Axes>"
      ]
     },
     "metadata": {
      "tags": []
     },
     "output_type": "display_data"
    },
    {
     "name": "stdout",
     "output_type": "stream",
     "text": [
      "CPU times: user 34.2 s, sys: 3.53 s, total: 37.8 s\n",
      "Wall time: 37.9 s\n"
     ]
    }
   ],
   "source": [
    "%%time\n",
    "all_words = ' '.join([text for text in train['Processed_data']])\n",
    "wordcloud = WordCloud(width=800, height=500, random_state=42, max_font_size=110).generate(all_words)\n",
    "plt.figure(figsize=(10, 7))\n",
    "plt.imshow(wordcloud, interpolation=\"bilinear\")\n",
    "plt.axis('off')\n",
    "plt.show()"
   ]
  },
  {
   "cell_type": "code",
   "execution_count": 0,
   "metadata": {
    "colab": {},
    "colab_type": "code",
    "id": "q56pO8CtbFd1"
   },
   "outputs": [],
   "source": []
  },
  {
   "cell_type": "markdown",
   "metadata": {
    "colab_type": "text",
    "id": "Rn8Hpenu8Bi4"
   },
   "source": [
    "### Splitting the Train & test in Json File"
   ]
  },
  {
   "cell_type": "code",
   "execution_count": 0,
   "metadata": {
    "colab": {},
    "colab_type": "code",
    "id": "lD7uk6H32A1e"
   },
   "outputs": [],
   "source": [
    "from sklearn.model_selection import train_test_split"
   ]
  },
  {
   "cell_type": "code",
   "execution_count": 0,
   "metadata": {
    "colab": {},
    "colab_type": "code",
    "id": "k7ZshJSxDRKK"
   },
   "outputs": [],
   "source": [
    "X = train['Processed_data']\n",
    "Y = train['sentiment_score']"
   ]
  },
  {
   "cell_type": "code",
   "execution_count": 0,
   "metadata": {
    "colab": {},
    "colab_type": "code",
    "id": "ZtunYBI53bu3"
   },
   "outputs": [],
   "source": [
    "from sklearn.feature_extraction.text import CountVectorizer\n",
    "cv = CountVectorizer()"
   ]
  },
  {
   "cell_type": "code",
   "execution_count": 0,
   "metadata": {
    "colab": {},
    "colab_type": "code",
    "id": "Sk4p511131m3"
   },
   "outputs": [],
   "source": [
    "x_train_json, x_test_json, y_train_json, y_test_json = train_test_split(X, Y,test_size=0.3, random_state=123)"
   ]
  },
  {
   "cell_type": "code",
   "execution_count": 0,
   "metadata": {
    "colab": {},
    "colab_type": "code",
    "id": "qU8zbSadkF3m"
   },
   "outputs": [],
   "source": [
    "x_train_json = cv.fit_transform(x_train_json)\n",
    "x_test_json = cv.transform(x_test_json)"
   ]
  },
  {
   "cell_type": "code",
   "execution_count": 0,
   "metadata": {
    "colab": {},
    "colab_type": "code",
    "id": "BWhnk_3b-gJJ"
   },
   "outputs": [],
   "source": [
    "Test_data = test_json['Processed_data']\n",
    "Vectorized_test_data = cv.transform(Test_data)"
   ]
  },
  {
   "cell_type": "code",
   "execution_count": 0,
   "metadata": {
    "colab": {},
    "colab_type": "code",
    "id": "8CuPjotm-fn9"
   },
   "outputs": [],
   "source": []
  },
  {
   "cell_type": "markdown",
   "metadata": {
    "colab_type": "text",
    "id": "gifF-kjukhMD"
   },
   "source": [
    "### Model Building"
   ]
  },
  {
   "cell_type": "code",
   "execution_count": 0,
   "metadata": {
    "colab": {},
    "colab_type": "code",
    "id": "9aaj9vg_kFXS"
   },
   "outputs": [],
   "source": [
    "from sklearn.linear_model import LogisticRegression\n",
    "from sklearn.model_selection import GridSearchCV,cross_val_score"
   ]
  },
  {
   "cell_type": "code",
   "execution_count": 0,
   "metadata": {
    "colab": {},
    "colab_type": "code",
    "id": "CZY8bmZHl724"
   },
   "outputs": [],
   "source": [
    "log_reg = LogisticRegression(penalty='l2')"
   ]
  },
  {
   "cell_type": "code",
   "execution_count": 0,
   "metadata": {
    "colab": {},
    "colab_type": "code",
    "id": "wq-t33IHl7by"
   },
   "outputs": [],
   "source": [
    "param_grid = {'C': [0.001, 0.01, 0.1] }\n",
    "Logistic_model = GridSearchCV(log_reg, param_grid, cv=5,verbose=1, n_jobs=-1)"
   ]
  },
  {
   "cell_type": "code",
   "execution_count": 98,
   "metadata": {
    "colab": {
     "base_uri": "https://localhost:8080/",
     "height": 272
    },
    "colab_type": "code",
    "id": "G9TFbTlPl7Ab",
    "outputId": "0a91502b-96c0-47e6-dbe3-85dcf0c9c248"
   },
   "outputs": [
    {
     "name": "stdout",
     "output_type": "stream",
     "text": [
      "Fitting 5 folds for each of 3 candidates, totalling 15 fits\n"
     ]
    },
    {
     "name": "stderr",
     "output_type": "stream",
     "text": [
      "[Parallel(n_jobs=-1)]: Using backend LokyBackend with 2 concurrent workers.\n",
      "[Parallel(n_jobs=-1)]: Done  15 out of  15 | elapsed: 12.6min finished\n"
     ]
    },
    {
     "data": {
      "text/plain": [
       "GridSearchCV(cv=5, error_score='raise-deprecating',\n",
       "             estimator=LogisticRegression(C=1.0, class_weight=None, dual=False,\n",
       "                                          fit_intercept=True,\n",
       "                                          intercept_scaling=1, l1_ratio=None,\n",
       "                                          max_iter=100, multi_class='warn',\n",
       "                                          n_jobs=None, penalty='l2',\n",
       "                                          random_state=None, solver='warn',\n",
       "                                          tol=0.0001, verbose=0,\n",
       "                                          warm_start=False),\n",
       "             iid='warn', n_jobs=-1, param_grid={'C': [0.001, 0.01, 0.1]},\n",
       "             pre_dispatch='2*n_jobs', refit=True, return_train_score=False,\n",
       "             scoring=None, verbose=1)"
      ]
     },
     "execution_count": 98,
     "metadata": {
      "tags": []
     },
     "output_type": "execute_result"
    }
   ],
   "source": [
    "Logistic_model.fit(x_train_json,y_train_json)"
   ]
  },
  {
   "cell_type": "code",
   "execution_count": 99,
   "metadata": {
    "colab": {
     "base_uri": "https://localhost:8080/",
     "height": 51
    },
    "colab_type": "code",
    "id": "VZt-c_2v4R6k",
    "outputId": "15fb3877-e753-43f4-eaaf-cb0d989c551a"
   },
   "outputs": [
    {
     "name": "stdout",
     "output_type": "stream",
     "text": [
      "0.6450258526707094\n",
      "0.6365079874254186\n"
     ]
    }
   ],
   "source": [
    "train_json_pred = Logistic_model.predict(x_train_json)\n",
    "test_json_pred = Logistic_model.predict(x_test_json)\n",
    "\n",
    "print(Logistic_model.score(x_train_json, y_train_json))\n",
    "print(Logistic_model.score(x_test_json, y_test_json))"
   ]
  },
  {
   "cell_type": "code",
   "execution_count": 0,
   "metadata": {
    "colab": {},
    "colab_type": "code",
    "id": "kbyGhgdp5yut"
   },
   "outputs": [],
   "source": [
    "from sklearn.metrics import f1_score\n",
    "from sklearn.metrics import classification_report"
   ]
  },
  {
   "cell_type": "code",
   "execution_count": 101,
   "metadata": {
    "colab": {
     "base_uri": "https://localhost:8080/",
     "height": 238
    },
    "colab_type": "code",
    "id": "Mj8sSjFU7CvK",
    "outputId": "ff737264-088f-461f-f8c6-cef1bb2bfb73"
   },
   "outputs": [
    {
     "name": "stdout",
     "output_type": "stream",
     "text": [
      "[0.58444691 0.43358466 0.75909474 0.44443602 0.62215567]\n",
      "              precision    recall  f1-score   support\n",
      "\n",
      "           0       0.67      0.52      0.58     64636\n",
      "           1       0.60      0.34      0.43     84365\n",
      "           2       0.66      0.89      0.76    325086\n",
      "           3       0.58      0.36      0.44    145667\n",
      "           4       0.65      0.59      0.62    107637\n",
      "\n",
      "    accuracy                           0.65    727391\n",
      "   macro avg       0.63      0.54      0.57    727391\n",
      "weighted avg       0.64      0.65      0.62    727391\n",
      "\n"
     ]
    }
   ],
   "source": [
    "print(f1_score(y_true=y_train_json, y_pred=train_json_pred, average=None))\n",
    "print(classification_report(y_true=y_train_json, y_pred=train_json_pred))"
   ]
  },
  {
   "cell_type": "code",
   "execution_count": 102,
   "metadata": {
    "colab": {
     "base_uri": "https://localhost:8080/",
     "height": 238
    },
    "colab_type": "code",
    "id": "wZltmAsO6VaR",
    "outputId": "17b287fa-f26a-4f88-f990-1ff778e0f1ae"
   },
   "outputs": [
    {
     "name": "stdout",
     "output_type": "stream",
     "text": [
      "[0.57264273 0.41808149 0.7543714  0.42965589 0.61054908]\n",
      "              precision    recall  f1-score   support\n",
      "\n",
      "           0       0.65      0.51      0.57     27386\n",
      "           1       0.59      0.32      0.42     36406\n",
      "           2       0.65      0.89      0.75    139316\n",
      "           3       0.56      0.35      0.43     62364\n",
      "           4       0.64      0.58      0.61     46268\n",
      "\n",
      "    accuracy                           0.64    311740\n",
      "   macro avg       0.62      0.53      0.56    311740\n",
      "weighted avg       0.63      0.64      0.61    311740\n",
      "\n"
     ]
    }
   ],
   "source": [
    "print(f1_score(y_true=y_test_json, y_pred=test_json_pred, average=None))\n",
    "print(classification_report(y_true=y_test_json, y_pred=test_json_pred))"
   ]
  },
  {
   "cell_type": "code",
   "execution_count": 103,
   "metadata": {
    "colab": {
     "base_uri": "https://localhost:8080/",
     "height": 34
    },
    "colab_type": "code",
    "id": "JRHErvJg7amw",
    "outputId": "6b12d848-962f-4130-a421-b3a039300305"
   },
   "outputs": [
    {
     "data": {
      "text/plain": [
       "array([2, 4, 2, ..., 2, 2, 4])"
      ]
     },
     "execution_count": 103,
     "metadata": {
      "tags": []
     },
     "output_type": "execute_result"
    }
   ],
   "source": [
    "test_json_Predictions = Logistic_model.predict(Vectorized_test_data)\n",
    "test_json_Predictions"
   ]
  },
  {
   "cell_type": "code",
   "execution_count": 104,
   "metadata": {
    "colab": {
     "base_uri": "https://localhost:8080/",
     "height": 204
    },
    "colab_type": "code",
    "id": "_jbvVgrQb1SH",
    "outputId": "04c9b093-d282-426d-8d7b-84bc9f124071"
   },
   "outputs": [
    {
     "data": {
      "text/html": [
       "<div>\n",
       "<style scoped>\n",
       "    .dataframe tbody tr th:only-of-type {\n",
       "        vertical-align: middle;\n",
       "    }\n",
       "\n",
       "    .dataframe tbody tr th {\n",
       "        vertical-align: top;\n",
       "    }\n",
       "\n",
       "    .dataframe thead th {\n",
       "        text-align: right;\n",
       "    }\n",
       "</style>\n",
       "<table border=\"1\" class=\"dataframe\">\n",
       "  <thead>\n",
       "    <tr style=\"text-align: right;\">\n",
       "      <th></th>\n",
       "      <th>stocktwit_tweet</th>\n",
       "      <th>ticker</th>\n",
       "      <th>month</th>\n",
       "      <th>day</th>\n",
       "      <th>Cleaned_data</th>\n",
       "      <th>Processed_data</th>\n",
       "    </tr>\n",
       "  </thead>\n",
       "  <tbody>\n",
       "    <tr>\n",
       "      <th>0</th>\n",
       "      <td>$CELG nothing to be exited about</td>\n",
       "      <td>CELG</td>\n",
       "      <td>10</td>\n",
       "      <td>25</td>\n",
       "      <td>nothing exited</td>\n",
       "      <td>nothing exit</td>\n",
       "    </tr>\n",
       "    <tr>\n",
       "      <th>1</th>\n",
       "      <td>$AMD yall exhaust your buyer on first green ca...</td>\n",
       "      <td>AMD</td>\n",
       "      <td>07</td>\n",
       "      <td>13</td>\n",
       "      <td>yall exhaust buyer first green candle byee</td>\n",
       "      <td>yall exhaust buyer first green candle byee</td>\n",
       "    </tr>\n",
       "    <tr>\n",
       "      <th>2</th>\n",
       "      <td>$AMD day traders day.</td>\n",
       "      <td>AMD</td>\n",
       "      <td>09</td>\n",
       "      <td>25</td>\n",
       "      <td>day traders day</td>\n",
       "      <td>day traders day</td>\n",
       "    </tr>\n",
       "    <tr>\n",
       "      <th>3</th>\n",
       "      <td>$CBS https://tenor.com/wLB8.gif</td>\n",
       "      <td>CBS</td>\n",
       "      <td>07</td>\n",
       "      <td>27</td>\n",
       "      <td></td>\n",
       "      <td></td>\n",
       "    </tr>\n",
       "    <tr>\n",
       "      <th>4</th>\n",
       "      <td>$MU weak price action so far today. Don’t be a...</td>\n",
       "      <td>MU</td>\n",
       "      <td>07</td>\n",
       "      <td>31</td>\n",
       "      <td>weak price action far today dont afraid go sho...</td>\n",
       "      <td>weak price action far today dont afraid go sho...</td>\n",
       "    </tr>\n",
       "  </tbody>\n",
       "</table>\n",
       "</div>"
      ],
      "text/plain": [
       "                                     stocktwit_tweet  ...                                     Processed_data\n",
       "0                   $CELG nothing to be exited about  ...                                       nothing exit\n",
       "1  $AMD yall exhaust your buyer on first green ca...  ...         yall exhaust buyer first green candle byee\n",
       "2                              $AMD day traders day.  ...                                    day traders day\n",
       "3                    $CBS https://tenor.com/wLB8.gif  ...                                                   \n",
       "4  $MU weak price action so far today. Don’t be a...  ...  weak price action far today dont afraid go sho...\n",
       "\n",
       "[5 rows x 6 columns]"
      ]
     },
     "execution_count": 104,
     "metadata": {
      "tags": []
     },
     "output_type": "execute_result"
    }
   ],
   "source": [
    "test_json.head()"
   ]
  },
  {
   "cell_type": "code",
   "execution_count": 0,
   "metadata": {
    "colab": {},
    "colab_type": "code",
    "id": "WorKUtpZ2-Zd"
   },
   "outputs": [],
   "source": []
  },
  {
   "cell_type": "markdown",
   "metadata": {
    "colab_type": "text",
    "id": "AasixDLoiKI_"
   },
   "source": [
    "# Reading the CSV File"
   ]
  },
  {
   "cell_type": "markdown",
   "metadata": {
    "colab_type": "text",
    "id": "_JGEUIo5iRh4"
   },
   "source": [
    "#### Importing Libraries"
   ]
  },
  {
   "cell_type": "code",
   "execution_count": 0,
   "metadata": {
    "colab": {},
    "colab_type": "code",
    "id": "tWNdtv60f9Wb"
   },
   "outputs": [],
   "source": [
    "import os\n",
    "import numpy as np\n",
    "import pandas as pd\n",
    "\n",
    "import warnings\n",
    "warnings.filterwarnings('ignore')"
   ]
  },
  {
   "cell_type": "code",
   "execution_count": 0,
   "metadata": {
    "colab": {},
    "colab_type": "code",
    "id": "nWaFX8eXUCNr"
   },
   "outputs": [],
   "source": [
    "from sklearn import preprocessing\n",
    "from sklearn.impute import SimpleImputer\n",
    "\n",
    "from sklearn.compose import ColumnTransformer\n",
    "\n",
    "from sklearn.preprocessing import StandardScaler\n",
    "from sklearn.preprocessing import OneHotEncoder\n",
    "from sklearn.model_selection import train_test_split\n",
    "from sklearn.pipeline import Pipeline\n",
    "from sklearn.model_selection import GridSearchCV, cross_val_score, StratifiedKFold\n",
    "\n",
    "from sklearn.tree import DecisionTreeClassifier\n"
   ]
  },
  {
   "cell_type": "markdown",
   "metadata": {
    "colab_type": "text",
    "id": "FmQXHQGziczZ"
   },
   "source": [
    "#### Reading the CSV data file"
   ]
  },
  {
   "cell_type": "code",
   "execution_count": 0,
   "metadata": {
    "colab": {},
    "colab_type": "code",
    "id": "bQGNXw9diYh9"
   },
   "outputs": [],
   "source": [
    "## ==> Train_data\n",
    "data = pd.read_csv(\"/content/drive/My Drive/DATASET/train_factors.csv\")"
   ]
  },
  {
   "cell_type": "code",
   "execution_count": 0,
   "metadata": {
    "colab": {},
    "colab_type": "code",
    "id": "mRdzo3Tvilev"
   },
   "outputs": [],
   "source": [
    "## ==> Test_data\n",
    "test = pd.read_csv(\"/content/drive/My Drive/DATASET/test_factors.csv\")"
   ]
  },
  {
   "cell_type": "markdown",
   "metadata": {
    "colab_type": "text",
    "id": "NWsAForUj8Rp"
   },
   "source": [
    " \n"
   ]
  },
  {
   "cell_type": "markdown",
   "metadata": {
    "colab_type": "text",
    "id": "o6kfOcD2itbs"
   },
   "source": [
    "#### Checking the Shape of the CSV file"
   ]
  },
  {
   "cell_type": "code",
   "execution_count": 109,
   "metadata": {
    "colab": {
     "base_uri": "https://localhost:8080/",
     "height": 34
    },
    "colab_type": "code",
    "id": "Z5q81oEJin79",
    "outputId": "00f2efca-38b2-4bb5-d418-b2c5521a7b65"
   },
   "outputs": [
    {
     "data": {
      "text/plain": [
       "(27006, 11)"
      ]
     },
     "execution_count": 109,
     "metadata": {
      "tags": []
     },
     "output_type": "execute_result"
    }
   ],
   "source": [
    "data.shape"
   ]
  },
  {
   "cell_type": "code",
   "execution_count": 110,
   "metadata": {
    "colab": {
     "base_uri": "https://localhost:8080/",
     "height": 204
    },
    "colab_type": "code",
    "id": "4aVrbIknjLPL",
    "outputId": "1ac5bf72-8f64-424f-8cd7-d23612875671"
   },
   "outputs": [
    {
     "data": {
      "text/html": [
       "<div>\n",
       "<style scoped>\n",
       "    .dataframe tbody tr th:only-of-type {\n",
       "        vertical-align: middle;\n",
       "    }\n",
       "\n",
       "    .dataframe tbody tr th {\n",
       "        vertical-align: top;\n",
       "    }\n",
       "\n",
       "    .dataframe thead th {\n",
       "        text-align: right;\n",
       "    }\n",
       "</style>\n",
       "<table border=\"1\" class=\"dataframe\">\n",
       "  <thead>\n",
       "    <tr style=\"text-align: right;\">\n",
       "      <th></th>\n",
       "      <th>Id</th>\n",
       "      <th>date</th>\n",
       "      <th>ticker</th>\n",
       "      <th>SF1</th>\n",
       "      <th>SF2</th>\n",
       "      <th>SF3</th>\n",
       "      <th>SF4</th>\n",
       "      <th>SF5</th>\n",
       "      <th>SF6</th>\n",
       "      <th>SF7</th>\n",
       "      <th>alpha</th>\n",
       "    </tr>\n",
       "  </thead>\n",
       "  <tbody>\n",
       "    <tr>\n",
       "      <th>0</th>\n",
       "      <td>1</td>\n",
       "      <td>21/08/18</td>\n",
       "      <td>$NTAP</td>\n",
       "      <td>-0.628652</td>\n",
       "      <td>0.988891</td>\n",
       "      <td>-0.055714</td>\n",
       "      <td>0.774379</td>\n",
       "      <td>0.551089</td>\n",
       "      <td>-1.329229</td>\n",
       "      <td>-0.995539</td>\n",
       "      <td>2</td>\n",
       "    </tr>\n",
       "    <tr>\n",
       "      <th>1</th>\n",
       "      <td>2</td>\n",
       "      <td>11/10/18</td>\n",
       "      <td>$WYNN</td>\n",
       "      <td>1.315786</td>\n",
       "      <td>1.438754</td>\n",
       "      <td>0.187327</td>\n",
       "      <td>0.608933</td>\n",
       "      <td>-1.153030</td>\n",
       "      <td>1.859441</td>\n",
       "      <td>0.730995</td>\n",
       "      <td>3</td>\n",
       "    </tr>\n",
       "    <tr>\n",
       "      <th>2</th>\n",
       "      <td>3</td>\n",
       "      <td>21/08/18</td>\n",
       "      <td>$DRI</td>\n",
       "      <td>-1.141388</td>\n",
       "      <td>-1.455016</td>\n",
       "      <td>0.332755</td>\n",
       "      <td>0.674502</td>\n",
       "      <td>0.111326</td>\n",
       "      <td>-0.478597</td>\n",
       "      <td>-1.488157</td>\n",
       "      <td>1</td>\n",
       "    </tr>\n",
       "    <tr>\n",
       "      <th>3</th>\n",
       "      <td>4</td>\n",
       "      <td>10/07/18</td>\n",
       "      <td>$ge</td>\n",
       "      <td>-0.054839</td>\n",
       "      <td>-1.454149</td>\n",
       "      <td>-0.162267</td>\n",
       "      <td>-0.681870</td>\n",
       "      <td>0.307869</td>\n",
       "      <td>-0.529987</td>\n",
       "      <td>0.404172</td>\n",
       "      <td>2</td>\n",
       "    </tr>\n",
       "    <tr>\n",
       "      <th>4</th>\n",
       "      <td>5</td>\n",
       "      <td>12/09/18</td>\n",
       "      <td>$FE</td>\n",
       "      <td>-0.686366</td>\n",
       "      <td>0.838865</td>\n",
       "      <td>0.073830</td>\n",
       "      <td>0.679024</td>\n",
       "      <td>0.329463</td>\n",
       "      <td>1.262782</td>\n",
       "      <td>-1.024042</td>\n",
       "      <td>2</td>\n",
       "    </tr>\n",
       "  </tbody>\n",
       "</table>\n",
       "</div>"
      ],
      "text/plain": [
       "   Id      date ticker       SF1  ...       SF5       SF6       SF7  alpha\n",
       "0   1  21/08/18  $NTAP -0.628652  ...  0.551089 -1.329229 -0.995539      2\n",
       "1   2  11/10/18  $WYNN  1.315786  ... -1.153030  1.859441  0.730995      3\n",
       "2   3  21/08/18   $DRI -1.141388  ...  0.111326 -0.478597 -1.488157      1\n",
       "3   4  10/07/18    $ge -0.054839  ...  0.307869 -0.529987  0.404172      2\n",
       "4   5  12/09/18    $FE -0.686366  ...  0.329463  1.262782 -1.024042      2\n",
       "\n",
       "[5 rows x 11 columns]"
      ]
     },
     "execution_count": 110,
     "metadata": {
      "tags": []
     },
     "output_type": "execute_result"
    }
   ],
   "source": [
    "data.head()"
   ]
  },
  {
   "cell_type": "code",
   "execution_count": 111,
   "metadata": {
    "colab": {
     "base_uri": "https://localhost:8080/",
     "height": 221
    },
    "colab_type": "code",
    "id": "cN3ALut8kZcz",
    "outputId": "4e2b324d-fd75-4092-9fee-940100f5c127"
   },
   "outputs": [
    {
     "data": {
      "text/plain": [
       "Id          int64\n",
       "date       object\n",
       "ticker     object\n",
       "SF1       float64\n",
       "SF2       float64\n",
       "SF3       float64\n",
       "SF4       float64\n",
       "SF5       float64\n",
       "SF6       float64\n",
       "SF7       float64\n",
       "alpha       int64\n",
       "dtype: object"
      ]
     },
     "execution_count": 111,
     "metadata": {
      "tags": []
     },
     "output_type": "execute_result"
    }
   ],
   "source": [
    "data.dtypes"
   ]
  },
  {
   "cell_type": "code",
   "execution_count": 112,
   "metadata": {
    "colab": {
     "base_uri": "https://localhost:8080/",
     "height": 34
    },
    "colab_type": "code",
    "id": "-MJFr5S4i1VP",
    "outputId": "aab4cbc2-4706-4d7f-b558-74cad2c7220d"
   },
   "outputs": [
    {
     "data": {
      "text/plain": [
       "(11575, 10)"
      ]
     },
     "execution_count": 112,
     "metadata": {
      "tags": []
     },
     "output_type": "execute_result"
    }
   ],
   "source": [
    "test.shape"
   ]
  },
  {
   "cell_type": "code",
   "execution_count": 113,
   "metadata": {
    "colab": {
     "base_uri": "https://localhost:8080/",
     "height": 204
    },
    "colab_type": "code",
    "id": "omrcjyuVi4Yx",
    "outputId": "54d8d0a9-643d-42f2-946b-4b5432aa4355"
   },
   "outputs": [
    {
     "data": {
      "text/html": [
       "<div>\n",
       "<style scoped>\n",
       "    .dataframe tbody tr th:only-of-type {\n",
       "        vertical-align: middle;\n",
       "    }\n",
       "\n",
       "    .dataframe tbody tr th {\n",
       "        vertical-align: top;\n",
       "    }\n",
       "\n",
       "    .dataframe thead th {\n",
       "        text-align: right;\n",
       "    }\n",
       "</style>\n",
       "<table border=\"1\" class=\"dataframe\">\n",
       "  <thead>\n",
       "    <tr style=\"text-align: right;\">\n",
       "      <th></th>\n",
       "      <th>Id</th>\n",
       "      <th>date</th>\n",
       "      <th>ticker</th>\n",
       "      <th>SF1</th>\n",
       "      <th>SF2</th>\n",
       "      <th>SF3</th>\n",
       "      <th>SF4</th>\n",
       "      <th>SF5</th>\n",
       "      <th>SF6</th>\n",
       "      <th>SF7</th>\n",
       "    </tr>\n",
       "  </thead>\n",
       "  <tbody>\n",
       "    <tr>\n",
       "      <th>0</th>\n",
       "      <td>270007</td>\n",
       "      <td>21/07/18</td>\n",
       "      <td>$INTC</td>\n",
       "      <td>-3.062194</td>\n",
       "      <td>1.223466</td>\n",
       "      <td>1.741714</td>\n",
       "      <td>2.279266</td>\n",
       "      <td>-1.323573</td>\n",
       "      <td>-0.274912</td>\n",
       "      <td>-4.504449</td>\n",
       "    </tr>\n",
       "    <tr>\n",
       "      <th>1</th>\n",
       "      <td>270008</td>\n",
       "      <td>05/10/18</td>\n",
       "      <td>$CTSH</td>\n",
       "      <td>0.816263</td>\n",
       "      <td>-2.184408</td>\n",
       "      <td>0.157975</td>\n",
       "      <td>-0.264743</td>\n",
       "      <td>-0.836282</td>\n",
       "      <td>0.046276</td>\n",
       "      <td>0.826353</td>\n",
       "    </tr>\n",
       "    <tr>\n",
       "      <th>2</th>\n",
       "      <td>270009</td>\n",
       "      <td>01/10/18</td>\n",
       "      <td>$CB</td>\n",
       "      <td>0.401281</td>\n",
       "      <td>0.091604</td>\n",
       "      <td>0.083411</td>\n",
       "      <td>-1.147041</td>\n",
       "      <td>-0.485223</td>\n",
       "      <td>-0.601060</td>\n",
       "      <td>1.012811</td>\n",
       "    </tr>\n",
       "    <tr>\n",
       "      <th>3</th>\n",
       "      <td>270010</td>\n",
       "      <td>24/10/18</td>\n",
       "      <td>$CTAS</td>\n",
       "      <td>-0.783521</td>\n",
       "      <td>1.192929</td>\n",
       "      <td>0.813831</td>\n",
       "      <td>-0.368166</td>\n",
       "      <td>-1.113656</td>\n",
       "      <td>-0.553581</td>\n",
       "      <td>-0.683803</td>\n",
       "    </tr>\n",
       "    <tr>\n",
       "      <th>4</th>\n",
       "      <td>270011</td>\n",
       "      <td>27/07/18</td>\n",
       "      <td>$intc</td>\n",
       "      <td>0.796507</td>\n",
       "      <td>0.455341</td>\n",
       "      <td>0.679032</td>\n",
       "      <td>0.354336</td>\n",
       "      <td>-1.799055</td>\n",
       "      <td>0.126153</td>\n",
       "      <td>0.297111</td>\n",
       "    </tr>\n",
       "  </tbody>\n",
       "</table>\n",
       "</div>"
      ],
      "text/plain": [
       "       Id      date ticker       SF1  ...       SF4       SF5       SF6       SF7\n",
       "0  270007  21/07/18  $INTC -3.062194  ...  2.279266 -1.323573 -0.274912 -4.504449\n",
       "1  270008  05/10/18  $CTSH  0.816263  ... -0.264743 -0.836282  0.046276  0.826353\n",
       "2  270009  01/10/18    $CB  0.401281  ... -1.147041 -0.485223 -0.601060  1.012811\n",
       "3  270010  24/10/18  $CTAS -0.783521  ... -0.368166 -1.113656 -0.553581 -0.683803\n",
       "4  270011  27/07/18  $intc  0.796507  ...  0.354336 -1.799055  0.126153  0.297111\n",
       "\n",
       "[5 rows x 10 columns]"
      ]
     },
     "execution_count": 113,
     "metadata": {
      "tags": []
     },
     "output_type": "execute_result"
    }
   ],
   "source": [
    "test.head()"
   ]
  },
  {
   "cell_type": "code",
   "execution_count": 114,
   "metadata": {
    "colab": {
     "base_uri": "https://localhost:8080/",
     "height": 204
    },
    "colab_type": "code",
    "id": "gq4Q11ojjQ28",
    "outputId": "6284ed04-8626-4698-b5a6-247fea04ce34"
   },
   "outputs": [
    {
     "data": {
      "text/plain": [
       "Id          int64\n",
       "date       object\n",
       "ticker     object\n",
       "SF1       float64\n",
       "SF2       float64\n",
       "SF3       float64\n",
       "SF4       float64\n",
       "SF5       float64\n",
       "SF6       float64\n",
       "SF7       float64\n",
       "dtype: object"
      ]
     },
     "execution_count": 114,
     "metadata": {
      "tags": []
     },
     "output_type": "execute_result"
    }
   ],
   "source": [
    "test.dtypes"
   ]
  },
  {
   "cell_type": "markdown",
   "metadata": {
    "colab_type": "text",
    "id": "qEmWe-nukm-A"
   },
   "source": [
    "#### Changing the \"ticker\" & \"date\" Column in csv file"
   ]
  },
  {
   "cell_type": "code",
   "execution_count": 115,
   "metadata": {
    "colab": {
     "base_uri": "https://localhost:8080/",
     "height": 204
    },
    "colab_type": "code",
    "id": "d9u-e3OhkmjN",
    "outputId": "7cd80682-0ab7-4ada-8275-ea117cbccbec"
   },
   "outputs": [
    {
     "data": {
      "text/html": [
       "<div>\n",
       "<style scoped>\n",
       "    .dataframe tbody tr th:only-of-type {\n",
       "        vertical-align: middle;\n",
       "    }\n",
       "\n",
       "    .dataframe tbody tr th {\n",
       "        vertical-align: top;\n",
       "    }\n",
       "\n",
       "    .dataframe thead th {\n",
       "        text-align: right;\n",
       "    }\n",
       "</style>\n",
       "<table border=\"1\" class=\"dataframe\">\n",
       "  <thead>\n",
       "    <tr style=\"text-align: right;\">\n",
       "      <th></th>\n",
       "      <th>Id</th>\n",
       "      <th>date</th>\n",
       "      <th>ticker</th>\n",
       "      <th>SF1</th>\n",
       "      <th>SF2</th>\n",
       "      <th>SF3</th>\n",
       "      <th>SF4</th>\n",
       "      <th>SF5</th>\n",
       "      <th>SF6</th>\n",
       "      <th>SF7</th>\n",
       "      <th>alpha</th>\n",
       "    </tr>\n",
       "  </thead>\n",
       "  <tbody>\n",
       "    <tr>\n",
       "      <th>0</th>\n",
       "      <td>1</td>\n",
       "      <td>21/08/18</td>\n",
       "      <td>NTAP</td>\n",
       "      <td>-0.628652</td>\n",
       "      <td>0.988891</td>\n",
       "      <td>-0.055714</td>\n",
       "      <td>0.774379</td>\n",
       "      <td>0.551089</td>\n",
       "      <td>-1.329229</td>\n",
       "      <td>-0.995539</td>\n",
       "      <td>2</td>\n",
       "    </tr>\n",
       "    <tr>\n",
       "      <th>1</th>\n",
       "      <td>2</td>\n",
       "      <td>11/10/18</td>\n",
       "      <td>WYNN</td>\n",
       "      <td>1.315786</td>\n",
       "      <td>1.438754</td>\n",
       "      <td>0.187327</td>\n",
       "      <td>0.608933</td>\n",
       "      <td>-1.153030</td>\n",
       "      <td>1.859441</td>\n",
       "      <td>0.730995</td>\n",
       "      <td>3</td>\n",
       "    </tr>\n",
       "    <tr>\n",
       "      <th>2</th>\n",
       "      <td>3</td>\n",
       "      <td>21/08/18</td>\n",
       "      <td>DRI</td>\n",
       "      <td>-1.141388</td>\n",
       "      <td>-1.455016</td>\n",
       "      <td>0.332755</td>\n",
       "      <td>0.674502</td>\n",
       "      <td>0.111326</td>\n",
       "      <td>-0.478597</td>\n",
       "      <td>-1.488157</td>\n",
       "      <td>1</td>\n",
       "    </tr>\n",
       "    <tr>\n",
       "      <th>3</th>\n",
       "      <td>4</td>\n",
       "      <td>10/07/18</td>\n",
       "      <td>GE</td>\n",
       "      <td>-0.054839</td>\n",
       "      <td>-1.454149</td>\n",
       "      <td>-0.162267</td>\n",
       "      <td>-0.681870</td>\n",
       "      <td>0.307869</td>\n",
       "      <td>-0.529987</td>\n",
       "      <td>0.404172</td>\n",
       "      <td>2</td>\n",
       "    </tr>\n",
       "    <tr>\n",
       "      <th>4</th>\n",
       "      <td>5</td>\n",
       "      <td>12/09/18</td>\n",
       "      <td>FE</td>\n",
       "      <td>-0.686366</td>\n",
       "      <td>0.838865</td>\n",
       "      <td>0.073830</td>\n",
       "      <td>0.679024</td>\n",
       "      <td>0.329463</td>\n",
       "      <td>1.262782</td>\n",
       "      <td>-1.024042</td>\n",
       "      <td>2</td>\n",
       "    </tr>\n",
       "  </tbody>\n",
       "</table>\n",
       "</div>"
      ],
      "text/plain": [
       "   Id      date ticker       SF1  ...       SF5       SF6       SF7  alpha\n",
       "0   1  21/08/18   NTAP -0.628652  ...  0.551089 -1.329229 -0.995539      2\n",
       "1   2  11/10/18   WYNN  1.315786  ... -1.153030  1.859441  0.730995      3\n",
       "2   3  21/08/18    DRI -1.141388  ...  0.111326 -0.478597 -1.488157      1\n",
       "3   4  10/07/18     GE -0.054839  ...  0.307869 -0.529987  0.404172      2\n",
       "4   5  12/09/18     FE -0.686366  ...  0.329463  1.262782 -1.024042      2\n",
       "\n",
       "[5 rows x 11 columns]"
      ]
     },
     "execution_count": 115,
     "metadata": {
      "tags": []
     },
     "output_type": "execute_result"
    }
   ],
   "source": [
    "## ==> for Train_data\n",
    "data[\"ticker\"] = data[\"ticker\"].str.replace('$','')\n",
    "data[\"ticker\"] = data[\"ticker\"].str.upper()\n",
    "data.head()"
   ]
  },
  {
   "cell_type": "code",
   "execution_count": 116,
   "metadata": {
    "colab": {
     "base_uri": "https://localhost:8080/",
     "height": 204
    },
    "colab_type": "code",
    "id": "hAu4MJi0khMS",
    "outputId": "4763e78c-2c5f-4002-e5c4-a9bce652b823"
   },
   "outputs": [
    {
     "data": {
      "text/html": [
       "<div>\n",
       "<style scoped>\n",
       "    .dataframe tbody tr th:only-of-type {\n",
       "        vertical-align: middle;\n",
       "    }\n",
       "\n",
       "    .dataframe tbody tr th {\n",
       "        vertical-align: top;\n",
       "    }\n",
       "\n",
       "    .dataframe thead th {\n",
       "        text-align: right;\n",
       "    }\n",
       "</style>\n",
       "<table border=\"1\" class=\"dataframe\">\n",
       "  <thead>\n",
       "    <tr style=\"text-align: right;\">\n",
       "      <th></th>\n",
       "      <th>Id</th>\n",
       "      <th>date</th>\n",
       "      <th>ticker</th>\n",
       "      <th>SF1</th>\n",
       "      <th>SF2</th>\n",
       "      <th>SF3</th>\n",
       "      <th>SF4</th>\n",
       "      <th>SF5</th>\n",
       "      <th>SF6</th>\n",
       "      <th>SF7</th>\n",
       "      <th>alpha</th>\n",
       "      <th>month</th>\n",
       "      <th>day</th>\n",
       "    </tr>\n",
       "  </thead>\n",
       "  <tbody>\n",
       "    <tr>\n",
       "      <th>0</th>\n",
       "      <td>1</td>\n",
       "      <td>21/08/18</td>\n",
       "      <td>NTAP</td>\n",
       "      <td>-0.628652</td>\n",
       "      <td>0.988891</td>\n",
       "      <td>-0.055714</td>\n",
       "      <td>0.774379</td>\n",
       "      <td>0.551089</td>\n",
       "      <td>-1.329229</td>\n",
       "      <td>-0.995539</td>\n",
       "      <td>2</td>\n",
       "      <td>08</td>\n",
       "      <td>21</td>\n",
       "    </tr>\n",
       "    <tr>\n",
       "      <th>1</th>\n",
       "      <td>2</td>\n",
       "      <td>11/10/18</td>\n",
       "      <td>WYNN</td>\n",
       "      <td>1.315786</td>\n",
       "      <td>1.438754</td>\n",
       "      <td>0.187327</td>\n",
       "      <td>0.608933</td>\n",
       "      <td>-1.153030</td>\n",
       "      <td>1.859441</td>\n",
       "      <td>0.730995</td>\n",
       "      <td>3</td>\n",
       "      <td>10</td>\n",
       "      <td>11</td>\n",
       "    </tr>\n",
       "    <tr>\n",
       "      <th>2</th>\n",
       "      <td>3</td>\n",
       "      <td>21/08/18</td>\n",
       "      <td>DRI</td>\n",
       "      <td>-1.141388</td>\n",
       "      <td>-1.455016</td>\n",
       "      <td>0.332755</td>\n",
       "      <td>0.674502</td>\n",
       "      <td>0.111326</td>\n",
       "      <td>-0.478597</td>\n",
       "      <td>-1.488157</td>\n",
       "      <td>1</td>\n",
       "      <td>08</td>\n",
       "      <td>21</td>\n",
       "    </tr>\n",
       "    <tr>\n",
       "      <th>3</th>\n",
       "      <td>4</td>\n",
       "      <td>10/07/18</td>\n",
       "      <td>GE</td>\n",
       "      <td>-0.054839</td>\n",
       "      <td>-1.454149</td>\n",
       "      <td>-0.162267</td>\n",
       "      <td>-0.681870</td>\n",
       "      <td>0.307869</td>\n",
       "      <td>-0.529987</td>\n",
       "      <td>0.404172</td>\n",
       "      <td>2</td>\n",
       "      <td>07</td>\n",
       "      <td>10</td>\n",
       "    </tr>\n",
       "    <tr>\n",
       "      <th>4</th>\n",
       "      <td>5</td>\n",
       "      <td>12/09/18</td>\n",
       "      <td>FE</td>\n",
       "      <td>-0.686366</td>\n",
       "      <td>0.838865</td>\n",
       "      <td>0.073830</td>\n",
       "      <td>0.679024</td>\n",
       "      <td>0.329463</td>\n",
       "      <td>1.262782</td>\n",
       "      <td>-1.024042</td>\n",
       "      <td>2</td>\n",
       "      <td>09</td>\n",
       "      <td>12</td>\n",
       "    </tr>\n",
       "  </tbody>\n",
       "</table>\n",
       "</div>"
      ],
      "text/plain": [
       "   Id      date ticker       SF1       SF2  ...       SF6       SF7  alpha  month  day\n",
       "0   1  21/08/18   NTAP -0.628652  0.988891  ... -1.329229 -0.995539      2     08   21\n",
       "1   2  11/10/18   WYNN  1.315786  1.438754  ...  1.859441  0.730995      3     10   11\n",
       "2   3  21/08/18    DRI -1.141388 -1.455016  ... -0.478597 -1.488157      1     08   21\n",
       "3   4  10/07/18     GE -0.054839 -1.454149  ... -0.529987  0.404172      2     07   10\n",
       "4   5  12/09/18     FE -0.686366  0.838865  ...  1.262782 -1.024042      2     09   12\n",
       "\n",
       "[5 rows x 13 columns]"
      ]
     },
     "execution_count": 116,
     "metadata": {
      "tags": []
     },
     "output_type": "execute_result"
    }
   ],
   "source": [
    "data['month'] = data['date'].str.split('/', expand = True)[1]\n",
    "data['day'] = data['date'].str.split('/',expand = True)[0]\n",
    "\n",
    "data.head()"
   ]
  },
  {
   "cell_type": "code",
   "execution_count": 117,
   "metadata": {
    "colab": {
     "base_uri": "https://localhost:8080/",
     "height": 255
    },
    "colab_type": "code",
    "id": "_7-lfKLGmMDL",
    "outputId": "a396f54c-b2cb-4d9e-b9da-73240dd74e91"
   },
   "outputs": [
    {
     "data": {
      "text/plain": [
       "Id          int64\n",
       "date       object\n",
       "ticker     object\n",
       "SF1       float64\n",
       "SF2       float64\n",
       "SF3       float64\n",
       "SF4       float64\n",
       "SF5       float64\n",
       "SF6       float64\n",
       "SF7       float64\n",
       "alpha       int64\n",
       "month      object\n",
       "day        object\n",
       "dtype: object"
      ]
     },
     "execution_count": 117,
     "metadata": {
      "tags": []
     },
     "output_type": "execute_result"
    }
   ],
   "source": [
    "data.dtypes"
   ]
  },
  {
   "cell_type": "code",
   "execution_count": 118,
   "metadata": {
    "colab": {
     "base_uri": "https://localhost:8080/",
     "height": 204
    },
    "colab_type": "code",
    "id": "eVxY2jwGlM-I",
    "outputId": "dbcdb4e3-f19d-4c22-86ea-7d9f48b834d0"
   },
   "outputs": [
    {
     "data": {
      "text/html": [
       "<div>\n",
       "<style scoped>\n",
       "    .dataframe tbody tr th:only-of-type {\n",
       "        vertical-align: middle;\n",
       "    }\n",
       "\n",
       "    .dataframe tbody tr th {\n",
       "        vertical-align: top;\n",
       "    }\n",
       "\n",
       "    .dataframe thead th {\n",
       "        text-align: right;\n",
       "    }\n",
       "</style>\n",
       "<table border=\"1\" class=\"dataframe\">\n",
       "  <thead>\n",
       "    <tr style=\"text-align: right;\">\n",
       "      <th></th>\n",
       "      <th>Id</th>\n",
       "      <th>date</th>\n",
       "      <th>ticker</th>\n",
       "      <th>SF1</th>\n",
       "      <th>SF2</th>\n",
       "      <th>SF3</th>\n",
       "      <th>SF4</th>\n",
       "      <th>SF5</th>\n",
       "      <th>SF6</th>\n",
       "      <th>SF7</th>\n",
       "    </tr>\n",
       "  </thead>\n",
       "  <tbody>\n",
       "    <tr>\n",
       "      <th>0</th>\n",
       "      <td>270007</td>\n",
       "      <td>21/07/18</td>\n",
       "      <td>INTC</td>\n",
       "      <td>-3.062194</td>\n",
       "      <td>1.223466</td>\n",
       "      <td>1.741714</td>\n",
       "      <td>2.279266</td>\n",
       "      <td>-1.323573</td>\n",
       "      <td>-0.274912</td>\n",
       "      <td>-4.504449</td>\n",
       "    </tr>\n",
       "    <tr>\n",
       "      <th>1</th>\n",
       "      <td>270008</td>\n",
       "      <td>05/10/18</td>\n",
       "      <td>CTSH</td>\n",
       "      <td>0.816263</td>\n",
       "      <td>-2.184408</td>\n",
       "      <td>0.157975</td>\n",
       "      <td>-0.264743</td>\n",
       "      <td>-0.836282</td>\n",
       "      <td>0.046276</td>\n",
       "      <td>0.826353</td>\n",
       "    </tr>\n",
       "    <tr>\n",
       "      <th>2</th>\n",
       "      <td>270009</td>\n",
       "      <td>01/10/18</td>\n",
       "      <td>CB</td>\n",
       "      <td>0.401281</td>\n",
       "      <td>0.091604</td>\n",
       "      <td>0.083411</td>\n",
       "      <td>-1.147041</td>\n",
       "      <td>-0.485223</td>\n",
       "      <td>-0.601060</td>\n",
       "      <td>1.012811</td>\n",
       "    </tr>\n",
       "    <tr>\n",
       "      <th>3</th>\n",
       "      <td>270010</td>\n",
       "      <td>24/10/18</td>\n",
       "      <td>CTAS</td>\n",
       "      <td>-0.783521</td>\n",
       "      <td>1.192929</td>\n",
       "      <td>0.813831</td>\n",
       "      <td>-0.368166</td>\n",
       "      <td>-1.113656</td>\n",
       "      <td>-0.553581</td>\n",
       "      <td>-0.683803</td>\n",
       "    </tr>\n",
       "    <tr>\n",
       "      <th>4</th>\n",
       "      <td>270011</td>\n",
       "      <td>27/07/18</td>\n",
       "      <td>INTC</td>\n",
       "      <td>0.796507</td>\n",
       "      <td>0.455341</td>\n",
       "      <td>0.679032</td>\n",
       "      <td>0.354336</td>\n",
       "      <td>-1.799055</td>\n",
       "      <td>0.126153</td>\n",
       "      <td>0.297111</td>\n",
       "    </tr>\n",
       "  </tbody>\n",
       "</table>\n",
       "</div>"
      ],
      "text/plain": [
       "       Id      date ticker       SF1  ...       SF4       SF5       SF6       SF7\n",
       "0  270007  21/07/18   INTC -3.062194  ...  2.279266 -1.323573 -0.274912 -4.504449\n",
       "1  270008  05/10/18   CTSH  0.816263  ... -0.264743 -0.836282  0.046276  0.826353\n",
       "2  270009  01/10/18     CB  0.401281  ... -1.147041 -0.485223 -0.601060  1.012811\n",
       "3  270010  24/10/18   CTAS -0.783521  ... -0.368166 -1.113656 -0.553581 -0.683803\n",
       "4  270011  27/07/18   INTC  0.796507  ...  0.354336 -1.799055  0.126153  0.297111\n",
       "\n",
       "[5 rows x 10 columns]"
      ]
     },
     "execution_count": 118,
     "metadata": {
      "tags": []
     },
     "output_type": "execute_result"
    }
   ],
   "source": [
    "## ==> for Test_data\n",
    "test['ticker'] = test['ticker'].str.replace('$','')\n",
    "test['ticker'] = test['ticker'].str.upper()\n",
    "\n",
    "test.head()"
   ]
  },
  {
   "cell_type": "code",
   "execution_count": 119,
   "metadata": {
    "colab": {
     "base_uri": "https://localhost:8080/",
     "height": 204
    },
    "colab_type": "code",
    "id": "bax9LmFilW6d",
    "outputId": "1bef599d-7c69-4fed-e3b8-41337d0ac947"
   },
   "outputs": [
    {
     "data": {
      "text/html": [
       "<div>\n",
       "<style scoped>\n",
       "    .dataframe tbody tr th:only-of-type {\n",
       "        vertical-align: middle;\n",
       "    }\n",
       "\n",
       "    .dataframe tbody tr th {\n",
       "        vertical-align: top;\n",
       "    }\n",
       "\n",
       "    .dataframe thead th {\n",
       "        text-align: right;\n",
       "    }\n",
       "</style>\n",
       "<table border=\"1\" class=\"dataframe\">\n",
       "  <thead>\n",
       "    <tr style=\"text-align: right;\">\n",
       "      <th></th>\n",
       "      <th>Id</th>\n",
       "      <th>date</th>\n",
       "      <th>ticker</th>\n",
       "      <th>SF1</th>\n",
       "      <th>SF2</th>\n",
       "      <th>SF3</th>\n",
       "      <th>SF4</th>\n",
       "      <th>SF5</th>\n",
       "      <th>SF6</th>\n",
       "      <th>SF7</th>\n",
       "      <th>month</th>\n",
       "      <th>day</th>\n",
       "    </tr>\n",
       "  </thead>\n",
       "  <tbody>\n",
       "    <tr>\n",
       "      <th>0</th>\n",
       "      <td>270007</td>\n",
       "      <td>21/07/18</td>\n",
       "      <td>INTC</td>\n",
       "      <td>-3.062194</td>\n",
       "      <td>1.223466</td>\n",
       "      <td>1.741714</td>\n",
       "      <td>2.279266</td>\n",
       "      <td>-1.323573</td>\n",
       "      <td>-0.274912</td>\n",
       "      <td>-4.504449</td>\n",
       "      <td>07</td>\n",
       "      <td>21</td>\n",
       "    </tr>\n",
       "    <tr>\n",
       "      <th>1</th>\n",
       "      <td>270008</td>\n",
       "      <td>05/10/18</td>\n",
       "      <td>CTSH</td>\n",
       "      <td>0.816263</td>\n",
       "      <td>-2.184408</td>\n",
       "      <td>0.157975</td>\n",
       "      <td>-0.264743</td>\n",
       "      <td>-0.836282</td>\n",
       "      <td>0.046276</td>\n",
       "      <td>0.826353</td>\n",
       "      <td>10</td>\n",
       "      <td>05</td>\n",
       "    </tr>\n",
       "    <tr>\n",
       "      <th>2</th>\n",
       "      <td>270009</td>\n",
       "      <td>01/10/18</td>\n",
       "      <td>CB</td>\n",
       "      <td>0.401281</td>\n",
       "      <td>0.091604</td>\n",
       "      <td>0.083411</td>\n",
       "      <td>-1.147041</td>\n",
       "      <td>-0.485223</td>\n",
       "      <td>-0.601060</td>\n",
       "      <td>1.012811</td>\n",
       "      <td>10</td>\n",
       "      <td>01</td>\n",
       "    </tr>\n",
       "    <tr>\n",
       "      <th>3</th>\n",
       "      <td>270010</td>\n",
       "      <td>24/10/18</td>\n",
       "      <td>CTAS</td>\n",
       "      <td>-0.783521</td>\n",
       "      <td>1.192929</td>\n",
       "      <td>0.813831</td>\n",
       "      <td>-0.368166</td>\n",
       "      <td>-1.113656</td>\n",
       "      <td>-0.553581</td>\n",
       "      <td>-0.683803</td>\n",
       "      <td>10</td>\n",
       "      <td>24</td>\n",
       "    </tr>\n",
       "    <tr>\n",
       "      <th>4</th>\n",
       "      <td>270011</td>\n",
       "      <td>27/07/18</td>\n",
       "      <td>INTC</td>\n",
       "      <td>0.796507</td>\n",
       "      <td>0.455341</td>\n",
       "      <td>0.679032</td>\n",
       "      <td>0.354336</td>\n",
       "      <td>-1.799055</td>\n",
       "      <td>0.126153</td>\n",
       "      <td>0.297111</td>\n",
       "      <td>07</td>\n",
       "      <td>27</td>\n",
       "    </tr>\n",
       "  </tbody>\n",
       "</table>\n",
       "</div>"
      ],
      "text/plain": [
       "       Id      date ticker       SF1  ...       SF6       SF7  month  day\n",
       "0  270007  21/07/18   INTC -3.062194  ... -0.274912 -4.504449     07   21\n",
       "1  270008  05/10/18   CTSH  0.816263  ...  0.046276  0.826353     10   05\n",
       "2  270009  01/10/18     CB  0.401281  ... -0.601060  1.012811     10   01\n",
       "3  270010  24/10/18   CTAS -0.783521  ... -0.553581 -0.683803     10   24\n",
       "4  270011  27/07/18   INTC  0.796507  ...  0.126153  0.297111     07   27\n",
       "\n",
       "[5 rows x 12 columns]"
      ]
     },
     "execution_count": 119,
     "metadata": {
      "tags": []
     },
     "output_type": "execute_result"
    }
   ],
   "source": [
    "test['month'] = test['date'].str.split('/', expand = True)[1]\n",
    "test['day'] = test['date'].str.split('/',expand = True)[0]\n",
    "\n",
    "test.head()"
   ]
  },
  {
   "cell_type": "code",
   "execution_count": 120,
   "metadata": {
    "colab": {
     "base_uri": "https://localhost:8080/",
     "height": 238
    },
    "colab_type": "code",
    "id": "jt1aJlXxmQhy",
    "outputId": "4d99f429-dfce-4b14-f63a-25c79d350903"
   },
   "outputs": [
    {
     "data": {
      "text/plain": [
       "Id          int64\n",
       "date       object\n",
       "ticker     object\n",
       "SF1       float64\n",
       "SF2       float64\n",
       "SF3       float64\n",
       "SF4       float64\n",
       "SF5       float64\n",
       "SF6       float64\n",
       "SF7       float64\n",
       "month      object\n",
       "day        object\n",
       "dtype: object"
      ]
     },
     "execution_count": 120,
     "metadata": {
      "tags": []
     },
     "output_type": "execute_result"
    }
   ],
   "source": [
    "test.dtypes"
   ]
  },
  {
   "cell_type": "markdown",
   "metadata": {
    "colab_type": "text",
    "id": "wnAKXXAHmD86"
   },
   "source": [
    "#### Changing the DataTypes in CSV file"
   ]
  },
  {
   "cell_type": "code",
   "execution_count": 0,
   "metadata": {
    "colab": {},
    "colab_type": "code",
    "id": "Fp2nKuOtl59O"
   },
   "outputs": [],
   "source": [
    "## ==> for Train_data\n",
    "for i in ['ticker','alpha','month','day']:\n",
    "    data[i] = data[i].astype('category')"
   ]
  },
  {
   "cell_type": "code",
   "execution_count": 122,
   "metadata": {
    "colab": {
     "base_uri": "https://localhost:8080/",
     "height": 255
    },
    "colab_type": "code",
    "id": "wk4LbBvAmZzO",
    "outputId": "8c04327b-e5a2-4fdd-e85b-047034a5ab8e"
   },
   "outputs": [
    {
     "data": {
      "text/plain": [
       "Id           int64\n",
       "date        object\n",
       "ticker    category\n",
       "SF1        float64\n",
       "SF2        float64\n",
       "SF3        float64\n",
       "SF4        float64\n",
       "SF5        float64\n",
       "SF6        float64\n",
       "SF7        float64\n",
       "alpha     category\n",
       "month     category\n",
       "day       category\n",
       "dtype: object"
      ]
     },
     "execution_count": 122,
     "metadata": {
      "tags": []
     },
     "output_type": "execute_result"
    }
   ],
   "source": [
    "data.dtypes"
   ]
  },
  {
   "cell_type": "code",
   "execution_count": 0,
   "metadata": {
    "colab": {},
    "colab_type": "code",
    "id": "RfV1R_QtmkdV"
   },
   "outputs": [],
   "source": [
    "## ==> for Test_data\n",
    "for i in ['ticker','month','day']:\n",
    "  test[i] = test[i].astype('category')"
   ]
  },
  {
   "cell_type": "code",
   "execution_count": 124,
   "metadata": {
    "colab": {
     "base_uri": "https://localhost:8080/",
     "height": 238
    },
    "colab_type": "code",
    "id": "zHQHP7n4mqYe",
    "outputId": "42fa3a15-6a54-4a88-f70e-2280bd69e02c"
   },
   "outputs": [
    {
     "data": {
      "text/plain": [
       "Id           int64\n",
       "date        object\n",
       "ticker    category\n",
       "SF1        float64\n",
       "SF2        float64\n",
       "SF3        float64\n",
       "SF4        float64\n",
       "SF5        float64\n",
       "SF6        float64\n",
       "SF7        float64\n",
       "month     category\n",
       "day       category\n",
       "dtype: object"
      ]
     },
     "execution_count": 124,
     "metadata": {
      "tags": []
     },
     "output_type": "execute_result"
    }
   ],
   "source": [
    "test.dtypes"
   ]
  },
  {
   "cell_type": "markdown",
   "metadata": {
    "colab_type": "text",
    "id": "RcFvq2xQm2DF"
   },
   "source": [
    "#### Droping Unnecessary columns in CSV file"
   ]
  },
  {
   "cell_type": "code",
   "execution_count": 125,
   "metadata": {
    "colab": {
     "base_uri": "https://localhost:8080/",
     "height": 204
    },
    "colab_type": "code",
    "id": "CeKqMlRomsLs",
    "outputId": "7422cd55-9442-4eb1-bda7-684000cd717a"
   },
   "outputs": [
    {
     "data": {
      "text/html": [
       "<div>\n",
       "<style scoped>\n",
       "    .dataframe tbody tr th:only-of-type {\n",
       "        vertical-align: middle;\n",
       "    }\n",
       "\n",
       "    .dataframe tbody tr th {\n",
       "        vertical-align: top;\n",
       "    }\n",
       "\n",
       "    .dataframe thead th {\n",
       "        text-align: right;\n",
       "    }\n",
       "</style>\n",
       "<table border=\"1\" class=\"dataframe\">\n",
       "  <thead>\n",
       "    <tr style=\"text-align: right;\">\n",
       "      <th></th>\n",
       "      <th>ticker</th>\n",
       "      <th>SF1</th>\n",
       "      <th>SF2</th>\n",
       "      <th>SF3</th>\n",
       "      <th>SF4</th>\n",
       "      <th>SF5</th>\n",
       "      <th>SF6</th>\n",
       "      <th>SF7</th>\n",
       "      <th>alpha</th>\n",
       "      <th>month</th>\n",
       "      <th>day</th>\n",
       "    </tr>\n",
       "  </thead>\n",
       "  <tbody>\n",
       "    <tr>\n",
       "      <th>0</th>\n",
       "      <td>NTAP</td>\n",
       "      <td>-0.628652</td>\n",
       "      <td>0.988891</td>\n",
       "      <td>-0.055714</td>\n",
       "      <td>0.774379</td>\n",
       "      <td>0.551089</td>\n",
       "      <td>-1.329229</td>\n",
       "      <td>-0.995539</td>\n",
       "      <td>2</td>\n",
       "      <td>08</td>\n",
       "      <td>21</td>\n",
       "    </tr>\n",
       "    <tr>\n",
       "      <th>1</th>\n",
       "      <td>WYNN</td>\n",
       "      <td>1.315786</td>\n",
       "      <td>1.438754</td>\n",
       "      <td>0.187327</td>\n",
       "      <td>0.608933</td>\n",
       "      <td>-1.153030</td>\n",
       "      <td>1.859441</td>\n",
       "      <td>0.730995</td>\n",
       "      <td>3</td>\n",
       "      <td>10</td>\n",
       "      <td>11</td>\n",
       "    </tr>\n",
       "    <tr>\n",
       "      <th>2</th>\n",
       "      <td>DRI</td>\n",
       "      <td>-1.141388</td>\n",
       "      <td>-1.455016</td>\n",
       "      <td>0.332755</td>\n",
       "      <td>0.674502</td>\n",
       "      <td>0.111326</td>\n",
       "      <td>-0.478597</td>\n",
       "      <td>-1.488157</td>\n",
       "      <td>1</td>\n",
       "      <td>08</td>\n",
       "      <td>21</td>\n",
       "    </tr>\n",
       "    <tr>\n",
       "      <th>3</th>\n",
       "      <td>GE</td>\n",
       "      <td>-0.054839</td>\n",
       "      <td>-1.454149</td>\n",
       "      <td>-0.162267</td>\n",
       "      <td>-0.681870</td>\n",
       "      <td>0.307869</td>\n",
       "      <td>-0.529987</td>\n",
       "      <td>0.404172</td>\n",
       "      <td>2</td>\n",
       "      <td>07</td>\n",
       "      <td>10</td>\n",
       "    </tr>\n",
       "    <tr>\n",
       "      <th>4</th>\n",
       "      <td>FE</td>\n",
       "      <td>-0.686366</td>\n",
       "      <td>0.838865</td>\n",
       "      <td>0.073830</td>\n",
       "      <td>0.679024</td>\n",
       "      <td>0.329463</td>\n",
       "      <td>1.262782</td>\n",
       "      <td>-1.024042</td>\n",
       "      <td>2</td>\n",
       "      <td>09</td>\n",
       "      <td>12</td>\n",
       "    </tr>\n",
       "  </tbody>\n",
       "</table>\n",
       "</div>"
      ],
      "text/plain": [
       "  ticker       SF1       SF2       SF3  ...       SF7  alpha  month  day\n",
       "0   NTAP -0.628652  0.988891 -0.055714  ... -0.995539      2     08   21\n",
       "1   WYNN  1.315786  1.438754  0.187327  ...  0.730995      3     10   11\n",
       "2    DRI -1.141388 -1.455016  0.332755  ... -1.488157      1     08   21\n",
       "3     GE -0.054839 -1.454149 -0.162267  ...  0.404172      2     07   10\n",
       "4     FE -0.686366  0.838865  0.073830  ... -1.024042      2     09   12\n",
       "\n",
       "[5 rows x 11 columns]"
      ]
     },
     "execution_count": 125,
     "metadata": {
      "tags": []
     },
     "output_type": "execute_result"
    }
   ],
   "source": [
    "## ==> for train_data\n",
    "data.drop(['Id','date'], axis=1, inplace= True)\n",
    "data.head()"
   ]
  },
  {
   "cell_type": "code",
   "execution_count": 126,
   "metadata": {
    "colab": {
     "base_uri": "https://localhost:8080/",
     "height": 204
    },
    "colab_type": "code",
    "id": "f0WbOswbm7vQ",
    "outputId": "de32d82a-f2c6-43cd-b20b-109ddbd77689"
   },
   "outputs": [
    {
     "data": {
      "text/html": [
       "<div>\n",
       "<style scoped>\n",
       "    .dataframe tbody tr th:only-of-type {\n",
       "        vertical-align: middle;\n",
       "    }\n",
       "\n",
       "    .dataframe tbody tr th {\n",
       "        vertical-align: top;\n",
       "    }\n",
       "\n",
       "    .dataframe thead th {\n",
       "        text-align: right;\n",
       "    }\n",
       "</style>\n",
       "<table border=\"1\" class=\"dataframe\">\n",
       "  <thead>\n",
       "    <tr style=\"text-align: right;\">\n",
       "      <th></th>\n",
       "      <th>ticker</th>\n",
       "      <th>SF1</th>\n",
       "      <th>SF2</th>\n",
       "      <th>SF3</th>\n",
       "      <th>SF4</th>\n",
       "      <th>SF5</th>\n",
       "      <th>SF6</th>\n",
       "      <th>SF7</th>\n",
       "      <th>month</th>\n",
       "      <th>day</th>\n",
       "    </tr>\n",
       "  </thead>\n",
       "  <tbody>\n",
       "    <tr>\n",
       "      <th>0</th>\n",
       "      <td>INTC</td>\n",
       "      <td>-3.062194</td>\n",
       "      <td>1.223466</td>\n",
       "      <td>1.741714</td>\n",
       "      <td>2.279266</td>\n",
       "      <td>-1.323573</td>\n",
       "      <td>-0.274912</td>\n",
       "      <td>-4.504449</td>\n",
       "      <td>07</td>\n",
       "      <td>21</td>\n",
       "    </tr>\n",
       "    <tr>\n",
       "      <th>1</th>\n",
       "      <td>CTSH</td>\n",
       "      <td>0.816263</td>\n",
       "      <td>-2.184408</td>\n",
       "      <td>0.157975</td>\n",
       "      <td>-0.264743</td>\n",
       "      <td>-0.836282</td>\n",
       "      <td>0.046276</td>\n",
       "      <td>0.826353</td>\n",
       "      <td>10</td>\n",
       "      <td>05</td>\n",
       "    </tr>\n",
       "    <tr>\n",
       "      <th>2</th>\n",
       "      <td>CB</td>\n",
       "      <td>0.401281</td>\n",
       "      <td>0.091604</td>\n",
       "      <td>0.083411</td>\n",
       "      <td>-1.147041</td>\n",
       "      <td>-0.485223</td>\n",
       "      <td>-0.601060</td>\n",
       "      <td>1.012811</td>\n",
       "      <td>10</td>\n",
       "      <td>01</td>\n",
       "    </tr>\n",
       "    <tr>\n",
       "      <th>3</th>\n",
       "      <td>CTAS</td>\n",
       "      <td>-0.783521</td>\n",
       "      <td>1.192929</td>\n",
       "      <td>0.813831</td>\n",
       "      <td>-0.368166</td>\n",
       "      <td>-1.113656</td>\n",
       "      <td>-0.553581</td>\n",
       "      <td>-0.683803</td>\n",
       "      <td>10</td>\n",
       "      <td>24</td>\n",
       "    </tr>\n",
       "    <tr>\n",
       "      <th>4</th>\n",
       "      <td>INTC</td>\n",
       "      <td>0.796507</td>\n",
       "      <td>0.455341</td>\n",
       "      <td>0.679032</td>\n",
       "      <td>0.354336</td>\n",
       "      <td>-1.799055</td>\n",
       "      <td>0.126153</td>\n",
       "      <td>0.297111</td>\n",
       "      <td>07</td>\n",
       "      <td>27</td>\n",
       "    </tr>\n",
       "  </tbody>\n",
       "</table>\n",
       "</div>"
      ],
      "text/plain": [
       "  ticker       SF1       SF2       SF3  ...       SF6       SF7  month  day\n",
       "0   INTC -3.062194  1.223466  1.741714  ... -0.274912 -4.504449     07   21\n",
       "1   CTSH  0.816263 -2.184408  0.157975  ...  0.046276  0.826353     10   05\n",
       "2     CB  0.401281  0.091604  0.083411  ... -0.601060  1.012811     10   01\n",
       "3   CTAS -0.783521  1.192929  0.813831  ... -0.553581 -0.683803     10   24\n",
       "4   INTC  0.796507  0.455341  0.679032  ...  0.126153  0.297111     07   27\n",
       "\n",
       "[5 rows x 10 columns]"
      ]
     },
     "execution_count": 126,
     "metadata": {
      "tags": []
     },
     "output_type": "execute_result"
    }
   ],
   "source": [
    "## ==> for Test_data\n",
    "test.drop(['Id','date'], axis=1, inplace= True)\n",
    "test.head()"
   ]
  },
  {
   "cell_type": "markdown",
   "metadata": {
    "colab_type": "text",
    "id": "bP28ygminHS2"
   },
   "source": [
    "#### Decsribeing the Data in CSV file"
   ]
  },
  {
   "cell_type": "code",
   "execution_count": 127,
   "metadata": {
    "colab": {
     "base_uri": "https://localhost:8080/",
     "height": 297
    },
    "colab_type": "code",
    "id": "L3Pq6ZnonBWa",
    "outputId": "80fd6115-7bc8-40c9-b40d-0aa27e2db9ed"
   },
   "outputs": [
    {
     "data": {
      "text/html": [
       "<div>\n",
       "<style scoped>\n",
       "    .dataframe tbody tr th:only-of-type {\n",
       "        vertical-align: middle;\n",
       "    }\n",
       "\n",
       "    .dataframe tbody tr th {\n",
       "        vertical-align: top;\n",
       "    }\n",
       "\n",
       "    .dataframe thead th {\n",
       "        text-align: right;\n",
       "    }\n",
       "</style>\n",
       "<table border=\"1\" class=\"dataframe\">\n",
       "  <thead>\n",
       "    <tr style=\"text-align: right;\">\n",
       "      <th></th>\n",
       "      <th>SF1</th>\n",
       "      <th>SF2</th>\n",
       "      <th>SF3</th>\n",
       "      <th>SF4</th>\n",
       "      <th>SF5</th>\n",
       "      <th>SF6</th>\n",
       "      <th>SF7</th>\n",
       "    </tr>\n",
       "  </thead>\n",
       "  <tbody>\n",
       "    <tr>\n",
       "      <th>count</th>\n",
       "      <td>27006.000000</td>\n",
       "      <td>27006.000000</td>\n",
       "      <td>27006.000000</td>\n",
       "      <td>27006.000000</td>\n",
       "      <td>27006.000000</td>\n",
       "      <td>27006.000000</td>\n",
       "      <td>27006.000000</td>\n",
       "    </tr>\n",
       "    <tr>\n",
       "      <th>mean</th>\n",
       "      <td>0.005429</td>\n",
       "      <td>-0.001005</td>\n",
       "      <td>-0.024421</td>\n",
       "      <td>-0.042420</td>\n",
       "      <td>0.041465</td>\n",
       "      <td>0.002597</td>\n",
       "      <td>0.036744</td>\n",
       "    </tr>\n",
       "    <tr>\n",
       "      <th>std</th>\n",
       "      <td>0.941853</td>\n",
       "      <td>0.996130</td>\n",
       "      <td>0.539555</td>\n",
       "      <td>1.111309</td>\n",
       "      <td>0.976028</td>\n",
       "      <td>0.998839</td>\n",
       "      <td>1.204473</td>\n",
       "    </tr>\n",
       "    <tr>\n",
       "      <th>min</th>\n",
       "      <td>-4.114670</td>\n",
       "      <td>-4.578587</td>\n",
       "      <td>-2.609150</td>\n",
       "      <td>-6.329798</td>\n",
       "      <td>-5.480268</td>\n",
       "      <td>-4.338751</td>\n",
       "      <td>-5.347869</td>\n",
       "    </tr>\n",
       "    <tr>\n",
       "      <th>25%</th>\n",
       "      <td>-0.596792</td>\n",
       "      <td>-0.666310</td>\n",
       "      <td>-0.300187</td>\n",
       "      <td>-0.767247</td>\n",
       "      <td>-0.518641</td>\n",
       "      <td>-0.668027</td>\n",
       "      <td>-0.688198</td>\n",
       "    </tr>\n",
       "    <tr>\n",
       "      <th>50%</th>\n",
       "      <td>0.012104</td>\n",
       "      <td>-0.013257</td>\n",
       "      <td>-0.040786</td>\n",
       "      <td>-0.058629</td>\n",
       "      <td>0.072127</td>\n",
       "      <td>0.007417</td>\n",
       "      <td>0.081374</td>\n",
       "    </tr>\n",
       "    <tr>\n",
       "      <th>75%</th>\n",
       "      <td>0.611574</td>\n",
       "      <td>0.669094</td>\n",
       "      <td>0.241424</td>\n",
       "      <td>0.677433</td>\n",
       "      <td>0.616538</td>\n",
       "      <td>0.674592</td>\n",
       "      <td>0.807556</td>\n",
       "    </tr>\n",
       "    <tr>\n",
       "      <th>max</th>\n",
       "      <td>4.415048</td>\n",
       "      <td>3.822270</td>\n",
       "      <td>3.452486</td>\n",
       "      <td>4.907407</td>\n",
       "      <td>4.779911</td>\n",
       "      <td>4.075428</td>\n",
       "      <td>5.182912</td>\n",
       "    </tr>\n",
       "  </tbody>\n",
       "</table>\n",
       "</div>"
      ],
      "text/plain": [
       "                SF1           SF2  ...           SF6           SF7\n",
       "count  27006.000000  27006.000000  ...  27006.000000  27006.000000\n",
       "mean       0.005429     -0.001005  ...      0.002597      0.036744\n",
       "std        0.941853      0.996130  ...      0.998839      1.204473\n",
       "min       -4.114670     -4.578587  ...     -4.338751     -5.347869\n",
       "25%       -0.596792     -0.666310  ...     -0.668027     -0.688198\n",
       "50%        0.012104     -0.013257  ...      0.007417      0.081374\n",
       "75%        0.611574      0.669094  ...      0.674592      0.807556\n",
       "max        4.415048      3.822270  ...      4.075428      5.182912\n",
       "\n",
       "[8 rows x 7 columns]"
      ]
     },
     "execution_count": 127,
     "metadata": {
      "tags": []
     },
     "output_type": "execute_result"
    }
   ],
   "source": [
    "data.describe()"
   ]
  },
  {
   "cell_type": "code",
   "execution_count": 128,
   "metadata": {
    "colab": {
     "base_uri": "https://localhost:8080/",
     "height": 173
    },
    "colab_type": "code",
    "id": "xrb0pqjSnLh8",
    "outputId": "d7757f74-0a43-47ef-b189-f8bc995bb8c6"
   },
   "outputs": [
    {
     "data": {
      "text/html": [
       "<div>\n",
       "<style scoped>\n",
       "    .dataframe tbody tr th:only-of-type {\n",
       "        vertical-align: middle;\n",
       "    }\n",
       "\n",
       "    .dataframe tbody tr th {\n",
       "        vertical-align: top;\n",
       "    }\n",
       "\n",
       "    .dataframe thead th {\n",
       "        text-align: right;\n",
       "    }\n",
       "</style>\n",
       "<table border=\"1\" class=\"dataframe\">\n",
       "  <thead>\n",
       "    <tr style=\"text-align: right;\">\n",
       "      <th></th>\n",
       "      <th>ticker</th>\n",
       "      <th>alpha</th>\n",
       "      <th>month</th>\n",
       "      <th>day</th>\n",
       "    </tr>\n",
       "  </thead>\n",
       "  <tbody>\n",
       "    <tr>\n",
       "      <th>count</th>\n",
       "      <td>27006</td>\n",
       "      <td>27006</td>\n",
       "      <td>27006</td>\n",
       "      <td>27006</td>\n",
       "    </tr>\n",
       "    <tr>\n",
       "      <th>unique</th>\n",
       "      <td>872</td>\n",
       "      <td>4</td>\n",
       "      <td>4</td>\n",
       "      <td>31</td>\n",
       "    </tr>\n",
       "    <tr>\n",
       "      <th>top</th>\n",
       "      <td>MU</td>\n",
       "      <td>2</td>\n",
       "      <td>08</td>\n",
       "      <td>17</td>\n",
       "    </tr>\n",
       "    <tr>\n",
       "      <th>freq</th>\n",
       "      <td>156</td>\n",
       "      <td>10912</td>\n",
       "      <td>7099</td>\n",
       "      <td>1040</td>\n",
       "    </tr>\n",
       "  </tbody>\n",
       "</table>\n",
       "</div>"
      ],
      "text/plain": [
       "       ticker  alpha  month    day\n",
       "count   27006  27006  27006  27006\n",
       "unique    872      4      4     31\n",
       "top        MU      2     08     17\n",
       "freq      156  10912   7099   1040"
      ]
     },
     "execution_count": 128,
     "metadata": {
      "tags": []
     },
     "output_type": "execute_result"
    }
   ],
   "source": [
    "data.describe(include='category')"
   ]
  },
  {
   "cell_type": "code",
   "execution_count": 129,
   "metadata": {
    "colab": {
     "base_uri": "https://localhost:8080/",
     "height": 297
    },
    "colab_type": "code",
    "id": "Xn9RsbWwnaAz",
    "outputId": "5afa7ae2-3179-4220-c602-e683d8f202fc"
   },
   "outputs": [
    {
     "data": {
      "text/html": [
       "<div>\n",
       "<style scoped>\n",
       "    .dataframe tbody tr th:only-of-type {\n",
       "        vertical-align: middle;\n",
       "    }\n",
       "\n",
       "    .dataframe tbody tr th {\n",
       "        vertical-align: top;\n",
       "    }\n",
       "\n",
       "    .dataframe thead th {\n",
       "        text-align: right;\n",
       "    }\n",
       "</style>\n",
       "<table border=\"1\" class=\"dataframe\">\n",
       "  <thead>\n",
       "    <tr style=\"text-align: right;\">\n",
       "      <th></th>\n",
       "      <th>SF1</th>\n",
       "      <th>SF2</th>\n",
       "      <th>SF3</th>\n",
       "      <th>SF4</th>\n",
       "      <th>SF5</th>\n",
       "      <th>SF6</th>\n",
       "      <th>SF7</th>\n",
       "    </tr>\n",
       "  </thead>\n",
       "  <tbody>\n",
       "    <tr>\n",
       "      <th>count</th>\n",
       "      <td>11575.000000</td>\n",
       "      <td>11575.000000</td>\n",
       "      <td>11575.000000</td>\n",
       "      <td>11575.000000</td>\n",
       "      <td>11575.000000</td>\n",
       "      <td>11575.000000</td>\n",
       "      <td>11575.000000</td>\n",
       "    </tr>\n",
       "    <tr>\n",
       "      <th>mean</th>\n",
       "      <td>0.001546</td>\n",
       "      <td>0.003995</td>\n",
       "      <td>-0.029754</td>\n",
       "      <td>-0.047606</td>\n",
       "      <td>0.053956</td>\n",
       "      <td>-0.000428</td>\n",
       "      <td>0.037914</td>\n",
       "    </tr>\n",
       "    <tr>\n",
       "      <th>std</th>\n",
       "      <td>0.924519</td>\n",
       "      <td>0.997903</td>\n",
       "      <td>0.537651</td>\n",
       "      <td>1.097842</td>\n",
       "      <td>0.965109</td>\n",
       "      <td>1.003503</td>\n",
       "      <td>1.192223</td>\n",
       "    </tr>\n",
       "    <tr>\n",
       "      <th>min</th>\n",
       "      <td>-4.130410</td>\n",
       "      <td>-4.034445</td>\n",
       "      <td>-4.259227</td>\n",
       "      <td>-4.704038</td>\n",
       "      <td>-4.545787</td>\n",
       "      <td>-4.317883</td>\n",
       "      <td>-5.031257</td>\n",
       "    </tr>\n",
       "    <tr>\n",
       "      <th>25%</th>\n",
       "      <td>-0.580470</td>\n",
       "      <td>-0.673206</td>\n",
       "      <td>-0.308838</td>\n",
       "      <td>-0.754051</td>\n",
       "      <td>-0.502280</td>\n",
       "      <td>-0.682896</td>\n",
       "      <td>-0.684029</td>\n",
       "    </tr>\n",
       "    <tr>\n",
       "      <th>50%</th>\n",
       "      <td>0.011865</td>\n",
       "      <td>-0.001464</td>\n",
       "      <td>-0.044590</td>\n",
       "      <td>-0.055108</td>\n",
       "      <td>0.084598</td>\n",
       "      <td>0.008303</td>\n",
       "      <td>0.081955</td>\n",
       "    </tr>\n",
       "    <tr>\n",
       "      <th>75%</th>\n",
       "      <td>0.600965</td>\n",
       "      <td>0.685805</td>\n",
       "      <td>0.228484</td>\n",
       "      <td>0.649046</td>\n",
       "      <td>0.620426</td>\n",
       "      <td>0.680800</td>\n",
       "      <td>0.807105</td>\n",
       "    </tr>\n",
       "    <tr>\n",
       "      <th>max</th>\n",
       "      <td>4.519223</td>\n",
       "      <td>4.108285</td>\n",
       "      <td>2.763214</td>\n",
       "      <td>4.794511</td>\n",
       "      <td>5.646556</td>\n",
       "      <td>3.900014</td>\n",
       "      <td>6.005315</td>\n",
       "    </tr>\n",
       "  </tbody>\n",
       "</table>\n",
       "</div>"
      ],
      "text/plain": [
       "                SF1           SF2  ...           SF6           SF7\n",
       "count  11575.000000  11575.000000  ...  11575.000000  11575.000000\n",
       "mean       0.001546      0.003995  ...     -0.000428      0.037914\n",
       "std        0.924519      0.997903  ...      1.003503      1.192223\n",
       "min       -4.130410     -4.034445  ...     -4.317883     -5.031257\n",
       "25%       -0.580470     -0.673206  ...     -0.682896     -0.684029\n",
       "50%        0.011865     -0.001464  ...      0.008303      0.081955\n",
       "75%        0.600965      0.685805  ...      0.680800      0.807105\n",
       "max        4.519223      4.108285  ...      3.900014      6.005315\n",
       "\n",
       "[8 rows x 7 columns]"
      ]
     },
     "execution_count": 129,
     "metadata": {
      "tags": []
     },
     "output_type": "execute_result"
    }
   ],
   "source": [
    "test.describe()"
   ]
  },
  {
   "cell_type": "code",
   "execution_count": 130,
   "metadata": {
    "colab": {
     "base_uri": "https://localhost:8080/",
     "height": 173
    },
    "colab_type": "code",
    "id": "ryhiCzbpnfET",
    "outputId": "e2e31cd7-4c6a-4948-e9c6-cd84d853a504"
   },
   "outputs": [
    {
     "data": {
      "text/html": [
       "<div>\n",
       "<style scoped>\n",
       "    .dataframe tbody tr th:only-of-type {\n",
       "        vertical-align: middle;\n",
       "    }\n",
       "\n",
       "    .dataframe tbody tr th {\n",
       "        vertical-align: top;\n",
       "    }\n",
       "\n",
       "    .dataframe thead th {\n",
       "        text-align: right;\n",
       "    }\n",
       "</style>\n",
       "<table border=\"1\" class=\"dataframe\">\n",
       "  <thead>\n",
       "    <tr style=\"text-align: right;\">\n",
       "      <th></th>\n",
       "      <th>ticker</th>\n",
       "      <th>month</th>\n",
       "      <th>day</th>\n",
       "    </tr>\n",
       "  </thead>\n",
       "  <tbody>\n",
       "    <tr>\n",
       "      <th>count</th>\n",
       "      <td>11575</td>\n",
       "      <td>11575</td>\n",
       "      <td>11575</td>\n",
       "    </tr>\n",
       "    <tr>\n",
       "      <th>unique</th>\n",
       "      <td>716</td>\n",
       "      <td>4</td>\n",
       "      <td>31</td>\n",
       "    </tr>\n",
       "    <tr>\n",
       "      <th>top</th>\n",
       "      <td>AMD</td>\n",
       "      <td>08</td>\n",
       "      <td>17</td>\n",
       "    </tr>\n",
       "    <tr>\n",
       "      <th>freq</th>\n",
       "      <td>73</td>\n",
       "      <td>3028</td>\n",
       "      <td>473</td>\n",
       "    </tr>\n",
       "  </tbody>\n",
       "</table>\n",
       "</div>"
      ],
      "text/plain": [
       "       ticker  month    day\n",
       "count   11575  11575  11575\n",
       "unique    716      4     31\n",
       "top       AMD     08     17\n",
       "freq       73   3028    473"
      ]
     },
     "execution_count": 130,
     "metadata": {
      "tags": []
     },
     "output_type": "execute_result"
    }
   ],
   "source": [
    "test.describe(include='category')"
   ]
  },
  {
   "cell_type": "markdown",
   "metadata": {
    "colab_type": "text",
    "id": "FgHoxrhwnow4"
   },
   "source": [
    "#### Checking the NULL values"
   ]
  },
  {
   "cell_type": "code",
   "execution_count": 131,
   "metadata": {
    "colab": {
     "base_uri": "https://localhost:8080/",
     "height": 221
    },
    "colab_type": "code",
    "id": "BQECK_HEnjn6",
    "outputId": "1d1208f2-cd74-4f6a-86fb-e48dd5c4dbf1"
   },
   "outputs": [
    {
     "data": {
      "text/plain": [
       "ticker    0\n",
       "SF1       0\n",
       "SF2       0\n",
       "SF3       0\n",
       "SF4       0\n",
       "SF5       0\n",
       "SF6       0\n",
       "SF7       0\n",
       "alpha     0\n",
       "month     0\n",
       "day       0\n",
       "dtype: int64"
      ]
     },
     "execution_count": 131,
     "metadata": {
      "tags": []
     },
     "output_type": "execute_result"
    }
   ],
   "source": [
    "data.isnull().sum()"
   ]
  },
  {
   "cell_type": "code",
   "execution_count": 132,
   "metadata": {
    "colab": {
     "base_uri": "https://localhost:8080/",
     "height": 204
    },
    "colab_type": "code",
    "id": "PNSr7j-Xnwks",
    "outputId": "df9a8fbc-c657-420f-af6c-1e1c5203d87d"
   },
   "outputs": [
    {
     "data": {
      "text/plain": [
       "ticker    0\n",
       "SF1       0\n",
       "SF2       0\n",
       "SF3       0\n",
       "SF4       0\n",
       "SF5       0\n",
       "SF6       0\n",
       "SF7       0\n",
       "month     0\n",
       "day       0\n",
       "dtype: int64"
      ]
     },
     "execution_count": 132,
     "metadata": {
      "tags": []
     },
     "output_type": "execute_result"
    }
   ],
   "source": [
    "test.isnull().sum()"
   ]
  },
  {
   "cell_type": "markdown",
   "metadata": {
    "colab_type": "text",
    "id": "kaDK2PqGhHde"
   },
   "source": [
    "### Spliting the data as Train & Test"
   ]
  },
  {
   "cell_type": "code",
   "execution_count": 0,
   "metadata": {
    "colab": {},
    "colab_type": "code",
    "id": "DHlG4epchE9H"
   },
   "outputs": [],
   "source": [
    "X = data.drop('alpha', axis = 1)\n",
    "Y = data['alpha']\n",
    "\n",
    "x_train, x_test, y_train, y_test = train_test_split(X, Y, test_size = 0.3, random_state = 123)"
   ]
  },
  {
   "cell_type": "code",
   "execution_count": 141,
   "metadata": {
    "colab": {
     "base_uri": "https://localhost:8080/",
     "height": 102
    },
    "colab_type": "code",
    "id": "j043OjtshEZe",
    "outputId": "0319a677-e496-4273-d196-0702a664ffca"
   },
   "outputs": [
    {
     "name": "stdout",
     "output_type": "stream",
     "text": [
      "(18904, 10)\n",
      "(18904,) \n",
      "\n",
      "(8102, 10)\n",
      "(8102,)\n"
     ]
    }
   ],
   "source": [
    "print(x_train.shape)\n",
    "print(y_train.shape,'\\n')\n",
    "\n",
    "print(x_test.shape)\n",
    "print(y_test.shape)"
   ]
  },
  {
   "cell_type": "markdown",
   "metadata": {
    "colab_type": "text",
    "id": "LEYL8V02U9QT"
   },
   "source": [
    "#### Spliting Numeric and Categorical Columns"
   ]
  },
  {
   "cell_type": "code",
   "execution_count": 142,
   "metadata": {
    "colab": {
     "base_uri": "https://localhost:8080/",
     "height": 34
    },
    "colab_type": "code",
    "id": "eNSozDTwo2aM",
    "outputId": "dd455f9c-932a-4062-f79c-7e06f41acbcc"
   },
   "outputs": [
    {
     "data": {
      "text/plain": [
       "Index(['SF1', 'SF2', 'SF3', 'SF4', 'SF5', 'SF6', 'SF7'], dtype='object')"
      ]
     },
     "execution_count": 142,
     "metadata": {
      "tags": []
     },
     "output_type": "execute_result"
    }
   ],
   "source": [
    "num_attr = x_train.select_dtypes(['int64','float64']).columns\n",
    "num_attr"
   ]
  },
  {
   "cell_type": "code",
   "execution_count": 143,
   "metadata": {
    "colab": {
     "base_uri": "https://localhost:8080/",
     "height": 34
    },
    "colab_type": "code",
    "id": "UacQR-9ho1-n",
    "outputId": "0cca3699-c5f1-4a5b-8091-ac4f8f995449"
   },
   "outputs": [
    {
     "data": {
      "text/plain": [
       "Index(['ticker', 'month', 'day'], dtype='object')"
      ]
     },
     "execution_count": 143,
     "metadata": {
      "tags": []
     },
     "output_type": "execute_result"
    }
   ],
   "source": [
    "cat_attr = x_train.select_dtypes('category').columns\n",
    "cat_attr"
   ]
  },
  {
   "cell_type": "markdown",
   "metadata": {
    "colab_type": "text",
    "id": "vz4OWcasiVDL"
   },
   "source": [
    "#### Standardization for Numerical variables"
   ]
  },
  {
   "cell_type": "code",
   "execution_count": 0,
   "metadata": {
    "colab": {},
    "colab_type": "code",
    "id": "O10kZROpVTwR"
   },
   "outputs": [],
   "source": [
    "scaler = StandardScaler()\n",
    "scaler.fit(x_train[num_attr])\n",
    "\n",
    "x_train[num_attr]=scaler.transform(x_train[num_attr])\n",
    "x_test[num_attr]=scaler.transform(x_test[num_attr])"
   ]
  },
  {
   "cell_type": "code",
   "execution_count": 145,
   "metadata": {
    "colab": {
     "base_uri": "https://localhost:8080/",
     "height": 204
    },
    "colab_type": "code",
    "id": "RG4dH0bligMz",
    "outputId": "c246ac40-feaf-4f26-bbb3-908212d9cf03"
   },
   "outputs": [
    {
     "data": {
      "text/html": [
       "<div>\n",
       "<style scoped>\n",
       "    .dataframe tbody tr th:only-of-type {\n",
       "        vertical-align: middle;\n",
       "    }\n",
       "\n",
       "    .dataframe tbody tr th {\n",
       "        vertical-align: top;\n",
       "    }\n",
       "\n",
       "    .dataframe thead th {\n",
       "        text-align: right;\n",
       "    }\n",
       "</style>\n",
       "<table border=\"1\" class=\"dataframe\">\n",
       "  <thead>\n",
       "    <tr style=\"text-align: right;\">\n",
       "      <th></th>\n",
       "      <th>ticker</th>\n",
       "      <th>SF1</th>\n",
       "      <th>SF2</th>\n",
       "      <th>SF3</th>\n",
       "      <th>SF4</th>\n",
       "      <th>SF5</th>\n",
       "      <th>SF6</th>\n",
       "      <th>SF7</th>\n",
       "      <th>month</th>\n",
       "      <th>day</th>\n",
       "    </tr>\n",
       "  </thead>\n",
       "  <tbody>\n",
       "    <tr>\n",
       "      <th>21056</th>\n",
       "      <td>BA</td>\n",
       "      <td>0.429948</td>\n",
       "      <td>0.569472</td>\n",
       "      <td>-0.598065</td>\n",
       "      <td>-0.066687</td>\n",
       "      <td>0.378638</td>\n",
       "      <td>-0.226901</td>\n",
       "      <td>0.403420</td>\n",
       "      <td>10</td>\n",
       "      <td>03</td>\n",
       "    </tr>\n",
       "    <tr>\n",
       "      <th>17272</th>\n",
       "      <td>GT</td>\n",
       "      <td>-0.471291</td>\n",
       "      <td>0.139552</td>\n",
       "      <td>0.242308</td>\n",
       "      <td>-0.150186</td>\n",
       "      <td>0.014662</td>\n",
       "      <td>-1.744976</td>\n",
       "      <td>-0.268657</td>\n",
       "      <td>07</td>\n",
       "      <td>29</td>\n",
       "    </tr>\n",
       "    <tr>\n",
       "      <th>18342</th>\n",
       "      <td>ABBV</td>\n",
       "      <td>0.639123</td>\n",
       "      <td>0.293121</td>\n",
       "      <td>-0.057967</td>\n",
       "      <td>-1.277659</td>\n",
       "      <td>-0.415831</td>\n",
       "      <td>0.347895</td>\n",
       "      <td>1.147703</td>\n",
       "      <td>10</td>\n",
       "      <td>12</td>\n",
       "    </tr>\n",
       "    <tr>\n",
       "      <th>24702</th>\n",
       "      <td>SYF</td>\n",
       "      <td>-2.010654</td>\n",
       "      <td>-0.925851</td>\n",
       "      <td>1.854148</td>\n",
       "      <td>1.265319</td>\n",
       "      <td>-0.687534</td>\n",
       "      <td>0.736085</td>\n",
       "      <td>-2.296924</td>\n",
       "      <td>10</td>\n",
       "      <td>06</td>\n",
       "    </tr>\n",
       "    <tr>\n",
       "      <th>20574</th>\n",
       "      <td>BHF</td>\n",
       "      <td>0.978297</td>\n",
       "      <td>0.653474</td>\n",
       "      <td>0.906889</td>\n",
       "      <td>0.752397</td>\n",
       "      <td>-1.518995</td>\n",
       "      <td>-1.315938</td>\n",
       "      <td>0.142554</td>\n",
       "      <td>08</td>\n",
       "      <td>10</td>\n",
       "    </tr>\n",
       "  </tbody>\n",
       "</table>\n",
       "</div>"
      ],
      "text/plain": [
       "      ticker       SF1       SF2       SF3  ...       SF6       SF7  month  day\n",
       "21056     BA  0.429948  0.569472 -0.598065  ... -0.226901  0.403420     10   03\n",
       "17272     GT -0.471291  0.139552  0.242308  ... -1.744976 -0.268657     07   29\n",
       "18342   ABBV  0.639123  0.293121 -0.057967  ...  0.347895  1.147703     10   12\n",
       "24702    SYF -2.010654 -0.925851  1.854148  ...  0.736085 -2.296924     10   06\n",
       "20574    BHF  0.978297  0.653474  0.906889  ... -1.315938  0.142554     08   10\n",
       "\n",
       "[5 rows x 10 columns]"
      ]
     },
     "execution_count": 145,
     "metadata": {
      "tags": []
     },
     "output_type": "execute_result"
    }
   ],
   "source": [
    "x_train.head()"
   ]
  },
  {
   "cell_type": "code",
   "execution_count": 146,
   "metadata": {
    "colab": {
     "base_uri": "https://localhost:8080/",
     "height": 204
    },
    "colab_type": "code",
    "id": "naWL4f00if3Z",
    "outputId": "9e143700-7d68-4ca6-d950-49d345ffd9bb"
   },
   "outputs": [
    {
     "data": {
      "text/html": [
       "<div>\n",
       "<style scoped>\n",
       "    .dataframe tbody tr th:only-of-type {\n",
       "        vertical-align: middle;\n",
       "    }\n",
       "\n",
       "    .dataframe tbody tr th {\n",
       "        vertical-align: top;\n",
       "    }\n",
       "\n",
       "    .dataframe thead th {\n",
       "        text-align: right;\n",
       "    }\n",
       "</style>\n",
       "<table border=\"1\" class=\"dataframe\">\n",
       "  <thead>\n",
       "    <tr style=\"text-align: right;\">\n",
       "      <th></th>\n",
       "      <th>ticker</th>\n",
       "      <th>SF1</th>\n",
       "      <th>SF2</th>\n",
       "      <th>SF3</th>\n",
       "      <th>SF4</th>\n",
       "      <th>SF5</th>\n",
       "      <th>SF6</th>\n",
       "      <th>SF7</th>\n",
       "      <th>month</th>\n",
       "      <th>day</th>\n",
       "    </tr>\n",
       "  </thead>\n",
       "  <tbody>\n",
       "    <tr>\n",
       "      <th>2032</th>\n",
       "      <td>CAT</td>\n",
       "      <td>-0.738787</td>\n",
       "      <td>-1.796427</td>\n",
       "      <td>1.518200</td>\n",
       "      <td>-1.001561</td>\n",
       "      <td>-1.257883</td>\n",
       "      <td>-1.364324</td>\n",
       "      <td>-0.137966</td>\n",
       "      <td>08</td>\n",
       "      <td>05</td>\n",
       "    </tr>\n",
       "    <tr>\n",
       "      <th>19907</th>\n",
       "      <td>F</td>\n",
       "      <td>1.244399</td>\n",
       "      <td>-0.001350</td>\n",
       "      <td>-0.929974</td>\n",
       "      <td>-0.056632</td>\n",
       "      <td>0.242156</td>\n",
       "      <td>1.910303</td>\n",
       "      <td>0.994589</td>\n",
       "      <td>09</td>\n",
       "      <td>19</td>\n",
       "    </tr>\n",
       "    <tr>\n",
       "      <th>26615</th>\n",
       "      <td>EMR</td>\n",
       "      <td>-0.412405</td>\n",
       "      <td>0.870813</td>\n",
       "      <td>-0.091893</td>\n",
       "      <td>0.251169</td>\n",
       "      <td>0.367333</td>\n",
       "      <td>-0.571985</td>\n",
       "      <td>-0.408822</td>\n",
       "      <td>10</td>\n",
       "      <td>03</td>\n",
       "    </tr>\n",
       "    <tr>\n",
       "      <th>4396</th>\n",
       "      <td>SYK</td>\n",
       "      <td>-1.014965</td>\n",
       "      <td>1.025701</td>\n",
       "      <td>2.241092</td>\n",
       "      <td>-1.133659</td>\n",
       "      <td>-1.878495</td>\n",
       "      <td>-0.943579</td>\n",
       "      <td>-0.342073</td>\n",
       "      <td>10</td>\n",
       "      <td>18</td>\n",
       "    </tr>\n",
       "    <tr>\n",
       "      <th>7095</th>\n",
       "      <td>GME</td>\n",
       "      <td>2.639051</td>\n",
       "      <td>0.530865</td>\n",
       "      <td>-3.132901</td>\n",
       "      <td>-1.568206</td>\n",
       "      <td>1.662608</td>\n",
       "      <td>1.351205</td>\n",
       "      <td>3.049206</td>\n",
       "      <td>08</td>\n",
       "      <td>28</td>\n",
       "    </tr>\n",
       "  </tbody>\n",
       "</table>\n",
       "</div>"
      ],
      "text/plain": [
       "      ticker       SF1       SF2       SF3  ...       SF6       SF7  month  day\n",
       "2032     CAT -0.738787 -1.796427  1.518200  ... -1.364324 -0.137966     08   05\n",
       "19907      F  1.244399 -0.001350 -0.929974  ...  1.910303  0.994589     09   19\n",
       "26615    EMR -0.412405  0.870813 -0.091893  ... -0.571985 -0.408822     10   03\n",
       "4396     SYK -1.014965  1.025701  2.241092  ... -0.943579 -0.342073     10   18\n",
       "7095     GME  2.639051  0.530865 -3.132901  ...  1.351205  3.049206     08   28\n",
       "\n",
       "[5 rows x 10 columns]"
      ]
     },
     "execution_count": 146,
     "metadata": {
      "tags": []
     },
     "output_type": "execute_result"
    }
   ],
   "source": [
    "x_test.head()"
   ]
  },
  {
   "cell_type": "code",
   "execution_count": 0,
   "metadata": {
    "colab": {},
    "colab_type": "code",
    "id": "2ilekyRuViTs"
   },
   "outputs": [],
   "source": [
    "## Droping the Ticker for Model Building Purpose\n",
    "x_train.drop('ticker', axis=1,inplace=True)\n",
    "x_test.drop('ticker',axis=1,inplace=True)"
   ]
  },
  {
   "cell_type": "code",
   "execution_count": 148,
   "metadata": {
    "colab": {
     "base_uri": "https://localhost:8080/",
     "height": 142
    },
    "colab_type": "code",
    "id": "NDPSsCj7jUOj",
    "outputId": "97836092-9d1d-4d20-dbb6-311c67da12e6"
   },
   "outputs": [
    {
     "data": {
      "text/html": [
       "<div>\n",
       "<style scoped>\n",
       "    .dataframe tbody tr th:only-of-type {\n",
       "        vertical-align: middle;\n",
       "    }\n",
       "\n",
       "    .dataframe tbody tr th {\n",
       "        vertical-align: top;\n",
       "    }\n",
       "\n",
       "    .dataframe thead th {\n",
       "        text-align: right;\n",
       "    }\n",
       "</style>\n",
       "<table border=\"1\" class=\"dataframe\">\n",
       "  <thead>\n",
       "    <tr style=\"text-align: right;\">\n",
       "      <th></th>\n",
       "      <th>SF1</th>\n",
       "      <th>SF2</th>\n",
       "      <th>SF3</th>\n",
       "      <th>SF4</th>\n",
       "      <th>SF5</th>\n",
       "      <th>SF6</th>\n",
       "      <th>SF7</th>\n",
       "      <th>month</th>\n",
       "      <th>day</th>\n",
       "    </tr>\n",
       "  </thead>\n",
       "  <tbody>\n",
       "    <tr>\n",
       "      <th>21056</th>\n",
       "      <td>0.429948</td>\n",
       "      <td>0.569472</td>\n",
       "      <td>-0.598065</td>\n",
       "      <td>-0.066687</td>\n",
       "      <td>0.378638</td>\n",
       "      <td>-0.226901</td>\n",
       "      <td>0.403420</td>\n",
       "      <td>10</td>\n",
       "      <td>03</td>\n",
       "    </tr>\n",
       "    <tr>\n",
       "      <th>17272</th>\n",
       "      <td>-0.471291</td>\n",
       "      <td>0.139552</td>\n",
       "      <td>0.242308</td>\n",
       "      <td>-0.150186</td>\n",
       "      <td>0.014662</td>\n",
       "      <td>-1.744976</td>\n",
       "      <td>-0.268657</td>\n",
       "      <td>07</td>\n",
       "      <td>29</td>\n",
       "    </tr>\n",
       "    <tr>\n",
       "      <th>18342</th>\n",
       "      <td>0.639123</td>\n",
       "      <td>0.293121</td>\n",
       "      <td>-0.057967</td>\n",
       "      <td>-1.277659</td>\n",
       "      <td>-0.415831</td>\n",
       "      <td>0.347895</td>\n",
       "      <td>1.147703</td>\n",
       "      <td>10</td>\n",
       "      <td>12</td>\n",
       "    </tr>\n",
       "  </tbody>\n",
       "</table>\n",
       "</div>"
      ],
      "text/plain": [
       "            SF1       SF2       SF3       SF4  ...       SF6       SF7  month day\n",
       "21056  0.429948  0.569472 -0.598065 -0.066687  ... -0.226901  0.403420     10  03\n",
       "17272 -0.471291  0.139552  0.242308 -0.150186  ... -1.744976 -0.268657     07  29\n",
       "18342  0.639123  0.293121 -0.057967 -1.277659  ...  0.347895  1.147703     10  12\n",
       "\n",
       "[3 rows x 9 columns]"
      ]
     },
     "execution_count": 148,
     "metadata": {
      "tags": []
     },
     "output_type": "execute_result"
    }
   ],
   "source": [
    "x_train.head(3)"
   ]
  },
  {
   "cell_type": "code",
   "execution_count": 149,
   "metadata": {
    "colab": {
     "base_uri": "https://localhost:8080/",
     "height": 142
    },
    "colab_type": "code",
    "id": "-q357lEZjZHg",
    "outputId": "fdc69e0d-1512-44f8-f1e1-702f0cfbbef0"
   },
   "outputs": [
    {
     "data": {
      "text/html": [
       "<div>\n",
       "<style scoped>\n",
       "    .dataframe tbody tr th:only-of-type {\n",
       "        vertical-align: middle;\n",
       "    }\n",
       "\n",
       "    .dataframe tbody tr th {\n",
       "        vertical-align: top;\n",
       "    }\n",
       "\n",
       "    .dataframe thead th {\n",
       "        text-align: right;\n",
       "    }\n",
       "</style>\n",
       "<table border=\"1\" class=\"dataframe\">\n",
       "  <thead>\n",
       "    <tr style=\"text-align: right;\">\n",
       "      <th></th>\n",
       "      <th>SF1</th>\n",
       "      <th>SF2</th>\n",
       "      <th>SF3</th>\n",
       "      <th>SF4</th>\n",
       "      <th>SF5</th>\n",
       "      <th>SF6</th>\n",
       "      <th>SF7</th>\n",
       "      <th>month</th>\n",
       "      <th>day</th>\n",
       "    </tr>\n",
       "  </thead>\n",
       "  <tbody>\n",
       "    <tr>\n",
       "      <th>2032</th>\n",
       "      <td>-0.738787</td>\n",
       "      <td>-1.796427</td>\n",
       "      <td>1.518200</td>\n",
       "      <td>-1.001561</td>\n",
       "      <td>-1.257883</td>\n",
       "      <td>-1.364324</td>\n",
       "      <td>-0.137966</td>\n",
       "      <td>08</td>\n",
       "      <td>05</td>\n",
       "    </tr>\n",
       "    <tr>\n",
       "      <th>19907</th>\n",
       "      <td>1.244399</td>\n",
       "      <td>-0.001350</td>\n",
       "      <td>-0.929974</td>\n",
       "      <td>-0.056632</td>\n",
       "      <td>0.242156</td>\n",
       "      <td>1.910303</td>\n",
       "      <td>0.994589</td>\n",
       "      <td>09</td>\n",
       "      <td>19</td>\n",
       "    </tr>\n",
       "    <tr>\n",
       "      <th>26615</th>\n",
       "      <td>-0.412405</td>\n",
       "      <td>0.870813</td>\n",
       "      <td>-0.091893</td>\n",
       "      <td>0.251169</td>\n",
       "      <td>0.367333</td>\n",
       "      <td>-0.571985</td>\n",
       "      <td>-0.408822</td>\n",
       "      <td>10</td>\n",
       "      <td>03</td>\n",
       "    </tr>\n",
       "  </tbody>\n",
       "</table>\n",
       "</div>"
      ],
      "text/plain": [
       "            SF1       SF2       SF3       SF4  ...       SF6       SF7  month day\n",
       "2032  -0.738787 -1.796427  1.518200 -1.001561  ... -1.364324 -0.137966     08  05\n",
       "19907  1.244399 -0.001350 -0.929974 -0.056632  ...  1.910303  0.994589     09  19\n",
       "26615 -0.412405  0.870813 -0.091893  0.251169  ... -0.571985 -0.408822     10  03\n",
       "\n",
       "[3 rows x 9 columns]"
      ]
     },
     "execution_count": 149,
     "metadata": {
      "tags": []
     },
     "output_type": "execute_result"
    }
   ],
   "source": [
    "x_test.head(3)"
   ]
  },
  {
   "cell_type": "markdown",
   "metadata": {
    "colab_type": "text",
    "id": "0EboujBjjd0J"
   },
   "source": [
    "## Model Building"
   ]
  },
  {
   "cell_type": "code",
   "execution_count": 0,
   "metadata": {
    "colab": {},
    "colab_type": "code",
    "id": "nLPWzfyhjdVw"
   },
   "outputs": [],
   "source": [
    "dt = DecisionTreeClassifier()"
   ]
  },
  {
   "cell_type": "code",
   "execution_count": 151,
   "metadata": {
    "colab": {
     "base_uri": "https://localhost:8080/",
     "height": 340
    },
    "colab_type": "code",
    "id": "dN36oXupjc5D",
    "outputId": "785f41a3-a9d4-4366-ad4e-28314504957f"
   },
   "outputs": [
    {
     "data": {
      "text/plain": [
       "GridSearchCV(cv=5, error_score='raise-deprecating',\n",
       "             estimator=DecisionTreeClassifier(class_weight=None,\n",
       "                                              criterion='gini', max_depth=None,\n",
       "                                              max_features=None,\n",
       "                                              max_leaf_nodes=None,\n",
       "                                              min_impurity_decrease=0.0,\n",
       "                                              min_impurity_split=None,\n",
       "                                              min_samples_leaf=1,\n",
       "                                              min_samples_split=2,\n",
       "                                              min_weight_fraction_leaf=0.0,\n",
       "                                              presort=False, random_state=None,\n",
       "                                              splitter='best'),\n",
       "             iid='warn', n_jobs=None,\n",
       "             param_grid={'criterion': ['entropy', 'gini'],\n",
       "                         'max_depth': [12, 15, 16, 17],\n",
       "                         'min_samples_leaf': [5, 6, 7, 10],\n",
       "                         'min_samples_split': [5, 15, 17]},\n",
       "             pre_dispatch='2*n_jobs', refit=True, return_train_score=False,\n",
       "             scoring=None, verbose=0)"
      ]
     },
     "execution_count": 151,
     "metadata": {
      "tags": []
     },
     "output_type": "execute_result"
    }
   ],
   "source": [
    "dt_param = {'criterion': ['entropy', 'gini'],\n",
    "                     'max_depth': [12,15,16,17],\n",
    "                     \"min_samples_split\": [5,15,17],\n",
    "                     \"min_samples_leaf\": [5,6,7 ,10]}\n",
    "\n",
    "Decision = GridSearchCV(dt, param_grid = dt_param, cv=5)\n",
    "\n",
    "Decision.fit(x_train,y_train)"
   ]
  },
  {
   "cell_type": "code",
   "execution_count": 152,
   "metadata": {
    "colab": {
     "base_uri": "https://localhost:8080/",
     "height": 85
    },
    "colab_type": "code",
    "id": "3B-AhgiLkPjC",
    "outputId": "658ec517-cf6b-41f1-87f7-21a315786627"
   },
   "outputs": [
    {
     "data": {
      "text/plain": [
       "{'criterion': 'entropy',\n",
       " 'max_depth': 12,\n",
       " 'min_samples_leaf': 10,\n",
       " 'min_samples_split': 17}"
      ]
     },
     "execution_count": 152,
     "metadata": {
      "tags": []
     },
     "output_type": "execute_result"
    }
   ],
   "source": [
    "Decision.best_params_"
   ]
  },
  {
   "cell_type": "code",
   "execution_count": 154,
   "metadata": {
    "colab": {
     "base_uri": "https://localhost:8080/",
     "height": 51
    },
    "colab_type": "code",
    "id": "QFGBR5c4kO7A",
    "outputId": "5864cbd0-bab8-4d3d-afe3-4d62e5e7fc74"
   },
   "outputs": [
    {
     "name": "stdout",
     "output_type": "stream",
     "text": [
      "0.7425941599661448\n",
      "0.6590965193779313\n"
     ]
    }
   ],
   "source": [
    "train_pred = Decision.predict(x_train)\n",
    "test_pred = Decision.predict(x_test)\n",
    "\n",
    "print(Decision.score(x_train, y_train))\n",
    "print(Decision.score(x_test, y_test))"
   ]
  },
  {
   "cell_type": "code",
   "execution_count": 0,
   "metadata": {
    "colab": {},
    "colab_type": "code",
    "id": "XIw6ovo0lCoO"
   },
   "outputs": [],
   "source": [
    "from sklearn.metrics import f1_score\n",
    "from sklearn.metrics import classification_report"
   ]
  },
  {
   "cell_type": "code",
   "execution_count": 156,
   "metadata": {
    "colab": {
     "base_uri": "https://localhost:8080/",
     "height": 221
    },
    "colab_type": "code",
    "id": "rLKLJdG8lCEa",
    "outputId": "eae73280-b0ac-4fc7-970b-4f0aa2f36ca5"
   },
   "outputs": [
    {
     "name": "stdout",
     "output_type": "stream",
     "text": [
      "[0.67208672 0.84885837 0.62477771 0.66828294]\n",
      "              precision    recall  f1-score   support\n",
      "\n",
      "           1       0.75      0.61      0.67      3873\n",
      "           2       0.77      0.95      0.85      7587\n",
      "           3       0.73      0.54      0.62      3879\n",
      "           4       0.68      0.66      0.67      3565\n",
      "\n",
      "    accuracy                           0.74     18904\n",
      "   macro avg       0.73      0.69      0.70     18904\n",
      "weighted avg       0.74      0.74      0.73     18904\n",
      "\n"
     ]
    }
   ],
   "source": [
    "print(f1_score(y_true=y_train, y_pred=train_pred, average=None))\n",
    "print(classification_report(y_true=y_train, y_pred=train_pred))"
   ]
  },
  {
   "cell_type": "code",
   "execution_count": 157,
   "metadata": {
    "colab": {
     "base_uri": "https://localhost:8080/",
     "height": 221
    },
    "colab_type": "code",
    "id": "U_6hA-MUlBui",
    "outputId": "63f2cfdc-d8f4-4ef8-fbb8-babf37a314d0"
   },
   "outputs": [
    {
     "name": "stdout",
     "output_type": "stream",
     "text": [
      "[0.5295344  0.82758621 0.48578449 0.53601557]\n",
      "              precision    recall  f1-score   support\n",
      "\n",
      "           1       0.59      0.48      0.53      1594\n",
      "           2       0.75      0.92      0.83      3325\n",
      "           3       0.58      0.42      0.49      1657\n",
      "           4       0.53      0.54      0.54      1526\n",
      "\n",
      "    accuracy                           0.66      8102\n",
      "   macro avg       0.61      0.59      0.59      8102\n",
      "weighted avg       0.64      0.66      0.64      8102\n",
      "\n"
     ]
    }
   ],
   "source": [
    "print(f1_score(y_true=y_test, y_pred=test_pred, average=None))\n",
    "print(classification_report(y_true=y_test, y_pred=test_pred))"
   ]
  },
  {
   "cell_type": "markdown",
   "metadata": {
    "colab_type": "text",
    "id": "QRbk92ielRL7"
   },
   "source": [
    "#### Test Predictions"
   ]
  },
  {
   "cell_type": "code",
   "execution_count": 0,
   "metadata": {
    "colab": {},
    "colab_type": "code",
    "id": "FDtBgdvHlQ_T"
   },
   "outputs": [],
   "source": [
    "## ==> Droping the ticker column for the purpose of model building\n",
    "\n",
    "test.drop('ticker', axis=1, inplace=True)"
   ]
  },
  {
   "cell_type": "code",
   "execution_count": 0,
   "metadata": {
    "colab": {},
    "colab_type": "code",
    "id": "O2TigMiSlQvJ"
   },
   "outputs": [],
   "source": [
    "Test_pred = Decision.predict(test)"
   ]
  },
  {
   "cell_type": "code",
   "execution_count": 160,
   "metadata": {
    "colab": {
     "base_uri": "https://localhost:8080/",
     "height": 34
    },
    "colab_type": "code",
    "id": "TzCQ5okIlQZQ",
    "outputId": "39e4801c-a4de-40c9-be97-2ba914f2e837"
   },
   "outputs": [
    {
     "data": {
      "text/plain": [
       "array([1, 2, 2, ..., 1, 2, 2])"
      ]
     },
     "execution_count": 160,
     "metadata": {
      "tags": []
     },
     "output_type": "execute_result"
    }
   ],
   "source": [
    "Test_pred"
   ]
  },
  {
   "cell_type": "markdown",
   "metadata": {
    "colab_type": "text",
    "id": "q_ioFlzCo9cz"
   },
   "source": [
    "# Merging the datasets"
   ]
  },
  {
   "cell_type": "code",
   "execution_count": 0,
   "metadata": {
    "colab": {},
    "colab_type": "code",
    "id": "IKhkjEL9o1vg"
   },
   "outputs": [],
   "source": [
    "## ==> Train_data\n",
    "data = pd.read_csv(\"/content/drive/My Drive/DATASET/train_factors1.csv\")"
   ]
  },
  {
   "cell_type": "code",
   "execution_count": 268,
   "metadata": {
    "colab": {
     "base_uri": "https://localhost:8080/",
     "height": 204
    },
    "colab_type": "code",
    "id": "ww68q4nupqn5",
    "outputId": "075cf3d2-c067-4855-de4a-483068aa84a2"
   },
   "outputs": [
    {
     "data": {
      "text/html": [
       "<div>\n",
       "<style scoped>\n",
       "    .dataframe tbody tr th:only-of-type {\n",
       "        vertical-align: middle;\n",
       "    }\n",
       "\n",
       "    .dataframe tbody tr th {\n",
       "        vertical-align: top;\n",
       "    }\n",
       "\n",
       "    .dataframe thead th {\n",
       "        text-align: right;\n",
       "    }\n",
       "</style>\n",
       "<table border=\"1\" class=\"dataframe\">\n",
       "  <thead>\n",
       "    <tr style=\"text-align: right;\">\n",
       "      <th></th>\n",
       "      <th>Id</th>\n",
       "      <th>date</th>\n",
       "      <th>ticker</th>\n",
       "      <th>SF1</th>\n",
       "      <th>SF2</th>\n",
       "      <th>SF3</th>\n",
       "      <th>SF4</th>\n",
       "      <th>SF5</th>\n",
       "      <th>SF6</th>\n",
       "      <th>SF7</th>\n",
       "      <th>alpha</th>\n",
       "    </tr>\n",
       "  </thead>\n",
       "  <tbody>\n",
       "    <tr>\n",
       "      <th>0</th>\n",
       "      <td>1</td>\n",
       "      <td>2018-08-21</td>\n",
       "      <td>$NTAP</td>\n",
       "      <td>-0.628652</td>\n",
       "      <td>0.988891</td>\n",
       "      <td>-0.055714</td>\n",
       "      <td>0.774379</td>\n",
       "      <td>0.551089</td>\n",
       "      <td>-1.329229</td>\n",
       "      <td>-0.995539</td>\n",
       "      <td>2</td>\n",
       "    </tr>\n",
       "    <tr>\n",
       "      <th>1</th>\n",
       "      <td>2</td>\n",
       "      <td>2018-10-11</td>\n",
       "      <td>$WYNN</td>\n",
       "      <td>1.315786</td>\n",
       "      <td>1.438754</td>\n",
       "      <td>0.187327</td>\n",
       "      <td>0.608933</td>\n",
       "      <td>-1.153030</td>\n",
       "      <td>1.859441</td>\n",
       "      <td>0.730995</td>\n",
       "      <td>3</td>\n",
       "    </tr>\n",
       "    <tr>\n",
       "      <th>2</th>\n",
       "      <td>3</td>\n",
       "      <td>2018-08-21</td>\n",
       "      <td>$DRI</td>\n",
       "      <td>-1.141388</td>\n",
       "      <td>-1.455016</td>\n",
       "      <td>0.332755</td>\n",
       "      <td>0.674502</td>\n",
       "      <td>0.111326</td>\n",
       "      <td>-0.478597</td>\n",
       "      <td>-1.488157</td>\n",
       "      <td>1</td>\n",
       "    </tr>\n",
       "    <tr>\n",
       "      <th>3</th>\n",
       "      <td>4</td>\n",
       "      <td>2018-07-10</td>\n",
       "      <td>$ge</td>\n",
       "      <td>-0.054839</td>\n",
       "      <td>-1.454149</td>\n",
       "      <td>-0.162267</td>\n",
       "      <td>-0.681870</td>\n",
       "      <td>0.307869</td>\n",
       "      <td>-0.529987</td>\n",
       "      <td>0.404172</td>\n",
       "      <td>2</td>\n",
       "    </tr>\n",
       "    <tr>\n",
       "      <th>4</th>\n",
       "      <td>5</td>\n",
       "      <td>2018-09-12</td>\n",
       "      <td>$FE</td>\n",
       "      <td>-0.686366</td>\n",
       "      <td>0.838865</td>\n",
       "      <td>0.073830</td>\n",
       "      <td>0.679024</td>\n",
       "      <td>0.329463</td>\n",
       "      <td>1.262782</td>\n",
       "      <td>-1.024042</td>\n",
       "      <td>2</td>\n",
       "    </tr>\n",
       "  </tbody>\n",
       "</table>\n",
       "</div>"
      ],
      "text/plain": [
       "   Id        date ticker       SF1  ...       SF5       SF6       SF7  alpha\n",
       "0   1  2018-08-21  $NTAP -0.628652  ...  0.551089 -1.329229 -0.995539      2\n",
       "1   2  2018-10-11  $WYNN  1.315786  ... -1.153030  1.859441  0.730995      3\n",
       "2   3  2018-08-21   $DRI -1.141388  ...  0.111326 -0.478597 -1.488157      1\n",
       "3   4  2018-07-10    $ge -0.054839  ...  0.307869 -0.529987  0.404172      2\n",
       "4   5  2018-09-12    $FE -0.686366  ...  0.329463  1.262782 -1.024042      2\n",
       "\n",
       "[5 rows x 11 columns]"
      ]
     },
     "execution_count": 268,
     "metadata": {
      "tags": []
     },
     "output_type": "execute_result"
    }
   ],
   "source": [
    "data.head()"
   ]
  },
  {
   "cell_type": "code",
   "execution_count": 269,
   "metadata": {
    "colab": {
     "base_uri": "https://localhost:8080/",
     "height": 204
    },
    "colab_type": "code",
    "id": "4nSnjBRrxvcS",
    "outputId": "6555c67e-a925-4155-af1c-a7566bcfe50c"
   },
   "outputs": [
    {
     "data": {
      "text/html": [
       "<div>\n",
       "<style scoped>\n",
       "    .dataframe tbody tr th:only-of-type {\n",
       "        vertical-align: middle;\n",
       "    }\n",
       "\n",
       "    .dataframe tbody tr th {\n",
       "        vertical-align: top;\n",
       "    }\n",
       "\n",
       "    .dataframe thead th {\n",
       "        text-align: right;\n",
       "    }\n",
       "</style>\n",
       "<table border=\"1\" class=\"dataframe\">\n",
       "  <thead>\n",
       "    <tr style=\"text-align: right;\">\n",
       "      <th></th>\n",
       "      <th>Id</th>\n",
       "      <th>date</th>\n",
       "      <th>ticker</th>\n",
       "      <th>SF1</th>\n",
       "      <th>SF2</th>\n",
       "      <th>SF3</th>\n",
       "      <th>SF4</th>\n",
       "      <th>SF5</th>\n",
       "      <th>SF6</th>\n",
       "      <th>SF7</th>\n",
       "      <th>alpha</th>\n",
       "    </tr>\n",
       "  </thead>\n",
       "  <tbody>\n",
       "    <tr>\n",
       "      <th>0</th>\n",
       "      <td>1</td>\n",
       "      <td>2018-08-21</td>\n",
       "      <td>NTAP</td>\n",
       "      <td>-0.628652</td>\n",
       "      <td>0.988891</td>\n",
       "      <td>-0.055714</td>\n",
       "      <td>0.774379</td>\n",
       "      <td>0.551089</td>\n",
       "      <td>-1.329229</td>\n",
       "      <td>-0.995539</td>\n",
       "      <td>2</td>\n",
       "    </tr>\n",
       "    <tr>\n",
       "      <th>1</th>\n",
       "      <td>2</td>\n",
       "      <td>2018-10-11</td>\n",
       "      <td>WYNN</td>\n",
       "      <td>1.315786</td>\n",
       "      <td>1.438754</td>\n",
       "      <td>0.187327</td>\n",
       "      <td>0.608933</td>\n",
       "      <td>-1.153030</td>\n",
       "      <td>1.859441</td>\n",
       "      <td>0.730995</td>\n",
       "      <td>3</td>\n",
       "    </tr>\n",
       "    <tr>\n",
       "      <th>2</th>\n",
       "      <td>3</td>\n",
       "      <td>2018-08-21</td>\n",
       "      <td>DRI</td>\n",
       "      <td>-1.141388</td>\n",
       "      <td>-1.455016</td>\n",
       "      <td>0.332755</td>\n",
       "      <td>0.674502</td>\n",
       "      <td>0.111326</td>\n",
       "      <td>-0.478597</td>\n",
       "      <td>-1.488157</td>\n",
       "      <td>1</td>\n",
       "    </tr>\n",
       "    <tr>\n",
       "      <th>3</th>\n",
       "      <td>4</td>\n",
       "      <td>2018-07-10</td>\n",
       "      <td>GE</td>\n",
       "      <td>-0.054839</td>\n",
       "      <td>-1.454149</td>\n",
       "      <td>-0.162267</td>\n",
       "      <td>-0.681870</td>\n",
       "      <td>0.307869</td>\n",
       "      <td>-0.529987</td>\n",
       "      <td>0.404172</td>\n",
       "      <td>2</td>\n",
       "    </tr>\n",
       "    <tr>\n",
       "      <th>4</th>\n",
       "      <td>5</td>\n",
       "      <td>2018-09-12</td>\n",
       "      <td>FE</td>\n",
       "      <td>-0.686366</td>\n",
       "      <td>0.838865</td>\n",
       "      <td>0.073830</td>\n",
       "      <td>0.679024</td>\n",
       "      <td>0.329463</td>\n",
       "      <td>1.262782</td>\n",
       "      <td>-1.024042</td>\n",
       "      <td>2</td>\n",
       "    </tr>\n",
       "  </tbody>\n",
       "</table>\n",
       "</div>"
      ],
      "text/plain": [
       "   Id        date ticker       SF1  ...       SF5       SF6       SF7  alpha\n",
       "0   1  2018-08-21   NTAP -0.628652  ...  0.551089 -1.329229 -0.995539      2\n",
       "1   2  2018-10-11   WYNN  1.315786  ... -1.153030  1.859441  0.730995      3\n",
       "2   3  2018-08-21    DRI -1.141388  ...  0.111326 -0.478597 -1.488157      1\n",
       "3   4  2018-07-10     GE -0.054839  ...  0.307869 -0.529987  0.404172      2\n",
       "4   5  2018-09-12     FE -0.686366  ...  0.329463  1.262782 -1.024042      2\n",
       "\n",
       "[5 rows x 11 columns]"
      ]
     },
     "execution_count": 269,
     "metadata": {
      "tags": []
     },
     "output_type": "execute_result"
    }
   ],
   "source": [
    "data['ticker'] = data['ticker'].str.replace('$', '')\n",
    "data['ticker'] = data['ticker'].str.upper()\n",
    "\n",
    "data.head()"
   ]
  },
  {
   "cell_type": "code",
   "execution_count": 0,
   "metadata": {
    "colab": {},
    "colab_type": "code",
    "id": "03FFKDZsqoCm"
   },
   "outputs": [],
   "source": [
    "import json\n",
    "\n",
    "with open('/content/drive/My Drive/DATASET/train_data.json', 'r') as f:\n",
    "     sntmnt_data_train = json.load(f)"
   ]
  },
  {
   "cell_type": "code",
   "execution_count": 0,
   "metadata": {
    "colab": {},
    "colab_type": "code",
    "id": "RbflwBZhqpZH"
   },
   "outputs": [],
   "source": [
    "train_sntmnt = pd.concat([pd.DataFrame(sntmnt_data_train),pd.DataFrame(list(sntmnt_data_train['records']))], axis=1).drop('records', 1)"
   ]
  },
  {
   "cell_type": "code",
   "execution_count": 272,
   "metadata": {
    "colab": {
     "base_uri": "https://localhost:8080/",
     "height": 204
    },
    "colab_type": "code",
    "id": "G9-ouxZmqu0_",
    "outputId": "9cd9541e-b969-4920-83e1-f5e0ebae1af4"
   },
   "outputs": [
    {
     "data": {
      "text/html": [
       "<div>\n",
       "<style scoped>\n",
       "    .dataframe tbody tr th:only-of-type {\n",
       "        vertical-align: middle;\n",
       "    }\n",
       "\n",
       "    .dataframe tbody tr th {\n",
       "        vertical-align: top;\n",
       "    }\n",
       "\n",
       "    .dataframe thead th {\n",
       "        text-align: right;\n",
       "    }\n",
       "</style>\n",
       "<table border=\"1\" class=\"dataframe\">\n",
       "  <thead>\n",
       "    <tr style=\"text-align: right;\">\n",
       "      <th></th>\n",
       "      <th>stocktwit_tweet</th>\n",
       "      <th>sentiment_score</th>\n",
       "      <th>timestamp</th>\n",
       "      <th>ticker</th>\n",
       "    </tr>\n",
       "  </thead>\n",
       "  <tbody>\n",
       "    <tr>\n",
       "      <th>0</th>\n",
       "      <td>$AMD going up but hesitating however chart is ...</td>\n",
       "      <td>3</td>\n",
       "      <td>2018-09-19 18:38:28+00:00</td>\n",
       "      <td>$AMD</td>\n",
       "    </tr>\n",
       "    <tr>\n",
       "      <th>1</th>\n",
       "      <td>@inforlong @MariaGascon Despite\\nChina trade w...</td>\n",
       "      <td>3</td>\n",
       "      <td>2018-10-09 03:51:06+00:00</td>\n",
       "      <td>$CAT</td>\n",
       "    </tr>\n",
       "    <tr>\n",
       "      <th>2</th>\n",
       "      <td>$AVGO WTF?</td>\n",
       "      <td>2</td>\n",
       "      <td>2018-07-12 13:35:32+00:00</td>\n",
       "      <td>$AVGO</td>\n",
       "    </tr>\n",
       "    <tr>\n",
       "      <th>3</th>\n",
       "      <td>$PH\\n New Insider Filing On: \\n MULLER KLAUS P...</td>\n",
       "      <td>2</td>\n",
       "      <td>2018-07-19 03:32:50+00:00</td>\n",
       "      <td>$PH</td>\n",
       "    </tr>\n",
       "    <tr>\n",
       "      <th>4</th>\n",
       "      <td>$FB if it bounces tommorrow do the right thing...</td>\n",
       "      <td>3</td>\n",
       "      <td>2018-08-23 19:07:54+00:00</td>\n",
       "      <td>$FB</td>\n",
       "    </tr>\n",
       "  </tbody>\n",
       "</table>\n",
       "</div>"
      ],
      "text/plain": [
       "                                     stocktwit_tweet  ...  ticker\n",
       "0  $AMD going up but hesitating however chart is ...  ...    $AMD\n",
       "1  @inforlong @MariaGascon Despite\\nChina trade w...  ...    $CAT\n",
       "2                                         $AVGO WTF?  ...   $AVGO\n",
       "3  $PH\\n New Insider Filing On: \\n MULLER KLAUS P...  ...     $PH\n",
       "4  $FB if it bounces tommorrow do the right thing...  ...     $FB\n",
       "\n",
       "[5 rows x 4 columns]"
      ]
     },
     "execution_count": 272,
     "metadata": {
      "tags": []
     },
     "output_type": "execute_result"
    }
   ],
   "source": [
    "train_sntmnt.head()"
   ]
  },
  {
   "cell_type": "code",
   "execution_count": 0,
   "metadata": {
    "colab": {},
    "colab_type": "code",
    "id": "2eqtK7H4q2p3"
   },
   "outputs": [],
   "source": [
    "train_sntmnt['timestamp'] = train_sntmnt['timestamp'].str.split(' ').str[0]\n",
    "\n",
    "train_sntmnt['ticker'] = train_sntmnt['ticker'].str.replace('$','')\n",
    "train_sntmnt['ticker'] = train_sntmnt['ticker'].str.upper()"
   ]
  },
  {
   "cell_type": "code",
   "execution_count": 274,
   "metadata": {
    "colab": {
     "base_uri": "https://localhost:8080/",
     "height": 142
    },
    "colab_type": "code",
    "id": "2qzE2473rMGG",
    "outputId": "03accf8a-f478-4a73-91fa-bf61f9ef3749"
   },
   "outputs": [
    {
     "data": {
      "text/html": [
       "<div>\n",
       "<style scoped>\n",
       "    .dataframe tbody tr th:only-of-type {\n",
       "        vertical-align: middle;\n",
       "    }\n",
       "\n",
       "    .dataframe tbody tr th {\n",
       "        vertical-align: top;\n",
       "    }\n",
       "\n",
       "    .dataframe thead th {\n",
       "        text-align: right;\n",
       "    }\n",
       "</style>\n",
       "<table border=\"1\" class=\"dataframe\">\n",
       "  <thead>\n",
       "    <tr style=\"text-align: right;\">\n",
       "      <th></th>\n",
       "      <th>stocktwit_tweet</th>\n",
       "      <th>sentiment_score</th>\n",
       "      <th>timestamp</th>\n",
       "      <th>ticker</th>\n",
       "    </tr>\n",
       "  </thead>\n",
       "  <tbody>\n",
       "    <tr>\n",
       "      <th>0</th>\n",
       "      <td>$AMD going up but hesitating however chart is ...</td>\n",
       "      <td>3</td>\n",
       "      <td>2018-09-19</td>\n",
       "      <td>AMD</td>\n",
       "    </tr>\n",
       "    <tr>\n",
       "      <th>1</th>\n",
       "      <td>@inforlong @MariaGascon Despite\\nChina trade w...</td>\n",
       "      <td>3</td>\n",
       "      <td>2018-10-09</td>\n",
       "      <td>CAT</td>\n",
       "    </tr>\n",
       "    <tr>\n",
       "      <th>2</th>\n",
       "      <td>$AVGO WTF?</td>\n",
       "      <td>2</td>\n",
       "      <td>2018-07-12</td>\n",
       "      <td>AVGO</td>\n",
       "    </tr>\n",
       "  </tbody>\n",
       "</table>\n",
       "</div>"
      ],
      "text/plain": [
       "                                     stocktwit_tweet  ...  ticker\n",
       "0  $AMD going up but hesitating however chart is ...  ...     AMD\n",
       "1  @inforlong @MariaGascon Despite\\nChina trade w...  ...     CAT\n",
       "2                                         $AVGO WTF?  ...    AVGO\n",
       "\n",
       "[3 rows x 4 columns]"
      ]
     },
     "execution_count": 274,
     "metadata": {
      "tags": []
     },
     "output_type": "execute_result"
    }
   ],
   "source": [
    "train_sntmnt.head(3)"
   ]
  },
  {
   "cell_type": "code",
   "execution_count": 0,
   "metadata": {
    "colab": {},
    "colab_type": "code",
    "id": "VGRw4mV0rWk3"
   },
   "outputs": [],
   "source": [
    "train_sntmnt = train_sntmnt.groupby(by=['timestamp','ticker'])['sentiment_score'].agg(lambda x: x.value_counts().index[0]).to_frame()"
   ]
  },
  {
   "cell_type": "code",
   "execution_count": 0,
   "metadata": {
    "colab": {},
    "colab_type": "code",
    "id": "9J34ehfVrWXf"
   },
   "outputs": [],
   "source": [
    "train_merge = pd.merge(data, train_sntmnt, how='left', left_on = ['ticker','date'],right_on=['ticker','timestamp'])"
   ]
  },
  {
   "cell_type": "code",
   "execution_count": 277,
   "metadata": {
    "colab": {
     "base_uri": "https://localhost:8080/",
     "height": 204
    },
    "colab_type": "code",
    "id": "J2cOuI3HrVyd",
    "outputId": "615235af-8cfe-4862-aee9-2272a0084fff"
   },
   "outputs": [
    {
     "data": {
      "text/html": [
       "<div>\n",
       "<style scoped>\n",
       "    .dataframe tbody tr th:only-of-type {\n",
       "        vertical-align: middle;\n",
       "    }\n",
       "\n",
       "    .dataframe tbody tr th {\n",
       "        vertical-align: top;\n",
       "    }\n",
       "\n",
       "    .dataframe thead th {\n",
       "        text-align: right;\n",
       "    }\n",
       "</style>\n",
       "<table border=\"1\" class=\"dataframe\">\n",
       "  <thead>\n",
       "    <tr style=\"text-align: right;\">\n",
       "      <th></th>\n",
       "      <th>Id</th>\n",
       "      <th>date</th>\n",
       "      <th>ticker</th>\n",
       "      <th>SF1</th>\n",
       "      <th>SF2</th>\n",
       "      <th>SF3</th>\n",
       "      <th>SF4</th>\n",
       "      <th>SF5</th>\n",
       "      <th>SF6</th>\n",
       "      <th>SF7</th>\n",
       "      <th>alpha</th>\n",
       "      <th>sentiment_score</th>\n",
       "    </tr>\n",
       "  </thead>\n",
       "  <tbody>\n",
       "    <tr>\n",
       "      <th>0</th>\n",
       "      <td>1</td>\n",
       "      <td>2018-08-21</td>\n",
       "      <td>NTAP</td>\n",
       "      <td>-0.628652</td>\n",
       "      <td>0.988891</td>\n",
       "      <td>-0.055714</td>\n",
       "      <td>0.774379</td>\n",
       "      <td>0.551089</td>\n",
       "      <td>-1.329229</td>\n",
       "      <td>-0.995539</td>\n",
       "      <td>2</td>\n",
       "      <td>2.0</td>\n",
       "    </tr>\n",
       "    <tr>\n",
       "      <th>1</th>\n",
       "      <td>2</td>\n",
       "      <td>2018-10-11</td>\n",
       "      <td>WYNN</td>\n",
       "      <td>1.315786</td>\n",
       "      <td>1.438754</td>\n",
       "      <td>0.187327</td>\n",
       "      <td>0.608933</td>\n",
       "      <td>-1.153030</td>\n",
       "      <td>1.859441</td>\n",
       "      <td>0.730995</td>\n",
       "      <td>3</td>\n",
       "      <td>2.0</td>\n",
       "    </tr>\n",
       "    <tr>\n",
       "      <th>2</th>\n",
       "      <td>3</td>\n",
       "      <td>2018-08-21</td>\n",
       "      <td>DRI</td>\n",
       "      <td>-1.141388</td>\n",
       "      <td>-1.455016</td>\n",
       "      <td>0.332755</td>\n",
       "      <td>0.674502</td>\n",
       "      <td>0.111326</td>\n",
       "      <td>-0.478597</td>\n",
       "      <td>-1.488157</td>\n",
       "      <td>1</td>\n",
       "      <td>2.0</td>\n",
       "    </tr>\n",
       "    <tr>\n",
       "      <th>3</th>\n",
       "      <td>4</td>\n",
       "      <td>2018-07-10</td>\n",
       "      <td>GE</td>\n",
       "      <td>-0.054839</td>\n",
       "      <td>-1.454149</td>\n",
       "      <td>-0.162267</td>\n",
       "      <td>-0.681870</td>\n",
       "      <td>0.307869</td>\n",
       "      <td>-0.529987</td>\n",
       "      <td>0.404172</td>\n",
       "      <td>2</td>\n",
       "      <td>2.0</td>\n",
       "    </tr>\n",
       "    <tr>\n",
       "      <th>4</th>\n",
       "      <td>5</td>\n",
       "      <td>2018-09-12</td>\n",
       "      <td>FE</td>\n",
       "      <td>-0.686366</td>\n",
       "      <td>0.838865</td>\n",
       "      <td>0.073830</td>\n",
       "      <td>0.679024</td>\n",
       "      <td>0.329463</td>\n",
       "      <td>1.262782</td>\n",
       "      <td>-1.024042</td>\n",
       "      <td>2</td>\n",
       "      <td>0.0</td>\n",
       "    </tr>\n",
       "  </tbody>\n",
       "</table>\n",
       "</div>"
      ],
      "text/plain": [
       "   Id        date ticker       SF1  ...       SF6       SF7  alpha  sentiment_score\n",
       "0   1  2018-08-21   NTAP -0.628652  ... -1.329229 -0.995539      2              2.0\n",
       "1   2  2018-10-11   WYNN  1.315786  ...  1.859441  0.730995      3              2.0\n",
       "2   3  2018-08-21    DRI -1.141388  ... -0.478597 -1.488157      1              2.0\n",
       "3   4  2018-07-10     GE -0.054839  ... -0.529987  0.404172      2              2.0\n",
       "4   5  2018-09-12     FE -0.686366  ...  1.262782 -1.024042      2              0.0\n",
       "\n",
       "[5 rows x 12 columns]"
      ]
     },
     "execution_count": 277,
     "metadata": {
      "tags": []
     },
     "output_type": "execute_result"
    }
   ],
   "source": [
    "train_merge.head()"
   ]
  },
  {
   "cell_type": "code",
   "execution_count": 0,
   "metadata": {
    "colab": {},
    "colab_type": "code",
    "id": "HYaoYNllq2WJ"
   },
   "outputs": [],
   "source": []
  },
  {
   "cell_type": "code",
   "execution_count": 0,
   "metadata": {
    "colab": {},
    "colab_type": "code",
    "id": "t20JbOYho1W-"
   },
   "outputs": [],
   "source": [
    "## ==> Test_data\n",
    "test = pd.read_csv(\"/content/drive/My Drive/DATASET/test_factors1.csv\")"
   ]
  },
  {
   "cell_type": "code",
   "execution_count": 279,
   "metadata": {
    "colab": {
     "base_uri": "https://localhost:8080/",
     "height": 204
    },
    "colab_type": "code",
    "id": "Hgo5Jb5Dptz8",
    "outputId": "bc3ccab5-6aff-4d81-85d1-dd9aefd865a1"
   },
   "outputs": [
    {
     "data": {
      "text/html": [
       "<div>\n",
       "<style scoped>\n",
       "    .dataframe tbody tr th:only-of-type {\n",
       "        vertical-align: middle;\n",
       "    }\n",
       "\n",
       "    .dataframe tbody tr th {\n",
       "        vertical-align: top;\n",
       "    }\n",
       "\n",
       "    .dataframe thead th {\n",
       "        text-align: right;\n",
       "    }\n",
       "</style>\n",
       "<table border=\"1\" class=\"dataframe\">\n",
       "  <thead>\n",
       "    <tr style=\"text-align: right;\">\n",
       "      <th></th>\n",
       "      <th>Id</th>\n",
       "      <th>date</th>\n",
       "      <th>ticker</th>\n",
       "      <th>SF1</th>\n",
       "      <th>SF2</th>\n",
       "      <th>SF3</th>\n",
       "      <th>SF4</th>\n",
       "      <th>SF5</th>\n",
       "      <th>SF6</th>\n",
       "      <th>SF7</th>\n",
       "    </tr>\n",
       "  </thead>\n",
       "  <tbody>\n",
       "    <tr>\n",
       "      <th>0</th>\n",
       "      <td>270007</td>\n",
       "      <td>2018-07-21</td>\n",
       "      <td>$INTC</td>\n",
       "      <td>-3.062194</td>\n",
       "      <td>1.223466</td>\n",
       "      <td>1.741714</td>\n",
       "      <td>2.279266</td>\n",
       "      <td>-1.323573</td>\n",
       "      <td>-0.274912</td>\n",
       "      <td>-4.504449</td>\n",
       "    </tr>\n",
       "    <tr>\n",
       "      <th>1</th>\n",
       "      <td>270008</td>\n",
       "      <td>2018-10-05</td>\n",
       "      <td>$CTSH</td>\n",
       "      <td>0.816263</td>\n",
       "      <td>-2.184408</td>\n",
       "      <td>0.157975</td>\n",
       "      <td>-0.264743</td>\n",
       "      <td>-0.836282</td>\n",
       "      <td>0.046276</td>\n",
       "      <td>0.826353</td>\n",
       "    </tr>\n",
       "    <tr>\n",
       "      <th>2</th>\n",
       "      <td>270009</td>\n",
       "      <td>2018-10-01</td>\n",
       "      <td>$CB</td>\n",
       "      <td>0.401281</td>\n",
       "      <td>0.091604</td>\n",
       "      <td>0.083411</td>\n",
       "      <td>-1.147041</td>\n",
       "      <td>-0.485223</td>\n",
       "      <td>-0.601060</td>\n",
       "      <td>1.012811</td>\n",
       "    </tr>\n",
       "    <tr>\n",
       "      <th>3</th>\n",
       "      <td>270010</td>\n",
       "      <td>2018-10-24</td>\n",
       "      <td>$CTAS</td>\n",
       "      <td>-0.783521</td>\n",
       "      <td>1.192929</td>\n",
       "      <td>0.813831</td>\n",
       "      <td>-0.368166</td>\n",
       "      <td>-1.113656</td>\n",
       "      <td>-0.553581</td>\n",
       "      <td>-0.683803</td>\n",
       "    </tr>\n",
       "    <tr>\n",
       "      <th>4</th>\n",
       "      <td>270011</td>\n",
       "      <td>2018-07-27</td>\n",
       "      <td>$intc</td>\n",
       "      <td>0.796507</td>\n",
       "      <td>0.455341</td>\n",
       "      <td>0.679032</td>\n",
       "      <td>0.354336</td>\n",
       "      <td>-1.799055</td>\n",
       "      <td>0.126153</td>\n",
       "      <td>0.297111</td>\n",
       "    </tr>\n",
       "  </tbody>\n",
       "</table>\n",
       "</div>"
      ],
      "text/plain": [
       "       Id        date ticker       SF1  ...       SF4       SF5       SF6       SF7\n",
       "0  270007  2018-07-21  $INTC -3.062194  ...  2.279266 -1.323573 -0.274912 -4.504449\n",
       "1  270008  2018-10-05  $CTSH  0.816263  ... -0.264743 -0.836282  0.046276  0.826353\n",
       "2  270009  2018-10-01    $CB  0.401281  ... -1.147041 -0.485223 -0.601060  1.012811\n",
       "3  270010  2018-10-24  $CTAS -0.783521  ... -0.368166 -1.113656 -0.553581 -0.683803\n",
       "4  270011  2018-07-27  $intc  0.796507  ...  0.354336 -1.799055  0.126153  0.297111\n",
       "\n",
       "[5 rows x 10 columns]"
      ]
     },
     "execution_count": 279,
     "metadata": {
      "tags": []
     },
     "output_type": "execute_result"
    }
   ],
   "source": [
    "test.head()"
   ]
  },
  {
   "cell_type": "code",
   "execution_count": 0,
   "metadata": {
    "colab": {},
    "colab_type": "code",
    "id": "_cY5kEZSz_z8"
   },
   "outputs": [],
   "source": [
    "test['ticker'] = test['ticker'].str.replace('$', '')\n",
    "test['ticker'] = test['ticker'].str.upper()"
   ]
  },
  {
   "cell_type": "code",
   "execution_count": 281,
   "metadata": {
    "colab": {
     "base_uri": "https://localhost:8080/",
     "height": 204
    },
    "colab_type": "code",
    "id": "UMeyxWs_z--p",
    "outputId": "0a420ebc-b5c0-49f1-bef8-6fc2158e6048"
   },
   "outputs": [
    {
     "data": {
      "text/html": [
       "<div>\n",
       "<style scoped>\n",
       "    .dataframe tbody tr th:only-of-type {\n",
       "        vertical-align: middle;\n",
       "    }\n",
       "\n",
       "    .dataframe tbody tr th {\n",
       "        vertical-align: top;\n",
       "    }\n",
       "\n",
       "    .dataframe thead th {\n",
       "        text-align: right;\n",
       "    }\n",
       "</style>\n",
       "<table border=\"1\" class=\"dataframe\">\n",
       "  <thead>\n",
       "    <tr style=\"text-align: right;\">\n",
       "      <th></th>\n",
       "      <th>Id</th>\n",
       "      <th>date</th>\n",
       "      <th>ticker</th>\n",
       "      <th>SF1</th>\n",
       "      <th>SF2</th>\n",
       "      <th>SF3</th>\n",
       "      <th>SF4</th>\n",
       "      <th>SF5</th>\n",
       "      <th>SF6</th>\n",
       "      <th>SF7</th>\n",
       "    </tr>\n",
       "  </thead>\n",
       "  <tbody>\n",
       "    <tr>\n",
       "      <th>0</th>\n",
       "      <td>270007</td>\n",
       "      <td>2018-07-21</td>\n",
       "      <td>INTC</td>\n",
       "      <td>-3.062194</td>\n",
       "      <td>1.223466</td>\n",
       "      <td>1.741714</td>\n",
       "      <td>2.279266</td>\n",
       "      <td>-1.323573</td>\n",
       "      <td>-0.274912</td>\n",
       "      <td>-4.504449</td>\n",
       "    </tr>\n",
       "    <tr>\n",
       "      <th>1</th>\n",
       "      <td>270008</td>\n",
       "      <td>2018-10-05</td>\n",
       "      <td>CTSH</td>\n",
       "      <td>0.816263</td>\n",
       "      <td>-2.184408</td>\n",
       "      <td>0.157975</td>\n",
       "      <td>-0.264743</td>\n",
       "      <td>-0.836282</td>\n",
       "      <td>0.046276</td>\n",
       "      <td>0.826353</td>\n",
       "    </tr>\n",
       "    <tr>\n",
       "      <th>2</th>\n",
       "      <td>270009</td>\n",
       "      <td>2018-10-01</td>\n",
       "      <td>CB</td>\n",
       "      <td>0.401281</td>\n",
       "      <td>0.091604</td>\n",
       "      <td>0.083411</td>\n",
       "      <td>-1.147041</td>\n",
       "      <td>-0.485223</td>\n",
       "      <td>-0.601060</td>\n",
       "      <td>1.012811</td>\n",
       "    </tr>\n",
       "    <tr>\n",
       "      <th>3</th>\n",
       "      <td>270010</td>\n",
       "      <td>2018-10-24</td>\n",
       "      <td>CTAS</td>\n",
       "      <td>-0.783521</td>\n",
       "      <td>1.192929</td>\n",
       "      <td>0.813831</td>\n",
       "      <td>-0.368166</td>\n",
       "      <td>-1.113656</td>\n",
       "      <td>-0.553581</td>\n",
       "      <td>-0.683803</td>\n",
       "    </tr>\n",
       "    <tr>\n",
       "      <th>4</th>\n",
       "      <td>270011</td>\n",
       "      <td>2018-07-27</td>\n",
       "      <td>INTC</td>\n",
       "      <td>0.796507</td>\n",
       "      <td>0.455341</td>\n",
       "      <td>0.679032</td>\n",
       "      <td>0.354336</td>\n",
       "      <td>-1.799055</td>\n",
       "      <td>0.126153</td>\n",
       "      <td>0.297111</td>\n",
       "    </tr>\n",
       "  </tbody>\n",
       "</table>\n",
       "</div>"
      ],
      "text/plain": [
       "       Id        date ticker       SF1  ...       SF4       SF5       SF6       SF7\n",
       "0  270007  2018-07-21   INTC -3.062194  ...  2.279266 -1.323573 -0.274912 -4.504449\n",
       "1  270008  2018-10-05   CTSH  0.816263  ... -0.264743 -0.836282  0.046276  0.826353\n",
       "2  270009  2018-10-01     CB  0.401281  ... -1.147041 -0.485223 -0.601060  1.012811\n",
       "3  270010  2018-10-24   CTAS -0.783521  ... -0.368166 -1.113656 -0.553581 -0.683803\n",
       "4  270011  2018-07-27   INTC  0.796507  ...  0.354336 -1.799055  0.126153  0.297111\n",
       "\n",
       "[5 rows x 10 columns]"
      ]
     },
     "execution_count": 281,
     "metadata": {
      "tags": []
     },
     "output_type": "execute_result"
    }
   ],
   "source": [
    "test.head()"
   ]
  },
  {
   "cell_type": "code",
   "execution_count": 0,
   "metadata": {
    "colab": {},
    "colab_type": "code",
    "id": "8EHfpEn4pnGd"
   },
   "outputs": [],
   "source": [
    "with open('/content/drive/My Drive/DATASET/test_data.json', 'r') as f:\n",
    "     sntmnt_data_test = json.load(f)"
   ]
  },
  {
   "cell_type": "code",
   "execution_count": 0,
   "metadata": {
    "colab": {},
    "colab_type": "code",
    "id": "LHqXDcGsqDA8"
   },
   "outputs": [],
   "source": [
    "test_sntmnt = pd.concat([pd.DataFrame(sntmnt_data_test),pd.DataFrame(list(sntmnt_data_test['records']))], axis=1).drop('records', 1)"
   ]
  },
  {
   "cell_type": "code",
   "execution_count": 284,
   "metadata": {
    "colab": {
     "base_uri": "https://localhost:8080/",
     "height": 204
    },
    "colab_type": "code",
    "id": "yM-GhLtkqGLa",
    "outputId": "2293034d-1b57-42e8-f612-19d5753299c7"
   },
   "outputs": [
    {
     "data": {
      "text/html": [
       "<div>\n",
       "<style scoped>\n",
       "    .dataframe tbody tr th:only-of-type {\n",
       "        vertical-align: middle;\n",
       "    }\n",
       "\n",
       "    .dataframe tbody tr th {\n",
       "        vertical-align: top;\n",
       "    }\n",
       "\n",
       "    .dataframe thead th {\n",
       "        text-align: right;\n",
       "    }\n",
       "</style>\n",
       "<table border=\"1\" class=\"dataframe\">\n",
       "  <thead>\n",
       "    <tr style=\"text-align: right;\">\n",
       "      <th></th>\n",
       "      <th>stocktwit_tweet</th>\n",
       "      <th>timestamp</th>\n",
       "      <th>ticker</th>\n",
       "    </tr>\n",
       "  </thead>\n",
       "  <tbody>\n",
       "    <tr>\n",
       "      <th>0</th>\n",
       "      <td>$CELG nothing to be exited about</td>\n",
       "      <td>2018-10-25 14:26:16+00:00</td>\n",
       "      <td>$CELG</td>\n",
       "    </tr>\n",
       "    <tr>\n",
       "      <th>1</th>\n",
       "      <td>$AMD yall exhaust your buyer on first green ca...</td>\n",
       "      <td>2018-07-13 13:50:39+00:00</td>\n",
       "      <td>$AMD</td>\n",
       "    </tr>\n",
       "    <tr>\n",
       "      <th>2</th>\n",
       "      <td>$AMD day traders day.</td>\n",
       "      <td>2018-09-25 19:10:54+00:00</td>\n",
       "      <td>$AMD</td>\n",
       "    </tr>\n",
       "    <tr>\n",
       "      <th>3</th>\n",
       "      <td>$CBS https://tenor.com/wLB8.gif</td>\n",
       "      <td>2018-07-27 22:45:48+00:00</td>\n",
       "      <td>$CBS</td>\n",
       "    </tr>\n",
       "    <tr>\n",
       "      <th>4</th>\n",
       "      <td>$MU weak price action so far today. Don’t be a...</td>\n",
       "      <td>2018-07-31 14:59:06+00:00</td>\n",
       "      <td>$MU</td>\n",
       "    </tr>\n",
       "  </tbody>\n",
       "</table>\n",
       "</div>"
      ],
      "text/plain": [
       "                                     stocktwit_tweet  ... ticker\n",
       "0                   $CELG nothing to be exited about  ...  $CELG\n",
       "1  $AMD yall exhaust your buyer on first green ca...  ...   $AMD\n",
       "2                              $AMD day traders day.  ...   $AMD\n",
       "3                    $CBS https://tenor.com/wLB8.gif  ...   $CBS\n",
       "4  $MU weak price action so far today. Don’t be a...  ...    $MU\n",
       "\n",
       "[5 rows x 3 columns]"
      ]
     },
     "execution_count": 284,
     "metadata": {
      "tags": []
     },
     "output_type": "execute_result"
    }
   ],
   "source": [
    "test_sntmnt.head()"
   ]
  },
  {
   "cell_type": "code",
   "execution_count": 0,
   "metadata": {
    "colab": {},
    "colab_type": "code",
    "id": "eqZXKhJn6XXe"
   },
   "outputs": [],
   "source": [
    "test_sntmnt['timestamp'] = test_sntmnt['timestamp'].str.split(' ').str[0]\n",
    "\n",
    "test_sntmnt['ticker'] = test_sntmnt['ticker'].str.replace('$','')\n",
    "test_sntmnt['ticker'] = test_sntmnt['ticker'].str.upper()"
   ]
  },
  {
   "cell_type": "code",
   "execution_count": 286,
   "metadata": {
    "colab": {
     "base_uri": "https://localhost:8080/",
     "height": 204
    },
    "colab_type": "code",
    "id": "2omKrA4v6WyJ",
    "outputId": "b2bbc60d-c093-4fc9-9038-a6cb5b4e28d9"
   },
   "outputs": [
    {
     "data": {
      "text/html": [
       "<div>\n",
       "<style scoped>\n",
       "    .dataframe tbody tr th:only-of-type {\n",
       "        vertical-align: middle;\n",
       "    }\n",
       "\n",
       "    .dataframe tbody tr th {\n",
       "        vertical-align: top;\n",
       "    }\n",
       "\n",
       "    .dataframe thead th {\n",
       "        text-align: right;\n",
       "    }\n",
       "</style>\n",
       "<table border=\"1\" class=\"dataframe\">\n",
       "  <thead>\n",
       "    <tr style=\"text-align: right;\">\n",
       "      <th></th>\n",
       "      <th>stocktwit_tweet</th>\n",
       "      <th>timestamp</th>\n",
       "      <th>ticker</th>\n",
       "    </tr>\n",
       "  </thead>\n",
       "  <tbody>\n",
       "    <tr>\n",
       "      <th>0</th>\n",
       "      <td>$CELG nothing to be exited about</td>\n",
       "      <td>2018-10-25</td>\n",
       "      <td>CELG</td>\n",
       "    </tr>\n",
       "    <tr>\n",
       "      <th>1</th>\n",
       "      <td>$AMD yall exhaust your buyer on first green ca...</td>\n",
       "      <td>2018-07-13</td>\n",
       "      <td>AMD</td>\n",
       "    </tr>\n",
       "    <tr>\n",
       "      <th>2</th>\n",
       "      <td>$AMD day traders day.</td>\n",
       "      <td>2018-09-25</td>\n",
       "      <td>AMD</td>\n",
       "    </tr>\n",
       "    <tr>\n",
       "      <th>3</th>\n",
       "      <td>$CBS https://tenor.com/wLB8.gif</td>\n",
       "      <td>2018-07-27</td>\n",
       "      <td>CBS</td>\n",
       "    </tr>\n",
       "    <tr>\n",
       "      <th>4</th>\n",
       "      <td>$MU weak price action so far today. Don’t be a...</td>\n",
       "      <td>2018-07-31</td>\n",
       "      <td>MU</td>\n",
       "    </tr>\n",
       "  </tbody>\n",
       "</table>\n",
       "</div>"
      ],
      "text/plain": [
       "                                     stocktwit_tweet   timestamp ticker\n",
       "0                   $CELG nothing to be exited about  2018-10-25   CELG\n",
       "1  $AMD yall exhaust your buyer on first green ca...  2018-07-13    AMD\n",
       "2                              $AMD day traders day.  2018-09-25    AMD\n",
       "3                    $CBS https://tenor.com/wLB8.gif  2018-07-27    CBS\n",
       "4  $MU weak price action so far today. Don’t be a...  2018-07-31     MU"
      ]
     },
     "execution_count": 286,
     "metadata": {
      "tags": []
     },
     "output_type": "execute_result"
    }
   ],
   "source": [
    "test_sntmnt.head()"
   ]
  },
  {
   "cell_type": "code",
   "execution_count": 287,
   "metadata": {
    "colab": {
     "base_uri": "https://localhost:8080/",
     "height": 204
    },
    "colab_type": "code",
    "id": "ilUzB8vAqKFi",
    "outputId": "e96a3388-1949-40aa-bc83-a7d1d19188d4"
   },
   "outputs": [
    {
     "data": {
      "text/html": [
       "<div>\n",
       "<style scoped>\n",
       "    .dataframe tbody tr th:only-of-type {\n",
       "        vertical-align: middle;\n",
       "    }\n",
       "\n",
       "    .dataframe tbody tr th {\n",
       "        vertical-align: top;\n",
       "    }\n",
       "\n",
       "    .dataframe thead th {\n",
       "        text-align: right;\n",
       "    }\n",
       "</style>\n",
       "<table border=\"1\" class=\"dataframe\">\n",
       "  <thead>\n",
       "    <tr style=\"text-align: right;\">\n",
       "      <th></th>\n",
       "      <th>stocktwit_tweet</th>\n",
       "      <th>timestamp</th>\n",
       "      <th>ticker</th>\n",
       "      <th>sentiment_score</th>\n",
       "    </tr>\n",
       "  </thead>\n",
       "  <tbody>\n",
       "    <tr>\n",
       "      <th>0</th>\n",
       "      <td>$CELG nothing to be exited about</td>\n",
       "      <td>2018-10-25</td>\n",
       "      <td>CELG</td>\n",
       "      <td>2</td>\n",
       "    </tr>\n",
       "    <tr>\n",
       "      <th>1</th>\n",
       "      <td>$AMD yall exhaust your buyer on first green ca...</td>\n",
       "      <td>2018-07-13</td>\n",
       "      <td>AMD</td>\n",
       "      <td>4</td>\n",
       "    </tr>\n",
       "    <tr>\n",
       "      <th>2</th>\n",
       "      <td>$AMD day traders day.</td>\n",
       "      <td>2018-09-25</td>\n",
       "      <td>AMD</td>\n",
       "      <td>2</td>\n",
       "    </tr>\n",
       "    <tr>\n",
       "      <th>3</th>\n",
       "      <td>$CBS https://tenor.com/wLB8.gif</td>\n",
       "      <td>2018-07-27</td>\n",
       "      <td>CBS</td>\n",
       "      <td>2</td>\n",
       "    </tr>\n",
       "    <tr>\n",
       "      <th>4</th>\n",
       "      <td>$MU weak price action so far today. Don’t be a...</td>\n",
       "      <td>2018-07-31</td>\n",
       "      <td>MU</td>\n",
       "      <td>0</td>\n",
       "    </tr>\n",
       "  </tbody>\n",
       "</table>\n",
       "</div>"
      ],
      "text/plain": [
       "                                     stocktwit_tweet  ... sentiment_score\n",
       "0                   $CELG nothing to be exited about  ...               2\n",
       "1  $AMD yall exhaust your buyer on first green ca...  ...               4\n",
       "2                              $AMD day traders day.  ...               2\n",
       "3                    $CBS https://tenor.com/wLB8.gif  ...               2\n",
       "4  $MU weak price action so far today. Don’t be a...  ...               0\n",
       "\n",
       "[5 rows x 4 columns]"
      ]
     },
     "execution_count": 287,
     "metadata": {
      "tags": []
     },
     "output_type": "execute_result"
    }
   ],
   "source": [
    "test_sntmnt['sentiment_score'] = test_json_Predictions\n",
    "\n",
    "test_sntmnt.head()"
   ]
  },
  {
   "cell_type": "code",
   "execution_count": 0,
   "metadata": {
    "colab": {},
    "colab_type": "code",
    "id": "I8XfLSPm3AXn"
   },
   "outputs": [],
   "source": [
    "test_sntmnt = test_sntmnt.groupby(by=['timestamp','ticker'])['sentiment_score'].agg(lambda x: x.value_counts().index[0]).to_frame()\n",
    "\n",
    "test_merge = pd.merge(test, test_sntmnt, how='left', left_on = ['ticker','date'],right_on=['ticker','timestamp'])"
   ]
  },
  {
   "cell_type": "code",
   "execution_count": 289,
   "metadata": {
    "colab": {
     "base_uri": "https://localhost:8080/",
     "height": 204
    },
    "colab_type": "code",
    "id": "nASJsSN75T7P",
    "outputId": "ebd5c5e5-fe3e-4ac4-c381-7ad3b16e5a7c"
   },
   "outputs": [
    {
     "data": {
      "text/html": [
       "<div>\n",
       "<style scoped>\n",
       "    .dataframe tbody tr th:only-of-type {\n",
       "        vertical-align: middle;\n",
       "    }\n",
       "\n",
       "    .dataframe tbody tr th {\n",
       "        vertical-align: top;\n",
       "    }\n",
       "\n",
       "    .dataframe thead th {\n",
       "        text-align: right;\n",
       "    }\n",
       "</style>\n",
       "<table border=\"1\" class=\"dataframe\">\n",
       "  <thead>\n",
       "    <tr style=\"text-align: right;\">\n",
       "      <th></th>\n",
       "      <th>Id</th>\n",
       "      <th>date</th>\n",
       "      <th>ticker</th>\n",
       "      <th>SF1</th>\n",
       "      <th>SF2</th>\n",
       "      <th>SF3</th>\n",
       "      <th>SF4</th>\n",
       "      <th>SF5</th>\n",
       "      <th>SF6</th>\n",
       "      <th>SF7</th>\n",
       "      <th>sentiment_score</th>\n",
       "    </tr>\n",
       "  </thead>\n",
       "  <tbody>\n",
       "    <tr>\n",
       "      <th>0</th>\n",
       "      <td>270007</td>\n",
       "      <td>2018-07-21</td>\n",
       "      <td>INTC</td>\n",
       "      <td>-3.062194</td>\n",
       "      <td>1.223466</td>\n",
       "      <td>1.741714</td>\n",
       "      <td>2.279266</td>\n",
       "      <td>-1.323573</td>\n",
       "      <td>-0.274912</td>\n",
       "      <td>-4.504449</td>\n",
       "      <td>2</td>\n",
       "    </tr>\n",
       "    <tr>\n",
       "      <th>1</th>\n",
       "      <td>270008</td>\n",
       "      <td>2018-10-05</td>\n",
       "      <td>CTSH</td>\n",
       "      <td>0.816263</td>\n",
       "      <td>-2.184408</td>\n",
       "      <td>0.157975</td>\n",
       "      <td>-0.264743</td>\n",
       "      <td>-0.836282</td>\n",
       "      <td>0.046276</td>\n",
       "      <td>0.826353</td>\n",
       "      <td>2</td>\n",
       "    </tr>\n",
       "    <tr>\n",
       "      <th>2</th>\n",
       "      <td>270009</td>\n",
       "      <td>2018-10-01</td>\n",
       "      <td>CB</td>\n",
       "      <td>0.401281</td>\n",
       "      <td>0.091604</td>\n",
       "      <td>0.083411</td>\n",
       "      <td>-1.147041</td>\n",
       "      <td>-0.485223</td>\n",
       "      <td>-0.601060</td>\n",
       "      <td>1.012811</td>\n",
       "      <td>2</td>\n",
       "    </tr>\n",
       "    <tr>\n",
       "      <th>3</th>\n",
       "      <td>270010</td>\n",
       "      <td>2018-10-24</td>\n",
       "      <td>CTAS</td>\n",
       "      <td>-0.783521</td>\n",
       "      <td>1.192929</td>\n",
       "      <td>0.813831</td>\n",
       "      <td>-0.368166</td>\n",
       "      <td>-1.113656</td>\n",
       "      <td>-0.553581</td>\n",
       "      <td>-0.683803</td>\n",
       "      <td>3</td>\n",
       "    </tr>\n",
       "    <tr>\n",
       "      <th>4</th>\n",
       "      <td>270011</td>\n",
       "      <td>2018-07-27</td>\n",
       "      <td>INTC</td>\n",
       "      <td>0.796507</td>\n",
       "      <td>0.455341</td>\n",
       "      <td>0.679032</td>\n",
       "      <td>0.354336</td>\n",
       "      <td>-1.799055</td>\n",
       "      <td>0.126153</td>\n",
       "      <td>0.297111</td>\n",
       "      <td>2</td>\n",
       "    </tr>\n",
       "  </tbody>\n",
       "</table>\n",
       "</div>"
      ],
      "text/plain": [
       "       Id        date ticker  ...       SF6       SF7  sentiment_score\n",
       "0  270007  2018-07-21   INTC  ... -0.274912 -4.504449                2\n",
       "1  270008  2018-10-05   CTSH  ...  0.046276  0.826353                2\n",
       "2  270009  2018-10-01     CB  ... -0.601060  1.012811                2\n",
       "3  270010  2018-10-24   CTAS  ... -0.553581 -0.683803                3\n",
       "4  270011  2018-07-27   INTC  ...  0.126153  0.297111                2\n",
       "\n",
       "[5 rows x 11 columns]"
      ]
     },
     "execution_count": 289,
     "metadata": {
      "tags": []
     },
     "output_type": "execute_result"
    }
   ],
   "source": [
    "test_merge.head()"
   ]
  },
  {
   "cell_type": "markdown",
   "metadata": {
    "colab_type": "text",
    "id": "T1V72k7D8ZoT"
   },
   "source": [
    "#### Checking the Shapes and DataTypes of Merged File"
   ]
  },
  {
   "cell_type": "code",
   "execution_count": 290,
   "metadata": {
    "colab": {
     "base_uri": "https://localhost:8080/",
     "height": 34
    },
    "colab_type": "code",
    "id": "cvMXPmXG5coU",
    "outputId": "6610ddb5-cc66-43d9-edcb-cd1558c5a384"
   },
   "outputs": [
    {
     "data": {
      "text/plain": [
       "(27006, 12)"
      ]
     },
     "execution_count": 290,
     "metadata": {
      "tags": []
     },
     "output_type": "execute_result"
    }
   ],
   "source": [
    "train_merge.shape"
   ]
  },
  {
   "cell_type": "code",
   "execution_count": 291,
   "metadata": {
    "colab": {
     "base_uri": "https://localhost:8080/",
     "height": 238
    },
    "colab_type": "code",
    "id": "STx980X08mQs",
    "outputId": "8c7ee32b-1628-44e4-ff60-e14504fbf9bc"
   },
   "outputs": [
    {
     "data": {
      "text/plain": [
       "Id                   int64\n",
       "date                object\n",
       "ticker              object\n",
       "SF1                float64\n",
       "SF2                float64\n",
       "SF3                float64\n",
       "SF4                float64\n",
       "SF5                float64\n",
       "SF6                float64\n",
       "SF7                float64\n",
       "alpha                int64\n",
       "sentiment_score    float64\n",
       "dtype: object"
      ]
     },
     "execution_count": 291,
     "metadata": {
      "tags": []
     },
     "output_type": "execute_result"
    }
   ],
   "source": [
    "train_merge.dtypes"
   ]
  },
  {
   "cell_type": "code",
   "execution_count": 292,
   "metadata": {
    "colab": {
     "base_uri": "https://localhost:8080/",
     "height": 34
    },
    "colab_type": "code",
    "id": "UBBtxCpS8pPN",
    "outputId": "da08fc13-05b0-459e-a6f1-0525d16d6e10"
   },
   "outputs": [
    {
     "data": {
      "text/plain": [
       "(11575, 11)"
      ]
     },
     "execution_count": 292,
     "metadata": {
      "tags": []
     },
     "output_type": "execute_result"
    }
   ],
   "source": [
    "test_merge.shape"
   ]
  },
  {
   "cell_type": "code",
   "execution_count": 293,
   "metadata": {
    "colab": {
     "base_uri": "https://localhost:8080/",
     "height": 221
    },
    "colab_type": "code",
    "id": "_3bcCITh8w0L",
    "outputId": "7215475f-955c-4687-b367-b5cec33bcffe"
   },
   "outputs": [
    {
     "data": {
      "text/plain": [
       "Id                   int64\n",
       "date                object\n",
       "ticker              object\n",
       "SF1                float64\n",
       "SF2                float64\n",
       "SF3                float64\n",
       "SF4                float64\n",
       "SF5                float64\n",
       "SF6                float64\n",
       "SF7                float64\n",
       "sentiment_score      int64\n",
       "dtype: object"
      ]
     },
     "execution_count": 293,
     "metadata": {
      "tags": []
     },
     "output_type": "execute_result"
    }
   ],
   "source": [
    "test_merge.dtypes"
   ]
  },
  {
   "cell_type": "markdown",
   "metadata": {
    "colab_type": "text",
    "id": "P8Y8YbgF9kZO"
   },
   "source": [
    "#### Changing the DataTypes"
   ]
  },
  {
   "cell_type": "code",
   "execution_count": 0,
   "metadata": {
    "colab": {},
    "colab_type": "code",
    "id": "PE0nanrU80JM"
   },
   "outputs": [],
   "source": [
    "## ==> for Train_data\n",
    "for i in ['ticker','alpha','sentiment_score','date']:\n",
    "    train_merge[i] = train_merge[i].astype('category')"
   ]
  },
  {
   "cell_type": "code",
   "execution_count": 295,
   "metadata": {
    "colab": {
     "base_uri": "https://localhost:8080/",
     "height": 238
    },
    "colab_type": "code",
    "id": "m4n9TpED92vA",
    "outputId": "20c20a7b-d592-417a-87a1-587f4dce4e1c"
   },
   "outputs": [
    {
     "data": {
      "text/plain": [
       "Id                    int64\n",
       "date               category\n",
       "ticker             category\n",
       "SF1                 float64\n",
       "SF2                 float64\n",
       "SF3                 float64\n",
       "SF4                 float64\n",
       "SF5                 float64\n",
       "SF6                 float64\n",
       "SF7                 float64\n",
       "alpha              category\n",
       "sentiment_score    category\n",
       "dtype: object"
      ]
     },
     "execution_count": 295,
     "metadata": {
      "tags": []
     },
     "output_type": "execute_result"
    }
   ],
   "source": [
    "train_merge.dtypes"
   ]
  },
  {
   "cell_type": "code",
   "execution_count": 296,
   "metadata": {
    "colab": {
     "base_uri": "https://localhost:8080/",
     "height": 221
    },
    "colab_type": "code",
    "id": "Ga62xJbr98H9",
    "outputId": "7dfa967d-ec80-447a-a098-b5641e925158"
   },
   "outputs": [
    {
     "data": {
      "text/plain": [
       "Id                    int64\n",
       "date               category\n",
       "ticker             category\n",
       "SF1                 float64\n",
       "SF2                 float64\n",
       "SF3                 float64\n",
       "SF4                 float64\n",
       "SF5                 float64\n",
       "SF6                 float64\n",
       "SF7                 float64\n",
       "sentiment_score    category\n",
       "dtype: object"
      ]
     },
     "execution_count": 296,
     "metadata": {
      "tags": []
     },
     "output_type": "execute_result"
    }
   ],
   "source": [
    "## ==> for Test_data\n",
    "for i in ['ticker','sentiment_score','date']:\n",
    "  test_merge[i] = test_merge[i].astype('category')\n",
    "\n",
    "test_merge.dtypes  "
   ]
  },
  {
   "cell_type": "markdown",
   "metadata": {
    "colab_type": "text",
    "id": "Cx33kQPoAJEm"
   },
   "source": [
    "#### Droping the Unnecessary columns"
   ]
  },
  {
   "cell_type": "code",
   "execution_count": 297,
   "metadata": {
    "colab": {
     "base_uri": "https://localhost:8080/",
     "height": 187
    },
    "colab_type": "code",
    "id": "EnGxA4p9-uQz",
    "outputId": "af8e7d03-a2e4-4b73-e9b9-b499bca4c553"
   },
   "outputs": [
    {
     "data": {
      "text/plain": [
       "SF1                 float64\n",
       "SF2                 float64\n",
       "SF3                 float64\n",
       "SF4                 float64\n",
       "SF5                 float64\n",
       "SF6                 float64\n",
       "SF7                 float64\n",
       "alpha              category\n",
       "sentiment_score    category\n",
       "dtype: object"
      ]
     },
     "execution_count": 297,
     "metadata": {
      "tags": []
     },
     "output_type": "execute_result"
    }
   ],
   "source": [
    "## ==> for train_data\n",
    "train_merge.drop(['Id','date','ticker'], axis=1, inplace= True)\n",
    "train_merge.dtypes"
   ]
  },
  {
   "cell_type": "code",
   "execution_count": 298,
   "metadata": {
    "colab": {
     "base_uri": "https://localhost:8080/",
     "height": 170
    },
    "colab_type": "code",
    "id": "hoiRyxPXAWEJ",
    "outputId": "e1d524ea-b873-47c7-a1fb-bd4900aa6b55"
   },
   "outputs": [
    {
     "data": {
      "text/plain": [
       "SF1                 float64\n",
       "SF2                 float64\n",
       "SF3                 float64\n",
       "SF4                 float64\n",
       "SF5                 float64\n",
       "SF6                 float64\n",
       "SF7                 float64\n",
       "sentiment_score    category\n",
       "dtype: object"
      ]
     },
     "execution_count": 298,
     "metadata": {
      "tags": []
     },
     "output_type": "execute_result"
    }
   ],
   "source": [
    "## ==> for Test_data\n",
    "test_merge.drop(['Id','date','ticker'], axis=1, inplace= True)\n",
    "test_merge.dtypes"
   ]
  },
  {
   "cell_type": "markdown",
   "metadata": {
    "colab_type": "text",
    "id": "wxWlcnwxCQ4C"
   },
   "source": [
    "#### Decsribeing the Data"
   ]
  },
  {
   "cell_type": "code",
   "execution_count": 299,
   "metadata": {
    "colab": {
     "base_uri": "https://localhost:8080/",
     "height": 297
    },
    "colab_type": "code",
    "id": "1gOXlp9iCHK8",
    "outputId": "3b5cd5d8-9b9c-410c-ebaf-0a25892444a7"
   },
   "outputs": [
    {
     "data": {
      "text/html": [
       "<div>\n",
       "<style scoped>\n",
       "    .dataframe tbody tr th:only-of-type {\n",
       "        vertical-align: middle;\n",
       "    }\n",
       "\n",
       "    .dataframe tbody tr th {\n",
       "        vertical-align: top;\n",
       "    }\n",
       "\n",
       "    .dataframe thead th {\n",
       "        text-align: right;\n",
       "    }\n",
       "</style>\n",
       "<table border=\"1\" class=\"dataframe\">\n",
       "  <thead>\n",
       "    <tr style=\"text-align: right;\">\n",
       "      <th></th>\n",
       "      <th>SF1</th>\n",
       "      <th>SF2</th>\n",
       "      <th>SF3</th>\n",
       "      <th>SF4</th>\n",
       "      <th>SF5</th>\n",
       "      <th>SF6</th>\n",
       "      <th>SF7</th>\n",
       "    </tr>\n",
       "  </thead>\n",
       "  <tbody>\n",
       "    <tr>\n",
       "      <th>count</th>\n",
       "      <td>27006.000000</td>\n",
       "      <td>27006.000000</td>\n",
       "      <td>27006.000000</td>\n",
       "      <td>27006.000000</td>\n",
       "      <td>27006.000000</td>\n",
       "      <td>27006.000000</td>\n",
       "      <td>27006.000000</td>\n",
       "    </tr>\n",
       "    <tr>\n",
       "      <th>mean</th>\n",
       "      <td>0.005429</td>\n",
       "      <td>-0.001005</td>\n",
       "      <td>-0.024421</td>\n",
       "      <td>-0.042420</td>\n",
       "      <td>0.041465</td>\n",
       "      <td>0.002597</td>\n",
       "      <td>0.036744</td>\n",
       "    </tr>\n",
       "    <tr>\n",
       "      <th>std</th>\n",
       "      <td>0.941853</td>\n",
       "      <td>0.996130</td>\n",
       "      <td>0.539555</td>\n",
       "      <td>1.111309</td>\n",
       "      <td>0.976028</td>\n",
       "      <td>0.998839</td>\n",
       "      <td>1.204473</td>\n",
       "    </tr>\n",
       "    <tr>\n",
       "      <th>min</th>\n",
       "      <td>-4.114670</td>\n",
       "      <td>-4.578587</td>\n",
       "      <td>-2.609150</td>\n",
       "      <td>-6.329798</td>\n",
       "      <td>-5.480268</td>\n",
       "      <td>-4.338751</td>\n",
       "      <td>-5.347869</td>\n",
       "    </tr>\n",
       "    <tr>\n",
       "      <th>25%</th>\n",
       "      <td>-0.596792</td>\n",
       "      <td>-0.666310</td>\n",
       "      <td>-0.300187</td>\n",
       "      <td>-0.767247</td>\n",
       "      <td>-0.518641</td>\n",
       "      <td>-0.668027</td>\n",
       "      <td>-0.688198</td>\n",
       "    </tr>\n",
       "    <tr>\n",
       "      <th>50%</th>\n",
       "      <td>0.012104</td>\n",
       "      <td>-0.013257</td>\n",
       "      <td>-0.040786</td>\n",
       "      <td>-0.058629</td>\n",
       "      <td>0.072127</td>\n",
       "      <td>0.007417</td>\n",
       "      <td>0.081374</td>\n",
       "    </tr>\n",
       "    <tr>\n",
       "      <th>75%</th>\n",
       "      <td>0.611574</td>\n",
       "      <td>0.669094</td>\n",
       "      <td>0.241424</td>\n",
       "      <td>0.677433</td>\n",
       "      <td>0.616538</td>\n",
       "      <td>0.674592</td>\n",
       "      <td>0.807556</td>\n",
       "    </tr>\n",
       "    <tr>\n",
       "      <th>max</th>\n",
       "      <td>4.415048</td>\n",
       "      <td>3.822270</td>\n",
       "      <td>3.452486</td>\n",
       "      <td>4.907407</td>\n",
       "      <td>4.779911</td>\n",
       "      <td>4.075428</td>\n",
       "      <td>5.182912</td>\n",
       "    </tr>\n",
       "  </tbody>\n",
       "</table>\n",
       "</div>"
      ],
      "text/plain": [
       "                SF1           SF2  ...           SF6           SF7\n",
       "count  27006.000000  27006.000000  ...  27006.000000  27006.000000\n",
       "mean       0.005429     -0.001005  ...      0.002597      0.036744\n",
       "std        0.941853      0.996130  ...      0.998839      1.204473\n",
       "min       -4.114670     -4.578587  ...     -4.338751     -5.347869\n",
       "25%       -0.596792     -0.666310  ...     -0.668027     -0.688198\n",
       "50%        0.012104     -0.013257  ...      0.007417      0.081374\n",
       "75%        0.611574      0.669094  ...      0.674592      0.807556\n",
       "max        4.415048      3.822270  ...      4.075428      5.182912\n",
       "\n",
       "[8 rows x 7 columns]"
      ]
     },
     "execution_count": 299,
     "metadata": {
      "tags": []
     },
     "output_type": "execute_result"
    }
   ],
   "source": [
    "train_merge.describe()"
   ]
  },
  {
   "cell_type": "code",
   "execution_count": 300,
   "metadata": {
    "colab": {
     "base_uri": "https://localhost:8080/",
     "height": 173
    },
    "colab_type": "code",
    "id": "-tqW1jQACy56",
    "outputId": "7f854f89-3c25-4912-991c-c6e99c88d405"
   },
   "outputs": [
    {
     "data": {
      "text/html": [
       "<div>\n",
       "<style scoped>\n",
       "    .dataframe tbody tr th:only-of-type {\n",
       "        vertical-align: middle;\n",
       "    }\n",
       "\n",
       "    .dataframe tbody tr th {\n",
       "        vertical-align: top;\n",
       "    }\n",
       "\n",
       "    .dataframe thead th {\n",
       "        text-align: right;\n",
       "    }\n",
       "</style>\n",
       "<table border=\"1\" class=\"dataframe\">\n",
       "  <thead>\n",
       "    <tr style=\"text-align: right;\">\n",
       "      <th></th>\n",
       "      <th>alpha</th>\n",
       "      <th>sentiment_score</th>\n",
       "    </tr>\n",
       "  </thead>\n",
       "  <tbody>\n",
       "    <tr>\n",
       "      <th>count</th>\n",
       "      <td>27006</td>\n",
       "      <td>24839.0</td>\n",
       "    </tr>\n",
       "    <tr>\n",
       "      <th>unique</th>\n",
       "      <td>4</td>\n",
       "      <td>5.0</td>\n",
       "    </tr>\n",
       "    <tr>\n",
       "      <th>top</th>\n",
       "      <td>2</td>\n",
       "      <td>2.0</td>\n",
       "    </tr>\n",
       "    <tr>\n",
       "      <th>freq</th>\n",
       "      <td>10912</td>\n",
       "      <td>19040.0</td>\n",
       "    </tr>\n",
       "  </tbody>\n",
       "</table>\n",
       "</div>"
      ],
      "text/plain": [
       "        alpha  sentiment_score\n",
       "count   27006          24839.0\n",
       "unique      4              5.0\n",
       "top         2              2.0\n",
       "freq    10912          19040.0"
      ]
     },
     "execution_count": 300,
     "metadata": {
      "tags": []
     },
     "output_type": "execute_result"
    }
   ],
   "source": [
    "train_merge.describe(include='category')"
   ]
  },
  {
   "cell_type": "code",
   "execution_count": 301,
   "metadata": {
    "colab": {
     "base_uri": "https://localhost:8080/",
     "height": 297
    },
    "colab_type": "code",
    "id": "dnCSq9wHC6_P",
    "outputId": "7631283d-0983-4d71-9dca-c1b725d22922"
   },
   "outputs": [
    {
     "data": {
      "text/html": [
       "<div>\n",
       "<style scoped>\n",
       "    .dataframe tbody tr th:only-of-type {\n",
       "        vertical-align: middle;\n",
       "    }\n",
       "\n",
       "    .dataframe tbody tr th {\n",
       "        vertical-align: top;\n",
       "    }\n",
       "\n",
       "    .dataframe thead th {\n",
       "        text-align: right;\n",
       "    }\n",
       "</style>\n",
       "<table border=\"1\" class=\"dataframe\">\n",
       "  <thead>\n",
       "    <tr style=\"text-align: right;\">\n",
       "      <th></th>\n",
       "      <th>SF1</th>\n",
       "      <th>SF2</th>\n",
       "      <th>SF3</th>\n",
       "      <th>SF4</th>\n",
       "      <th>SF5</th>\n",
       "      <th>SF6</th>\n",
       "      <th>SF7</th>\n",
       "    </tr>\n",
       "  </thead>\n",
       "  <tbody>\n",
       "    <tr>\n",
       "      <th>count</th>\n",
       "      <td>11575.000000</td>\n",
       "      <td>11575.000000</td>\n",
       "      <td>11575.000000</td>\n",
       "      <td>11575.000000</td>\n",
       "      <td>11575.000000</td>\n",
       "      <td>11575.000000</td>\n",
       "      <td>11575.000000</td>\n",
       "    </tr>\n",
       "    <tr>\n",
       "      <th>mean</th>\n",
       "      <td>0.001546</td>\n",
       "      <td>0.003995</td>\n",
       "      <td>-0.029754</td>\n",
       "      <td>-0.047606</td>\n",
       "      <td>0.053956</td>\n",
       "      <td>-0.000428</td>\n",
       "      <td>0.037914</td>\n",
       "    </tr>\n",
       "    <tr>\n",
       "      <th>std</th>\n",
       "      <td>0.924519</td>\n",
       "      <td>0.997903</td>\n",
       "      <td>0.537651</td>\n",
       "      <td>1.097842</td>\n",
       "      <td>0.965109</td>\n",
       "      <td>1.003503</td>\n",
       "      <td>1.192223</td>\n",
       "    </tr>\n",
       "    <tr>\n",
       "      <th>min</th>\n",
       "      <td>-4.130410</td>\n",
       "      <td>-4.034445</td>\n",
       "      <td>-4.259227</td>\n",
       "      <td>-4.704038</td>\n",
       "      <td>-4.545787</td>\n",
       "      <td>-4.317883</td>\n",
       "      <td>-5.031257</td>\n",
       "    </tr>\n",
       "    <tr>\n",
       "      <th>25%</th>\n",
       "      <td>-0.580470</td>\n",
       "      <td>-0.673206</td>\n",
       "      <td>-0.308838</td>\n",
       "      <td>-0.754051</td>\n",
       "      <td>-0.502280</td>\n",
       "      <td>-0.682896</td>\n",
       "      <td>-0.684029</td>\n",
       "    </tr>\n",
       "    <tr>\n",
       "      <th>50%</th>\n",
       "      <td>0.011865</td>\n",
       "      <td>-0.001464</td>\n",
       "      <td>-0.044590</td>\n",
       "      <td>-0.055108</td>\n",
       "      <td>0.084598</td>\n",
       "      <td>0.008303</td>\n",
       "      <td>0.081955</td>\n",
       "    </tr>\n",
       "    <tr>\n",
       "      <th>75%</th>\n",
       "      <td>0.600965</td>\n",
       "      <td>0.685805</td>\n",
       "      <td>0.228484</td>\n",
       "      <td>0.649046</td>\n",
       "      <td>0.620426</td>\n",
       "      <td>0.680800</td>\n",
       "      <td>0.807105</td>\n",
       "    </tr>\n",
       "    <tr>\n",
       "      <th>max</th>\n",
       "      <td>4.519223</td>\n",
       "      <td>4.108285</td>\n",
       "      <td>2.763214</td>\n",
       "      <td>4.794511</td>\n",
       "      <td>5.646556</td>\n",
       "      <td>3.900014</td>\n",
       "      <td>6.005315</td>\n",
       "    </tr>\n",
       "  </tbody>\n",
       "</table>\n",
       "</div>"
      ],
      "text/plain": [
       "                SF1           SF2  ...           SF6           SF7\n",
       "count  11575.000000  11575.000000  ...  11575.000000  11575.000000\n",
       "mean       0.001546      0.003995  ...     -0.000428      0.037914\n",
       "std        0.924519      0.997903  ...      1.003503      1.192223\n",
       "min       -4.130410     -4.034445  ...     -4.317883     -5.031257\n",
       "25%       -0.580470     -0.673206  ...     -0.682896     -0.684029\n",
       "50%        0.011865     -0.001464  ...      0.008303      0.081955\n",
       "75%        0.600965      0.685805  ...      0.680800      0.807105\n",
       "max        4.519223      4.108285  ...      3.900014      6.005315\n",
       "\n",
       "[8 rows x 7 columns]"
      ]
     },
     "execution_count": 301,
     "metadata": {
      "tags": []
     },
     "output_type": "execute_result"
    }
   ],
   "source": [
    "test_merge.describe()"
   ]
  },
  {
   "cell_type": "code",
   "execution_count": 302,
   "metadata": {
    "colab": {
     "base_uri": "https://localhost:8080/",
     "height": 173
    },
    "colab_type": "code",
    "id": "bGdjKF-YC_ao",
    "outputId": "7b80902d-e298-4789-8898-026160355474"
   },
   "outputs": [
    {
     "data": {
      "text/html": [
       "<div>\n",
       "<style scoped>\n",
       "    .dataframe tbody tr th:only-of-type {\n",
       "        vertical-align: middle;\n",
       "    }\n",
       "\n",
       "    .dataframe tbody tr th {\n",
       "        vertical-align: top;\n",
       "    }\n",
       "\n",
       "    .dataframe thead th {\n",
       "        text-align: right;\n",
       "    }\n",
       "</style>\n",
       "<table border=\"1\" class=\"dataframe\">\n",
       "  <thead>\n",
       "    <tr style=\"text-align: right;\">\n",
       "      <th></th>\n",
       "      <th>sentiment_score</th>\n",
       "    </tr>\n",
       "  </thead>\n",
       "  <tbody>\n",
       "    <tr>\n",
       "      <th>count</th>\n",
       "      <td>11575</td>\n",
       "    </tr>\n",
       "    <tr>\n",
       "      <th>unique</th>\n",
       "      <td>5</td>\n",
       "    </tr>\n",
       "    <tr>\n",
       "      <th>top</th>\n",
       "      <td>2</td>\n",
       "    </tr>\n",
       "    <tr>\n",
       "      <th>freq</th>\n",
       "      <td>8476</td>\n",
       "    </tr>\n",
       "  </tbody>\n",
       "</table>\n",
       "</div>"
      ],
      "text/plain": [
       "        sentiment_score\n",
       "count             11575\n",
       "unique                5\n",
       "top                   2\n",
       "freq               8476"
      ]
     },
     "execution_count": 302,
     "metadata": {
      "tags": []
     },
     "output_type": "execute_result"
    }
   ],
   "source": [
    "test_merge.describe(include='category')"
   ]
  },
  {
   "cell_type": "markdown",
   "metadata": {
    "colab_type": "text",
    "id": "U-RSv1VOGLUe"
   },
   "source": [
    "#### Checking the NULL values"
   ]
  },
  {
   "cell_type": "code",
   "execution_count": 303,
   "metadata": {
    "colab": {
     "base_uri": "https://localhost:8080/",
     "height": 187
    },
    "colab_type": "code",
    "id": "1ne9HOjPDF4Y",
    "outputId": "745cf7e1-fd87-459d-f954-f8113755373e"
   },
   "outputs": [
    {
     "data": {
      "text/plain": [
       "SF1                   0\n",
       "SF2                   0\n",
       "SF3                   0\n",
       "SF4                   0\n",
       "SF5                   0\n",
       "SF6                   0\n",
       "SF7                   0\n",
       "alpha                 0\n",
       "sentiment_score    2167\n",
       "dtype: int64"
      ]
     },
     "execution_count": 303,
     "metadata": {
      "tags": []
     },
     "output_type": "execute_result"
    }
   ],
   "source": [
    "## ==> for Train_data\n",
    "train_merge.isnull().sum()"
   ]
  },
  {
   "cell_type": "code",
   "execution_count": 304,
   "metadata": {
    "colab": {
     "base_uri": "https://localhost:8080/",
     "height": 170
    },
    "colab_type": "code",
    "id": "AVImC_xAGQQX",
    "outputId": "78105b10-96f8-4384-b799-45eab788f8ae"
   },
   "outputs": [
    {
     "data": {
      "text/plain": [
       "SF1                0\n",
       "SF2                0\n",
       "SF3                0\n",
       "SF4                0\n",
       "SF5                0\n",
       "SF6                0\n",
       "SF7                0\n",
       "sentiment_score    0\n",
       "dtype: int64"
      ]
     },
     "execution_count": 304,
     "metadata": {
      "tags": []
     },
     "output_type": "execute_result"
    }
   ],
   "source": [
    "## ==> for Test_data\n",
    "test_merge.isnull().sum()"
   ]
  },
  {
   "cell_type": "markdown",
   "metadata": {
    "colab_type": "text",
    "id": "bjvBpIHqH1vN"
   },
   "source": [
    "#### Spliting the Numeric and Categorical Columns"
   ]
  },
  {
   "cell_type": "code",
   "execution_count": 305,
   "metadata": {
    "colab": {
     "base_uri": "https://localhost:8080/",
     "height": 34
    },
    "colab_type": "code",
    "id": "GH8vGhfeHqKc",
    "outputId": "c29dd856-1551-4107-8e69-7cdb9f6536d9"
   },
   "outputs": [
    {
     "data": {
      "text/plain": [
       "['SF1', 'SF2', 'SF3', 'SF4', 'SF5', 'SF6', 'SF7']"
      ]
     },
     "execution_count": 305,
     "metadata": {
      "tags": []
     },
     "output_type": "execute_result"
    }
   ],
   "source": [
    "## ==> for Train data\n",
    "num_attr =list(train_merge .select_dtypes(['int64','float64']).columns)\n",
    "num_attr"
   ]
  },
  {
   "cell_type": "code",
   "execution_count": 306,
   "metadata": {
    "colab": {
     "base_uri": "https://localhost:8080/",
     "height": 34
    },
    "colab_type": "code",
    "id": "C5_hP7pWH9Ru",
    "outputId": "7b097694-15be-421f-ce0b-7b13116dba63"
   },
   "outputs": [
    {
     "data": {
      "text/plain": [
       "['alpha', 'sentiment_score']"
      ]
     },
     "execution_count": 306,
     "metadata": {
      "tags": []
     },
     "output_type": "execute_result"
    }
   ],
   "source": [
    "cat_attr = list(train_merge.select_dtypes('category').columns)\n",
    "cat_attr"
   ]
  },
  {
   "cell_type": "code",
   "execution_count": 0,
   "metadata": {
    "colab": {},
    "colab_type": "code",
    "id": "dp4RcSYUin2D"
   },
   "outputs": [],
   "source": [
    "cat_attr.remove('alpha')"
   ]
  },
  {
   "cell_type": "code",
   "execution_count": 308,
   "metadata": {
    "colab": {
     "base_uri": "https://localhost:8080/",
     "height": 34
    },
    "colab_type": "code",
    "id": "vLrrGlCIMjsB",
    "outputId": "5cb30254-91fc-43f1-a9f8-2082c08df5ea"
   },
   "outputs": [
    {
     "data": {
      "text/plain": [
       "['sentiment_score']"
      ]
     },
     "execution_count": 308,
     "metadata": {
      "tags": []
     },
     "output_type": "execute_result"
    }
   ],
   "source": [
    "cat_attr"
   ]
  },
  {
   "cell_type": "code",
   "execution_count": 0,
   "metadata": {
    "colab": {},
    "colab_type": "code",
    "id": "DOdZLtVcuPZ-"
   },
   "outputs": [],
   "source": []
  },
  {
   "cell_type": "code",
   "execution_count": 0,
   "metadata": {
    "colab": {},
    "colab_type": "code",
    "id": "qjPECofpuPAP"
   },
   "outputs": [],
   "source": []
  },
  {
   "cell_type": "code",
   "execution_count": 0,
   "metadata": {
    "colab": {},
    "colab_type": "code",
    "id": "ioLSDl0DuOor"
   },
   "outputs": [],
   "source": []
  },
  {
   "cell_type": "markdown",
   "metadata": {
    "colab_type": "text",
    "id": "QiwnzfnIiZHc"
   },
   "source": [
    "#### Spliting the Data as Train and Test"
   ]
  },
  {
   "cell_type": "code",
   "execution_count": 0,
   "metadata": {
    "colab": {},
    "colab_type": "code",
    "id": "bGQjROZqeYIm"
   },
   "outputs": [],
   "source": [
    "X = train_merge.drop('alpha', axis = 1)\n",
    "Y = train_merge['alpha']\n",
    "\n",
    "x_train, x_test, y_train, y_test = train_test_split(X, Y, test_size = 0.3, random_state = 123)"
   ]
  },
  {
   "cell_type": "code",
   "execution_count": 310,
   "metadata": {
    "colab": {
     "base_uri": "https://localhost:8080/",
     "height": 102
    },
    "colab_type": "code",
    "id": "OZ37er-OpU4f",
    "outputId": "0113e093-39fc-40c4-d395-f2db8d50cfe6"
   },
   "outputs": [
    {
     "name": "stdout",
     "output_type": "stream",
     "text": [
      "(18904, 8)\n",
      "(18904,) \n",
      "\n",
      "(8102, 8)\n",
      "(8102,)\n"
     ]
    }
   ],
   "source": [
    "print(x_train.shape)\n",
    "print(y_train.shape,'\\n')\n",
    "\n",
    "print(x_test.shape)\n",
    "print(y_test.shape)"
   ]
  },
  {
   "cell_type": "code",
   "execution_count": 0,
   "metadata": {
    "colab": {},
    "colab_type": "code",
    "id": "2wijMgdqv_uO"
   },
   "outputs": [],
   "source": []
  },
  {
   "cell_type": "code",
   "execution_count": 0,
   "metadata": {
    "colab": {},
    "colab_type": "code",
    "id": "H1Tf2BFdv_Am"
   },
   "outputs": [],
   "source": [
    "imputer = SimpleImputer()\n",
    "imputer.fit(x_train[cat_attr])\n",
    "\n",
    "x_train[cat_attr]=imputer.transform(x_train[cat_attr])\n",
    "x_test[cat_attr]=imputer.transform(x_test[cat_attr])"
   ]
  },
  {
   "cell_type": "code",
   "execution_count": 0,
   "metadata": {
    "colab": {},
    "colab_type": "code",
    "id": "Djp85U2kv-mm"
   },
   "outputs": [],
   "source": []
  },
  {
   "cell_type": "code",
   "execution_count": 0,
   "metadata": {
    "colab": {},
    "colab_type": "code",
    "id": "M2wp09jfv-Qp"
   },
   "outputs": [],
   "source": []
  },
  {
   "cell_type": "code",
   "execution_count": 0,
   "metadata": {
    "colab": {},
    "colab_type": "code",
    "id": "fl-wBfCJv91F"
   },
   "outputs": [],
   "source": []
  },
  {
   "cell_type": "code",
   "execution_count": 0,
   "metadata": {
    "colab": {},
    "colab_type": "code",
    "id": "DftVdFjLv9a4"
   },
   "outputs": [],
   "source": []
  },
  {
   "cell_type": "markdown",
   "metadata": {
    "colab_type": "text",
    "id": "RAUuz-zWrRWH"
   },
   "source": [
    "#### Model Building"
   ]
  },
  {
   "cell_type": "code",
   "execution_count": 0,
   "metadata": {
    "colab": {},
    "colab_type": "code",
    "id": "hAzBhdpDskuH"
   },
   "outputs": [],
   "source": [
    "Decission = DecisionTreeClassifier()"
   ]
  },
  {
   "cell_type": "code",
   "execution_count": 313,
   "metadata": {
    "colab": {
     "base_uri": "https://localhost:8080/",
     "height": 340
    },
    "colab_type": "code",
    "id": "abknzM2Vr0K-",
    "outputId": "e2ea0c41-da69-4093-e5d6-cdfe88551067"
   },
   "outputs": [
    {
     "data": {
      "text/plain": [
       "GridSearchCV(cv=5, error_score='raise-deprecating',\n",
       "             estimator=DecisionTreeClassifier(class_weight=None,\n",
       "                                              criterion='gini', max_depth=None,\n",
       "                                              max_features=None,\n",
       "                                              max_leaf_nodes=None,\n",
       "                                              min_impurity_decrease=0.0,\n",
       "                                              min_impurity_split=None,\n",
       "                                              min_samples_leaf=1,\n",
       "                                              min_samples_split=2,\n",
       "                                              min_weight_fraction_leaf=0.0,\n",
       "                                              presort=False, random_state=None,\n",
       "                                              splitter='best'),\n",
       "             iid='warn', n_jobs=None,\n",
       "             param_grid={'criterion': ['entropy', 'gini'],\n",
       "                         'max_depth': [6, 8, 10, 12],\n",
       "                         'min_samples_leaf': [1, 5, 10],\n",
       "                         'min_samples_split': [2, 10, 20]},\n",
       "             pre_dispatch='2*n_jobs', refit=True, return_train_score=False,\n",
       "             scoring=None, verbose=0)"
      ]
     },
     "execution_count": 313,
     "metadata": {
      "tags": []
     },
     "output_type": "execute_result"
    }
   ],
   "source": [
    "dt_param_grid_ = {'criterion': ['entropy', 'gini'],\n",
    "                  'max_depth': [6,8,10,12], \n",
    "                 \"min_samples_split\": [2,10, 20],\n",
    "                  \"min_samples_leaf\": [1, 5, 10]}\n",
    "\n",
    "Decision_tree = GridSearchCV(Decission, param_grid = dt_param_grid_, cv=5)\n",
    "\n",
    "Decision_tree.fit(x_train,y_train)"
   ]
  },
  {
   "cell_type": "code",
   "execution_count": 314,
   "metadata": {
    "colab": {
     "base_uri": "https://localhost:8080/",
     "height": 85
    },
    "colab_type": "code",
    "id": "nqWOiN2Bs10_",
    "outputId": "3b04c756-e97f-4384-86b3-f7f4986e8564"
   },
   "outputs": [
    {
     "data": {
      "text/plain": [
       "{'criterion': 'entropy',\n",
       " 'max_depth': 12,\n",
       " 'min_samples_leaf': 5,\n",
       " 'min_samples_split': 20}"
      ]
     },
     "execution_count": 314,
     "metadata": {
      "tags": []
     },
     "output_type": "execute_result"
    }
   ],
   "source": [
    "Decision_tree.best_params_"
   ]
  },
  {
   "cell_type": "code",
   "execution_count": 315,
   "metadata": {
    "colab": {
     "base_uri": "https://localhost:8080/",
     "height": 51
    },
    "colab_type": "code",
    "id": "VBVr-i8guPgO",
    "outputId": "91084e2d-f771-4033-e21e-f74b731c1363"
   },
   "outputs": [
    {
     "name": "stdout",
     "output_type": "stream",
     "text": [
      "0.7486775285653829\n",
      "0.6561342878301654\n"
     ]
    }
   ],
   "source": [
    "train_dt_pred = Decision_tree.predict(x_train)\n",
    "test_dt_pred = Decision_tree.predict(x_test)\n",
    "\n",
    "print(Decision_tree.score(x_train, y_train))\n",
    "print(Decision_tree.score(x_test, y_test))"
   ]
  },
  {
   "cell_type": "code",
   "execution_count": 0,
   "metadata": {
    "colab": {},
    "colab_type": "code",
    "id": "ry7xll9-ue7a"
   },
   "outputs": [],
   "source": [
    "from sklearn.metrics import f1_score\n",
    "from sklearn.metrics import classification_report"
   ]
  },
  {
   "cell_type": "code",
   "execution_count": 317,
   "metadata": {
    "colab": {
     "base_uri": "https://localhost:8080/",
     "height": 221
    },
    "colab_type": "code",
    "id": "iVE_mO0-ut5b",
    "outputId": "5fc1bdeb-b596-47a9-c3de-7fb65dd3c496"
   },
   "outputs": [
    {
     "name": "stdout",
     "output_type": "stream",
     "text": [
      "[0.68233977 0.85163187 0.63395107 0.67592593]\n",
      "              precision    recall  f1-score   support\n",
      "\n",
      "           1       0.74      0.63      0.68      3873\n",
      "           2       0.77      0.95      0.85      7587\n",
      "           3       0.75      0.55      0.63      3879\n",
      "           4       0.70      0.66      0.68      3565\n",
      "\n",
      "    accuracy                           0.75     18904\n",
      "   macro avg       0.74      0.70      0.71     18904\n",
      "weighted avg       0.75      0.75      0.74     18904\n",
      "\n"
     ]
    }
   ],
   "source": [
    "print(f1_score(y_true=y_train, y_pred=train_dt_pred, average=None))\n",
    "print(classification_report(y_true=y_train, y_pred=train_dt_pred))"
   ]
  },
  {
   "cell_type": "code",
   "execution_count": 318,
   "metadata": {
    "colab": {
     "base_uri": "https://localhost:8080/",
     "height": 221
    },
    "colab_type": "code",
    "id": "ogjY40aevEoP",
    "outputId": "d209b76a-79a6-4199-da6e-5ac2f3eae187"
   },
   "outputs": [
    {
     "name": "stdout",
     "output_type": "stream",
     "text": [
      "[0.53004727 0.82525061 0.46657382 0.54551539]\n",
      "              precision    recall  f1-score   support\n",
      "\n",
      "           1       0.57      0.49      0.53      1594\n",
      "           2       0.75      0.92      0.83      3325\n",
      "           3       0.55      0.40      0.47      1657\n",
      "           4       0.56      0.53      0.55      1526\n",
      "\n",
      "    accuracy                           0.66      8102\n",
      "   macro avg       0.61      0.59      0.59      8102\n",
      "weighted avg       0.64      0.66      0.64      8102\n",
      "\n"
     ]
    }
   ],
   "source": [
    "print(f1_score(y_true=y_test, y_pred=test_dt_pred, average=None))\n",
    "print(classification_report(y_true=y_test, y_pred=test_dt_pred))"
   ]
  },
  {
   "cell_type": "code",
   "execution_count": 0,
   "metadata": {
    "colab": {},
    "colab_type": "code",
    "id": "twblBrb9vSLn"
   },
   "outputs": [],
   "source": [
    "dt_predictions = Decision_tree.predict(test_merge)"
   ]
  },
  {
   "cell_type": "code",
   "execution_count": 321,
   "metadata": {
    "colab": {
     "base_uri": "https://localhost:8080/",
     "height": 34
    },
    "colab_type": "code",
    "id": "xgNy3AVawCfD",
    "outputId": "d31b0c84-45c0-4629-d174-2905650cc819"
   },
   "outputs": [
    {
     "data": {
      "text/plain": [
       "array([4, 1, 2, ..., 3, 2, 2])"
      ]
     },
     "execution_count": 321,
     "metadata": {
      "tags": []
     },
     "output_type": "execute_result"
    }
   ],
   "source": [
    "dt_predictions"
   ]
  },
  {
   "cell_type": "markdown",
   "metadata": {
    "colab_type": "text",
    "id": "k0W8ViIxx6QS"
   },
   "source": [
    "#### Model_2"
   ]
  },
  {
   "cell_type": "code",
   "execution_count": 0,
   "metadata": {
    "colab": {},
    "colab_type": "code",
    "id": "mAtXXICux2CR"
   },
   "outputs": [],
   "source": [
    "XGB_2 = XGBClassifier()"
   ]
  },
  {
   "cell_type": "code",
   "execution_count": 0,
   "metadata": {
    "colab": {},
    "colab_type": "code",
    "id": "fwOTNrRcyc8o"
   },
   "outputs": [],
   "source": [
    "Xgbm_param_grid = {'xgboost_max_depth': [8,5,10,11],\n",
    "                   'xgboostsubsample': [0.7, 0.5,],\n",
    "                   'xgboost_max_features':[0.3, 0.4], \n",
    "              'xgboost__n_estimators': [10, 15, 30]}\n",
    "\n",
    "Xgbm_grid = GridSearchCV(XGB_2, param_grid=Xgbm_param_grid, cv=5)"
   ]
  },
  {
   "cell_type": "code",
   "execution_count": 325,
   "metadata": {
    "colab": {
     "base_uri": "https://localhost:8080/",
     "height": 323
    },
    "colab_type": "code",
    "id": "XlzcGwQeymiF",
    "outputId": "08b86142-9bdb-4ff2-aa99-c9dabd374555"
   },
   "outputs": [
    {
     "data": {
      "text/plain": [
       "GridSearchCV(cv=5, error_score='raise-deprecating',\n",
       "             estimator=XGBClassifier(base_score=0.5, booster='gbtree',\n",
       "                                     colsample_bylevel=1, colsample_bynode=1,\n",
       "                                     colsample_bytree=1, gamma=0,\n",
       "                                     learning_rate=0.1, max_delta_step=0,\n",
       "                                     max_depth=3, min_child_weight=1,\n",
       "                                     missing=None, n_estimators=100, n_jobs=1,\n",
       "                                     nthread=None, objective='binary:logistic',\n",
       "                                     random_state=0, reg_alpha=0, reg_lambda=1,\n",
       "                                     scale_pos_weight=1, seed=None, silent=None,\n",
       "                                     subsample=1, verbosity=1),\n",
       "             iid='warn', n_jobs=None,\n",
       "             param_grid={'xgboost__n_estimators': [10, 15, 30],\n",
       "                         'xgboost_max_depth': [8, 5, 10, 11],\n",
       "                         'xgboost_max_features': [0.3, 0.4],\n",
       "                         'xgboostsubsample': [0.7, 0.5]},\n",
       "             pre_dispatch='2*n_jobs', refit=True, return_train_score=False,\n",
       "             scoring=None, verbose=0)"
      ]
     },
     "execution_count": 325,
     "metadata": {
      "tags": []
     },
     "output_type": "execute_result"
    }
   ],
   "source": [
    "Xgbm_grid.fit(x_train, y_train)"
   ]
  },
  {
   "cell_type": "code",
   "execution_count": 326,
   "metadata": {
    "colab": {
     "base_uri": "https://localhost:8080/",
     "height": 85
    },
    "colab_type": "code",
    "id": "10K5en0Nyz9K",
    "outputId": "406306b7-b370-4967-ff64-5390a1b3b5cb"
   },
   "outputs": [
    {
     "data": {
      "text/plain": [
       "{'xgboost__n_estimators': 10,\n",
       " 'xgboost_max_depth': 8,\n",
       " 'xgboost_max_features': 0.3,\n",
       " 'xgboostsubsample': 0.7}"
      ]
     },
     "execution_count": 326,
     "metadata": {
      "tags": []
     },
     "output_type": "execute_result"
    }
   ],
   "source": [
    "Xgbm_grid.best_params_"
   ]
  },
  {
   "cell_type": "code",
   "execution_count": 327,
   "metadata": {
    "colab": {
     "base_uri": "https://localhost:8080/",
     "height": 51
    },
    "colab_type": "code",
    "id": "8FSIY79z2Woz",
    "outputId": "8cd6418a-5bf0-47b4-f6ea-8c25db601856"
   },
   "outputs": [
    {
     "name": "stdout",
     "output_type": "stream",
     "text": [
      "0.6552581464240372\n",
      "0.6374969143421377\n"
     ]
    }
   ],
   "source": [
    "train_Xgbm_pred = Xgbm_grid.predict(x_train)\n",
    "test_Xgbm_pred = Xgbm_grid.predict(x_test)\n",
    "\n",
    "print(Xgbm_grid.score(x_train, y_train))\n",
    "print(Xgbm_grid.score(x_test, y_test))"
   ]
  },
  {
   "cell_type": "code",
   "execution_count": 328,
   "metadata": {
    "colab": {
     "base_uri": "https://localhost:8080/",
     "height": 221
    },
    "colab_type": "code",
    "id": "nO4JfLcc24Ki",
    "outputId": "f2fe98c9-3c55-4c0a-e9f3-a219ba7998ea"
   },
   "outputs": [
    {
     "name": "stdout",
     "output_type": "stream",
     "text": [
      "[0.58224705 0.77783153 0.53025686 0.49369676]\n",
      "              precision    recall  f1-score   support\n",
      "\n",
      "           1       0.73      0.48      0.58      3873\n",
      "           2       0.66      0.95      0.78      7587\n",
      "           3       0.61      0.47      0.53      3879\n",
      "           4       0.63      0.41      0.49      3565\n",
      "\n",
      "    accuracy                           0.66     18904\n",
      "   macro avg       0.66      0.58      0.60     18904\n",
      "weighted avg       0.66      0.66      0.63     18904\n",
      "\n"
     ]
    }
   ],
   "source": [
    "print(f1_score(y_true=y_train, y_pred=train_Xgbm_pred, average=None))\n",
    "print(classification_report(y_true=y_train, y_pred=train_Xgbm_pred))"
   ]
  },
  {
   "cell_type": "code",
   "execution_count": 329,
   "metadata": {
    "colab": {
     "base_uri": "https://localhost:8080/",
     "height": 221
    },
    "colab_type": "code",
    "id": "xpkiuMws3H09",
    "outputId": "13bc7091-627d-436d-ad97-02c5a3e0032d"
   },
   "outputs": [
    {
     "name": "stdout",
     "output_type": "stream",
     "text": [
      "[0.54441479 0.77600099 0.49829118 0.45749614]\n",
      "              precision    recall  f1-score   support\n",
      "\n",
      "           1       0.69      0.45      0.54      1594\n",
      "           2       0.66      0.94      0.78      3325\n",
      "           3       0.57      0.44      0.50      1657\n",
      "           4       0.56      0.39      0.46      1526\n",
      "\n",
      "    accuracy                           0.64      8102\n",
      "   macro avg       0.62      0.55      0.57      8102\n",
      "weighted avg       0.63      0.64      0.61      8102\n",
      "\n"
     ]
    }
   ],
   "source": [
    "print(f1_score(y_true=y_test, y_pred=test_Xgbm_pred, average=None))\n",
    "print(classification_report(y_true=y_test, y_pred=test_Xgbm_pred))"
   ]
  },
  {
   "cell_type": "code",
   "execution_count": 0,
   "metadata": {
    "colab": {},
    "colab_type": "code",
    "id": "BC3883Fa3Whl"
   },
   "outputs": [],
   "source": [
    "XGB_predictions = Xgbm_grid.predict(test_merge)"
   ]
  },
  {
   "cell_type": "code",
   "execution_count": 0,
   "metadata": {
    "colab": {},
    "colab_type": "code",
    "id": "E1fP-Tqb3pZ5"
   },
   "outputs": [],
   "source": []
  }
 ],
 "metadata": {
  "accelerator": "TPU",
  "colab": {
   "collapsed_sections": [],
   "name": "PHD Datafile.ipynb",
   "provenance": []
  },
  "kernelspec": {
   "display_name": "Python 3",
   "language": "python",
   "name": "python3"
  },
  "language_info": {
   "codemirror_mode": {
    "name": "ipython",
    "version": 3
   },
   "file_extension": ".py",
   "mimetype": "text/x-python",
   "name": "python",
   "nbconvert_exporter": "python",
   "pygments_lexer": "ipython3",
   "version": "3.6.4"
  }
 },
 "nbformat": 4,
 "nbformat_minor": 1
}
